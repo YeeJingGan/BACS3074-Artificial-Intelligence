{
 "cells": [
  {
   "cell_type": "markdown",
   "source": [
    "### How to run Jupyter server and kernel inside conda environment:\n",
    "conda create -n my-conda-env........# creates new virtual env\n",
    "conda activate my-conda-env..........# activate environment in terminal\n",
    "conda install jupyter...........................# install jupyter + notebook\n",
    "jupyter notebook.................................# start server + kernel inside environment\n",
    "\n",
    "#### How to check all the environments in the system\n",
    "conda info --envs\n",
    "\n",
    "source :\n",
    "https://stackoverflow.com/questions/58068818/how-to-use-jupyter-notebooks-in-a-conda-environment"
   ],
   "metadata": {
    "collapsed": false
   },
   "id": "ec08e8f9fc27e6"
  },
  {
   "cell_type": "code",
   "outputs": [],
   "source": [
    "import numpy as np\n",
    "import pandas as pd\n",
    "import matplotlib.pyplot as plt\n",
    "import seaborn as sns\n",
    "\n",
    "import warnings\n",
    "warnings.filterwarnings('ignore')"
   ],
   "metadata": {
    "collapsed": false,
    "ExecuteTime": {
     "end_time": "2024-05-06T18:31:45.473890Z",
     "start_time": "2024-05-06T18:31:45.467254Z"
    }
   },
   "id": "70b9338bc53d885d",
   "execution_count": 1
  },
  {
   "cell_type": "markdown",
   "source": [
    "# 1. Data Understanding & Analysis\n",
    "draft notebook to understand and visualise data (not main program)"
   ],
   "metadata": {
    "collapsed": false
   },
   "id": "f5b2546f16161781"
  },
  {
   "cell_type": "markdown",
   "source": [
    "#### 1.1 Data Loading"
   ],
   "metadata": {
    "collapsed": false
   },
   "id": "763f57fe4d033a5f"
  },
  {
   "cell_type": "code",
   "execution_count": 2,
   "id": "initial_id",
   "metadata": {
    "collapsed": true,
    "ExecuteTime": {
     "end_time": "2024-05-06T18:31:47.757252Z",
     "start_time": "2024-05-06T18:31:45.478943Z"
    }
   },
   "outputs": [
    {
     "name": "stdout",
     "output_type": "stream",
     "text": [
      "data shape: (271360, 8)\n",
      "Number of unique books: 271360\n",
      "Number of null values:\n",
      " ISBN                   0\n",
      "Book-Title             0\n",
      "Book-Author            2\n",
      "Year-Of-Publication    0\n",
      "Publisher              2\n",
      "Image-URL-S            0\n",
      "Image-URL-M            0\n",
      "Image-URL-L            3\n",
      "dtype: int64\n"
     ]
    },
    {
     "data": {
      "text/plain": "         ISBN                                         Book-Title  \\\n0  0195153448                                Classical Mythology   \n1  0002005018                                       Clara Callan   \n2  0060973129                               Decision in Normandy   \n3  0374157065  Flu: The Story of the Great Influenza Pandemic...   \n4  0393045218                             The Mummies of Urumchi   \n\n            Book-Author Year-Of-Publication                   Publisher  \\\n0    Mark P. O. Morford                2002     Oxford University Press   \n1  Richard Bruce Wright                2001       HarperFlamingo Canada   \n2          Carlo D'Este                1991             HarperPerennial   \n3      Gina Bari Kolata                1999        Farrar Straus Giroux   \n4       E. J. W. Barber                1999  W. W. Norton &amp; Company   \n\n                                         Image-URL-S  \\\n0  http://images.amazon.com/images/P/0195153448.0...   \n1  http://images.amazon.com/images/P/0002005018.0...   \n2  http://images.amazon.com/images/P/0060973129.0...   \n3  http://images.amazon.com/images/P/0374157065.0...   \n4  http://images.amazon.com/images/P/0393045218.0...   \n\n                                         Image-URL-M  \\\n0  http://images.amazon.com/images/P/0195153448.0...   \n1  http://images.amazon.com/images/P/0002005018.0...   \n2  http://images.amazon.com/images/P/0060973129.0...   \n3  http://images.amazon.com/images/P/0374157065.0...   \n4  http://images.amazon.com/images/P/0393045218.0...   \n\n                                         Image-URL-L  \n0  http://images.amazon.com/images/P/0195153448.0...  \n1  http://images.amazon.com/images/P/0002005018.0...  \n2  http://images.amazon.com/images/P/0060973129.0...  \n3  http://images.amazon.com/images/P/0374157065.0...  \n4  http://images.amazon.com/images/P/0393045218.0...  ",
      "text/html": "<div>\n<style scoped>\n    .dataframe tbody tr th:only-of-type {\n        vertical-align: middle;\n    }\n\n    .dataframe tbody tr th {\n        vertical-align: top;\n    }\n\n    .dataframe thead th {\n        text-align: right;\n    }\n</style>\n<table border=\"1\" class=\"dataframe\">\n  <thead>\n    <tr style=\"text-align: right;\">\n      <th></th>\n      <th>ISBN</th>\n      <th>Book-Title</th>\n      <th>Book-Author</th>\n      <th>Year-Of-Publication</th>\n      <th>Publisher</th>\n      <th>Image-URL-S</th>\n      <th>Image-URL-M</th>\n      <th>Image-URL-L</th>\n    </tr>\n  </thead>\n  <tbody>\n    <tr>\n      <th>0</th>\n      <td>0195153448</td>\n      <td>Classical Mythology</td>\n      <td>Mark P. O. Morford</td>\n      <td>2002</td>\n      <td>Oxford University Press</td>\n      <td>http://images.amazon.com/images/P/0195153448.0...</td>\n      <td>http://images.amazon.com/images/P/0195153448.0...</td>\n      <td>http://images.amazon.com/images/P/0195153448.0...</td>\n    </tr>\n    <tr>\n      <th>1</th>\n      <td>0002005018</td>\n      <td>Clara Callan</td>\n      <td>Richard Bruce Wright</td>\n      <td>2001</td>\n      <td>HarperFlamingo Canada</td>\n      <td>http://images.amazon.com/images/P/0002005018.0...</td>\n      <td>http://images.amazon.com/images/P/0002005018.0...</td>\n      <td>http://images.amazon.com/images/P/0002005018.0...</td>\n    </tr>\n    <tr>\n      <th>2</th>\n      <td>0060973129</td>\n      <td>Decision in Normandy</td>\n      <td>Carlo D'Este</td>\n      <td>1991</td>\n      <td>HarperPerennial</td>\n      <td>http://images.amazon.com/images/P/0060973129.0...</td>\n      <td>http://images.amazon.com/images/P/0060973129.0...</td>\n      <td>http://images.amazon.com/images/P/0060973129.0...</td>\n    </tr>\n    <tr>\n      <th>3</th>\n      <td>0374157065</td>\n      <td>Flu: The Story of the Great Influenza Pandemic...</td>\n      <td>Gina Bari Kolata</td>\n      <td>1999</td>\n      <td>Farrar Straus Giroux</td>\n      <td>http://images.amazon.com/images/P/0374157065.0...</td>\n      <td>http://images.amazon.com/images/P/0374157065.0...</td>\n      <td>http://images.amazon.com/images/P/0374157065.0...</td>\n    </tr>\n    <tr>\n      <th>4</th>\n      <td>0393045218</td>\n      <td>The Mummies of Urumchi</td>\n      <td>E. J. W. Barber</td>\n      <td>1999</td>\n      <td>W. W. Norton &amp;amp; Company</td>\n      <td>http://images.amazon.com/images/P/0393045218.0...</td>\n      <td>http://images.amazon.com/images/P/0393045218.0...</td>\n      <td>http://images.amazon.com/images/P/0393045218.0...</td>\n    </tr>\n  </tbody>\n</table>\n</div>"
     },
     "execution_count": 2,
     "metadata": {},
     "output_type": "execute_result"
    }
   ],
   "source": [
    "# a) Loading the Books csv file\n",
    "df_books = pd.read_csv('csv/Books.csv')\n",
    "print('data shape:',df_books.shape)\n",
    "print('Number of unique books:', len(df_books.ISBN.unique()))\n",
    "print('Number of null values:\\n' ,df_books.isnull().sum())\n",
    "df_books.head()"
   ]
  },
  {
   "cell_type": "code",
   "outputs": [
    {
     "name": "stdout",
     "output_type": "stream",
     "text": [
      "Columns in df_books with values equal to 0:\n",
      "ISBN                      0\n",
      "Book-Title                0\n",
      "Book-Author               0\n",
      "Year-Of-Publication    3570\n",
      "Publisher                 0\n",
      "Image-URL-S               0\n",
      "Image-URL-M               0\n",
      "Image-URL-L               0\n",
      "dtype: int64\n"
     ]
    }
   ],
   "source": [
    "print(\"Columns in df_books with values equal to 0:\")\n",
    "print(df_books.eq(0).sum())"
   ],
   "metadata": {
    "collapsed": false,
    "ExecuteTime": {
     "end_time": "2024-05-06T18:31:47.978301Z",
     "start_time": "2024-05-06T18:31:47.759317Z"
    }
   },
   "id": "9bc4de69d96a8d29",
   "execution_count": 3
  },
  {
   "cell_type": "code",
   "outputs": [
    {
     "name": "stdout",
     "output_type": "stream",
     "text": [
      "data shape: (278858, 3)\n",
      "Number of unique users: 278858\n",
      "Number of null values:\n",
      " User-ID          0\n",
      "Location         0\n",
      "Age         110762\n",
      "dtype: int64\n"
     ]
    },
    {
     "data": {
      "text/plain": "   User-ID                            Location   Age\n0        1                  nyc, new york, usa   NaN\n1        2           stockton, california, usa  18.0\n2        3     moscow, yukon territory, russia   NaN\n3        4           porto, v.n.gaia, portugal  17.0\n4        5  farnborough, hants, united kingdom   NaN",
      "text/html": "<div>\n<style scoped>\n    .dataframe tbody tr th:only-of-type {\n        vertical-align: middle;\n    }\n\n    .dataframe tbody tr th {\n        vertical-align: top;\n    }\n\n    .dataframe thead th {\n        text-align: right;\n    }\n</style>\n<table border=\"1\" class=\"dataframe\">\n  <thead>\n    <tr style=\"text-align: right;\">\n      <th></th>\n      <th>User-ID</th>\n      <th>Location</th>\n      <th>Age</th>\n    </tr>\n  </thead>\n  <tbody>\n    <tr>\n      <th>0</th>\n      <td>1</td>\n      <td>nyc, new york, usa</td>\n      <td>NaN</td>\n    </tr>\n    <tr>\n      <th>1</th>\n      <td>2</td>\n      <td>stockton, california, usa</td>\n      <td>18.0</td>\n    </tr>\n    <tr>\n      <th>2</th>\n      <td>3</td>\n      <td>moscow, yukon territory, russia</td>\n      <td>NaN</td>\n    </tr>\n    <tr>\n      <th>3</th>\n      <td>4</td>\n      <td>porto, v.n.gaia, portugal</td>\n      <td>17.0</td>\n    </tr>\n    <tr>\n      <th>4</th>\n      <td>5</td>\n      <td>farnborough, hants, united kingdom</td>\n      <td>NaN</td>\n    </tr>\n  </tbody>\n</table>\n</div>"
     },
     "execution_count": 4,
     "metadata": {},
     "output_type": "execute_result"
    }
   ],
   "source": [
    "# b) Loading the Users csv file\n",
    "df_users = pd.read_csv('csv/Users.csv')\n",
    "print('data shape:',df_users.shape)\n",
    "print('Number of unique users:', len(df_users['User-ID'].unique()))\n",
    "print('Number of null values:\\n' ,df_users.isnull().sum())\n",
    "df_users.head()"
   ],
   "metadata": {
    "collapsed": false,
    "ExecuteTime": {
     "end_time": "2024-05-06T18:31:48.292122Z",
     "start_time": "2024-05-06T18:31:47.980346Z"
    }
   },
   "id": "ed64f68310cc3d89",
   "execution_count": 4
  },
  {
   "cell_type": "code",
   "outputs": [
    {
     "name": "stdout",
     "output_type": "stream",
     "text": [
      "Columns in df_users with values equal to 0:\n",
      "User-ID       0\n",
      "Location      0\n",
      "Age         416\n",
      "dtype: int64\n"
     ]
    }
   ],
   "source": [
    "print(\"Columns in df_users with values equal to 0:\")\n",
    "print(df_users.eq(0).sum())"
   ],
   "metadata": {
    "collapsed": false,
    "ExecuteTime": {
     "end_time": "2024-05-06T18:31:48.334289Z",
     "start_time": "2024-05-06T18:31:48.294163Z"
    }
   },
   "id": "2ded471496bd00c5",
   "execution_count": 5
  },
  {
   "cell_type": "code",
   "outputs": [
    {
     "name": "stdout",
     "output_type": "stream",
     "text": [
      "data shape: (1149780, 3)\n",
      "Number of unique rated books: 340556\n",
      "Number of null values: User-ID        0\n",
      "ISBN           0\n",
      "Book-Rating    0\n",
      "dtype: int64\n"
     ]
    },
    {
     "data": {
      "text/plain": "   User-ID        ISBN  Book-Rating\n0   276725  034545104X            0\n1   276726  0155061224            5\n2   276727  0446520802            0\n3   276729  052165615X            3\n4   276729  0521795028            6",
      "text/html": "<div>\n<style scoped>\n    .dataframe tbody tr th:only-of-type {\n        vertical-align: middle;\n    }\n\n    .dataframe tbody tr th {\n        vertical-align: top;\n    }\n\n    .dataframe thead th {\n        text-align: right;\n    }\n</style>\n<table border=\"1\" class=\"dataframe\">\n  <thead>\n    <tr style=\"text-align: right;\">\n      <th></th>\n      <th>User-ID</th>\n      <th>ISBN</th>\n      <th>Book-Rating</th>\n    </tr>\n  </thead>\n  <tbody>\n    <tr>\n      <th>0</th>\n      <td>276725</td>\n      <td>034545104X</td>\n      <td>0</td>\n    </tr>\n    <tr>\n      <th>1</th>\n      <td>276726</td>\n      <td>0155061224</td>\n      <td>5</td>\n    </tr>\n    <tr>\n      <th>2</th>\n      <td>276727</td>\n      <td>0446520802</td>\n      <td>0</td>\n    </tr>\n    <tr>\n      <th>3</th>\n      <td>276729</td>\n      <td>052165615X</td>\n      <td>3</td>\n    </tr>\n    <tr>\n      <th>4</th>\n      <td>276729</td>\n      <td>0521795028</td>\n      <td>6</td>\n    </tr>\n  </tbody>\n</table>\n</div>"
     },
     "execution_count": 6,
     "metadata": {},
     "output_type": "execute_result"
    }
   ],
   "source": [
    "# c) Loading the Ratings csv file\n",
    "df_ratings = pd.read_csv('csv/Ratings.csv')\n",
    "print('data shape:', df_ratings.shape)\n",
    "print('Number of unique rated books:', len(df_ratings.ISBN.unique()))\n",
    "print('Number of null values:' ,df_ratings.isnull().sum())\n",
    "df_ratings.head()"
   ],
   "metadata": {
    "collapsed": false,
    "ExecuteTime": {
     "end_time": "2024-05-06T18:31:50.091653Z",
     "start_time": "2024-05-06T18:31:48.336339Z"
    }
   },
   "id": "31024acecd218cf4",
   "execution_count": 6
  },
  {
   "cell_type": "code",
   "outputs": [
    {
     "name": "stdout",
     "output_type": "stream",
     "text": [
      "Columns in df_ratings with values equal to 0:\n",
      "User-ID             0\n",
      "ISBN                0\n",
      "Book-Rating    716109\n",
      "dtype: int64\n"
     ]
    }
   ],
   "source": [
    "print(\"Columns in df_ratings with values equal to 0:\")\n",
    "print(df_ratings.eq(0).sum())"
   ],
   "metadata": {
    "collapsed": false,
    "ExecuteTime": {
     "end_time": "2024-05-06T18:31:50.278143Z",
     "start_time": "2024-05-06T18:31:50.094755Z"
    }
   },
   "id": "421c489980b32450",
   "execution_count": 7
  },
  {
   "cell_type": "markdown",
   "source": [
    "##### raw data summary\n",
    "The file \"books.csv\" or df_books has 271,360 books data\n",
    "It has 8 columns:\n",
    "###### ISBN, Book-Title, Book-Author, Year-Of-Publication, Publisher, Image-URL-S, Image-URL-M, Image-URL-L\n",
    "\n",
    "The file \"ratings.csv\" or df_ratings has 340,556 ratings data for books\n",
    "It has 3 columns:\n",
    "###### User-ID, ISBN, Book-Rating\n",
    "\n",
    "The variable \"users\" has 278,858 users\n",
    "It has 3 columns:\n",
    "###### User-ID, Location, Age\n",
    "\n",
    "##### things to take note of\n",
    "- Null authors and publishers found in df_books\n",
    "- Year-of-Publication, Age, Book-Rating(very large) has values == 0\n",
    "- Very large number of null age values in df_users, consider dropping"
   ],
   "metadata": {
    "collapsed": false
   },
   "id": "98398f628142d5a2"
  },
  {
   "cell_type": "markdown",
   "source": [
    "#### 1.2 Univariate EDA &rarr; Exploring df_books"
   ],
   "metadata": {
    "collapsed": false
   },
   "id": "33e3ec31ccdb9d86"
  },
  {
   "cell_type": "markdown",
   "source": [
    "<b>1.2.1 Converting Year of Publication to integer type</b>"
   ],
   "metadata": {
    "collapsed": false
   },
   "id": "eccb2bbafd1222a6"
  },
  {
   "cell_type": "code",
   "outputs": [
    {
     "name": "stdout",
     "output_type": "stream",
     "text": [
      "<class 'pandas.core.frame.DataFrame'>\n",
      "RangeIndex: 271360 entries, 0 to 271359\n",
      "Data columns (total 8 columns):\n",
      " #   Column               Non-Null Count   Dtype \n",
      "---  ------               --------------   ----- \n",
      " 0   ISBN                 271360 non-null  object\n",
      " 1   Book-Title           271360 non-null  object\n",
      " 2   Book-Author          271358 non-null  object\n",
      " 3   Year-Of-Publication  271360 non-null  object\n",
      " 4   Publisher            271358 non-null  object\n",
      " 5   Image-URL-S          271360 non-null  object\n",
      " 6   Image-URL-M          271360 non-null  object\n",
      " 7   Image-URL-L          271357 non-null  object\n",
      "dtypes: object(8)\n",
      "memory usage: 16.6+ MB\n"
     ]
    }
   ],
   "source": [
    "df_books.info()"
   ],
   "metadata": {
    "collapsed": false,
    "ExecuteTime": {
     "end_time": "2024-05-06T18:31:50.405039Z",
     "start_time": "2024-05-06T18:31:50.284341Z"
    }
   },
   "id": "7c25de4d0fdef9",
   "execution_count": 8
  },
  {
   "cell_type": "code",
   "outputs": [],
   "source": [
    "#This code is not necessary for the program, so no need run at every instance\n",
    "#Year-of-publication is stated as object which is incorrect format, so try convert to integer\n",
    "#Catch and print the error & also iterate through each row to display the problematic data\n",
    "\n",
    "# error_indexes = []\n",
    "# try:\n",
    "#     df_books['Year-Of-Publication']  = df_books['Year-Of-Publication'].astype(int)\n",
    "# except Exception as e:\n",
    "#     print('Error >',e)\n",
    "#     for index, row in df_books.iterrows():\n",
    "#         try:\n",
    "#             int(row['Year-Of-Publication'])\n",
    "#         except ValueError:\n",
    "#             error_indexes.append(index)\n",
    "#             print(f\"Row {index}: {row['Year-Of-Publication']}\")"
   ],
   "metadata": {
    "collapsed": false,
    "ExecuteTime": {
     "end_time": "2024-05-06T18:31:50.413076Z",
     "start_time": "2024-05-06T18:31:50.407113Z"
    }
   },
   "id": "c454b23492cb189d",
   "execution_count": 9
  },
  {
   "cell_type": "code",
   "outputs": [
    {
     "data": {
      "text/plain": "              ISBN                                         Book-Title  \\\n209538  078946697X  DK Readers: Creating the X-Men, How It All Beg...   \n220731  2070426769  Peuple du ciel, suivi de 'Les Bergers\\\";Jean-M...   \n221678  0789466953  DK Readers: Creating the X-Men, How Comic Book...   \n\n       Book-Author Year-Of-Publication  \\\n209538        2000   DK Publishing Inc   \n220731        2003           Gallimard   \n221678        2000   DK Publishing Inc   \n\n                                                Publisher  \\\n209538  http://images.amazon.com/images/P/078946697X.0...   \n220731  http://images.amazon.com/images/P/2070426769.0...   \n221678  http://images.amazon.com/images/P/0789466953.0...   \n\n                                              Image-URL-S  \\\n209538  http://images.amazon.com/images/P/078946697X.0...   \n220731  http://images.amazon.com/images/P/2070426769.0...   \n221678  http://images.amazon.com/images/P/0789466953.0...   \n\n                                              Image-URL-M Image-URL-L  \n209538  http://images.amazon.com/images/P/078946697X.0...         NaN  \n220731  http://images.amazon.com/images/P/2070426769.0...         NaN  \n221678  http://images.amazon.com/images/P/0789466953.0...         NaN  ",
      "text/html": "<div>\n<style scoped>\n    .dataframe tbody tr th:only-of-type {\n        vertical-align: middle;\n    }\n\n    .dataframe tbody tr th {\n        vertical-align: top;\n    }\n\n    .dataframe thead th {\n        text-align: right;\n    }\n</style>\n<table border=\"1\" class=\"dataframe\">\n  <thead>\n    <tr style=\"text-align: right;\">\n      <th></th>\n      <th>ISBN</th>\n      <th>Book-Title</th>\n      <th>Book-Author</th>\n      <th>Year-Of-Publication</th>\n      <th>Publisher</th>\n      <th>Image-URL-S</th>\n      <th>Image-URL-M</th>\n      <th>Image-URL-L</th>\n    </tr>\n  </thead>\n  <tbody>\n    <tr>\n      <th>209538</th>\n      <td>078946697X</td>\n      <td>DK Readers: Creating the X-Men, How It All Beg...</td>\n      <td>2000</td>\n      <td>DK Publishing Inc</td>\n      <td>http://images.amazon.com/images/P/078946697X.0...</td>\n      <td>http://images.amazon.com/images/P/078946697X.0...</td>\n      <td>http://images.amazon.com/images/P/078946697X.0...</td>\n      <td>NaN</td>\n    </tr>\n    <tr>\n      <th>220731</th>\n      <td>2070426769</td>\n      <td>Peuple du ciel, suivi de 'Les Bergers\\\";Jean-M...</td>\n      <td>2003</td>\n      <td>Gallimard</td>\n      <td>http://images.amazon.com/images/P/2070426769.0...</td>\n      <td>http://images.amazon.com/images/P/2070426769.0...</td>\n      <td>http://images.amazon.com/images/P/2070426769.0...</td>\n      <td>NaN</td>\n    </tr>\n    <tr>\n      <th>221678</th>\n      <td>0789466953</td>\n      <td>DK Readers: Creating the X-Men, How Comic Book...</td>\n      <td>2000</td>\n      <td>DK Publishing Inc</td>\n      <td>http://images.amazon.com/images/P/0789466953.0...</td>\n      <td>http://images.amazon.com/images/P/0789466953.0...</td>\n      <td>http://images.amazon.com/images/P/0789466953.0...</td>\n      <td>NaN</td>\n    </tr>\n  </tbody>\n</table>\n</div>"
     },
     "execution_count": 10,
     "metadata": {},
     "output_type": "execute_result"
    }
   ],
   "source": [
    "# a) display problematic data\n",
    "df_books[(df_books['Year-Of-Publication'] == 'DK Publishing Inc') | (df_books['Year-Of-Publication'] == 'Gallimard')]"
   ],
   "metadata": {
    "collapsed": false,
    "ExecuteTime": {
     "end_time": "2024-05-06T18:31:50.496127Z",
     "start_time": "2024-05-06T18:31:50.416229Z"
    }
   },
   "id": "1ee5ecdedb2d6b45",
   "execution_count": 10
  },
  {
   "cell_type": "code",
   "outputs": [],
   "source": [
    "# formatting issues cause data to be shifted 1 unit to the left\n",
    "# b) Code to fix the format issue\n",
    "temp = df_books[(df_books['Year-Of-Publication'] == 'DK Publishing Inc') | (df_books['Year-Of-Publication'] == 'Gallimard')]\n",
    "authors = []\n",
    "books_titles = []\n",
    "error_indexes = pd.Series(list(temp.index))\n",
    "\n",
    "for title in temp['Book-Title']:\n",
    "    author = title.split(';')[-1].split('\"')[0]\n",
    "    book = title.split(';')[0].split('\\\\')[0]\n",
    "    authors.append(author)\n",
    "    books_titles.append(book)\n",
    "\n",
    "temp = pd.concat([temp['ISBN'].to_frame(), temp[df_books.columns[1:]].shift(periods = 1, axis = 1)], axis=1)\n",
    "temp['Book-Title'] = books_titles\n",
    "temp['Book-Author'] = authors\n",
    "\n",
    "df_books.drop(error_indexes, axis=0, inplace=True)\n",
    "\n",
    "for i in error_indexes:\n",
    "    error_indexes.loc[i] = list(temp.loc[i].values)"
   ],
   "metadata": {
    "collapsed": false,
    "ExecuteTime": {
     "end_time": "2024-05-06T18:31:50.641082Z",
     "start_time": "2024-05-06T18:31:50.499236Z"
    }
   },
   "id": "5162cd478fe05b48",
   "execution_count": 11
  },
  {
   "cell_type": "code",
   "outputs": [
    {
     "data": {
      "text/plain": "              ISBN                                    Book-Title  \\\n209539  0425170829                         X-Men Legends (X-Men)   \n220733  3813501361  Der wilde Strom. Eine Reise auf dem Jangtse.   \n221681  0673520021                   Brief English Handbook, The   \n\n             Book-Author Year-Of-Publication                 Publisher  \\\n209539          Stan Lee                2000  Berkley Publishing Group   \n220733  Simon Winchester                2000                     Knaus   \n221681  Edward A. Dornan                1997     Addison-Wesley Pub Co   \n\n                                              Image-URL-S  \\\n209539  http://images.amazon.com/images/P/0425170829.0...   \n220733  http://images.amazon.com/images/P/3813501361.0...   \n221681  http://images.amazon.com/images/P/0673520021.0...   \n\n                                              Image-URL-M  \\\n209539  http://images.amazon.com/images/P/0425170829.0...   \n220733  http://images.amazon.com/images/P/3813501361.0...   \n221681  http://images.amazon.com/images/P/0673520021.0...   \n\n                                              Image-URL-L  \n209539  http://images.amazon.com/images/P/0425170829.0...  \n220733  http://images.amazon.com/images/P/3813501361.0...  \n221681  http://images.amazon.com/images/P/0673520021.0...  ",
      "text/html": "<div>\n<style scoped>\n    .dataframe tbody tr th:only-of-type {\n        vertical-align: middle;\n    }\n\n    .dataframe tbody tr th {\n        vertical-align: top;\n    }\n\n    .dataframe thead th {\n        text-align: right;\n    }\n</style>\n<table border=\"1\" class=\"dataframe\">\n  <thead>\n    <tr style=\"text-align: right;\">\n      <th></th>\n      <th>ISBN</th>\n      <th>Book-Title</th>\n      <th>Book-Author</th>\n      <th>Year-Of-Publication</th>\n      <th>Publisher</th>\n      <th>Image-URL-S</th>\n      <th>Image-URL-M</th>\n      <th>Image-URL-L</th>\n    </tr>\n  </thead>\n  <tbody>\n    <tr>\n      <th>209539</th>\n      <td>0425170829</td>\n      <td>X-Men Legends (X-Men)</td>\n      <td>Stan Lee</td>\n      <td>2000</td>\n      <td>Berkley Publishing Group</td>\n      <td>http://images.amazon.com/images/P/0425170829.0...</td>\n      <td>http://images.amazon.com/images/P/0425170829.0...</td>\n      <td>http://images.amazon.com/images/P/0425170829.0...</td>\n    </tr>\n    <tr>\n      <th>220733</th>\n      <td>3813501361</td>\n      <td>Der wilde Strom. Eine Reise auf dem Jangtse.</td>\n      <td>Simon Winchester</td>\n      <td>2000</td>\n      <td>Knaus</td>\n      <td>http://images.amazon.com/images/P/3813501361.0...</td>\n      <td>http://images.amazon.com/images/P/3813501361.0...</td>\n      <td>http://images.amazon.com/images/P/3813501361.0...</td>\n    </tr>\n    <tr>\n      <th>221681</th>\n      <td>0673520021</td>\n      <td>Brief English Handbook, The</td>\n      <td>Edward A. Dornan</td>\n      <td>1997</td>\n      <td>Addison-Wesley Pub Co</td>\n      <td>http://images.amazon.com/images/P/0673520021.0...</td>\n      <td>http://images.amazon.com/images/P/0673520021.0...</td>\n      <td>http://images.amazon.com/images/P/0673520021.0...</td>\n    </tr>\n  </tbody>\n</table>\n</div>"
     },
     "execution_count": 12,
     "metadata": {},
     "output_type": "execute_result"
    }
   ],
   "source": [
    "# display the data again to check if it worked\n",
    "df_books.iloc[[209538, 220731, 221678]]"
   ],
   "metadata": {
    "collapsed": false,
    "ExecuteTime": {
     "end_time": "2024-05-06T18:31:50.666725Z",
     "start_time": "2024-05-06T18:31:50.643115Z"
    }
   },
   "id": "dbacbcb6a120b612",
   "execution_count": 12
  },
  {
   "cell_type": "code",
   "outputs": [
    {
     "name": "stdout",
     "output_type": "stream",
     "text": [
      "ISBN                   object\n",
      "Book-Title             object\n",
      "Book-Author            object\n",
      "Year-Of-Publication     int32\n",
      "Publisher              object\n",
      "dtype: object\n"
     ]
    }
   ],
   "source": [
    "# c) convert Year-Of-Publication to int data type\n",
    "df_books['Year-Of-Publication'] = df_books['Year-Of-Publication'].astype(int)\n",
    "df_books.drop(labels=['Image-URL-S', 'Image-URL-M', 'Image-URL-L'], axis=1, inplace=True)\n",
    "\n",
    "print(df_books.dtypes)"
   ],
   "metadata": {
    "collapsed": false,
    "ExecuteTime": {
     "end_time": "2024-05-06T18:31:50.747124Z",
     "start_time": "2024-05-06T18:31:50.669836Z"
    }
   },
   "id": "4d1b81d52a132e07",
   "execution_count": 13
  },
  {
   "cell_type": "markdown",
   "source": [
    "'Year-Of-Publication' has been changed to integer data type.\n",
    "\n",
    "For content-based filtering,\n",
    "A book that user liked or rated highly in the past is recommended a product that is similar to the highly-rated product.\n",
    "\n",
    "Thus, 'Image-URL-S', 'Image-URL-M' and 'Image-URL-L' are not relevant and has been dropped."
   ],
   "metadata": {
    "collapsed": false
   },
   "id": "3561a64bbee592bd"
  },
  {
   "cell_type": "markdown",
   "source": [
    "<b>1.2.1 Dealing with invalid values in Year of Publication</b>"
   ],
   "metadata": {
    "collapsed": false
   },
   "id": "bdf74cd28d2e8bed"
  },
  {
   "cell_type": "code",
   "outputs": [
    {
     "name": "stdout",
     "output_type": "stream",
     "text": [
      "Year: 0, Count: 4618\n",
      "Year: 1376, Count: 1\n",
      "Year: 1378, Count: 1\n",
      "Year: 1806, Count: 1\n",
      "Year: 1897, Count: 1\n",
      "Year: 1900, Count: 3\n",
      "Year: 1901, Count: 7\n",
      "Year: 1902, Count: 2\n",
      "Year: 1904, Count: 1\n",
      "Year: 1906, Count: 1\n",
      "Year: 1908, Count: 1\n",
      "Year: 1909, Count: 2\n",
      "Year: 1910, Count: 1\n",
      "Year: 1911, Count: 19\n",
      "Year: 1914, Count: 1\n",
      "Year: 1917, Count: 1\n",
      "Year: 1919, Count: 1\n",
      "Year: 1920, Count: 33\n",
      "Year: 1921, Count: 2\n",
      "Year: 1922, Count: 2\n",
      "Year: 1923, Count: 11\n",
      "Year: 1924, Count: 2\n",
      "Year: 1925, Count: 2\n",
      "Year: 1926, Count: 2\n",
      "Year: 1927, Count: 2\n",
      "Year: 1928, Count: 2\n",
      "Year: 1929, Count: 7\n",
      "Year: 1930, Count: 13\n",
      "Year: 1931, Count: 3\n",
      "Year: 1932, Count: 5\n",
      "Year: 1933, Count: 4\n",
      "Year: 1934, Count: 1\n",
      "Year: 1935, Count: 3\n",
      "Year: 1936, Count: 7\n",
      "Year: 1937, Count: 5\n",
      "Year: 1938, Count: 7\n",
      "Year: 1939, Count: 9\n",
      "Year: 1940, Count: 36\n",
      "Year: 1941, Count: 10\n",
      "Year: 1942, Count: 14\n",
      "Year: 1943, Count: 8\n",
      "Year: 1944, Count: 4\n",
      "Year: 1945, Count: 8\n",
      "Year: 1946, Count: 13\n",
      "Year: 1947, Count: 14\n",
      "Year: 1948, Count: 9\n",
      "Year: 1949, Count: 11\n",
      "Year: 1950, Count: 32\n",
      "Year: 1951, Count: 40\n",
      "Year: 1952, Count: 34\n",
      "Year: 1953, Count: 63\n",
      "Year: 1954, Count: 54\n",
      "Year: 1955, Count: 70\n",
      "Year: 1956, Count: 74\n",
      "Year: 1957, Count: 76\n",
      "Year: 1958, Count: 77\n",
      "Year: 1959, Count: 103\n",
      "Year: 1960, Count: 133\n",
      "Year: 1961, Count: 132\n",
      "Year: 1962, Count: 123\n",
      "Year: 1963, Count: 132\n",
      "Year: 1964, Count: 149\n",
      "Year: 1965, Count: 173\n",
      "Year: 1966, Count: 183\n",
      "Year: 1967, Count: 176\n",
      "Year: 1968, Count: 233\n",
      "Year: 1969, Count: 339\n",
      "Year: 1970, Count: 459\n",
      "Year: 1971, Count: 540\n",
      "Year: 1972, Count: 772\n",
      "Year: 1973, Count: 923\n",
      "Year: 1974, Count: 1023\n",
      "Year: 1975, Count: 1219\n",
      "Year: 1976, Count: 1597\n",
      "Year: 1977, Count: 1897\n",
      "Year: 1978, Count: 2131\n",
      "Year: 1979, Count: 2208\n",
      "Year: 1980, Count: 2676\n",
      "Year: 1981, Count: 3279\n",
      "Year: 1982, Count: 4197\n",
      "Year: 1983, Count: 4499\n",
      "Year: 1984, Count: 4986\n",
      "Year: 1985, Count: 5343\n",
      "Year: 1986, Count: 5841\n",
      "Year: 1987, Count: 6529\n",
      "Year: 1988, Count: 7492\n",
      "Year: 1989, Count: 7936\n",
      "Year: 1990, Count: 8660\n",
      "Year: 1991, Count: 9389\n",
      "Year: 1992, Count: 9906\n",
      "Year: 1993, Count: 10602\n",
      "Year: 1994, Count: 11796\n",
      "Year: 1995, Count: 13546\n",
      "Year: 1996, Count: 14030\n",
      "Year: 1997, Count: 14890\n",
      "Year: 1998, Count: 15766\n",
      "Year: 1999, Count: 17431\n",
      "Year: 2000, Count: 17232\n",
      "Year: 2001, Count: 17359\n",
      "Year: 2002, Count: 17627\n",
      "Year: 2003, Count: 14358\n",
      "Year: 2004, Count: 5839\n",
      "Year: 2005, Count: 46\n",
      "Year: 2006, Count: 3\n",
      "Year: 2008, Count: 1\n",
      "Year: 2010, Count: 2\n",
      "Year: 2011, Count: 2\n",
      "Year: 2012, Count: 1\n",
      "Year: 2020, Count: 3\n",
      "Year: 2021, Count: 1\n",
      "Year: 2024, Count: 1\n",
      "Year: 2026, Count: 1\n",
      "Year: 2030, Count: 7\n",
      "Year: 2037, Count: 1\n",
      "Year: 2038, Count: 1\n",
      "Year: 2050, Count: 2\n"
     ]
    }
   ],
   "source": [
    "# a) Find out all the years of the books in the dataset\n",
    "year_counts = df_books['Year-Of-Publication'].value_counts().sort_index()\n",
    "\n",
    "for year, count in zip(year_counts.index.values, year_counts.values):\n",
    "    print(f\"Year: {year}, Count: {count}\")"
   ],
   "metadata": {
    "collapsed": false,
    "ExecuteTime": {
     "end_time": "2024-05-06T18:31:50.765235Z",
     "start_time": "2024-05-06T18:31:50.749172Z"
    }
   },
   "id": "5166c036c7eb86f9",
   "execution_count": 14
  },
  {
   "cell_type": "code",
   "outputs": [
    {
     "data": {
      "text/plain": "              ISBN                                         Book-Title  \\\n37487   0671746103  MY TEACHER FRIED MY BRAINS (RACK SIZE) (MY TEA...   \n55676   0671791990  MY TEACHER FLUNKED THE PLANET (RACK SIZE) (MY ...   \n78168   0870449842                                   Crossing America   \n80264   0140301690  Alice's Adventures in Wonderland and Through t...   \n97826   0140201092      Outline of European Architecture (Pelican S.)   \n116053  0394701658                       Three Plays of Eugene Oneill   \n118294  3442436893        Das groÃ?Â?e BÃ?Â¶se- MÃ?Â¤dchen- Lesebuch.   \n192993  0870446924  Field Guide to the Birds of North America, 3rd...   \n228173  0671266500       FOREST PEOPLE (Touchstone Books (Hardcover))   \n240169  0684718022            In Our Time: Stories (Scribner Classic)   \n255409  068471809X                               To Have and Have Not   \n260974  0671740989        FOOTBALL SUPER TEAMS : FOOTBALL SUPER TEAMS   \n\n                        Book-Author  Year-Of-Publication  \\\n37487                       Coville                 2030   \n55676                 Bruce Coville                 2030   \n78168   National Geographic Society                 2030   \n80264                 Lewis Carroll                 2050   \n97826              Nikolaus Pevsner                 2050   \n116053               Eugene O'Neill                 2038   \n118294                  Kathy Lette                 2026   \n192993  National Geographic Society                 2030   \n228173            Colin M. Turnbull                 2030   \n240169             Ernest Hemingway                 2030   \n255409             Ernest Hemingway                 2037   \n260974                  Bill Gutman                 2030   \n\n                                         Publisher  \n37487                                      Aladdin  \n55676                                      Aladdin  \n78168                          National Geographic  \n80264                                 Puffin Books  \n97826                                  Penguin USA  \n116053                           Vintage Books USA  \n118294                                    Goldmann  \n192993                         National Geographic  \n228173                        Simon &amp; Schuster  \n240169                               Collier Books  \n255409                        Simon &amp; Schuster  \n260974  Simon &amp; Schuster Children's Publishing  ",
      "text/html": "<div>\n<style scoped>\n    .dataframe tbody tr th:only-of-type {\n        vertical-align: middle;\n    }\n\n    .dataframe tbody tr th {\n        vertical-align: top;\n    }\n\n    .dataframe thead th {\n        text-align: right;\n    }\n</style>\n<table border=\"1\" class=\"dataframe\">\n  <thead>\n    <tr style=\"text-align: right;\">\n      <th></th>\n      <th>ISBN</th>\n      <th>Book-Title</th>\n      <th>Book-Author</th>\n      <th>Year-Of-Publication</th>\n      <th>Publisher</th>\n    </tr>\n  </thead>\n  <tbody>\n    <tr>\n      <th>37487</th>\n      <td>0671746103</td>\n      <td>MY TEACHER FRIED MY BRAINS (RACK SIZE) (MY TEA...</td>\n      <td>Coville</td>\n      <td>2030</td>\n      <td>Aladdin</td>\n    </tr>\n    <tr>\n      <th>55676</th>\n      <td>0671791990</td>\n      <td>MY TEACHER FLUNKED THE PLANET (RACK SIZE) (MY ...</td>\n      <td>Bruce Coville</td>\n      <td>2030</td>\n      <td>Aladdin</td>\n    </tr>\n    <tr>\n      <th>78168</th>\n      <td>0870449842</td>\n      <td>Crossing America</td>\n      <td>National Geographic Society</td>\n      <td>2030</td>\n      <td>National Geographic</td>\n    </tr>\n    <tr>\n      <th>80264</th>\n      <td>0140301690</td>\n      <td>Alice's Adventures in Wonderland and Through t...</td>\n      <td>Lewis Carroll</td>\n      <td>2050</td>\n      <td>Puffin Books</td>\n    </tr>\n    <tr>\n      <th>97826</th>\n      <td>0140201092</td>\n      <td>Outline of European Architecture (Pelican S.)</td>\n      <td>Nikolaus Pevsner</td>\n      <td>2050</td>\n      <td>Penguin USA</td>\n    </tr>\n    <tr>\n      <th>116053</th>\n      <td>0394701658</td>\n      <td>Three Plays of Eugene Oneill</td>\n      <td>Eugene O'Neill</td>\n      <td>2038</td>\n      <td>Vintage Books USA</td>\n    </tr>\n    <tr>\n      <th>118294</th>\n      <td>3442436893</td>\n      <td>Das groÃ?Â?e BÃ?Â¶se- MÃ?Â¤dchen- Lesebuch.</td>\n      <td>Kathy Lette</td>\n      <td>2026</td>\n      <td>Goldmann</td>\n    </tr>\n    <tr>\n      <th>192993</th>\n      <td>0870446924</td>\n      <td>Field Guide to the Birds of North America, 3rd...</td>\n      <td>National Geographic Society</td>\n      <td>2030</td>\n      <td>National Geographic</td>\n    </tr>\n    <tr>\n      <th>228173</th>\n      <td>0671266500</td>\n      <td>FOREST PEOPLE (Touchstone Books (Hardcover))</td>\n      <td>Colin M. Turnbull</td>\n      <td>2030</td>\n      <td>Simon &amp;amp; Schuster</td>\n    </tr>\n    <tr>\n      <th>240169</th>\n      <td>0684718022</td>\n      <td>In Our Time: Stories (Scribner Classic)</td>\n      <td>Ernest Hemingway</td>\n      <td>2030</td>\n      <td>Collier Books</td>\n    </tr>\n    <tr>\n      <th>255409</th>\n      <td>068471809X</td>\n      <td>To Have and Have Not</td>\n      <td>Ernest Hemingway</td>\n      <td>2037</td>\n      <td>Simon &amp;amp; Schuster</td>\n    </tr>\n    <tr>\n      <th>260974</th>\n      <td>0671740989</td>\n      <td>FOOTBALL SUPER TEAMS : FOOTBALL SUPER TEAMS</td>\n      <td>Bill Gutman</td>\n      <td>2030</td>\n      <td>Simon &amp;amp; Schuster Children's Publishing</td>\n    </tr>\n  </tbody>\n</table>\n</div>"
     },
     "execution_count": 15,
     "metadata": {},
     "output_type": "execute_result"
    }
   ],
   "source": [
    "# b) display books with invalid year (>2024)\n",
    "df_books[df_books['Year-Of-Publication'] > 2024]"
   ],
   "metadata": {
    "collapsed": false,
    "ExecuteTime": {
     "end_time": "2024-05-06T18:31:50.793764Z",
     "start_time": "2024-05-06T18:31:50.768364Z"
    }
   },
   "id": "9a68aa47db752579",
   "execution_count": 15
  },
  {
   "cell_type": "code",
   "outputs": [
    {
     "data": {
      "text/plain": "[0         False\n 1         False\n 2         False\n 3         False\n 4         False\n           ...  \n 271355    False\n 271356    False\n 271357    False\n 271358    False\n 271359    False\n Name: Year-Of-Publication, Length: 271357, dtype: bool]"
     },
     "execution_count": 16,
     "metadata": {},
     "output_type": "execute_result"
    }
   ],
   "source": [
    "# c) display books with invalid year (equals 0)\n",
    "[df_books['Year-Of-Publication'] == 0]"
   ],
   "metadata": {
    "collapsed": false,
    "ExecuteTime": {
     "end_time": "2024-05-06T18:31:50.811397Z",
     "start_time": "2024-05-06T18:31:50.796891Z"
    }
   },
   "id": "14b02bf841e7d47f",
   "execution_count": 16
  },
  {
   "cell_type": "markdown",
   "source": [
    "There are over 4000 books with publication year 0, and around 12 with year>2024 (input error)\n",
    "It is possible that books in valid range [0,2024] to have with invalid years, but no way of knowing locally.\n",
    "It is good practice to replace these books with correct information.\n",
    "However, since it will not significantly affect the results of the model, it will not be necessary to handle."
   ],
   "metadata": {
    "collapsed": false
   },
   "id": "d88cf58aba8543fc"
  },
  {
   "cell_type": "markdown",
   "source": [
    "<b>1.2.3 Which Author has the Most Books?</b>"
   ],
   "metadata": {
    "collapsed": false
   },
   "id": "4385943221ea0b8e"
  },
  {
   "cell_type": "code",
   "outputs": [
    {
     "data": {
      "text/plain": "<Figure size 1200x600 with 1 Axes>",
      "image/png": "[encoded data removed]"
     },
     "metadata": {},
     "output_type": "display_data"
    }
   ],
   "source": [
    "# Group by author and count number of books, Select the top 10, Convert to df for plotting\n",
    "df_top_10_authors = (df_books['Book-Author'].value_counts()).head(10).reset_index()\n",
    "df_top_10_authors.columns = ['Author Name', 'Number of Books']\n",
    "\n",
    "# Seaborn plot\n",
    "plt.figure(figsize=(12, 6))\n",
    "sns.barplot(x='Author Name', y='Number of Books', data=df_top_10_authors, palette='Spectral')\n",
    "\n",
    "plt.xlabel('Author Name')\n",
    "plt.ylabel('Number of Books')\n",
    "plt.title('Top 10 Authors by Number of Books')\n",
    "plt.xticks(rotation=45)\n",
    "plt.tight_layout()\n",
    "plt.show()"
   ],
   "metadata": {
    "collapsed": false,
    "ExecuteTime": {
     "end_time": "2024-05-06T18:31:51.775546Z",
     "start_time": "2024-05-06T18:31:50.814798Z"
    }
   },
   "id": "29ec25d5b8d764d8",
   "execution_count": 17
  },
  {
   "cell_type": "markdown",
   "source": [
    "##### section summary\n",
    "- 3 data rows with formatting issues has been fixed\n",
    "- Year-Of-Publication has been converted to integer type\n",
    "- 3 Image size columns has been dropped as its not relevant"
   ],
   "metadata": {
    "collapsed": false
   },
   "id": "60c8e7872b42b7fe"
  },
  {
   "cell_type": "markdown",
   "source": [
    "#### 1.2 Univariate EDA &rarr; Exploring df_ratings "
   ],
   "metadata": {
    "collapsed": false
   },
   "id": "adf87037ca013dff"
  },
  {
   "cell_type": "code",
   "outputs": [
    {
     "name": "stdout",
     "output_type": "stream",
     "text": [
      "Number of data before cleaning : 1149780\n",
      "Number of data after cleaning : 1031132\n"
     ]
    }
   ],
   "source": [
    "# a) Cleaning step 1 : Remove ratings with invalid book ISBNs\n",
    "# so only ratings for books that exist in the df_books are kept\n",
    "print('Number of data before cleaning : {}'.format(len(df_ratings)))\n",
    "df_ratings = df_ratings[df_ratings['ISBN'].isin(df_books['ISBN'])]\n",
    "print('Number of data after cleaning : {}'.format(len(df_ratings)))"
   ],
   "metadata": {
    "collapsed": false,
    "ExecuteTime": {
     "end_time": "2024-05-06T18:31:52.381960Z",
     "start_time": "2024-05-06T18:31:51.778744Z"
    }
   },
   "id": "5b0c878f096a45b1",
   "execution_count": 18
  },
  {
   "cell_type": "markdown",
   "source": [
    "Ratings tend to be very sparse (contain mostly zero or null values) so quality data is usually collected from a very popular book or a highly engaging user.\n",
    "Thus, data can be cleaned by enforcing these rules:\n",
    "- For a book to be credible, it requires at least 10 user ratings\n",
    "- For a user to be credible, the user must have rated at least 50 books\n",
    "\n",
    "This filter can also help to minimise total data and reduce memory usage"
   ],
   "metadata": {
    "collapsed": false
   },
   "id": "e18e9c325c6220c2"
  },
  {
   "cell_type": "code",
   "outputs": [
    {
     "name": "stdout",
     "output_type": "stream",
     "text": [
      "Before Filtering: (1031132, 3)\n",
      "After Filtering: (428085, 3)\n"
     ]
    }
   ],
   "source": [
    "# b) Cleaning step 2 : Only keep credible users\n",
    "# summary statistics for books -> calculate number of ratings(count) and average ratings(mean)\n",
    "f = ['count','mean']\n",
    "df_books_summary = df_ratings.groupby('ISBN')['Book-Rating'].agg(f)\n",
    "df_books_summary.index = df_books_summary.index.map(str)\n",
    "drop_book_list = df_books_summary[df_books_summary['count'] < 10].index\n",
    "\n",
    "# summary statistics for users -> same steps\n",
    "df_users_summary = df_ratings.groupby('User-ID')['Book-Rating'].agg(f)\n",
    "df_users_summary.index = df_users_summary.index.map(int)\n",
    "drop_users_list = df_users_summary[df_users_summary['count'] < 10].index\n",
    "\n",
    "# remove ratings for books or users with fewer than 10 ratings\n",
    "print('Before Filtering: {}'.format(df_ratings.shape))\n",
    "df_ratings = df_ratings[~df_ratings['ISBN'].isin(drop_book_list)]\n",
    "df_ratings = df_ratings[~df_ratings['User-ID'].isin(drop_users_list)]\n",
    "print('After Filtering: {}'.format(df_ratings.shape))"
   ],
   "metadata": {
    "collapsed": false,
    "ExecuteTime": {
     "end_time": "2024-05-06T18:31:56.407368Z",
     "start_time": "2024-05-06T18:31:52.384072Z"
    }
   },
   "id": "61978684e925296",
   "execution_count": 19
  },
  {
   "cell_type": "code",
   "outputs": [
    {
     "data": {
      "text/plain": "User-ID     8    99   242  243  254\nISBN                               \n0002005018  5.0  NaN  NaN  NaN  NaN\n0002251760  NaN  NaN  NaN  NaN  NaN\n0002255081  NaN  NaN  NaN  NaN  NaN\n0002257203  NaN  NaN  NaN  NaN  NaN\n0002259834  NaN  NaN  NaN  NaN  NaN",
      "text/html": "<div>\n<style scoped>\n    .dataframe tbody tr th:only-of-type {\n        vertical-align: middle;\n    }\n\n    .dataframe tbody tr th {\n        vertical-align: top;\n    }\n\n    .dataframe thead th {\n        text-align: right;\n    }\n</style>\n<table border=\"1\" class=\"dataframe\">\n  <thead>\n    <tr style=\"text-align: right;\">\n      <th>User-ID</th>\n      <th>8</th>\n      <th>99</th>\n      <th>242</th>\n      <th>243</th>\n      <th>254</th>\n    </tr>\n    <tr>\n      <th>ISBN</th>\n      <th></th>\n      <th></th>\n      <th></th>\n      <th></th>\n      <th></th>\n    </tr>\n  </thead>\n  <tbody>\n    <tr>\n      <th>0002005018</th>\n      <td>5.0</td>\n      <td>NaN</td>\n      <td>NaN</td>\n      <td>NaN</td>\n      <td>NaN</td>\n    </tr>\n    <tr>\n      <th>0002251760</th>\n      <td>NaN</td>\n      <td>NaN</td>\n      <td>NaN</td>\n      <td>NaN</td>\n      <td>NaN</td>\n    </tr>\n    <tr>\n      <th>0002255081</th>\n      <td>NaN</td>\n      <td>NaN</td>\n      <td>NaN</td>\n      <td>NaN</td>\n      <td>NaN</td>\n    </tr>\n    <tr>\n      <th>0002257203</th>\n      <td>NaN</td>\n      <td>NaN</td>\n      <td>NaN</td>\n      <td>NaN</td>\n      <td>NaN</td>\n    </tr>\n    <tr>\n      <th>0002259834</th>\n      <td>NaN</td>\n      <td>NaN</td>\n      <td>NaN</td>\n      <td>NaN</td>\n      <td>NaN</td>\n    </tr>\n  </tbody>\n</table>\n</div>"
     },
     "execution_count": 20,
     "metadata": {},
     "output_type": "execute_result"
    }
   ],
   "source": [
    "# c) Display the credible users from the cleaned data\n",
    "pivot_ratings = df_ratings.pivot(index='ISBN',columns='User-ID',values='Book-Rating')\n",
    "pivot_ratings.iloc[:, :5].head()\n",
    "# later i will use user id = 8 for the model input"
   ],
   "metadata": {
    "collapsed": false,
    "ExecuteTime": {
     "end_time": "2024-05-06T18:31:58.651577Z",
     "start_time": "2024-05-06T18:31:56.412870Z"
    }
   },
   "id": "1404776f62fc46b",
   "execution_count": 20
  },
  {
   "cell_type": "markdown",
   "source": [
    "# 2. Model Building"
   ],
   "metadata": {
    "collapsed": false
   },
   "id": "7947067146e0963a"
  },
  {
   "cell_type": "code",
   "outputs": [],
   "source": [
    "features = ['Book-Author', 'Year-Of-Publication', 'Publisher']\n",
    "df_books_preprocess = df_books[df_books['ISBN'].isin(df_ratings['ISBN'].unique())].copy()\n",
    "\n",
    "for feature in features:\n",
    "    if df_books_preprocess[feature].dtype == 'O':\n",
    "        df_books_preprocess[feature] = df_books_preprocess[feature].str.replace('\\W', '', regex=True)\n",
    "        df_books_preprocess[feature] = df_books_preprocess[feature].apply(lambda x: str.lower(x))\n",
    "\n",
    "def create_soup(x):\n",
    "    return x['Book-Author'] + ' ' + str(x['Year-Of-Publication'])+ ' ' + x['Publisher']\n",
    "\n",
    "df_books_preprocess['soup'] = df_books_preprocess[features].apply(create_soup, axis = 1)"
   ],
   "metadata": {
    "collapsed": false,
    "ExecuteTime": {
     "end_time": "2024-05-04T15:22:52.353668Z",
     "start_time": "2024-05-04T15:22:51.787793Z"
    }
   },
   "id": "a27e11c2d5b284b5",
   "execution_count": 22
  },
  {
   "cell_type": "markdown",
   "source": [
    "#### 2.1 Cosine Similarity"
   ],
   "metadata": {
    "collapsed": false
   },
   "id": "512f308d1b7949d2"
  },
  {
   "cell_type": "code",
   "outputs": [],
   "source": [
    "from sklearn.feature_extraction.text import CountVectorizer\n",
    "count = CountVectorizer(stop_words='english')\n",
    "count_matrix = count.fit_transform(df_books_preprocess['soup'])\n",
    "\n",
    "# Calculate cosinesimilarity matrix based on count_matrix\n",
    "from sklearn.metrics.pairwise import cosine_similarity\n",
    "cosine_sim2 = cosine_similarity(count_matrix, count_matrix)"
   ],
   "metadata": {
    "collapsed": false,
    "ExecuteTime": {
     "end_time": "2024-03-31T02:43:39.621179Z",
     "start_time": "2024-03-31T02:43:36.519481Z"
    }
   },
   "id": "4cafb765ec660b0",
   "execution_count": 22
  },
  {
   "cell_type": "code",
   "outputs": [],
   "source": [
    "df2 = df_books_preprocess.reset_index()\n",
    "indices = pd.Series(df2.index, index=df2['ISBN'])"
   ],
   "metadata": {
    "collapsed": false,
    "ExecuteTime": {
     "end_time": "2024-03-31T02:43:39.640095Z",
     "start_time": "2024-03-31T02:43:39.623177Z"
    }
   },
   "id": "aaf69b8ab56c76d4",
   "execution_count": 23
  },
  {
   "cell_type": "code",
   "outputs": [],
   "source": [
    "def recommend_books(ISBN, cosine_sim):\n",
    "    idx = indices[ISBN]\n",
    "    # Get pairwise similarity scores of all books with that book\n",
    "    sim_scores = list(enumerate(cosine_sim[idx]))\n",
    "    # Sort books based on similarity scores and get the 10 most similar books\n",
    "    sim_scores = sorted(sim_scores, key=lambda x: x[1], reverse=True)\n",
    "    sim_scores = sim_scores[1:11]\n",
    "    # Get book indices\n",
    "    book_indices = [i[0] for i in sim_scores]\n",
    "    return df2[['Book-Title','soup']].iloc[book_indices], sim_scores\n",
    "\n",
    "def get_recommendations(userid, cosine_sim):\n",
    "    #userid = str(userid)\n",
    "    ISBN = df_ratings['ISBN'].loc[df_ratings[df_ratings['User-ID'] == userid]['Book-Rating'].idxmax()]\n",
    "    recommendation, sim_score = recommend_books(ISBN, cosine_sim)\n",
    "    df_recommend = pd.DataFrame(recommendation)\n",
    "    df_recommend['Cosine_Similarity'] = sim_score\n",
    "    df_recommend['Cosine_Similarity'] = df_recommend['Cosine_Similarity'].apply(lambda x: x[1])\n",
    "    return df_recommend"
   ],
   "metadata": {
    "collapsed": false,
    "ExecuteTime": {
     "end_time": "2024-03-31T02:43:39.682301Z",
     "start_time": "2024-03-31T02:43:39.643097Z"
    }
   },
   "id": "4f9a2b86329cbe95",
   "execution_count": 24
  },
  {
   "cell_type": "code",
   "outputs": [
    {
     "data": {
      "text/plain": "         ISBN                                         Book-Title  \\\n0  0002005018                                       Clara Callan   \n1  0374157065  Flu: The Story of the Great Influenza Pandemic...   \n2  0399135782                             The Kitchen God's Wife   \n\n            Book-Author  Year-Of-Publication              Publisher  \\\n0  Richard Bruce Wright                 2001  HarperFlamingo Canada   \n1      Gina Bari Kolata                 1999   Farrar Straus Giroux   \n2               Amy Tan                 1991       Putnam Pub Group   \n\n   Book-Rating  \n0            5  \n1            0  \n2            0  ",
      "text/html": "<div>\n<style scoped>\n    .dataframe tbody tr th:only-of-type {\n        vertical-align: middle;\n    }\n\n    .dataframe tbody tr th {\n        vertical-align: top;\n    }\n\n    .dataframe thead th {\n        text-align: right;\n    }\n</style>\n<table border=\"1\" class=\"dataframe\">\n  <thead>\n    <tr style=\"text-align: right;\">\n      <th></th>\n      <th>ISBN</th>\n      <th>Book-Title</th>\n      <th>Book-Author</th>\n      <th>Year-Of-Publication</th>\n      <th>Publisher</th>\n      <th>Book-Rating</th>\n    </tr>\n  </thead>\n  <tbody>\n    <tr>\n      <th>0</th>\n      <td>0002005018</td>\n      <td>Clara Callan</td>\n      <td>Richard Bruce Wright</td>\n      <td>2001</td>\n      <td>HarperFlamingo Canada</td>\n      <td>5</td>\n    </tr>\n    <tr>\n      <th>1</th>\n      <td>0374157065</td>\n      <td>Flu: The Story of the Great Influenza Pandemic...</td>\n      <td>Gina Bari Kolata</td>\n      <td>1999</td>\n      <td>Farrar Straus Giroux</td>\n      <td>0</td>\n    </tr>\n    <tr>\n      <th>2</th>\n      <td>0399135782</td>\n      <td>The Kitchen God's Wife</td>\n      <td>Amy Tan</td>\n      <td>1991</td>\n      <td>Putnam Pub Group</td>\n      <td>0</td>\n    </tr>\n  </tbody>\n</table>\n</div>"
     },
     "execution_count": 25,
     "metadata": {},
     "output_type": "execute_result"
    }
   ],
   "source": [
    "pd.concat([df_books[df_books['ISBN'].isin(list(df_ratings[df_ratings['User-ID'] == 8]['ISBN']))].reset_index(drop=True),    df_ratings[df_ratings['User-ID'] == 8]['Book-Rating'].reset_index(drop=True)], axis = 1)"
   ],
   "metadata": {
    "collapsed": false,
    "ExecuteTime": {
     "end_time": "2024-03-31T02:43:39.753756Z",
     "start_time": "2024-03-31T02:43:39.686303Z"
    }
   },
   "id": "19f2862cb3ab9179",
   "execution_count": 25
  },
  {
   "cell_type": "code",
   "outputs": [
    {
     "data": {
      "text/plain": "                                              Book-Title  \\\n15353                                          Spadework   \n6      New Vegetarian: Bold and Beautiful Recipes for...   \n19                            From the Corner of His Eye   \n44     El Senor De Los Anillos: LA Comunidad Del Anil...   \n45     El Senor De Los Anillos: Las DOS Torres (Lord ...   \n46     El Senor De Los Anillos: El Retorno Del Rey (T...   \n49                                            Fast Women   \n50                                   Female Intelligence   \n63                                   Angels &amp; Demons   \n75                                 Before I Say Good-Bye   \n\n                                                soup  Cosine_Similarity  \n15353       timothyfindley 2001 harperflamingocanada           0.666667  \n6      celiabrooksbrown 2001 rylandpetersampsmallltd           0.333333  \n19                       deankoontz 2001 bantambooks           0.333333  \n44                         jrrtolkien 2001 minotauro           0.333333  \n45                         jrrtolkien 2001 minotauro           0.333333  \n46                       jrrtolkien 2001 distribooks           0.333333  \n49                jennifercrusie 2001 stmartinspress           0.333333  \n50                    janeheller 2001 stmartinspress           0.333333  \n63                          danbrown 2001 pocketstar           0.333333  \n75                      maryhigginsclark 2001 pocket           0.333333  ",
      "text/html": "<div>\n<style scoped>\n    .dataframe tbody tr th:only-of-type {\n        vertical-align: middle;\n    }\n\n    .dataframe tbody tr th {\n        vertical-align: top;\n    }\n\n    .dataframe thead th {\n        text-align: right;\n    }\n</style>\n<table border=\"1\" class=\"dataframe\">\n  <thead>\n    <tr style=\"text-align: right;\">\n      <th></th>\n      <th>Book-Title</th>\n      <th>soup</th>\n      <th>Cosine_Similarity</th>\n    </tr>\n  </thead>\n  <tbody>\n    <tr>\n      <th>15353</th>\n      <td>Spadework</td>\n      <td>timothyfindley 2001 harperflamingocanada</td>\n      <td>0.666667</td>\n    </tr>\n    <tr>\n      <th>6</th>\n      <td>New Vegetarian: Bold and Beautiful Recipes for...</td>\n      <td>celiabrooksbrown 2001 rylandpetersampsmallltd</td>\n      <td>0.333333</td>\n    </tr>\n    <tr>\n      <th>19</th>\n      <td>From the Corner of His Eye</td>\n      <td>deankoontz 2001 bantambooks</td>\n      <td>0.333333</td>\n    </tr>\n    <tr>\n      <th>44</th>\n      <td>El Senor De Los Anillos: LA Comunidad Del Anil...</td>\n      <td>jrrtolkien 2001 minotauro</td>\n      <td>0.333333</td>\n    </tr>\n    <tr>\n      <th>45</th>\n      <td>El Senor De Los Anillos: Las DOS Torres (Lord ...</td>\n      <td>jrrtolkien 2001 minotauro</td>\n      <td>0.333333</td>\n    </tr>\n    <tr>\n      <th>46</th>\n      <td>El Senor De Los Anillos: El Retorno Del Rey (T...</td>\n      <td>jrrtolkien 2001 distribooks</td>\n      <td>0.333333</td>\n    </tr>\n    <tr>\n      <th>49</th>\n      <td>Fast Women</td>\n      <td>jennifercrusie 2001 stmartinspress</td>\n      <td>0.333333</td>\n    </tr>\n    <tr>\n      <th>50</th>\n      <td>Female Intelligence</td>\n      <td>janeheller 2001 stmartinspress</td>\n      <td>0.333333</td>\n    </tr>\n    <tr>\n      <th>63</th>\n      <td>Angels &amp;amp; Demons</td>\n      <td>danbrown 2001 pocketstar</td>\n      <td>0.333333</td>\n    </tr>\n    <tr>\n      <th>75</th>\n      <td>Before I Say Good-Bye</td>\n      <td>maryhigginsclark 2001 pocket</td>\n      <td>0.333333</td>\n    </tr>\n  </tbody>\n</table>\n</div>"
     },
     "execution_count": 26,
     "metadata": {},
     "output_type": "execute_result"
    }
   ],
   "source": [
    "df_recommend = get_recommendations(8, cosine_sim2)\n",
    "df_recommend"
   ],
   "metadata": {
    "collapsed": false,
    "ExecuteTime": {
     "end_time": "2024-03-31T02:43:39.832921Z",
     "start_time": "2024-03-31T02:43:39.766759Z"
    }
   },
   "id": "313464db2eec100a",
   "execution_count": 26
  },
  {
   "cell_type": "markdown",
   "source": [
    "#### 2.2 Jaccard Distance Similarity"
   ],
   "metadata": {
    "collapsed": false
   },
   "id": "eb07d88ce4cf3938"
  },
  {
   "cell_type": "code",
   "outputs": [
    {
     "name": "stderr",
     "output_type": "stream",
     "text": [
      "<>:51: SyntaxWarning: invalid escape sequence '\\W'\n",
      "<>:51: SyntaxWarning: invalid escape sequence '\\W'\n",
      "C:\\Users\\jerom\\AppData\\Local\\Temp\\ipykernel_16144\\1569934221.py:51: SyntaxWarning: invalid escape sequence '\\W'\n",
      "  df_books_preprocess[feature] = df_books_preprocess[feature].str.replace('\\W', '', regex=True)\n"
     ]
    },
    {
     "name": "stdout",
     "output_type": "stream",
     "text": [
      "       index        ISBN                                         Book-Title  \\\n",
      "15354  69955  0002255081                                          Spadework   \n",
      "6         21  1841721522  New Vegetarian: Bold and Beautiful Recipes for...   \n",
      "19        46  0553582747                         From the Corner of His Eye   \n",
      "44        91  8445071408  El Senor De Los Anillos: LA Comunidad Del Anil...   \n",
      "45        92  8445071769  El Senor De Los Anillos: Las DOS Torres (Lord ...   \n",
      "46        93  8445071777  El Senor De Los Anillos: El Retorno Del Rey (T...   \n",
      "49        96  0312252617                                         Fast Women   \n",
      "50        97  0312261594                                Female Intelligence   \n",
      "63       118  0671027360                                Angels &amp; Demons   \n",
      "75       136  0671004573                              Before I Say Good-Bye   \n",
      "\n",
      "            Book-Author  Year-Of-Publication                Publisher  \\\n",
      "15354    timothyfindley                 2001     harperflamingocanada   \n",
      "6      celiabrooksbrown                 2001  rylandpetersampsmallltd   \n",
      "19           deankoontz                 2001              bantambooks   \n",
      "44           jrrtolkien                 2001                minotauro   \n",
      "45           jrrtolkien                 2001                minotauro   \n",
      "46           jrrtolkien                 2001              distribooks   \n",
      "49       jennifercrusie                 2001           stmartinspress   \n",
      "50           janeheller                 2001           stmartinspress   \n",
      "63             danbrown                 2001               pocketstar   \n",
      "75     maryhigginsclark                 2001                   pocket   \n",
      "\n",
      "                                             Image-URL-S  \\\n",
      "15354  http://images.amazon.com/images/P/0002255081.0...   \n",
      "6      http://images.amazon.com/images/P/1841721522.0...   \n",
      "19     http://images.amazon.com/images/P/0553582747.0...   \n",
      "44     http://images.amazon.com/images/P/8445071408.0...   \n",
      "45     http://images.amazon.com/images/P/8445071769.0...   \n",
      "46     http://images.amazon.com/images/P/8445071777.0...   \n",
      "49     http://images.amazon.com/images/P/0312252617.0...   \n",
      "50     http://images.amazon.com/images/P/0312261594.0...   \n",
      "63     http://images.amazon.com/images/P/0671027360.0...   \n",
      "75     http://images.amazon.com/images/P/0671004573.0...   \n",
      "\n",
      "                                             Image-URL-M  \\\n",
      "15354  http://images.amazon.com/images/P/0002255081.0...   \n",
      "6      http://images.amazon.com/images/P/1841721522.0...   \n",
      "19     http://images.amazon.com/images/P/0553582747.0...   \n",
      "44     http://images.amazon.com/images/P/8445071408.0...   \n",
      "45     http://images.amazon.com/images/P/8445071769.0...   \n",
      "46     http://images.amazon.com/images/P/8445071777.0...   \n",
      "49     http://images.amazon.com/images/P/0312252617.0...   \n",
      "50     http://images.amazon.com/images/P/0312261594.0...   \n",
      "63     http://images.amazon.com/images/P/0671027360.0...   \n",
      "75     http://images.amazon.com/images/P/0671004573.0...   \n",
      "\n",
      "                                             Image-URL-L  \n",
      "15354  http://images.amazon.com/images/P/0002255081.0...  \n",
      "6      http://images.amazon.com/images/P/1841721522.0...  \n",
      "19     http://images.amazon.com/images/P/0553582747.0...  \n",
      "44     http://images.amazon.com/images/P/8445071408.0...  \n",
      "45     http://images.amazon.com/images/P/8445071769.0...  \n",
      "46     http://images.amazon.com/images/P/8445071777.0...  \n",
      "49     http://images.amazon.com/images/P/0312252617.0...  \n",
      "50     http://images.amazon.com/images/P/0312261594.0...  \n",
      "63     http://images.amazon.com/images/P/0671027360.0...  \n",
      "75     http://images.amazon.com/images/P/0671004573.0...  \n"
     ]
    }
   ],
   "source": [
    "import pandas as pd\n",
    "from sklearn.feature_extraction.text import CountVectorizer\n",
    "from sklearn.metrics import pairwise_distances\n",
    "import warnings\n",
    "warnings.filterwarnings('ignore')\n",
    "\n",
    "def get_recommendations(userid):\n",
    "    # a) load data\n",
    "    df_books = pd.read_csv('csv/Books.csv')\n",
    "    df_ratings = pd.read_csv('csv/Ratings.csv')\n",
    "\n",
    "    # b) Data cleaning step 1: Fix format issue in year of publication(df_books) and convert to int data type\n",
    "    authors = []\n",
    "    books_titles = []\n",
    "    temp = df_books[(df_books['Year-Of-Publication'] == 'DK Publishing Inc') | (df_books['Year-Of-Publication'] == 'Gallimard')]\n",
    "    error_indexes = pd.Series(list(temp.index))\n",
    "\n",
    "    for title in temp['Book-Title']:\n",
    "        author = title.split(';')[-1].split('\"')[0]\n",
    "        book = title.split(';')[0].split('\\\\')[0]\n",
    "        authors.append(author)\n",
    "        books_titles.append(book)\n",
    "    temp = pd.concat([temp['ISBN'].to_frame(), temp[df_books.columns[1:]].shift(periods=1, axis=1)], axis=1)\n",
    "    temp['Book-Title'] = books_titles\n",
    "    temp['Book-Author'] = authors\n",
    "    df_books.drop(error_indexes, axis=0, inplace=True)\n",
    "\n",
    "    for i in error_indexes:\n",
    "        error_indexes.loc[i] = list(temp.loc[i].values)\n",
    "    df_books['Year-Of-Publication'] = df_books['Year-Of-Publication'].astype(int)\n",
    "\n",
    "    # c) Data Cleaning step 2 : Only keep credible users\n",
    "    f = ['count', 'mean']\n",
    "    df_books_summary = df_ratings.groupby('ISBN')['Book-Rating'].agg(f)\n",
    "    df_books_summary.index = df_books_summary.index.map(str)\n",
    "    drop_book_list = df_books_summary[df_books_summary['count'] < 10].index\n",
    "\n",
    "    df_users_summary = df_ratings.groupby('User-ID')['Book-Rating'].agg(f)\n",
    "    df_users_summary.index = df_users_summary.index.map(int)\n",
    "    drop_users_list = df_users_summary[df_users_summary['count'] < 10].index\n",
    "\n",
    "    df_ratings = df_ratings[~df_ratings['ISBN'].isin(drop_book_list)]\n",
    "    df_ratings = df_ratings[~df_ratings['User-ID'].isin(drop_users_list)]\n",
    "\n",
    "    # d) Preprocess data for model input\n",
    "    features = ['Book-Author', 'Year-Of-Publication', 'Publisher']\n",
    "    df_books_preprocess = df_books[df_books['ISBN'].isin(df_ratings['ISBN'].unique())].copy()\n",
    "    for feature in features:\n",
    "        if df_books_preprocess[feature].dtype == 'O':\n",
    "            df_books_preprocess[feature] = df_books_preprocess[feature].str.replace('\\W', '', regex=True)\n",
    "            df_books_preprocess[feature] = df_books_preprocess[feature].apply(lambda x: str.lower(x))\n",
    "\n",
    "    count = CountVectorizer(stop_words='english')\n",
    "    count_matrix = count.fit_transform(\n",
    "                        df_books_preprocess['Book-Author'] + ' ' + df_books_preprocess['Year-Of-Publication'].astype(str) + ' ' + df_books_preprocess['Publisher']\n",
    "                    )                                               # Define the CountVectorizer and fit_transform on the combined text\n",
    "    \n",
    "    # Convert count_matrix to dense matrix\n",
    "    count_matrix_dense = count_matrix.toarray()\n",
    "\n",
    "    # Calculate Jaccard similarity matrix based on count_matrix_dense\n",
    "    jaccard_sim = 1 - pairwise_distances(count_matrix_dense, metric='jaccard')\n",
    "\n",
    "    df2 = df_books_preprocess.reset_index()                         # Reset the index of df_books_preprocess\n",
    "    indices = pd.Series(df2.index, index=df2['ISBN'])\n",
    "\n",
    "    # e) Text-similarity Model building: Jaccard Similarity\n",
    "    def recommend_books(ISBN, jaccard_sim):\n",
    "        idx = indices[ISBN]\n",
    "        sim_scores = list(enumerate(jaccard_sim[idx]))               # pairwise similarity scores of all books\n",
    "        sim_scores = sorted(sim_scores, key=lambda x: x[1], reverse=True)\n",
    "        sim_scores = sim_scores[1:11]\n",
    "        book_indices = [i[0] for i in sim_scores]\n",
    "        return df2.iloc[book_indices], sim_scores\n",
    "\n",
    "    ISBN = df_ratings['ISBN'].loc[df_ratings[df_ratings['User-ID'] == userid]['Book-Rating'].idxmax()] # Get ISBN with highest rating\n",
    "    recommendation, sim_score = recommend_books(ISBN, jaccard_sim)\n",
    "    df_recommend = pd.DataFrame(recommendation)                     # Create a DataFrame for recommendations\n",
    "\n",
    "    return df_recommend\n",
    "\n",
    "# Jaccard Model Usage: Call the function with the user ID\n",
    "userid = 8\n",
    "get_recommendations(userid)\n"
   ],
   "metadata": {
    "collapsed": false,
    "ExecuteTime": {
     "end_time": "2024-04-01T05:34:22.684401Z",
     "start_time": "2024-04-01T04:39:05.594163Z"
    }
   },
   "id": "c45ff76e54666aed",
   "execution_count": 1
  },
  {
   "cell_type": "markdown",
   "source": [
    "#### 2.3 Euclidean Distance Similarity"
   ],
   "metadata": {
    "collapsed": false
   },
   "id": "bae776a439f3d7d1"
  },
  {
   "cell_type": "code",
   "outputs": [
    {
     "data": {
      "text/plain": "       index        ISBN                                         Book-Title  \\\n15354  69955  0002255081                                          Spadework   \n6         21  1841721522  New Vegetarian: Bold and Beautiful Recipes for...   \n19        46  0553582747                         From the Corner of His Eye   \n44        91  8445071408  El Senor De Los Anillos: LA Comunidad Del Anil...   \n45        92  8445071769  El Senor De Los Anillos: Las DOS Torres (Lord ...   \n46        93  8445071777  El Senor De Los Anillos: El Retorno Del Rey (T...   \n49        96  0312252617                                         Fast Women   \n50        97  0312261594                                Female Intelligence   \n63       118  0671027360                                Angels &amp; Demons   \n75       136  0671004573                              Before I Say Good-Bye   \n\n            Book-Author  Year-Of-Publication                Publisher  \\\n15354    timothyfindley                 2001     harperflamingocanada   \n6      celiabrooksbrown                 2001  rylandpetersampsmallltd   \n19           deankoontz                 2001              bantambooks   \n44           jrrtolkien                 2001                minotauro   \n45           jrrtolkien                 2001                minotauro   \n46           jrrtolkien                 2001              distribooks   \n49       jennifercrusie                 2001           stmartinspress   \n50           janeheller                 2001           stmartinspress   \n63             danbrown                 2001               pocketstar   \n75     maryhigginsclark                 2001                   pocket   \n\n                                             Image-URL-S  \\\n15354  http://images.amazon.com/images/P/0002255081.0...   \n6      http://images.amazon.com/images/P/1841721522.0...   \n19     http://images.amazon.com/images/P/0553582747.0...   \n44     http://images.amazon.com/images/P/8445071408.0...   \n45     http://images.amazon.com/images/P/8445071769.0...   \n46     http://images.amazon.com/images/P/8445071777.0...   \n49     http://images.amazon.com/images/P/0312252617.0...   \n50     http://images.amazon.com/images/P/0312261594.0...   \n63     http://images.amazon.com/images/P/0671027360.0...   \n75     http://images.amazon.com/images/P/0671004573.0...   \n\n                                             Image-URL-M  \\\n15354  http://images.amazon.com/images/P/0002255081.0...   \n6      http://images.amazon.com/images/P/1841721522.0...   \n19     http://images.amazon.com/images/P/0553582747.0...   \n44     http://images.amazon.com/images/P/8445071408.0...   \n45     http://images.amazon.com/images/P/8445071769.0...   \n46     http://images.amazon.com/images/P/8445071777.0...   \n49     http://images.amazon.com/images/P/0312252617.0...   \n50     http://images.amazon.com/images/P/0312261594.0...   \n63     http://images.amazon.com/images/P/0671027360.0...   \n75     http://images.amazon.com/images/P/0671004573.0...   \n\n                                             Image-URL-L  \n15354  http://images.amazon.com/images/P/0002255081.0...  \n6      http://images.amazon.com/images/P/1841721522.0...  \n19     http://images.amazon.com/images/P/0553582747.0...  \n44     http://images.amazon.com/images/P/8445071408.0...  \n45     http://images.amazon.com/images/P/8445071769.0...  \n46     http://images.amazon.com/images/P/8445071777.0...  \n49     http://images.amazon.com/images/P/0312252617.0...  \n50     http://images.amazon.com/images/P/0312261594.0...  \n63     http://images.amazon.com/images/P/0671027360.0...  \n75     http://images.amazon.com/images/P/0671004573.0...  ",
      "text/html": "<div>\n<style scoped>\n    .dataframe tbody tr th:only-of-type {\n        vertical-align: middle;\n    }\n\n    .dataframe tbody tr th {\n        vertical-align: top;\n    }\n\n    .dataframe thead th {\n        text-align: right;\n    }\n</style>\n<table border=\"1\" class=\"dataframe\">\n  <thead>\n    <tr style=\"text-align: right;\">\n      <th></th>\n      <th>index</th>\n      <th>ISBN</th>\n      <th>Book-Title</th>\n      <th>Book-Author</th>\n      <th>Year-Of-Publication</th>\n      <th>Publisher</th>\n      <th>Image-URL-S</th>\n      <th>Image-URL-M</th>\n      <th>Image-URL-L</th>\n    </tr>\n  </thead>\n  <tbody>\n    <tr>\n      <th>15354</th>\n      <td>69955</td>\n      <td>0002255081</td>\n      <td>Spadework</td>\n      <td>timothyfindley</td>\n      <td>2001</td>\n      <td>harperflamingocanada</td>\n      <td>http://images.amazon.com/images/P/0002255081.0...</td>\n      <td>http://images.amazon.com/images/P/0002255081.0...</td>\n      <td>http://images.amazon.com/images/P/0002255081.0...</td>\n    </tr>\n    <tr>\n      <th>6</th>\n      <td>21</td>\n      <td>1841721522</td>\n      <td>New Vegetarian: Bold and Beautiful Recipes for...</td>\n      <td>celiabrooksbrown</td>\n      <td>2001</td>\n      <td>rylandpetersampsmallltd</td>\n      <td>http://images.amazon.com/images/P/1841721522.0...</td>\n      <td>http://images.amazon.com/images/P/1841721522.0...</td>\n      <td>http://images.amazon.com/images/P/1841721522.0...</td>\n    </tr>\n    <tr>\n      <th>19</th>\n      <td>46</td>\n      <td>0553582747</td>\n      <td>From the Corner of His Eye</td>\n      <td>deankoontz</td>\n      <td>2001</td>\n      <td>bantambooks</td>\n      <td>http://images.amazon.com/images/P/0553582747.0...</td>\n      <td>http://images.amazon.com/images/P/0553582747.0...</td>\n      <td>http://images.amazon.com/images/P/0553582747.0...</td>\n    </tr>\n    <tr>\n      <th>44</th>\n      <td>91</td>\n      <td>8445071408</td>\n      <td>El Senor De Los Anillos: LA Comunidad Del Anil...</td>\n      <td>jrrtolkien</td>\n      <td>2001</td>\n      <td>minotauro</td>\n      <td>http://images.amazon.com/images/P/8445071408.0...</td>\n      <td>http://images.amazon.com/images/P/8445071408.0...</td>\n      <td>http://images.amazon.com/images/P/8445071408.0...</td>\n    </tr>\n    <tr>\n      <th>45</th>\n      <td>92</td>\n      <td>8445071769</td>\n      <td>El Senor De Los Anillos: Las DOS Torres (Lord ...</td>\n      <td>jrrtolkien</td>\n      <td>2001</td>\n      <td>minotauro</td>\n      <td>http://images.amazon.com/images/P/8445071769.0...</td>\n      <td>http://images.amazon.com/images/P/8445071769.0...</td>\n      <td>http://images.amazon.com/images/P/8445071769.0...</td>\n    </tr>\n    <tr>\n      <th>46</th>\n      <td>93</td>\n      <td>8445071777</td>\n      <td>El Senor De Los Anillos: El Retorno Del Rey (T...</td>\n      <td>jrrtolkien</td>\n      <td>2001</td>\n      <td>distribooks</td>\n      <td>http://images.amazon.com/images/P/8445071777.0...</td>\n      <td>http://images.amazon.com/images/P/8445071777.0...</td>\n      <td>http://images.amazon.com/images/P/8445071777.0...</td>\n    </tr>\n    <tr>\n      <th>49</th>\n      <td>96</td>\n      <td>0312252617</td>\n      <td>Fast Women</td>\n      <td>jennifercrusie</td>\n      <td>2001</td>\n      <td>stmartinspress</td>\n      <td>http://images.amazon.com/images/P/0312252617.0...</td>\n      <td>http://images.amazon.com/images/P/0312252617.0...</td>\n      <td>http://images.amazon.com/images/P/0312252617.0...</td>\n    </tr>\n    <tr>\n      <th>50</th>\n      <td>97</td>\n      <td>0312261594</td>\n      <td>Female Intelligence</td>\n      <td>janeheller</td>\n      <td>2001</td>\n      <td>stmartinspress</td>\n      <td>http://images.amazon.com/images/P/0312261594.0...</td>\n      <td>http://images.amazon.com/images/P/0312261594.0...</td>\n      <td>http://images.amazon.com/images/P/0312261594.0...</td>\n    </tr>\n    <tr>\n      <th>63</th>\n      <td>118</td>\n      <td>0671027360</td>\n      <td>Angels &amp;amp; Demons</td>\n      <td>danbrown</td>\n      <td>2001</td>\n      <td>pocketstar</td>\n      <td>http://images.amazon.com/images/P/0671027360.0...</td>\n      <td>http://images.amazon.com/images/P/0671027360.0...</td>\n      <td>http://images.amazon.com/images/P/0671027360.0...</td>\n    </tr>\n    <tr>\n      <th>75</th>\n      <td>136</td>\n      <td>0671004573</td>\n      <td>Before I Say Good-Bye</td>\n      <td>maryhigginsclark</td>\n      <td>2001</td>\n      <td>pocket</td>\n      <td>http://images.amazon.com/images/P/0671004573.0...</td>\n      <td>http://images.amazon.com/images/P/0671004573.0...</td>\n      <td>http://images.amazon.com/images/P/0671004573.0...</td>\n    </tr>\n  </tbody>\n</table>\n</div>"
     },
     "execution_count": 2,
     "metadata": {},
     "output_type": "execute_result"
    }
   ],
   "source": [
    "import pandas as pd\n",
    "from sklearn.feature_extraction.text import CountVectorizer\n",
    "from sklearn.metrics.pairwise import euclidean_distances\n",
    "import warnings\n",
    "warnings.filterwarnings('ignore')\n",
    "\n",
    "def get_recommendations(userid):\n",
    "    # a) load data\n",
    "    df_books = pd.read_csv('csv/Books.csv')\n",
    "    df_ratings = pd.read_csv('csv/Ratings.csv')\n",
    "\n",
    "    # b) Data cleaning step 1: Fix format issue in year of publication(df_books) and convert to int data type\n",
    "    authors = []\n",
    "    books_titles = []\n",
    "    temp = df_books[(df_books['Year-Of-Publication'] == 'DK Publishing Inc') | (df_books['Year-Of-Publication'] == 'Gallimard')]\n",
    "    error_indexes = pd.Series(list(temp.index))\n",
    "\n",
    "    for title in temp['Book-Title']:\n",
    "        author = title.split(';')[-1].split('\"')[0]\n",
    "        book = title.split(';')[0].split('\\\\')[0]\n",
    "        authors.append(author)\n",
    "        books_titles.append(book)\n",
    "    temp = pd.concat([temp['ISBN'].to_frame(), temp[df_books.columns[1:]].shift(periods=1, axis=1)], axis=1)\n",
    "    temp['Book-Title'] = books_titles\n",
    "    temp['Book-Author'] = authors\n",
    "    df_books.drop(error_indexes, axis=0, inplace=True)\n",
    "\n",
    "    for i in error_indexes:\n",
    "        error_indexes.loc[i] = list(temp.loc[i].values)\n",
    "    df_books['Year-Of-Publication'] = df_books['Year-Of-Publication'].astype(int)\n",
    "\n",
    "    # c) Data Cleaning step 2 : Only keep credible users\n",
    "    f = ['count', 'mean']\n",
    "    df_books_summary = df_ratings.groupby('ISBN')['Book-Rating'].agg(f)\n",
    "    df_books_summary.index = df_books_summary.index.map(str)\n",
    "    drop_book_list = df_books_summary[df_books_summary['count'] < 10].index\n",
    "\n",
    "    df_users_summary = df_ratings.groupby('User-ID')['Book-Rating'].agg(f)\n",
    "    df_users_summary.index = df_users_summary.index.map(int)\n",
    "    drop_users_list = df_users_summary[df_users_summary['count'] < 10].index\n",
    "\n",
    "    df_ratings = df_ratings[~df_ratings['ISBN'].isin(drop_book_list)]\n",
    "    df_ratings = df_ratings[~df_ratings['User-ID'].isin(drop_users_list)]\n",
    "\n",
    "    # d) Preprocess data for model input\n",
    "    features = ['Book-Author', 'Year-Of-Publication', 'Publisher']\n",
    "    df_books_preprocess = df_books[df_books['ISBN'].isin(df_ratings['ISBN'].unique())].copy()\n",
    "    for feature in features:\n",
    "        if df_books_preprocess[feature].dtype == 'O':\n",
    "            df_books_preprocess[feature] = df_books_preprocess[feature].str.replace('\\W', '', regex=True)\n",
    "            df_books_preprocess[feature] = df_books_preprocess[feature].apply(lambda x: str.lower(x))\n",
    "\n",
    "    count = CountVectorizer(stop_words='english')\n",
    "    count_matrix = count.fit_transform(\n",
    "                        df_books_preprocess['Book-Author'] + ' ' + df_books_preprocess['Year-Of-Publication'].astype(str) + ' ' + df_books_preprocess['Publisher']\n",
    "                    )                                               # Define the CountVectorizer and fit_transform on the combined text\n",
    "    euclidean_dist = euclidean_distances(count_matrix, count_matrix)  # Calculate Euclidean distance matrix based on count_matrix\n",
    "    df2 = df_books_preprocess.reset_index()                         # Reset the index of df_books_preprocess\n",
    "    indices = pd.Series(df2.index, index=df2['ISBN'])\n",
    "\n",
    "    # e) Text-similarity Model building: Euclidean Distance\n",
    "    def recommend_books(ISBN, euclidean_dist):\n",
    "        idx = indices[ISBN]\n",
    "        dist_scores = list(enumerate(euclidean_dist[idx]))               # pairwise distance scores of all books\n",
    "        dist_scores = sorted(dist_scores, key=lambda x: x[1])\n",
    "        dist_scores = dist_scores[1:11]\n",
    "        book_indices = [i[0] for i in dist_scores]\n",
    "        return df2.iloc[book_indices], dist_scores\n",
    "\n",
    "    ISBN = df_ratings['ISBN'].loc[df_ratings[df_ratings['User-ID'] == userid]['Book-Rating'].idxmax()] # Get ISBN with highest rating\n",
    "    recommendation, dist_score = recommend_books(ISBN, euclidean_dist)\n",
    "    df_recommend = pd.DataFrame(recommendation)                     # Create a DataFrame for recommendations\n",
    "\n",
    "    return df_recommend\n",
    "\n",
    "# Euclidean Model Usage: Call the function with the user ID\n",
    "userid = 8\n",
    "get_recommendations(userid)"
   ],
   "metadata": {
    "collapsed": false,
    "ExecuteTime": {
     "end_time": "2024-04-01T05:49:23.145422Z",
     "start_time": "2024-04-01T05:49:12.248442Z"
    }
   },
   "id": "a630b6a1e9e82c1c",
   "execution_count": 2
  },
  {
   "cell_type": "markdown",
   "source": [
    "# 3. Model Evaluation"
   ],
   "metadata": {
    "collapsed": false
   },
   "id": "1a89ca4af728497c"
  },
  {
   "cell_type": "code",
   "outputs": [],
   "source": [
    "from sklearn.model_selection import train_test_split\n",
    "\n",
    "# Split data into train and test sets\n",
    "train_ratings, test_ratings = train_test_split(df_ratings, test_size=0.2, random_state=42)\n",
    "train_users = train_ratings['User-ID'].unique()\n",
    "test_users = test_ratings['User-ID'].unique()\n",
    "\n",
    "# Preprocess data for model input\n",
    "features = ['Book-Author', 'Year-Of-Publication', 'Publisher']\n",
    "train_books = df_books[df_books['ISBN'].isin(train_ratings['ISBN'].unique())].copy()\n",
    "for feature in features:\n",
    "    if train_books[feature].dtype == 'O':\n",
    "        train_books[feature] = train_books[feature].str.replace('\\W', '', regex=True)\n",
    "        train_books[feature] = train_books[feature].apply(lambda x: str.lower(x))\n",
    "\n",
    "train_books['soup'] = train_books['Book-Author'] + ' ' + train_books['Year-Of-Publication'].astype(str) + ' ' + train_books['Publisher']\n",
    "\n",
    "# Calculate similarity matrices for train data\n",
    "from sklearn.feature_extraction.text import CountVectorizer\n",
    "from sklearn.metrics.pairwise import cosine_similarity, euclidean_distances\n",
    "from sklearn.metrics import pairwise_distances\n",
    "\n",
    "count = CountVectorizer(stop_words='english')\n",
    "count_matrix = count.fit_transform(train_books['soup'])\n",
    "\n",
    "# Cosine similarity\n",
    "cosine_sim = cosine_similarity(count_matrix, count_matrix)\n",
    "\n",
    "# Jaccard similarity\n",
    "count_matrix_dense = count_matrix.toarray()\n",
    "jaccard_sim = 1 - pairwise_distances(count_matrix_dense, metric='jaccard')\n",
    "\n",
    "# Euclidean distance\n",
    "euclidean_dist = euclidean_distances(count_matrix, count_matrix)"
   ],
   "metadata": {
    "collapsed": false,
    "ExecuteTime": {
     "end_time": "2024-05-06T19:19:27.501878Z",
     "start_time": "2024-05-06T18:34:22.216865Z"
    }
   },
   "id": "7ae35036d448c435",
   "execution_count": 21
  },
  {
   "cell_type": "code",
   "outputs": [],
   "source": [
    "def get_recommendations(df_books, df_ratings, similarity_matrix, test_users):\n",
    "    recommendations = {}\n",
    "\n",
    "    df_books_preprocess = df_books[df_books['ISBN'].isin(df_ratings['ISBN'].unique())]\n",
    "    df_books_preprocess = df_books_preprocess.reset_index(drop=True)\n",
    "    indices = pd.Series(df_books_preprocess.index, index=df_books_preprocess['ISBN'])\n",
    "\n",
    "    def recommend_books(ISBN, similarity_matrix):\n",
    "        if ISBN in indices.index:\n",
    "            idx = indices[ISBN]\n",
    "            sim_scores = list(enumerate(similarity_matrix[:, idx]))\n",
    "            sim_scores = sorted(sim_scores, key=lambda x: x[1], reverse=True)\n",
    "            sim_scores = sim_scores[1:11]  # Get the top 10 most similar books\n",
    "            book_indices = [i[0] for i in sim_scores]\n",
    "            return df_books_preprocess.iloc[book_indices]['ISBN'].tolist(), [score[1] for score in sim_scores]\n",
    "        else:\n",
    "            return [], []  # Return empty lists if ISBN is not found\n",
    "\n",
    "    for user_id in test_users:\n",
    "        user_ratings = df_ratings[df_ratings['User-ID'] == user_id]\n",
    "        max_rating_idx = user_ratings['Book-Rating'].idxmax()\n",
    "        ISBN = user_ratings.loc[max_rating_idx, 'ISBN']\n",
    "        recommendation, _ = recommend_books(ISBN, similarity_matrix)\n",
    "        recommendations[user_id] = recommendation\n",
    "\n",
    "    return recommendations"
   ],
   "metadata": {
    "collapsed": false,
    "ExecuteTime": {
     "end_time": "2024-05-06T19:19:27.540853Z",
     "start_time": "2024-05-06T19:19:27.514434Z"
    }
   },
   "id": "e8a307c668a7e57",
   "execution_count": 22
  },
  {
   "cell_type": "code",
   "outputs": [],
   "source": [
    "import pandas as pd\n",
    "import numpy as np\n",
    "from sklearn.metrics import precision_score, recall_score, f1_score\n",
    "\n",
    "# Generate recommendations for test set users using each model\n",
    "cosine_recommendations = get_recommendations(df_books, df_ratings, cosine_sim, test_users)\n",
    "jaccard_recommendations = get_recommendations(df_books, df_ratings, jaccard_sim, test_users)\n",
    "euclidean_recommendations = get_recommendations(df_books, df_ratings, euclidean_dist, test_users)\n",
    "\n",
    "from sklearn.preprocessing import MultiLabelBinarizer\n",
    "\n",
    "# Evaluate each model\n",
    "cosine_precision, cosine_recall, cosine_f1 = [], [], []\n",
    "jaccard_precision, jaccard_recall, jaccard_f1 = [], [], []\n",
    "euclidean_precision, euclidean_recall, euclidean_f1 = [], [], []\n",
    "\n",
    "for user_id in test_users:\n",
    "    # Get true relevant books for the user\n",
    "    true_relevant_books = df_ratings.loc[df_ratings['User-ID'] == user_id, 'ISBN'].values\n",
    "\n",
    "    # Get recommended books from each model\n",
    "    cosine_recs = cosine_recommendations[user_id]\n",
    "    jaccard_recs = jaccard_recommendations[user_id]\n",
    "    euclidean_recs = euclidean_recommendations[user_id]\n",
    "\n",
    "    # Convert to binary format\n",
    "    mlb = MultiLabelBinarizer()\n",
    "    true_relevant_books_binary = mlb.fit_transform([true_relevant_books])\n",
    "    cosine_recs_binary = mlb.transform([cosine_recs])\n",
    "    jaccard_recs_binary = mlb.transform([jaccard_recs])\n",
    "    euclidean_recs_binary = mlb.transform([euclidean_recs])\n",
    "\n",
    "    # Calculate precision, recall, and F1-score for each model\n",
    "    cosine_precision.append(precision_score(true_relevant_books_binary, cosine_recs_binary, average='macro'))\n",
    "    cosine_recall.append(recall_score(true_relevant_books_binary, cosine_recs_binary, average='macro'))\n",
    "    cosine_f1.append(f1_score(true_relevant_books_binary, cosine_recs_binary, average='macro'))\n",
    "\n",
    "    jaccard_precision.append(precision_score(true_relevant_books_binary, jaccard_recs_binary, average='macro'))\n",
    "    jaccard_recall.append(recall_score(true_relevant_books_binary, jaccard_recs_binary, average='macro'))\n",
    "    jaccard_f1.append(f1_score(true_relevant_books_binary, jaccard_recs_binary, average='macro'))\n",
    "\n",
    "    euclidean_precision.append(precision_score(true_relevant_books_binary, euclidean_recs_binary, average='macro'))\n",
    "    euclidean_recall.append(recall_score(true_relevant_books_binary, euclidean_recs_binary, average='macro'))\n",
    "    euclidean_f1.append(f1_score(true_relevant_books_binary, euclidean_recs_binary, average='macro'))"
   ],
   "metadata": {
    "collapsed": false,
    "ExecuteTime": {
     "end_time": "2024-05-06T19:29:42.738692Z",
     "start_time": "2024-05-06T19:19:27.544856Z"
    }
   },
   "id": "686daf91a075fca9",
   "execution_count": 23
  },
  {
   "cell_type": "code",
   "outputs": [
    {
     "name": "stdout",
     "output_type": "stream",
     "text": [
      "Cosine Similarity Model:\n",
      "  Precision: 0.42262, Recall: 0.42262, F1-score: 0.42262\n",
      "\n",
      "Jaccard Similarity Model:\n",
      "  Precision: 0.42225, Recall: 0.42225, F1-score: 0.42225\n",
      "\n",
      "Euclidean Distance Model:\n",
      "  Precision: 0.20989, Recall: 0.20989, F1-score: 0.20989\n"
     ]
    }
   ],
   "source": [
    "# Print results\n",
    "print('Cosine Similarity Model:')\n",
    "print(f'  Precision: {np.mean(cosine_precision):.5f}, Recall: {np.mean(cosine_recall):.5f}, F1-score: {np.mean(cosine_f1):.5f}')\n",
    "\n",
    "print('\\nJaccard Similarity Model:')\n",
    "print(f'  Precision: {np.mean(jaccard_precision):.5f}, Recall: {np.mean(jaccard_recall):.5f}, F1-score: {np.mean(jaccard_f1):.5f}')\n",
    "\n",
    "print('\\nEuclidean Distance Model:')\n",
    "print(f'  Precision: {np.mean(euclidean_precision):.5f}, Recall: {np.mean(euclidean_recall):.5f}, F1-score: {np.mean(euclidean_f1):.5f}')"
   ],
   "metadata": {
    "collapsed": false,
    "ExecuteTime": {
     "end_time": "2024-05-07T01:58:40.877307Z",
     "start_time": "2024-05-07T01:58:40.854921Z"
    }
   },
   "id": "54aaf6bcef8521b",
   "execution_count": 27
  }
 ],
 "metadata": {
  "kernelspec": {
   "display_name": "Python 3",
   "language": "python",
   "name": "python3"
  },
  "language_info": {
   "codemirror_mode": {
    "name": "ipython",
    "version": 2
   },
   "file_extension": ".py",
   "mimetype": "text/x-python",
   "name": "python",
   "nbconvert_exporter": "python",
   "pygments_lexer": "ipython2",
   "version": "2.7.6"
  }
 },
 "nbformat": 4,
 "nbformat_minor": 5
}
