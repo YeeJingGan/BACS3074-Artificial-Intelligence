{
 "cells": [
  {
   "cell_type": "markdown",
   "source": [
    "# 1.0 Importing Libraries"
   ],
   "metadata": {
    "collapsed": false
   },
   "id": "bf759525fde23e39"
  },
  {
   "cell_type": "code",
   "outputs": [],
   "source": [
    "import pandas as pd\n",
    "import numpy as np\n",
    "import warnings\n",
    "import json\n",
    "import matplotlib.pyplot as plt\n",
    "from sklearn.preprocessing import StandardScaler\n",
    "from scipy.sparse.linalg import svds\n",
    "from scipy.sparse import csr_matrix\n",
    "from sklearn.feature_extraction.text import TfidfVectorizer\n",
    "from sklearn.model_selection import train_test_split\n",
    "from tensorflow.keras import Sequential\n",
    "from tensorflow.keras.layers import Dense, Input\n",
    "import keras\n",
    "from scipy.spatial.distance import cosine\n",
    "from math import sqrt\n",
    "from sklearn.metrics import mean_squared_error\n",
    "import pickle\n",
    "\n",
    "warnings.filterwarnings(\"ignore\")"
   ],
   "metadata": {
    "collapsed": false,
    "ExecuteTime": {
     "end_time": "2024-05-05T15:52:20.381708Z",
     "start_time": "2024-05-05T15:52:10.837504Z"
    }
   },
   "id": "550299285df8e938",
   "execution_count": 1
  },
  {
   "cell_type": "markdown",
   "source": [
    "## 1.1 Reading Data from CSVs"
   ],
   "metadata": {
    "collapsed": false
   },
   "id": "81a848f1b92890f6"
  },
  {
   "cell_type": "code",
   "outputs": [],
   "source": [
    "df_books = pd.read_csv(r'C:\\Users\\hp\\Downloads\\ai_assignment\\csvs\\Books.csv')\n",
    "df_users = pd.read_csv(r'C:\\Users\\hp\\Downloads\\ai_assignment\\csvs\\Users.csv')\n",
    "df_ratings = pd.read_csv(r'C:\\Users\\hp\\Downloads\\ai_assignment\\csvs\\Ratings.csv')"
   ],
   "metadata": {
    "collapsed": false,
    "ExecuteTime": {
     "end_time": "2024-05-05T15:52:28.723216Z",
     "start_time": "2024-05-05T15:52:26.473861Z"
    }
   },
   "id": "e1cca21f9af30b9b",
   "execution_count": 2
  },
  {
   "cell_type": "markdown",
   "source": [
    "# 2.0 Exploratory Data Analysis (EDA)\n",
    "## 2.1 EDA for books\n",
    "### 2.1.1 Basic Exploration of df_books\n",
    "What is inside df_books"
   ],
   "metadata": {
    "collapsed": false
   },
   "id": "2352bce276143ba7"
  },
  {
   "cell_type": "code",
   "outputs": [
    {
     "data": {
      "text/plain": "              ISBN                                         Book-Title  \\\n0       0195153448                                Classical Mythology   \n1       0002005018                                       Clara Callan   \n2       0060973129                               Decision in Normandy   \n3       0374157065  Flu: The Story of the Great Influenza Pandemic...   \n4       0393045218                             The Mummies of Urumchi   \n...            ...                                                ...   \n271355  0440400988                         There's a Bat in Bunk Five   \n271356  0525447644                            From One to One Hundred   \n271357  006008667X  Lily Dale : The True Story of the Town that Ta...   \n271358  0192126040                        Republic (World's Classics)   \n271359  0767409752  A Guided Tour of Rene Descartes' Meditations o...   \n\n                 Book-Author Year-Of-Publication  \\\n0         Mark P. O. Morford                2002   \n1       Richard Bruce Wright                2001   \n2               Carlo D'Este                1991   \n3           Gina Bari Kolata                1999   \n4            E. J. W. Barber                1999   \n...                      ...                 ...   \n271355        Paula Danziger                1988   \n271356            Teri Sloat                1991   \n271357      Christine Wicker                2004   \n271358                 Plato                1996   \n271359   Christopher  Biffle                2000   \n\n                                               Publisher  \\\n0                                Oxford University Press   \n1                                  HarperFlamingo Canada   \n2                                        HarperPerennial   \n3                                   Farrar Straus Giroux   \n4                             W. W. Norton &amp; Company   \n...                                                  ...   \n271355                   Random House Childrens Pub (Mm)   \n271356                                      Dutton Books   \n271357                                HarperSanFrancisco   \n271358                           Oxford University Press   \n271359  McGraw-Hill Humanities/Social Sciences/Languages   \n\n                                              Image-URL-S  \\\n0       http://images.amazon.com/images/P/0195153448.0...   \n1       http://images.amazon.com/images/P/0002005018.0...   \n2       http://images.amazon.com/images/P/0060973129.0...   \n3       http://images.amazon.com/images/P/0374157065.0...   \n4       http://images.amazon.com/images/P/0393045218.0...   \n...                                                   ...   \n271355  http://images.amazon.com/images/P/0440400988.0...   \n271356  http://images.amazon.com/images/P/0525447644.0...   \n271357  http://images.amazon.com/images/P/006008667X.0...   \n271358  http://images.amazon.com/images/P/0192126040.0...   \n271359  http://images.amazon.com/images/P/0767409752.0...   \n\n                                              Image-URL-M  \\\n0       http://images.amazon.com/images/P/0195153448.0...   \n1       http://images.amazon.com/images/P/0002005018.0...   \n2       http://images.amazon.com/images/P/0060973129.0...   \n3       http://images.amazon.com/images/P/0374157065.0...   \n4       http://images.amazon.com/images/P/0393045218.0...   \n...                                                   ...   \n271355  http://images.amazon.com/images/P/0440400988.0...   \n271356  http://images.amazon.com/images/P/0525447644.0...   \n271357  http://images.amazon.com/images/P/006008667X.0...   \n271358  http://images.amazon.com/images/P/0192126040.0...   \n271359  http://images.amazon.com/images/P/0767409752.0...   \n\n                                              Image-URL-L  \n0       http://images.amazon.com/images/P/0195153448.0...  \n1       http://images.amazon.com/images/P/0002005018.0...  \n2       http://images.amazon.com/images/P/0060973129.0...  \n3       http://images.amazon.com/images/P/0374157065.0...  \n4       http://images.amazon.com/images/P/0393045218.0...  \n...                                                   ...  \n271355  http://images.amazon.com/images/P/0440400988.0...  \n271356  http://images.amazon.com/images/P/0525447644.0...  \n271357  http://images.amazon.com/images/P/006008667X.0...  \n271358  http://images.amazon.com/images/P/0192126040.0...  \n271359  http://images.amazon.com/images/P/0767409752.0...  \n\n[271360 rows x 8 columns]",
      "text/html": "<div>\n<style scoped>\n    .dataframe tbody tr th:only-of-type {\n        vertical-align: middle;\n    }\n\n    .dataframe tbody tr th {\n        vertical-align: top;\n    }\n\n    .dataframe thead th {\n        text-align: right;\n    }\n</style>\n<table border=\"1\" class=\"dataframe\">\n  <thead>\n    <tr style=\"text-align: right;\">\n      <th></th>\n      <th>ISBN</th>\n      <th>Book-Title</th>\n      <th>Book-Author</th>\n      <th>Year-Of-Publication</th>\n      <th>Publisher</th>\n      <th>Image-URL-S</th>\n      <th>Image-URL-M</th>\n      <th>Image-URL-L</th>\n    </tr>\n  </thead>\n  <tbody>\n    <tr>\n      <th>0</th>\n      <td>0195153448</td>\n      <td>Classical Mythology</td>\n      <td>Mark P. O. Morford</td>\n      <td>2002</td>\n      <td>Oxford University Press</td>\n      <td>http://images.amazon.com/images/P/0195153448.0...</td>\n      <td>http://images.amazon.com/images/P/0195153448.0...</td>\n      <td>http://images.amazon.com/images/P/0195153448.0...</td>\n    </tr>\n    <tr>\n      <th>1</th>\n      <td>0002005018</td>\n      <td>Clara Callan</td>\n      <td>Richard Bruce Wright</td>\n      <td>2001</td>\n      <td>HarperFlamingo Canada</td>\n      <td>http://images.amazon.com/images/P/0002005018.0...</td>\n      <td>http://images.amazon.com/images/P/0002005018.0...</td>\n      <td>http://images.amazon.com/images/P/0002005018.0...</td>\n    </tr>\n    <tr>\n      <th>2</th>\n      <td>0060973129</td>\n      <td>Decision in Normandy</td>\n      <td>Carlo D'Este</td>\n      <td>1991</td>\n      <td>HarperPerennial</td>\n      <td>http://images.amazon.com/images/P/0060973129.0...</td>\n      <td>http://images.amazon.com/images/P/0060973129.0...</td>\n      <td>http://images.amazon.com/images/P/0060973129.0...</td>\n    </tr>\n    <tr>\n      <th>3</th>\n      <td>0374157065</td>\n      <td>Flu: The Story of the Great Influenza Pandemic...</td>\n      <td>Gina Bari Kolata</td>\n      <td>1999</td>\n      <td>Farrar Straus Giroux</td>\n      <td>http://images.amazon.com/images/P/0374157065.0...</td>\n      <td>http://images.amazon.com/images/P/0374157065.0...</td>\n      <td>http://images.amazon.com/images/P/0374157065.0...</td>\n    </tr>\n    <tr>\n      <th>4</th>\n      <td>0393045218</td>\n      <td>The Mummies of Urumchi</td>\n      <td>E. J. W. Barber</td>\n      <td>1999</td>\n      <td>W. W. Norton &amp;amp; Company</td>\n      <td>http://images.amazon.com/images/P/0393045218.0...</td>\n      <td>http://images.amazon.com/images/P/0393045218.0...</td>\n      <td>http://images.amazon.com/images/P/0393045218.0...</td>\n    </tr>\n    <tr>\n      <th>...</th>\n      <td>...</td>\n      <td>...</td>\n      <td>...</td>\n      <td>...</td>\n      <td>...</td>\n      <td>...</td>\n      <td>...</td>\n      <td>...</td>\n    </tr>\n    <tr>\n      <th>271355</th>\n      <td>0440400988</td>\n      <td>There's a Bat in Bunk Five</td>\n      <td>Paula Danziger</td>\n      <td>1988</td>\n      <td>Random House Childrens Pub (Mm)</td>\n      <td>http://images.amazon.com/images/P/0440400988.0...</td>\n      <td>http://images.amazon.com/images/P/0440400988.0...</td>\n      <td>http://images.amazon.com/images/P/0440400988.0...</td>\n    </tr>\n    <tr>\n      <th>271356</th>\n      <td>0525447644</td>\n      <td>From One to One Hundred</td>\n      <td>Teri Sloat</td>\n      <td>1991</td>\n      <td>Dutton Books</td>\n      <td>http://images.amazon.com/images/P/0525447644.0...</td>\n      <td>http://images.amazon.com/images/P/0525447644.0...</td>\n      <td>http://images.amazon.com/images/P/0525447644.0...</td>\n    </tr>\n    <tr>\n      <th>271357</th>\n      <td>006008667X</td>\n      <td>Lily Dale : The True Story of the Town that Ta...</td>\n      <td>Christine Wicker</td>\n      <td>2004</td>\n      <td>HarperSanFrancisco</td>\n      <td>http://images.amazon.com/images/P/006008667X.0...</td>\n      <td>http://images.amazon.com/images/P/006008667X.0...</td>\n      <td>http://images.amazon.com/images/P/006008667X.0...</td>\n    </tr>\n    <tr>\n      <th>271358</th>\n      <td>0192126040</td>\n      <td>Republic (World's Classics)</td>\n      <td>Plato</td>\n      <td>1996</td>\n      <td>Oxford University Press</td>\n      <td>http://images.amazon.com/images/P/0192126040.0...</td>\n      <td>http://images.amazon.com/images/P/0192126040.0...</td>\n      <td>http://images.amazon.com/images/P/0192126040.0...</td>\n    </tr>\n    <tr>\n      <th>271359</th>\n      <td>0767409752</td>\n      <td>A Guided Tour of Rene Descartes' Meditations o...</td>\n      <td>Christopher  Biffle</td>\n      <td>2000</td>\n      <td>McGraw-Hill Humanities/Social Sciences/Languages</td>\n      <td>http://images.amazon.com/images/P/0767409752.0...</td>\n      <td>http://images.amazon.com/images/P/0767409752.0...</td>\n      <td>http://images.amazon.com/images/P/0767409752.0...</td>\n    </tr>\n  </tbody>\n</table>\n<p>271360 rows × 8 columns</p>\n</div>"
     },
     "execution_count": 3,
     "metadata": {},
     "output_type": "execute_result"
    }
   ],
   "source": [
    "df_books"
   ],
   "metadata": {
    "collapsed": false,
    "ExecuteTime": {
     "end_time": "2024-05-05T15:52:30.115107Z",
     "start_time": "2024-05-05T15:52:30.095045Z"
    }
   },
   "id": "574f5dcd8ebc385b",
   "execution_count": 3
  },
  {
   "cell_type": "markdown",
   "source": [
    "Information about df_books "
   ],
   "metadata": {
    "collapsed": false
   },
   "id": "7e3e1e697ce5d9ba"
  },
  {
   "cell_type": "code",
   "outputs": [
    {
     "name": "stdout",
     "output_type": "stream",
     "text": [
      "<class 'pandas.core.frame.DataFrame'>\n",
      "RangeIndex: 271360 entries, 0 to 271359\n",
      "Data columns (total 8 columns):\n",
      " #   Column               Non-Null Count   Dtype \n",
      "---  ------               --------------   ----- \n",
      " 0   ISBN                 271360 non-null  object\n",
      " 1   Book-Title           271360 non-null  object\n",
      " 2   Book-Author          271358 non-null  object\n",
      " 3   Year-Of-Publication  271360 non-null  object\n",
      " 4   Publisher            271358 non-null  object\n",
      " 5   Image-URL-S          271360 non-null  object\n",
      " 6   Image-URL-M          271360 non-null  object\n",
      " 7   Image-URL-L          271357 non-null  object\n",
      "dtypes: object(8)\n",
      "memory usage: 16.6+ MB\n"
     ]
    }
   ],
   "source": [
    "df_books.info()"
   ],
   "metadata": {
    "collapsed": false,
    "ExecuteTime": {
     "end_time": "2024-05-05T15:52:35.047856Z",
     "start_time": "2024-05-05T15:52:34.980636Z"
    }
   },
   "id": "167c2b0808e35ef3",
   "execution_count": 4
  },
  {
   "cell_type": "markdown",
   "source": [
    "Image for books are not required, hence dropped\n",
    "Found out that Year-Of-Publication is Object (\"String\") instead of int64, due to errors in the csv where some data in the entries are shifted to the left by one column\n"
   ],
   "metadata": {
    "collapsed": false
   },
   "id": "5adbd31ceff8be73"
  },
  {
   "cell_type": "code",
   "outputs": [
    {
     "name": "stdout",
     "output_type": "stream",
     "text": [
      "<class 'pandas.core.frame.DataFrame'>\n",
      "RangeIndex: 271360 entries, 0 to 271359\n",
      "Data columns (total 5 columns):\n",
      " #   Column               Non-Null Count   Dtype \n",
      "---  ------               --------------   ----- \n",
      " 0   ISBN                 271360 non-null  object\n",
      " 1   Book-Title           271360 non-null  object\n",
      " 2   Book-Author          271358 non-null  object\n",
      " 3   Year-Of-Publication  271360 non-null  int64 \n",
      " 4   Publisher            271358 non-null  object\n",
      "dtypes: int64(1), object(4)\n",
      "memory usage: 10.4+ MB\n"
     ]
    }
   ],
   "source": [
    "df_books.drop(columns=['Image-URL-S', 'Image-URL-M', 'Image-URL-L'], inplace=True)\n",
    "df_books.loc[pd.to_numeric(df_books['Year-Of-Publication'], errors='coerce').isna(), 'Year-Of-Publication'] = 0\n",
    "\n",
    "df_books['Year-Of-Publication'] = df_books['Year-Of-Publication'].astype('int64')\n",
    "df_books.info()"
   ],
   "metadata": {
    "collapsed": false,
    "ExecuteTime": {
     "end_time": "2024-05-05T15:52:37.719346Z",
     "start_time": "2024-05-05T15:52:37.555642Z"
    }
   },
   "id": "c5642dce1ffdcac1",
   "execution_count": 5
  },
  {
   "cell_type": "markdown",
   "source": [
    "### 2.1.2 Cleaning of df_books\n",
    "Showing statistical description of df_books"
   ],
   "metadata": {
    "collapsed": false
   },
   "id": "e4fe31f9627d2f75"
  },
  {
   "cell_type": "code",
   "outputs": [
    {
     "data": {
      "text/plain": "              ISBN      Book-Title      Book-Author  Year-Of-Publication  \\\ncount       271360          271360           271358        271360.000000   \nunique      271360          242135           102022                  NaN   \ntop     0195153448  Selected Poems  Agatha Christie                  NaN   \nfreq             1              27              632                  NaN   \nmean           NaN             NaN              NaN          1959.739151   \nstd            NaN             NaN              NaN           258.075075   \nmin            NaN             NaN              NaN             0.000000   \n25%            NaN             NaN              NaN          1989.000000   \n50%            NaN             NaN              NaN          1995.000000   \n75%            NaN             NaN              NaN          2000.000000   \nmax            NaN             NaN              NaN          2050.000000   \n\n        Publisher  \ncount      271358  \nunique      16807  \ntop     Harlequin  \nfreq         7535  \nmean          NaN  \nstd           NaN  \nmin           NaN  \n25%           NaN  \n50%           NaN  \n75%           NaN  \nmax           NaN  ",
      "text/html": "<div>\n<style scoped>\n    .dataframe tbody tr th:only-of-type {\n        vertical-align: middle;\n    }\n\n    .dataframe tbody tr th {\n        vertical-align: top;\n    }\n\n    .dataframe thead th {\n        text-align: right;\n    }\n</style>\n<table border=\"1\" class=\"dataframe\">\n  <thead>\n    <tr style=\"text-align: right;\">\n      <th></th>\n      <th>ISBN</th>\n      <th>Book-Title</th>\n      <th>Book-Author</th>\n      <th>Year-Of-Publication</th>\n      <th>Publisher</th>\n    </tr>\n  </thead>\n  <tbody>\n    <tr>\n      <th>count</th>\n      <td>271360</td>\n      <td>271360</td>\n      <td>271358</td>\n      <td>271360.000000</td>\n      <td>271358</td>\n    </tr>\n    <tr>\n      <th>unique</th>\n      <td>271360</td>\n      <td>242135</td>\n      <td>102022</td>\n      <td>NaN</td>\n      <td>16807</td>\n    </tr>\n    <tr>\n      <th>top</th>\n      <td>0195153448</td>\n      <td>Selected Poems</td>\n      <td>Agatha Christie</td>\n      <td>NaN</td>\n      <td>Harlequin</td>\n    </tr>\n    <tr>\n      <th>freq</th>\n      <td>1</td>\n      <td>27</td>\n      <td>632</td>\n      <td>NaN</td>\n      <td>7535</td>\n    </tr>\n    <tr>\n      <th>mean</th>\n      <td>NaN</td>\n      <td>NaN</td>\n      <td>NaN</td>\n      <td>1959.739151</td>\n      <td>NaN</td>\n    </tr>\n    <tr>\n      <th>std</th>\n      <td>NaN</td>\n      <td>NaN</td>\n      <td>NaN</td>\n      <td>258.075075</td>\n      <td>NaN</td>\n    </tr>\n    <tr>\n      <th>min</th>\n      <td>NaN</td>\n      <td>NaN</td>\n      <td>NaN</td>\n      <td>0.000000</td>\n      <td>NaN</td>\n    </tr>\n    <tr>\n      <th>25%</th>\n      <td>NaN</td>\n      <td>NaN</td>\n      <td>NaN</td>\n      <td>1989.000000</td>\n      <td>NaN</td>\n    </tr>\n    <tr>\n      <th>50%</th>\n      <td>NaN</td>\n      <td>NaN</td>\n      <td>NaN</td>\n      <td>1995.000000</td>\n      <td>NaN</td>\n    </tr>\n    <tr>\n      <th>75%</th>\n      <td>NaN</td>\n      <td>NaN</td>\n      <td>NaN</td>\n      <td>2000.000000</td>\n      <td>NaN</td>\n    </tr>\n    <tr>\n      <th>max</th>\n      <td>NaN</td>\n      <td>NaN</td>\n      <td>NaN</td>\n      <td>2050.000000</td>\n      <td>NaN</td>\n    </tr>\n  </tbody>\n</table>\n</div>"
     },
     "execution_count": 6,
     "metadata": {},
     "output_type": "execute_result"
    }
   ],
   "source": [
    "df_books.describe(include='all')"
   ],
   "metadata": {
    "collapsed": false,
    "ExecuteTime": {
     "end_time": "2024-05-05T15:52:50.066291Z",
     "start_time": "2024-05-05T15:52:49.055711Z"
    }
   },
   "id": "b06f9f67306f7e9f",
   "execution_count": 6
  },
  {
   "cell_type": "markdown",
   "source": [
    "Showing if there is any missing values"
   ],
   "metadata": {
    "collapsed": false
   },
   "id": "2d20f47abd43a916"
  },
  {
   "cell_type": "code",
   "outputs": [
    {
     "data": {
      "text/plain": "                         0  1\nISBN                 False  0\nBook-Title           False  0\nBook-Author           True  2\nYear-Of-Publication  False  0\nPublisher             True  2",
      "text/html": "<div>\n<style scoped>\n    .dataframe tbody tr th:only-of-type {\n        vertical-align: middle;\n    }\n\n    .dataframe tbody tr th {\n        vertical-align: top;\n    }\n\n    .dataframe thead th {\n        text-align: right;\n    }\n</style>\n<table border=\"1\" class=\"dataframe\">\n  <thead>\n    <tr style=\"text-align: right;\">\n      <th></th>\n      <th>0</th>\n      <th>1</th>\n    </tr>\n  </thead>\n  <tbody>\n    <tr>\n      <th>ISBN</th>\n      <td>False</td>\n      <td>0</td>\n    </tr>\n    <tr>\n      <th>Book-Title</th>\n      <td>False</td>\n      <td>0</td>\n    </tr>\n    <tr>\n      <th>Book-Author</th>\n      <td>True</td>\n      <td>2</td>\n    </tr>\n    <tr>\n      <th>Year-Of-Publication</th>\n      <td>False</td>\n      <td>0</td>\n    </tr>\n    <tr>\n      <th>Publisher</th>\n      <td>True</td>\n      <td>2</td>\n    </tr>\n  </tbody>\n</table>\n</div>"
     },
     "execution_count": 7,
     "metadata": {},
     "output_type": "execute_result"
    }
   ],
   "source": [
    "pd.concat([df_books.isna().any(), df_books.isna().sum()], axis=1)"
   ],
   "metadata": {
    "collapsed": false,
    "ExecuteTime": {
     "end_time": "2024-05-05T15:52:52.769549Z",
     "start_time": "2024-05-05T15:52:52.700468Z"
    }
   },
   "id": "a18dd69fff160feb",
   "execution_count": 7
  },
  {
   "cell_type": "markdown",
   "source": [
    "#### <b> Cleaning object features ('Book-Author','Publisher') </b>\n",
    "Found out that there is missing values in 'Book-Author' and 'Publisher'\n",
    "\n",
    "Note that there are 102022 distinct book authors and 16807 distinct publishers\n",
    "\n",
    "Showing books with missing authors"
   ],
   "metadata": {
    "collapsed": false
   },
   "id": "63477cd0aa58415d"
  },
  {
   "cell_type": "code",
   "outputs": [
    {
     "data": {
      "text/plain": "              ISBN                                         Book-Title  \\\n118033  0751352497                           A+ Quiz Masters:01 Earth   \n187689  9627982032  The Credit Suisse Guide to Managing Your Perso...   \n\n       Book-Author  Year-Of-Publication                       Publisher  \n118033         NaN                 1999              Dorling Kindersley  \n187689         NaN                 1995  Edinburgh Financial Publishing  ",
      "text/html": "<div>\n<style scoped>\n    .dataframe tbody tr th:only-of-type {\n        vertical-align: middle;\n    }\n\n    .dataframe tbody tr th {\n        vertical-align: top;\n    }\n\n    .dataframe thead th {\n        text-align: right;\n    }\n</style>\n<table border=\"1\" class=\"dataframe\">\n  <thead>\n    <tr style=\"text-align: right;\">\n      <th></th>\n      <th>ISBN</th>\n      <th>Book-Title</th>\n      <th>Book-Author</th>\n      <th>Year-Of-Publication</th>\n      <th>Publisher</th>\n    </tr>\n  </thead>\n  <tbody>\n    <tr>\n      <th>118033</th>\n      <td>0751352497</td>\n      <td>A+ Quiz Masters:01 Earth</td>\n      <td>NaN</td>\n      <td>1999</td>\n      <td>Dorling Kindersley</td>\n    </tr>\n    <tr>\n      <th>187689</th>\n      <td>9627982032</td>\n      <td>The Credit Suisse Guide to Managing Your Perso...</td>\n      <td>NaN</td>\n      <td>1995</td>\n      <td>Edinburgh Financial Publishing</td>\n    </tr>\n  </tbody>\n</table>\n</div>"
     },
     "execution_count": 8,
     "metadata": {},
     "output_type": "execute_result"
    }
   ],
   "source": [
    "df_books[df_books['Book-Author'].isna()]"
   ],
   "metadata": {
    "collapsed": false,
    "ExecuteTime": {
     "end_time": "2024-05-05T15:53:11.252983Z",
     "start_time": "2024-05-05T15:53:11.232365Z"
    }
   },
   "id": "f36914513629eeea",
   "execution_count": 8
  },
  {
   "cell_type": "markdown",
   "source": [
    "We would like to impute the missing authors with the mode author of the respective publisher of the book"
   ],
   "metadata": {
    "collapsed": false
   },
   "id": "c245a72e50ff8ccb"
  },
  {
   "cell_type": "code",
   "outputs": [
    {
     "data": {
      "text/plain": "Publisher           Book-Author                        \nDorling Kindersley  Richard Addison                        10\n                    David Taylor                            4\n                    Miriam Stoppard                         4\n                    Dorling Kindersley Publishing           3\n                    Angela Wilkes                           3\n                                                           ..\n                    Elwyn Hartley Edwards                   1\n                    Effie Romain                            1\n                    Edward De Bono                          1\n                    Dorling Kindersley Publishing Staff     1\n                    William Lindsay                         1\nName: Book-Author, Length: 92, dtype: int64"
     },
     "execution_count": 9,
     "metadata": {},
     "output_type": "execute_result"
    }
   ],
   "source": [
    "df_books[df_books['Publisher'].isin(df_books[df_books['Book-Author'].isna()]['Publisher'])].groupby(\n",
    "    ['Publisher', 'Book-Author'])[\n",
    "    'Book-Author'].count().sort_values(ascending=False)"
   ],
   "metadata": {
    "collapsed": false,
    "ExecuteTime": {
     "end_time": "2024-05-05T15:53:14.358314Z",
     "start_time": "2024-05-05T15:53:14.323756Z"
    }
   },
   "id": "48c2f48a10f9bca7",
   "execution_count": 9
  },
  {
   "cell_type": "markdown",
   "source": [
    "Unfortunately, no other authors are observed for 'Edinburgh Financial Publishing'\n",
    "We have no choice but to delete books with empty authors\n"
   ],
   "metadata": {
    "collapsed": false
   },
   "id": "1b5842ff9bf27c6a"
  },
  {
   "cell_type": "code",
   "outputs": [],
   "source": [
    "df_books = df_books[~df_books['Book-Author'].isna()]"
   ],
   "metadata": {
    "collapsed": false,
    "ExecuteTime": {
     "end_time": "2024-05-05T15:53:16.849304Z",
     "start_time": "2024-05-05T15:53:16.811362Z"
    }
   },
   "id": "2531169a04123f9c",
   "execution_count": 10
  },
  {
   "cell_type": "markdown",
   "source": [
    "Showing books with missing publisher"
   ],
   "metadata": {
    "collapsed": false
   },
   "id": "4242d2b1498abb64"
  },
  {
   "cell_type": "code",
   "outputs": [
    {
     "data": {
      "text/plain": "              ISBN       Book-Title      Book-Author  Year-Of-Publication  \\\n128890  193169656X      Tyrant Moon  Elaine Corvidae                 2002   \n129037  1931696993  Finders Keepers  Linnea Sinclair                 2001   \n\n       Publisher  \n128890       NaN  \n129037       NaN  ",
      "text/html": "<div>\n<style scoped>\n    .dataframe tbody tr th:only-of-type {\n        vertical-align: middle;\n    }\n\n    .dataframe tbody tr th {\n        vertical-align: top;\n    }\n\n    .dataframe thead th {\n        text-align: right;\n    }\n</style>\n<table border=\"1\" class=\"dataframe\">\n  <thead>\n    <tr style=\"text-align: right;\">\n      <th></th>\n      <th>ISBN</th>\n      <th>Book-Title</th>\n      <th>Book-Author</th>\n      <th>Year-Of-Publication</th>\n      <th>Publisher</th>\n    </tr>\n  </thead>\n  <tbody>\n    <tr>\n      <th>128890</th>\n      <td>193169656X</td>\n      <td>Tyrant Moon</td>\n      <td>Elaine Corvidae</td>\n      <td>2002</td>\n      <td>NaN</td>\n    </tr>\n    <tr>\n      <th>129037</th>\n      <td>1931696993</td>\n      <td>Finders Keepers</td>\n      <td>Linnea Sinclair</td>\n      <td>2001</td>\n      <td>NaN</td>\n    </tr>\n  </tbody>\n</table>\n</div>"
     },
     "execution_count": 11,
     "metadata": {},
     "output_type": "execute_result"
    }
   ],
   "source": [
    "df_books[df_books['Publisher'].isna()]"
   ],
   "metadata": {
    "collapsed": false,
    "ExecuteTime": {
     "end_time": "2024-05-05T15:53:18.603794Z",
     "start_time": "2024-05-05T15:53:18.582780Z"
    }
   },
   "id": "138d0403c8cf8372",
   "execution_count": 11
  },
  {
   "cell_type": "markdown",
   "source": [
    "We use the similar way to impute the missing publishers in the books, that is imputing with the mode of the publisher that the respective author belongs to"
   ],
   "metadata": {
    "collapsed": false
   },
   "id": "45bba1584578cb21"
  },
  {
   "cell_type": "code",
   "outputs": [
    {
     "data": {
      "text/plain": "              ISBN        Book-Title      Book-Author  Year-Of-Publication  \\\n126762  1931696934  Winter's Orphans  Elaine Corvidae                 2001   \n128890  193169656X       Tyrant Moon  Elaine Corvidae                 2002   \n129001  0759901880           Wolfkin  Elaine Corvidae                 2001   \n129037  1931696993   Finders Keepers  Linnea Sinclair                 2001   \n\n                      Publisher  \n126762               Novelbooks  \n128890                      NaN  \n129001  Hard Shell Word Factory  \n129037                      NaN  ",
      "text/html": "<div>\n<style scoped>\n    .dataframe tbody tr th:only-of-type {\n        vertical-align: middle;\n    }\n\n    .dataframe tbody tr th {\n        vertical-align: top;\n    }\n\n    .dataframe thead th {\n        text-align: right;\n    }\n</style>\n<table border=\"1\" class=\"dataframe\">\n  <thead>\n    <tr style=\"text-align: right;\">\n      <th></th>\n      <th>ISBN</th>\n      <th>Book-Title</th>\n      <th>Book-Author</th>\n      <th>Year-Of-Publication</th>\n      <th>Publisher</th>\n    </tr>\n  </thead>\n  <tbody>\n    <tr>\n      <th>126762</th>\n      <td>1931696934</td>\n      <td>Winter's Orphans</td>\n      <td>Elaine Corvidae</td>\n      <td>2001</td>\n      <td>Novelbooks</td>\n    </tr>\n    <tr>\n      <th>128890</th>\n      <td>193169656X</td>\n      <td>Tyrant Moon</td>\n      <td>Elaine Corvidae</td>\n      <td>2002</td>\n      <td>NaN</td>\n    </tr>\n    <tr>\n      <th>129001</th>\n      <td>0759901880</td>\n      <td>Wolfkin</td>\n      <td>Elaine Corvidae</td>\n      <td>2001</td>\n      <td>Hard Shell Word Factory</td>\n    </tr>\n    <tr>\n      <th>129037</th>\n      <td>1931696993</td>\n      <td>Finders Keepers</td>\n      <td>Linnea Sinclair</td>\n      <td>2001</td>\n      <td>NaN</td>\n    </tr>\n  </tbody>\n</table>\n</div>"
     },
     "execution_count": 12,
     "metadata": {},
     "output_type": "execute_result"
    }
   ],
   "source": [
    "df_books[df_books['Book-Author'].isin(df_books[df_books['Publisher'].isna()]['Book-Author'])]"
   ],
   "metadata": {
    "collapsed": false,
    "ExecuteTime": {
     "end_time": "2024-05-05T15:53:22.134277Z",
     "start_time": "2024-05-05T15:53:22.101416Z"
    }
   },
   "id": "8c1d0c3f6e35ee79",
   "execution_count": 12
  },
  {
   "cell_type": "markdown",
   "source": [
    "Again unfortunately, we have observed similar condition for books with missing publisher, specifically for 'Linnea Sinclair'\n",
    "\n",
    "We have no choice but to delete books with missing publisher as well"
   ],
   "metadata": {
    "collapsed": false
   },
   "id": "1b183e0726ec21bf"
  },
  {
   "cell_type": "code",
   "outputs": [],
   "source": [
    "df_books = df_books[~df_books['Publisher'].isna()]"
   ],
   "metadata": {
    "collapsed": false,
    "ExecuteTime": {
     "end_time": "2024-05-05T15:53:32.694133Z",
     "start_time": "2024-05-05T15:53:32.650154Z"
    }
   },
   "id": "27aada0e3c5f2ef0",
   "execution_count": 13
  },
  {
   "cell_type": "markdown",
   "source": [
    "#### <b> Cleaning numerical features ('Year-Of-Publication') </b>\n",
    "\n",
    "As recalled in df_books.describe(include = 'all'), there exists 0 for 'Year-Of-Publication'\n",
    "\n",
    "Defining a function to see the number of books with year of publication equals to 0"
   ],
   "metadata": {
    "collapsed": false
   },
   "id": "95c7920e0af258c3"
  },
  {
   "cell_type": "code",
   "outputs": [],
   "source": [
    "def show_num_books_zero_year_publication(df_books):\n",
    "    num_of_zero_years = df_books[df_books['Year-Of-Publication'] == 0]['Year-Of-Publication'].count()\n",
    "    num_of_books_total = df_books['Year-Of-Publication'].count()\n",
    "    print(\n",
    "        f\"{num_of_zero_years} book(s) are found with zero 'Year-Of-Publication', out of {num_of_books_total} book(s) in total, comprising {num_of_zero_years / num_of_books_total * 100:.2f}%\")"
   ],
   "metadata": {
    "collapsed": false,
    "ExecuteTime": {
     "end_time": "2024-05-05T15:53:36.042277Z",
     "start_time": "2024-05-05T15:53:36.034327Z"
    }
   },
   "id": "1ab20f892cff5720",
   "execution_count": 14
  },
  {
   "cell_type": "code",
   "outputs": [
    {
     "name": "stdout",
     "output_type": "stream",
     "text": [
      "4621 book(s) are found with zero 'Year-Of-Publication', out of 271356 book(s) in total, comprising 1.70%\n"
     ]
    }
   ],
   "source": [
    "show_num_books_zero_year_publication(df_books)"
   ],
   "metadata": {
    "collapsed": false,
    "ExecuteTime": {
     "end_time": "2024-05-05T15:53:37.713443Z",
     "start_time": "2024-05-05T15:53:37.694181Z"
    }
   },
   "id": "7189c8d20637a28e",
   "execution_count": 15
  },
  {
   "cell_type": "markdown",
   "source": [
    "Percentage of zero values is rather small, hence we would like to impute with following approaches\n",
    "\n",
    "1. We consider to impute with the median of 'Year-Of-Publication' of respective authors\n",
    "2. However, we still notice zero values in the aforementioned medians\n",
    "3. Hence, we consider to impute the remaining with that of respective publishers\n",
    "4. However, we still notice zero values\n",
    "5. Lastly, we impute the remaining with median of the whole 'Year-Of-Publication' column"
   ],
   "metadata": {
    "collapsed": false
   },
   "id": "461666e4c445d09b"
  },
  {
   "cell_type": "code",
   "outputs": [
    {
     "data": {
      "text/plain": "Book-Author\nJean Denis Bredin       0.0\nR M Koster              0.0\nHiggins                 0.0\nJ M Robertson           0.0\nJ Martyn Walsh          0.0\n                      ...  \nJohn Pitcher         2006.0\nCheng-En Wu          2011.0\nNikolaus Pevsner     2024.0\nD. GIBBONS           2024.0\nCoville              2030.0\nName: Year-Of-Publication, Length: 102021, dtype: float64"
     },
     "execution_count": 16,
     "metadata": {},
     "output_type": "execute_result"
    }
   ],
   "source": [
    "df_books.groupby('Book-Author')['Year-Of-Publication'].median().sort_values(ascending=True)"
   ],
   "metadata": {
    "collapsed": false,
    "ExecuteTime": {
     "end_time": "2024-05-05T15:53:42.277173Z",
     "start_time": "2024-05-05T15:53:42.134322Z"
    }
   },
   "id": "30b477d7f9b4a85e",
   "execution_count": 16
  },
  {
   "cell_type": "code",
   "outputs": [
    {
     "data": {
      "text/plain": "Publisher\nMessageries du Livre                    0.0\nSlope Books                             0.0\nSirius Publishing                       0.0\nAidc                                    0.0\nBarnes Noble                            0.0\n                                      ...  \nKvsel-Verlag                         2004.0\nCockle Cove Pr                       2004.0\nSecurity Resources Unlimited, LLC    2004.0\nAbout Comics                         2004.0\nBausch &amp; Lombard                 2020.0\nName: Year-Of-Publication, Length: 16806, dtype: float64"
     },
     "execution_count": 17,
     "metadata": {},
     "output_type": "execute_result"
    }
   ],
   "source": [
    "df_books.groupby('Publisher')['Year-Of-Publication'].median().sort_values(ascending=True)"
   ],
   "metadata": {
    "collapsed": false,
    "ExecuteTime": {
     "end_time": "2024-05-05T15:53:47.066772Z",
     "start_time": "2024-05-05T15:53:47.009365Z"
    }
   },
   "id": "7483f1fa1de30bdd",
   "execution_count": 17
  },
  {
   "cell_type": "markdown",
   "source": [
    "Defining a function to impute missing values in 'Year-Of-Publication' as mentioned"
   ],
   "metadata": {
    "collapsed": false
   },
   "id": "63365265dacc73b6"
  },
  {
   "cell_type": "code",
   "outputs": [],
   "source": [
    "def impute_year_of_publication(df_books):\n",
    "    # Calculate median by grouping 'Book-Author','Publisher', and whole column\n",
    "    median_by_authors = df_books.groupby('Book-Author')['Year-Of-Publication'].median()\n",
    "    median_by_publisher = df_books.groupby('Publisher')['Year-Of-Publication'].median()\n",
    "    median_whole_column = df_books['Year-Of-Publication'].median()\n",
    "\n",
    "    # Impute with median_by_authors\n",
    "    df_books = df_books.merge(median_by_authors.to_frame('Median-Year-By-Author'), how='left', on='Book-Author')\n",
    "    df_books['Year-Of-Publication'] = df_books['Year-Of-Publication'].where(df_books['Year-Of-Publication'] != 0,\n",
    "                                                                            df_books['Median-Year-By-Author'])\n",
    "    df_books.drop('Median-Year-By-Author', axis=1, inplace=True)\n",
    "\n",
    "    # Number of books with zero 'Year-Of-Publication' checking\n",
    "    print(\"Imputation with median_by_authors completed !!\")\n",
    "    show_num_books_zero_year_publication(df_books)\n",
    "\n",
    "    # Impute with median_by_publisher\n",
    "    df_books = df_books.merge(median_by_publisher.to_frame('Median-Year-By-Publisher'), how='left', on='Publisher')\n",
    "    df_books['Year-Of-Publication'] = df_books['Year-Of-Publication'].where(df_books['Year-Of-Publication'] != 0,\n",
    "                                                                            df_books['Median-Year-By-Publisher'])\n",
    "    df_books.drop('Median-Year-By-Publisher', axis=1, inplace=True)\n",
    "\n",
    "    # Number of books with zero 'Year-Of-Publication' checking\n",
    "    print(\"Imputation with median_by_publishers completed !!\")\n",
    "    show_num_books_zero_year_publication(df_books)\n",
    "\n",
    "    # Impute with median_whole_column\n",
    "    df_books['Year-Of-Publication'] = df_books['Year-Of-Publication'].replace(0, median_whole_column)\n",
    "\n",
    "    # Number of books with zero 'Year-Of-Publication' checking\n",
    "    print(\"Imputation with median_whole_column completed !!\")\n",
    "    show_num_books_zero_year_publication(df_books)\n",
    "\n",
    "    return df_books"
   ],
   "metadata": {
    "collapsed": false,
    "ExecuteTime": {
     "end_time": "2024-05-05T15:53:50.848819Z",
     "start_time": "2024-05-05T15:53:50.837355Z"
    }
   },
   "id": "d42071658eafa3a2",
   "execution_count": 18
  },
  {
   "cell_type": "code",
   "outputs": [
    {
     "name": "stdout",
     "output_type": "stream",
     "text": [
      "Imputation with median_by_authors completed !!\n",
      "1754 book(s) are found with zero 'Year-Of-Publication', out of 271356 book(s) in total, comprising 0.65%\n",
      "Imputation with median_by_publishers completed !!\n",
      "1147 book(s) are found with zero 'Year-Of-Publication', out of 271356 book(s) in total, comprising 0.42%\n",
      "Imputation with median_whole_column completed !!\n",
      "0 book(s) are found with zero 'Year-Of-Publication', out of 271356 book(s) in total, comprising 0.00%\n"
     ]
    }
   ],
   "source": [
    "df_books = impute_year_of_publication(df_books)"
   ],
   "metadata": {
    "collapsed": false,
    "ExecuteTime": {
     "end_time": "2024-05-05T15:53:56.286070Z",
     "start_time": "2024-05-05T15:53:55.512237Z"
    }
   },
   "id": "9012cc79d4cd27d0",
   "execution_count": 19
  },
  {
   "cell_type": "markdown",
   "source": [
    "Showing description of df_books after imputation of 'Year-Of-'Publication'"
   ],
   "metadata": {
    "collapsed": false
   },
   "id": "c852b10a4706bc87"
  },
  {
   "cell_type": "code",
   "outputs": [
    {
     "data": {
      "text/plain": "              ISBN      Book-Title      Book-Author  Year-Of-Publication  \\\ncount       271356          271356           271356        271356.000000   \nunique      271356          242132           102021                  NaN   \ntop     0195153448  Selected Poems  Agatha Christie                  NaN   \nfreq             1              27              632                  NaN   \nmean           NaN             NaN              NaN          1992.069422   \nstd            NaN             NaN              NaN            40.776675   \nmin            NaN             NaN              NaN           976.500000   \n25%            NaN             NaN              NaN          1989.000000   \n50%            NaN             NaN              NaN          1995.000000   \n75%            NaN             NaN              NaN          2000.000000   \nmax            NaN             NaN              NaN          2050.000000   \n\n        Publisher  \ncount      271356  \nunique      16806  \ntop     Harlequin  \nfreq         7535  \nmean          NaN  \nstd           NaN  \nmin           NaN  \n25%           NaN  \n50%           NaN  \n75%           NaN  \nmax           NaN  ",
      "text/html": "<div>\n<style scoped>\n    .dataframe tbody tr th:only-of-type {\n        vertical-align: middle;\n    }\n\n    .dataframe tbody tr th {\n        vertical-align: top;\n    }\n\n    .dataframe thead th {\n        text-align: right;\n    }\n</style>\n<table border=\"1\" class=\"dataframe\">\n  <thead>\n    <tr style=\"text-align: right;\">\n      <th></th>\n      <th>ISBN</th>\n      <th>Book-Title</th>\n      <th>Book-Author</th>\n      <th>Year-Of-Publication</th>\n      <th>Publisher</th>\n    </tr>\n  </thead>\n  <tbody>\n    <tr>\n      <th>count</th>\n      <td>271356</td>\n      <td>271356</td>\n      <td>271356</td>\n      <td>271356.000000</td>\n      <td>271356</td>\n    </tr>\n    <tr>\n      <th>unique</th>\n      <td>271356</td>\n      <td>242132</td>\n      <td>102021</td>\n      <td>NaN</td>\n      <td>16806</td>\n    </tr>\n    <tr>\n      <th>top</th>\n      <td>0195153448</td>\n      <td>Selected Poems</td>\n      <td>Agatha Christie</td>\n      <td>NaN</td>\n      <td>Harlequin</td>\n    </tr>\n    <tr>\n      <th>freq</th>\n      <td>1</td>\n      <td>27</td>\n      <td>632</td>\n      <td>NaN</td>\n      <td>7535</td>\n    </tr>\n    <tr>\n      <th>mean</th>\n      <td>NaN</td>\n      <td>NaN</td>\n      <td>NaN</td>\n      <td>1992.069422</td>\n      <td>NaN</td>\n    </tr>\n    <tr>\n      <th>std</th>\n      <td>NaN</td>\n      <td>NaN</td>\n      <td>NaN</td>\n      <td>40.776675</td>\n      <td>NaN</td>\n    </tr>\n    <tr>\n      <th>min</th>\n      <td>NaN</td>\n      <td>NaN</td>\n      <td>NaN</td>\n      <td>976.500000</td>\n      <td>NaN</td>\n    </tr>\n    <tr>\n      <th>25%</th>\n      <td>NaN</td>\n      <td>NaN</td>\n      <td>NaN</td>\n      <td>1989.000000</td>\n      <td>NaN</td>\n    </tr>\n    <tr>\n      <th>50%</th>\n      <td>NaN</td>\n      <td>NaN</td>\n      <td>NaN</td>\n      <td>1995.000000</td>\n      <td>NaN</td>\n    </tr>\n    <tr>\n      <th>75%</th>\n      <td>NaN</td>\n      <td>NaN</td>\n      <td>NaN</td>\n      <td>2000.000000</td>\n      <td>NaN</td>\n    </tr>\n    <tr>\n      <th>max</th>\n      <td>NaN</td>\n      <td>NaN</td>\n      <td>NaN</td>\n      <td>2050.000000</td>\n      <td>NaN</td>\n    </tr>\n  </tbody>\n</table>\n</div>"
     },
     "execution_count": 20,
     "metadata": {},
     "output_type": "execute_result"
    }
   ],
   "source": [
    "df_books.describe(include='all')"
   ],
   "metadata": {
    "collapsed": false,
    "ExecuteTime": {
     "end_time": "2024-05-05T15:54:00.603546Z",
     "start_time": "2024-05-05T15:53:59.872492Z"
    }
   },
   "id": "b68622e1cf0dddd3",
   "execution_count": 20
  },
  {
   "cell_type": "code",
   "outputs": [
    {
     "data": {
      "text/plain": "<Figure size 640x480 with 1 Axes>",
      "image/png": "[encoded data removed]"
     },
     "metadata": {},
     "output_type": "display_data"
    }
   ],
   "source": [
    "plt.hist(df_books['Year-Of-Publication'])\n",
    "plt.yscale('log')\n",
    "plt.show()"
   ],
   "metadata": {
    "collapsed": false,
    "ExecuteTime": {
     "end_time": "2024-05-05T15:54:03.468112Z",
     "start_time": "2024-05-05T15:54:02.950887Z"
    }
   },
   "id": "a2899e2e233f72c2",
   "execution_count": 21
  },
  {
   "cell_type": "markdown",
   "source": [
    "We still find some non-zero undesired values for 'Year-Of-Publication', hence we drop values less than 1900 and more than 2024"
   ],
   "metadata": {
    "collapsed": false
   },
   "id": "a1bef27bc560179d"
  },
  {
   "cell_type": "code",
   "outputs": [
    {
     "data": {
      "text/plain": "              ISBN      Book-Title      Book-Author  Year-Of-Publication  \\\ncount       270905          270905           270905        270905.000000   \nunique      270905          241733           101966                  NaN   \ntop     0195153448  Selected Poems  Agatha Christie                  NaN   \nfreq             1              27              632                  NaN   \nmean           NaN             NaN              NaN          1993.673002   \nstd            NaN             NaN              NaN             8.113565   \nmin            NaN             NaN              NaN          1900.000000   \n25%            NaN             NaN              NaN          1989.000000   \n50%            NaN             NaN              NaN          1996.000000   \n75%            NaN             NaN              NaN          2000.000000   \nmax            NaN             NaN              NaN          2024.000000   \n\n        Publisher  \ncount      270905  \nunique      16763  \ntop     Harlequin  \nfreq         7535  \nmean          NaN  \nstd           NaN  \nmin           NaN  \n25%           NaN  \n50%           NaN  \n75%           NaN  \nmax           NaN  ",
      "text/html": "<div>\n<style scoped>\n    .dataframe tbody tr th:only-of-type {\n        vertical-align: middle;\n    }\n\n    .dataframe tbody tr th {\n        vertical-align: top;\n    }\n\n    .dataframe thead th {\n        text-align: right;\n    }\n</style>\n<table border=\"1\" class=\"dataframe\">\n  <thead>\n    <tr style=\"text-align: right;\">\n      <th></th>\n      <th>ISBN</th>\n      <th>Book-Title</th>\n      <th>Book-Author</th>\n      <th>Year-Of-Publication</th>\n      <th>Publisher</th>\n    </tr>\n  </thead>\n  <tbody>\n    <tr>\n      <th>count</th>\n      <td>270905</td>\n      <td>270905</td>\n      <td>270905</td>\n      <td>270905.000000</td>\n      <td>270905</td>\n    </tr>\n    <tr>\n      <th>unique</th>\n      <td>270905</td>\n      <td>241733</td>\n      <td>101966</td>\n      <td>NaN</td>\n      <td>16763</td>\n    </tr>\n    <tr>\n      <th>top</th>\n      <td>0195153448</td>\n      <td>Selected Poems</td>\n      <td>Agatha Christie</td>\n      <td>NaN</td>\n      <td>Harlequin</td>\n    </tr>\n    <tr>\n      <th>freq</th>\n      <td>1</td>\n      <td>27</td>\n      <td>632</td>\n      <td>NaN</td>\n      <td>7535</td>\n    </tr>\n    <tr>\n      <th>mean</th>\n      <td>NaN</td>\n      <td>NaN</td>\n      <td>NaN</td>\n      <td>1993.673002</td>\n      <td>NaN</td>\n    </tr>\n    <tr>\n      <th>std</th>\n      <td>NaN</td>\n      <td>NaN</td>\n      <td>NaN</td>\n      <td>8.113565</td>\n      <td>NaN</td>\n    </tr>\n    <tr>\n      <th>min</th>\n      <td>NaN</td>\n      <td>NaN</td>\n      <td>NaN</td>\n      <td>1900.000000</td>\n      <td>NaN</td>\n    </tr>\n    <tr>\n      <th>25%</th>\n      <td>NaN</td>\n      <td>NaN</td>\n      <td>NaN</td>\n      <td>1989.000000</td>\n      <td>NaN</td>\n    </tr>\n    <tr>\n      <th>50%</th>\n      <td>NaN</td>\n      <td>NaN</td>\n      <td>NaN</td>\n      <td>1996.000000</td>\n      <td>NaN</td>\n    </tr>\n    <tr>\n      <th>75%</th>\n      <td>NaN</td>\n      <td>NaN</td>\n      <td>NaN</td>\n      <td>2000.000000</td>\n      <td>NaN</td>\n    </tr>\n    <tr>\n      <th>max</th>\n      <td>NaN</td>\n      <td>NaN</td>\n      <td>NaN</td>\n      <td>2024.000000</td>\n      <td>NaN</td>\n    </tr>\n  </tbody>\n</table>\n</div>"
     },
     "execution_count": 22,
     "metadata": {},
     "output_type": "execute_result"
    }
   ],
   "source": [
    "df_books = df_books[(df_books['Year-Of-Publication'] >= 1900) & (df_books['Year-Of-Publication'] <= 2024)]\n",
    "df_books.describe(include='all')"
   ],
   "metadata": {
    "collapsed": false,
    "ExecuteTime": {
     "end_time": "2024-05-05T15:54:10.947305Z",
     "start_time": "2024-05-05T15:54:10.308160Z"
    }
   },
   "id": "2f944c503d4617dd",
   "execution_count": 22
  },
  {
   "cell_type": "code",
   "outputs": [
    {
     "data": {
      "text/plain": "<Figure size 640x480 with 1 Axes>",
      "image/png": "[encoded data removed]"
     },
     "metadata": {},
     "output_type": "display_data"
    }
   ],
   "source": [
    "plt.hist(df_books['Year-Of-Publication'], bins=np.arange(1900, 2024, 2))\n",
    "plt.show()"
   ],
   "metadata": {
    "collapsed": false,
    "ExecuteTime": {
     "end_time": "2024-05-05T15:54:13.480854Z",
     "start_time": "2024-05-05T15:54:13.309844Z"
    }
   },
   "id": "fc00920540bec4fc",
   "execution_count": 23
  },
  {
   "cell_type": "markdown",
   "source": [
    "## 2.2 EDA for users\n",
    "\n",
    "### 2.2.1 Basic Exploration of df_users\n",
    "What is inside df_users"
   ],
   "metadata": {
    "collapsed": false
   },
   "id": "e06b3abdab10608e"
  },
  {
   "cell_type": "code",
   "outputs": [
    {
     "data": {
      "text/plain": "        User-ID                            Location   Age\n0             1                  nyc, new york, usa   NaN\n1             2           stockton, california, usa  18.0\n2             3     moscow, yukon territory, russia   NaN\n3             4           porto, v.n.gaia, portugal  17.0\n4             5  farnborough, hants, united kingdom   NaN\n...         ...                                 ...   ...\n278853   278854               portland, oregon, usa   NaN\n278854   278855  tacoma, washington, united kingdom  50.0\n278855   278856           brampton, ontario, canada   NaN\n278856   278857           knoxville, tennessee, usa   NaN\n278857   278858                dublin, n/a, ireland   NaN\n\n[278858 rows x 3 columns]",
      "text/html": "<div>\n<style scoped>\n    .dataframe tbody tr th:only-of-type {\n        vertical-align: middle;\n    }\n\n    .dataframe tbody tr th {\n        vertical-align: top;\n    }\n\n    .dataframe thead th {\n        text-align: right;\n    }\n</style>\n<table border=\"1\" class=\"dataframe\">\n  <thead>\n    <tr style=\"text-align: right;\">\n      <th></th>\n      <th>User-ID</th>\n      <th>Location</th>\n      <th>Age</th>\n    </tr>\n  </thead>\n  <tbody>\n    <tr>\n      <th>0</th>\n      <td>1</td>\n      <td>nyc, new york, usa</td>\n      <td>NaN</td>\n    </tr>\n    <tr>\n      <th>1</th>\n      <td>2</td>\n      <td>stockton, california, usa</td>\n      <td>18.0</td>\n    </tr>\n    <tr>\n      <th>2</th>\n      <td>3</td>\n      <td>moscow, yukon territory, russia</td>\n      <td>NaN</td>\n    </tr>\n    <tr>\n      <th>3</th>\n      <td>4</td>\n      <td>porto, v.n.gaia, portugal</td>\n      <td>17.0</td>\n    </tr>\n    <tr>\n      <th>4</th>\n      <td>5</td>\n      <td>farnborough, hants, united kingdom</td>\n      <td>NaN</td>\n    </tr>\n    <tr>\n      <th>...</th>\n      <td>...</td>\n      <td>...</td>\n      <td>...</td>\n    </tr>\n    <tr>\n      <th>278853</th>\n      <td>278854</td>\n      <td>portland, oregon, usa</td>\n      <td>NaN</td>\n    </tr>\n    <tr>\n      <th>278854</th>\n      <td>278855</td>\n      <td>tacoma, washington, united kingdom</td>\n      <td>50.0</td>\n    </tr>\n    <tr>\n      <th>278855</th>\n      <td>278856</td>\n      <td>brampton, ontario, canada</td>\n      <td>NaN</td>\n    </tr>\n    <tr>\n      <th>278856</th>\n      <td>278857</td>\n      <td>knoxville, tennessee, usa</td>\n      <td>NaN</td>\n    </tr>\n    <tr>\n      <th>278857</th>\n      <td>278858</td>\n      <td>dublin, n/a, ireland</td>\n      <td>NaN</td>\n    </tr>\n  </tbody>\n</table>\n<p>278858 rows × 3 columns</p>\n</div>"
     },
     "execution_count": 24,
     "metadata": {},
     "output_type": "execute_result"
    }
   ],
   "source": [
    "df_users"
   ],
   "metadata": {
    "collapsed": false,
    "ExecuteTime": {
     "end_time": "2024-05-05T15:54:18.102906Z",
     "start_time": "2024-05-05T15:54:18.090057Z"
    }
   },
   "id": "38c61796c759edbd",
   "execution_count": 24
  },
  {
   "cell_type": "markdown",
   "source": [
    "Information about df_users"
   ],
   "metadata": {
    "collapsed": false
   },
   "id": "f77be409b0a85df8"
  },
  {
   "cell_type": "code",
   "outputs": [
    {
     "name": "stdout",
     "output_type": "stream",
     "text": [
      "<class 'pandas.core.frame.DataFrame'>\n",
      "RangeIndex: 278858 entries, 0 to 278857\n",
      "Data columns (total 3 columns):\n",
      " #   Column    Non-Null Count   Dtype  \n",
      "---  ------    --------------   -----  \n",
      " 0   User-ID   278858 non-null  int64  \n",
      " 1   Location  278858 non-null  object \n",
      " 2   Age       168096 non-null  float64\n",
      "dtypes: float64(1), int64(1), object(1)\n",
      "memory usage: 6.4+ MB\n"
     ]
    }
   ],
   "source": [
    "df_users.info()"
   ],
   "metadata": {
    "collapsed": false,
    "ExecuteTime": {
     "end_time": "2024-05-05T15:54:20.352778Z",
     "start_time": "2024-05-05T15:54:20.329279Z"
    }
   },
   "id": "5742ace145085ded",
   "execution_count": 25
  },
  {
   "cell_type": "markdown",
   "source": [
    "### 2.2.2 Cleaning of df_users\n",
    "\n",
    "Showing statistical description of df_users"
   ],
   "metadata": {
    "collapsed": false
   },
   "id": "e6949f355c344c7a"
  },
  {
   "cell_type": "code",
   "outputs": [
    {
     "data": {
      "text/plain": "             User-ID                         Location            Age\ncount   278858.00000                           278858  168096.000000\nunique           NaN                            57339            NaN\ntop              NaN  london, england, united kingdom            NaN\nfreq             NaN                             2506            NaN\nmean    139429.50000                              NaN      34.751434\nstd      80499.51502                              NaN      14.428097\nmin          1.00000                              NaN       0.000000\n25%      69715.25000                              NaN      24.000000\n50%     139429.50000                              NaN      32.000000\n75%     209143.75000                              NaN      44.000000\nmax     278858.00000                              NaN     244.000000",
      "text/html": "<div>\n<style scoped>\n    .dataframe tbody tr th:only-of-type {\n        vertical-align: middle;\n    }\n\n    .dataframe tbody tr th {\n        vertical-align: top;\n    }\n\n    .dataframe thead th {\n        text-align: right;\n    }\n</style>\n<table border=\"1\" class=\"dataframe\">\n  <thead>\n    <tr style=\"text-align: right;\">\n      <th></th>\n      <th>User-ID</th>\n      <th>Location</th>\n      <th>Age</th>\n    </tr>\n  </thead>\n  <tbody>\n    <tr>\n      <th>count</th>\n      <td>278858.00000</td>\n      <td>278858</td>\n      <td>168096.000000</td>\n    </tr>\n    <tr>\n      <th>unique</th>\n      <td>NaN</td>\n      <td>57339</td>\n      <td>NaN</td>\n    </tr>\n    <tr>\n      <th>top</th>\n      <td>NaN</td>\n      <td>london, england, united kingdom</td>\n      <td>NaN</td>\n    </tr>\n    <tr>\n      <th>freq</th>\n      <td>NaN</td>\n      <td>2506</td>\n      <td>NaN</td>\n    </tr>\n    <tr>\n      <th>mean</th>\n      <td>139429.50000</td>\n      <td>NaN</td>\n      <td>34.751434</td>\n    </tr>\n    <tr>\n      <th>std</th>\n      <td>80499.51502</td>\n      <td>NaN</td>\n      <td>14.428097</td>\n    </tr>\n    <tr>\n      <th>min</th>\n      <td>1.00000</td>\n      <td>NaN</td>\n      <td>0.000000</td>\n    </tr>\n    <tr>\n      <th>25%</th>\n      <td>69715.25000</td>\n      <td>NaN</td>\n      <td>24.000000</td>\n    </tr>\n    <tr>\n      <th>50%</th>\n      <td>139429.50000</td>\n      <td>NaN</td>\n      <td>32.000000</td>\n    </tr>\n    <tr>\n      <th>75%</th>\n      <td>209143.75000</td>\n      <td>NaN</td>\n      <td>44.000000</td>\n    </tr>\n    <tr>\n      <th>max</th>\n      <td>278858.00000</td>\n      <td>NaN</td>\n      <td>244.000000</td>\n    </tr>\n  </tbody>\n</table>\n</div>"
     },
     "execution_count": 26,
     "metadata": {},
     "output_type": "execute_result"
    }
   ],
   "source": [
    "df_users.describe(include='all')"
   ],
   "metadata": {
    "collapsed": false,
    "ExecuteTime": {
     "end_time": "2024-05-05T15:54:23.245274Z",
     "start_time": "2024-05-05T15:54:23.173452Z"
    }
   },
   "id": "2d94f25687a83cc1",
   "execution_count": 26
  },
  {
   "cell_type": "markdown",
   "source": [
    "Showing if there is any missing values"
   ],
   "metadata": {
    "collapsed": false
   },
   "id": "487c50d59121bc6c"
  },
  {
   "cell_type": "code",
   "outputs": [
    {
     "data": {
      "text/plain": "              0       1\nUser-ID   False       0\nLocation  False       0\nAge        True  110762",
      "text/html": "<div>\n<style scoped>\n    .dataframe tbody tr th:only-of-type {\n        vertical-align: middle;\n    }\n\n    .dataframe tbody tr th {\n        vertical-align: top;\n    }\n\n    .dataframe thead th {\n        text-align: right;\n    }\n</style>\n<table border=\"1\" class=\"dataframe\">\n  <thead>\n    <tr style=\"text-align: right;\">\n      <th></th>\n      <th>0</th>\n      <th>1</th>\n    </tr>\n  </thead>\n  <tbody>\n    <tr>\n      <th>User-ID</th>\n      <td>False</td>\n      <td>0</td>\n    </tr>\n    <tr>\n      <th>Location</th>\n      <td>False</td>\n      <td>0</td>\n    </tr>\n    <tr>\n      <th>Age</th>\n      <td>True</td>\n      <td>110762</td>\n    </tr>\n  </tbody>\n</table>\n</div>"
     },
     "execution_count": 27,
     "metadata": {},
     "output_type": "execute_result"
    }
   ],
   "source": [
    "pd.concat([df_users.isna().any(), df_users.isna().sum()], axis=1)"
   ],
   "metadata": {
    "collapsed": false,
    "ExecuteTime": {
     "end_time": "2024-05-05T15:54:26.435255Z",
     "start_time": "2024-05-05T15:54:26.406419Z"
    }
   },
   "id": "91fbd970baf58ddc",
   "execution_count": 27
  },
  {
   "cell_type": "markdown",
   "source": [
    "#### <b> Cleaning numerical features ('Age') </b>\n",
    "\n",
    "Found out that there is missing values for 'Age'\n",
    "Showing the number of missing values in 'Age'"
   ],
   "metadata": {
    "collapsed": false
   },
   "id": "1ddf20d466838baf"
  },
  {
   "cell_type": "code",
   "outputs": [
    {
     "name": "stdout",
     "output_type": "stream",
     "text": [
      "110762 user(s) have their age missing, out of 168096 user(s), comprising 65.89% of total users\n"
     ]
    }
   ],
   "source": [
    "print(\n",
    "    f\"{df_users['Age'].isna().sum()} user(s) have their age missing, out of {df_users['Age'].count()} user(s), comprising {(df_users['Age'].isna().sum() / df_users['Age'].count()) * 100:.2f}% of total users\")"
   ],
   "metadata": {
    "collapsed": false,
    "ExecuteTime": {
     "end_time": "2024-05-05T15:54:28.614798Z",
     "start_time": "2024-05-05T15:54:28.607284Z"
    }
   },
   "id": "7785a7662f16194e",
   "execution_count": 28
  },
  {
   "cell_type": "markdown",
   "source": [
    "As observed the proportion of missing values in 'Age' is extremely high, hence we drop the 'Age' column"
   ],
   "metadata": {
    "collapsed": false
   },
   "id": "4e5c3884d342476f"
  },
  {
   "cell_type": "code",
   "outputs": [],
   "source": [
    "df_users.drop(columns=['Age'], inplace=True)"
   ],
   "metadata": {
    "collapsed": false,
    "ExecuteTime": {
     "end_time": "2024-05-05T15:54:31.981802Z",
     "start_time": "2024-05-05T15:54:31.968247Z"
    }
   },
   "id": "9bf238d7ac1b86cf",
   "execution_count": 29
  },
  {
   "cell_type": "markdown",
   "source": [
    "## 2.3 EDA for ratings\n",
    "\n",
    "### 2.3.1 Basic Exploration of df_ratings\n",
    "What is inside df_ratings"
   ],
   "metadata": {
    "collapsed": false
   },
   "id": "5950e88cff9538ce"
  },
  {
   "cell_type": "code",
   "outputs": [
    {
     "data": {
      "text/plain": "         User-ID         ISBN  Book-Rating\n0         276725   034545104X            0\n1         276726   0155061224            5\n2         276727   0446520802            0\n3         276729   052165615X            3\n4         276729   0521795028            6\n...          ...          ...          ...\n1149775   276704   1563526298            9\n1149776   276706   0679447156            0\n1149777   276709   0515107662           10\n1149778   276721   0590442449           10\n1149779   276723  05162443314            8\n\n[1149780 rows x 3 columns]",
      "text/html": "<div>\n<style scoped>\n    .dataframe tbody tr th:only-of-type {\n        vertical-align: middle;\n    }\n\n    .dataframe tbody tr th {\n        vertical-align: top;\n    }\n\n    .dataframe thead th {\n        text-align: right;\n    }\n</style>\n<table border=\"1\" class=\"dataframe\">\n  <thead>\n    <tr style=\"text-align: right;\">\n      <th></th>\n      <th>User-ID</th>\n      <th>ISBN</th>\n      <th>Book-Rating</th>\n    </tr>\n  </thead>\n  <tbody>\n    <tr>\n      <th>0</th>\n      <td>276725</td>\n      <td>034545104X</td>\n      <td>0</td>\n    </tr>\n    <tr>\n      <th>1</th>\n      <td>276726</td>\n      <td>0155061224</td>\n      <td>5</td>\n    </tr>\n    <tr>\n      <th>2</th>\n      <td>276727</td>\n      <td>0446520802</td>\n      <td>0</td>\n    </tr>\n    <tr>\n      <th>3</th>\n      <td>276729</td>\n      <td>052165615X</td>\n      <td>3</td>\n    </tr>\n    <tr>\n      <th>4</th>\n      <td>276729</td>\n      <td>0521795028</td>\n      <td>6</td>\n    </tr>\n    <tr>\n      <th>...</th>\n      <td>...</td>\n      <td>...</td>\n      <td>...</td>\n    </tr>\n    <tr>\n      <th>1149775</th>\n      <td>276704</td>\n      <td>1563526298</td>\n      <td>9</td>\n    </tr>\n    <tr>\n      <th>1149776</th>\n      <td>276706</td>\n      <td>0679447156</td>\n      <td>0</td>\n    </tr>\n    <tr>\n      <th>1149777</th>\n      <td>276709</td>\n      <td>0515107662</td>\n      <td>10</td>\n    </tr>\n    <tr>\n      <th>1149778</th>\n      <td>276721</td>\n      <td>0590442449</td>\n      <td>10</td>\n    </tr>\n    <tr>\n      <th>1149779</th>\n      <td>276723</td>\n      <td>05162443314</td>\n      <td>8</td>\n    </tr>\n  </tbody>\n</table>\n<p>1149780 rows × 3 columns</p>\n</div>"
     },
     "execution_count": 30,
     "metadata": {},
     "output_type": "execute_result"
    }
   ],
   "source": [
    "df_ratings"
   ],
   "metadata": {
    "collapsed": false,
    "ExecuteTime": {
     "end_time": "2024-05-05T15:54:34.248743Z",
     "start_time": "2024-05-05T15:54:34.231406Z"
    }
   },
   "id": "b8465ecbce224fd2",
   "execution_count": 30
  },
  {
   "cell_type": "markdown",
   "source": [
    "Information about df_ratings"
   ],
   "metadata": {
    "collapsed": false
   },
   "id": "431a33db193d1127"
  },
  {
   "cell_type": "code",
   "outputs": [
    {
     "name": "stdout",
     "output_type": "stream",
     "text": [
      "<class 'pandas.core.frame.DataFrame'>\n",
      "RangeIndex: 1149780 entries, 0 to 1149779\n",
      "Data columns (total 3 columns):\n",
      " #   Column       Non-Null Count    Dtype \n",
      "---  ------       --------------    ----- \n",
      " 0   User-ID      1149780 non-null  int64 \n",
      " 1   ISBN         1149780 non-null  object\n",
      " 2   Book-Rating  1149780 non-null  int64 \n",
      "dtypes: int64(2), object(1)\n",
      "memory usage: 26.3+ MB\n"
     ]
    }
   ],
   "source": [
    "df_ratings.info()"
   ],
   "metadata": {
    "collapsed": false,
    "ExecuteTime": {
     "end_time": "2024-05-05T15:54:37.020896Z",
     "start_time": "2024-05-05T15:54:36.979055Z"
    }
   },
   "id": "73d647d0db345cf5",
   "execution_count": 31
  },
  {
   "cell_type": "markdown",
   "source": [
    "### 2.3.2 Cleaning of df_ratings\n",
    "\n",
    "Showing statistical description of df_ratings"
   ],
   "metadata": {
    "collapsed": false
   },
   "id": "9c830b69ad726860"
  },
  {
   "cell_type": "code",
   "outputs": [
    {
     "data": {
      "text/plain": "             User-ID        ISBN   Book-Rating\ncount   1.149780e+06     1149780  1.149780e+06\nunique           NaN      340556           NaN\ntop              NaN  0971880107           NaN\nfreq             NaN        2502           NaN\nmean    1.403864e+05         NaN  2.866950e+00\nstd     8.056228e+04         NaN  3.854184e+00\nmin     2.000000e+00         NaN  0.000000e+00\n25%     7.034500e+04         NaN  0.000000e+00\n50%     1.410100e+05         NaN  0.000000e+00\n75%     2.110280e+05         NaN  7.000000e+00\nmax     2.788540e+05         NaN  1.000000e+01",
      "text/html": "<div>\n<style scoped>\n    .dataframe tbody tr th:only-of-type {\n        vertical-align: middle;\n    }\n\n    .dataframe tbody tr th {\n        vertical-align: top;\n    }\n\n    .dataframe thead th {\n        text-align: right;\n    }\n</style>\n<table border=\"1\" class=\"dataframe\">\n  <thead>\n    <tr style=\"text-align: right;\">\n      <th></th>\n      <th>User-ID</th>\n      <th>ISBN</th>\n      <th>Book-Rating</th>\n    </tr>\n  </thead>\n  <tbody>\n    <tr>\n      <th>count</th>\n      <td>1.149780e+06</td>\n      <td>1149780</td>\n      <td>1.149780e+06</td>\n    </tr>\n    <tr>\n      <th>unique</th>\n      <td>NaN</td>\n      <td>340556</td>\n      <td>NaN</td>\n    </tr>\n    <tr>\n      <th>top</th>\n      <td>NaN</td>\n      <td>0971880107</td>\n      <td>NaN</td>\n    </tr>\n    <tr>\n      <th>freq</th>\n      <td>NaN</td>\n      <td>2502</td>\n      <td>NaN</td>\n    </tr>\n    <tr>\n      <th>mean</th>\n      <td>1.403864e+05</td>\n      <td>NaN</td>\n      <td>2.866950e+00</td>\n    </tr>\n    <tr>\n      <th>std</th>\n      <td>8.056228e+04</td>\n      <td>NaN</td>\n      <td>3.854184e+00</td>\n    </tr>\n    <tr>\n      <th>min</th>\n      <td>2.000000e+00</td>\n      <td>NaN</td>\n      <td>0.000000e+00</td>\n    </tr>\n    <tr>\n      <th>25%</th>\n      <td>7.034500e+04</td>\n      <td>NaN</td>\n      <td>0.000000e+00</td>\n    </tr>\n    <tr>\n      <th>50%</th>\n      <td>1.410100e+05</td>\n      <td>NaN</td>\n      <td>0.000000e+00</td>\n    </tr>\n    <tr>\n      <th>75%</th>\n      <td>2.110280e+05</td>\n      <td>NaN</td>\n      <td>7.000000e+00</td>\n    </tr>\n    <tr>\n      <th>max</th>\n      <td>2.788540e+05</td>\n      <td>NaN</td>\n      <td>1.000000e+01</td>\n    </tr>\n  </tbody>\n</table>\n</div>"
     },
     "execution_count": 32,
     "metadata": {},
     "output_type": "execute_result"
    }
   ],
   "source": [
    "df_ratings.describe(include='all')"
   ],
   "metadata": {
    "collapsed": false,
    "ExecuteTime": {
     "end_time": "2024-05-05T15:54:41.016904Z",
     "start_time": "2024-05-05T15:54:39.866168Z"
    }
   },
   "id": "d00596d3115bc433",
   "execution_count": 32
  },
  {
   "cell_type": "markdown",
   "source": [
    "Showing if there is any missing values"
   ],
   "metadata": {
    "collapsed": false
   },
   "id": "138581ee611296ae"
  },
  {
   "cell_type": "code",
   "outputs": [
    {
     "data": {
      "text/plain": "                 0  1\nUser-ID      False  0\nISBN         False  0\nBook-Rating  False  0",
      "text/html": "<div>\n<style scoped>\n    .dataframe tbody tr th:only-of-type {\n        vertical-align: middle;\n    }\n\n    .dataframe tbody tr th {\n        vertical-align: top;\n    }\n\n    .dataframe thead th {\n        text-align: right;\n    }\n</style>\n<table border=\"1\" class=\"dataframe\">\n  <thead>\n    <tr style=\"text-align: right;\">\n      <th></th>\n      <th>0</th>\n      <th>1</th>\n    </tr>\n  </thead>\n  <tbody>\n    <tr>\n      <th>User-ID</th>\n      <td>False</td>\n      <td>0</td>\n    </tr>\n    <tr>\n      <th>ISBN</th>\n      <td>False</td>\n      <td>0</td>\n    </tr>\n    <tr>\n      <th>Book-Rating</th>\n      <td>False</td>\n      <td>0</td>\n    </tr>\n  </tbody>\n</table>\n</div>"
     },
     "execution_count": 33,
     "metadata": {},
     "output_type": "execute_result"
    }
   ],
   "source": [
    "pd.concat([df_ratings.isna().any(), df_ratings.isna().sum()], axis=1)"
   ],
   "metadata": {
    "collapsed": false,
    "ExecuteTime": {
     "end_time": "2024-05-05T15:54:44.625442Z",
     "start_time": "2024-05-05T15:54:44.553077Z"
    }
   },
   "id": "7e7f080103d686e0",
   "execution_count": 33
  },
  {
   "cell_type": "markdown",
   "source": [
    "#### <b> Cleaning of numerical features ('Book-Rating')</b>\n",
    "\n",
    "As observed, although ratings shall be in 1 to 10 inclusive, there are still some records with their ratings equals 0\n",
    "\n",
    "This means that the particular user has viewed the book but did not give a rating (as indicated in Kaggle)\n",
    "\n",
    "However, implicit ratings in not in the scope of this project, so zero ratings are dropped"
   ],
   "metadata": {
    "collapsed": false
   },
   "id": "e87139d59327f3d"
  },
  {
   "cell_type": "code",
   "outputs": [],
   "source": [
    "df_ratings = df_ratings[df_ratings['Book-Rating'] != 0]"
   ],
   "metadata": {
    "collapsed": false,
    "ExecuteTime": {
     "end_time": "2024-05-05T15:54:55.178115Z",
     "start_time": "2024-05-05T15:54:55.142258Z"
    }
   },
   "id": "31edf2d04cb1f21b",
   "execution_count": 34
  },
  {
   "cell_type": "markdown",
   "source": [
    "## 2.4 Merging Data\n",
    "\n",
    "Before we proceed, we merge all cleaned dataframes together"
   ],
   "metadata": {
    "collapsed": false
   },
   "id": "c55335aa37555873"
  },
  {
   "cell_type": "markdown",
   "source": [
    "# 3.0 Collaborative Filtering Recommender System\n",
    "\n",
    "## 3.1 User-Based Collaborative Filtering\n",
    "\n",
    "We will build a user-based collaborative filtering recommender system as a part of the hybrid recommender system\n",
    "\n",
    "We will be using Singular Vector Decomposition (SVD) as the prediction model, the training process, is shown as follows\n",
    "\n",
    "1. Merging df_books and df_users into a dataframe\n",
    "2. Further cleaning and filtering of data\n",
    "3. Fitting the model to data\n",
    "4. Filtering out the top-k significant latent factors\n",
    " \n",
    "### 3.1.1 Further Cleaning and Filtering of Data\n",
    "\n",
    "Showing 'Year-Of-Publication' of books rated by the users"
   ],
   "metadata": {
    "collapsed": false
   },
   "id": "993038b5c5d9fda6"
  },
  {
   "cell_type": "code",
   "outputs": [
    {
     "data": {
      "text/plain": "              ISBN                                     Book-Title  \\\n0       0002005018                                   Clara Callan   \n1       0002005018                                   Clara Callan   \n2       0002005018                                   Clara Callan   \n3       0002005018                                   Clara Callan   \n4       0002005018                                   Clara Callan   \n...            ...                                            ...   \n383445  0395264707                                     Dreamsnake   \n383446  1845170423                              Cocktail Classics   \n383447  0449906736  Flashpoints: Promise and Peril in a New World   \n383448  0440400988                     There's a Bat in Bunk Five   \n383449  0525447644                        From One to One Hundred   \n\n                 Book-Author  Year-Of-Publication  \\\n0       Richard Bruce Wright               2001.0   \n1       Richard Bruce Wright               2001.0   \n2       Richard Bruce Wright               2001.0   \n3       Richard Bruce Wright               2001.0   \n4       Richard Bruce Wright               2001.0   \n...                      ...                  ...   \n383445     Vonda N. McIntyre               1978.0   \n383446           David Biggs               2004.0   \n383447          Robin Wright               1993.0   \n383448        Paula Danziger               1988.0   \n383449            Teri Sloat               1991.0   \n\n                              Publisher  User-ID  Book-Rating  \\\n0                 HarperFlamingo Canada        8            5   \n1                 HarperFlamingo Canada    11676            8   \n2                 HarperFlamingo Canada    67544            8   \n3                 HarperFlamingo Canada   116866            9   \n4                 HarperFlamingo Canada   123629            9   \n...                                 ...      ...          ...   \n383445                 Houghton Mifflin   275318           10   \n383446                        Connaught   275970            7   \n383447                 Ballantine Books   276313            5   \n383448  Random House Childrens Pub (Mm)   276463            7   \n383449                     Dutton Books   276579            4   \n\n                             Location  \n0            timmins, ontario, canada  \n1                       n/a, n/a, n/a  \n2            toronto, ontario, canada  \n3                           ottawa, ,  \n4           kingston, ontario, canada  \n...                               ...  \n383445     klamath falls, oregon, usa  \n383446  pittsburgh, pennsylvania, usa  \n383447     livermore, california, usa  \n383448  providence, rhode island, usa  \n383449                orem, utah, usa  \n\n[383450 rows x 8 columns]",
      "text/html": "<div>\n<style scoped>\n    .dataframe tbody tr th:only-of-type {\n        vertical-align: middle;\n    }\n\n    .dataframe tbody tr th {\n        vertical-align: top;\n    }\n\n    .dataframe thead th {\n        text-align: right;\n    }\n</style>\n<table border=\"1\" class=\"dataframe\">\n  <thead>\n    <tr style=\"text-align: right;\">\n      <th></th>\n      <th>ISBN</th>\n      <th>Book-Title</th>\n      <th>Book-Author</th>\n      <th>Year-Of-Publication</th>\n      <th>Publisher</th>\n      <th>User-ID</th>\n      <th>Book-Rating</th>\n      <th>Location</th>\n    </tr>\n  </thead>\n  <tbody>\n    <tr>\n      <th>0</th>\n      <td>0002005018</td>\n      <td>Clara Callan</td>\n      <td>Richard Bruce Wright</td>\n      <td>2001.0</td>\n      <td>HarperFlamingo Canada</td>\n      <td>8</td>\n      <td>5</td>\n      <td>timmins, ontario, canada</td>\n    </tr>\n    <tr>\n      <th>1</th>\n      <td>0002005018</td>\n      <td>Clara Callan</td>\n      <td>Richard Bruce Wright</td>\n      <td>2001.0</td>\n      <td>HarperFlamingo Canada</td>\n      <td>11676</td>\n      <td>8</td>\n      <td>n/a, n/a, n/a</td>\n    </tr>\n    <tr>\n      <th>2</th>\n      <td>0002005018</td>\n      <td>Clara Callan</td>\n      <td>Richard Bruce Wright</td>\n      <td>2001.0</td>\n      <td>HarperFlamingo Canada</td>\n      <td>67544</td>\n      <td>8</td>\n      <td>toronto, ontario, canada</td>\n    </tr>\n    <tr>\n      <th>3</th>\n      <td>0002005018</td>\n      <td>Clara Callan</td>\n      <td>Richard Bruce Wright</td>\n      <td>2001.0</td>\n      <td>HarperFlamingo Canada</td>\n      <td>116866</td>\n      <td>9</td>\n      <td>ottawa, ,</td>\n    </tr>\n    <tr>\n      <th>4</th>\n      <td>0002005018</td>\n      <td>Clara Callan</td>\n      <td>Richard Bruce Wright</td>\n      <td>2001.0</td>\n      <td>HarperFlamingo Canada</td>\n      <td>123629</td>\n      <td>9</td>\n      <td>kingston, ontario, canada</td>\n    </tr>\n    <tr>\n      <th>...</th>\n      <td>...</td>\n      <td>...</td>\n      <td>...</td>\n      <td>...</td>\n      <td>...</td>\n      <td>...</td>\n      <td>...</td>\n      <td>...</td>\n    </tr>\n    <tr>\n      <th>383445</th>\n      <td>0395264707</td>\n      <td>Dreamsnake</td>\n      <td>Vonda N. McIntyre</td>\n      <td>1978.0</td>\n      <td>Houghton Mifflin</td>\n      <td>275318</td>\n      <td>10</td>\n      <td>klamath falls, oregon, usa</td>\n    </tr>\n    <tr>\n      <th>383446</th>\n      <td>1845170423</td>\n      <td>Cocktail Classics</td>\n      <td>David Biggs</td>\n      <td>2004.0</td>\n      <td>Connaught</td>\n      <td>275970</td>\n      <td>7</td>\n      <td>pittsburgh, pennsylvania, usa</td>\n    </tr>\n    <tr>\n      <th>383447</th>\n      <td>0449906736</td>\n      <td>Flashpoints: Promise and Peril in a New World</td>\n      <td>Robin Wright</td>\n      <td>1993.0</td>\n      <td>Ballantine Books</td>\n      <td>276313</td>\n      <td>5</td>\n      <td>livermore, california, usa</td>\n    </tr>\n    <tr>\n      <th>383448</th>\n      <td>0440400988</td>\n      <td>There's a Bat in Bunk Five</td>\n      <td>Paula Danziger</td>\n      <td>1988.0</td>\n      <td>Random House Childrens Pub (Mm)</td>\n      <td>276463</td>\n      <td>7</td>\n      <td>providence, rhode island, usa</td>\n    </tr>\n    <tr>\n      <th>383449</th>\n      <td>0525447644</td>\n      <td>From One to One Hundred</td>\n      <td>Teri Sloat</td>\n      <td>1991.0</td>\n      <td>Dutton Books</td>\n      <td>276579</td>\n      <td>4</td>\n      <td>orem, utah, usa</td>\n    </tr>\n  </tbody>\n</table>\n<p>383450 rows × 8 columns</p>\n</div>"
     },
     "execution_count": 35,
     "metadata": {},
     "output_type": "execute_result"
    }
   ],
   "source": [
    "df_final = df_books.merge(df_ratings, on='ISBN').merge(df_users, on='User-ID')\n",
    "df_final.to_csv(r'C:\\Users\\hp\\Downloads\\ai_assignment\\hybrid_code\\hybrid_csvs\\df_final.csv', index=False)\n",
    "df_final"
   ],
   "metadata": {
    "collapsed": false,
    "ExecuteTime": {
     "end_time": "2024-05-05T15:55:19.242577Z",
     "start_time": "2024-05-05T15:55:17.383082Z"
    }
   },
   "id": "feec8ef38ab227f3",
   "execution_count": 35
  },
  {
   "cell_type": "code",
   "outputs": [
    {
     "data": {
      "text/plain": "<Figure size 640x480 with 1 Axes>",
      "image/png": "[encoded data removed]"
     },
     "metadata": {},
     "output_type": "display_data"
    }
   ],
   "source": [
    "plt.hist(df_final['Year-Of-Publication'], bins=np.arange(1900, 2024, 2))\n",
    "plt.show()"
   ],
   "metadata": {
    "collapsed": false,
    "ExecuteTime": {
     "end_time": "2024-05-05T15:55:41.294591Z",
     "start_time": "2024-05-05T15:55:41.182144Z"
    }
   },
   "id": "ac9877a02b3835e0",
   "execution_count": 36
  },
  {
   "cell_type": "markdown",
   "source": [
    "Showing the ratings of users"
   ],
   "metadata": {
    "collapsed": false
   },
   "id": "2c0d748fb0ac1bbe"
  },
  {
   "cell_type": "code",
   "outputs": [
    {
     "data": {
      "text/plain": "<Figure size 640x480 with 1 Axes>",
      "image/png": "[encoded data removed]"
     },
     "metadata": {},
     "output_type": "display_data"
    }
   ],
   "source": [
    "plt.hist(df_final['Book-Rating'], bins=np.arange(0, 10, 1))\n",
    "plt.show()"
   ],
   "metadata": {
    "collapsed": false,
    "ExecuteTime": {
     "end_time": "2024-05-05T15:55:44.104247Z",
     "start_time": "2024-05-05T15:55:44.016523Z"
    }
   },
   "id": "95b275193d1b20e2",
   "execution_count": 37
  },
  {
   "cell_type": "markdown",
   "source": [
    "Showing the number of ratings of users"
   ],
   "metadata": {
    "collapsed": false
   },
   "id": "2790816833a667f8"
  },
  {
   "cell_type": "code",
   "outputs": [
    {
     "data": {
      "text/plain": "<Figure size 640x480 with 1 Axes>",
      "image/png": "[encoded data removed]"
     },
     "metadata": {},
     "output_type": "display_data"
    }
   ],
   "source": [
    "plt.hist(df_final.groupby('User-ID')['Book-Rating'].count(), bins=np.arange(0, 1000, 20))\n",
    "plt.yscale('log')\n",
    "plt.show()"
   ],
   "metadata": {
    "collapsed": false,
    "ExecuteTime": {
     "end_time": "2024-05-05T15:55:51.831570Z",
     "start_time": "2024-05-05T15:55:51.602903Z"
    }
   },
   "id": "19fa5a0f40ebff08",
   "execution_count": 38
  },
  {
   "cell_type": "markdown",
   "source": [
    "As observed a large number users rated for a few times only, these are considered 'unknowledgeable' users, which do not play an important role in the collaborative effort to recommend books\n",
    "Hence, we will drop the records of these users, with 200 ratings set as the threshold"
   ],
   "metadata": {
    "collapsed": false
   },
   "id": "a56ca242dddbde9e"
  },
  {
   "cell_type": "code",
   "outputs": [],
   "source": [
    "user_ratings_count = df_final.groupby('User-ID')['Book-Rating'].count()\n",
    "knowledgeable_users_index = user_ratings_count[user_ratings_count > 200].index\n",
    "df_collaborative = df_final[df_final['User-ID'].isin(knowledgeable_users_index)]"
   ],
   "metadata": {
    "collapsed": false,
    "ExecuteTime": {
     "end_time": "2024-05-05T15:56:01.313486Z",
     "start_time": "2024-05-05T15:56:01.271067Z"
    }
   },
   "id": "575060d09c40d775",
   "execution_count": 39
  },
  {
   "cell_type": "markdown",
   "source": [
    "Scaling 'Book-Rating' with a StandardScaler"
   ],
   "metadata": {
    "collapsed": false
   },
   "id": "fda02aa2e269aaf1"
  },
  {
   "cell_type": "code",
   "outputs": [],
   "source": [
    "scaler = StandardScaler()\n",
    "\n",
    "df_collaborative['Book-Rating-Scaled'] = scaler.fit_transform(df_collaborative[['Book-Rating']])\n",
    "\n",
    "scaler_mean = scaler.mean_[0]\n",
    "scaler_std = scaler.scale_[0]\n",
    "\n",
    "df_collaborative.to_csv(r'C:\\Users\\hp\\Downloads\\ai_assignment\\hybrid_code\\hybrid_csvs\\df_collaborative.csv')\n",
    "with open(r'C:\\Users\\hp\\Downloads\\ai_assignment\\hybrid_code\\embeddings\\scaler.json', 'w') as f:\n",
    "    json.dump({'scaler_mean':scaler_mean, 'scaler_std': scaler_std}, f)"
   ],
   "metadata": {
    "collapsed": false,
    "ExecuteTime": {
     "end_time": "2024-05-05T15:56:03.288678Z",
     "start_time": "2024-05-05T15:56:03.065784Z"
    }
   },
   "id": "9d5219e4dc6583ff",
   "execution_count": 40
  },
  {
   "cell_type": "markdown",
   "source": [
    "### 3.1.2 Fitting Model to Data\n",
    "\n",
    "Starting to build model using SVD"
   ],
   "metadata": {
    "collapsed": false
   },
   "id": "93b95905ba85222a"
  },
  {
   "cell_type": "code",
   "outputs": [],
   "source": [
    "df_collaborative_pivot = df_collaborative.pivot_table(index='User-ID', columns='ISBN',\n",
    "                                                           values='Book-Rating-Scaled').fillna(0)\n",
    "df_collaborative_sparse = csr_matrix(df_collaborative_pivot)\n",
    "\n",
    "n_latent_factors = df_collaborative_sparse.shape[0] - 1\n",
    "u, sigma, vt = svds(df_collaborative_sparse, n_latent_factors)\n",
    "\n",
    "np.save(r'C:\\Users\\hp\\Downloads\\ai_assignment\\hybrid_code\\svds\\u.npy', u)\n",
    "np.save(r'C:\\Users\\hp\\Downloads\\ai_assignment\\hybrid_code\\svds\\sigma.npy', sigma)\n",
    "np.save(r'C:\\Users\\hp\\Downloads\\ai_assignment\\hybrid_code\\svds\\vt.npy', vt)"
   ],
   "metadata": {
    "collapsed": false,
    "ExecuteTime": {
     "end_time": "2024-05-05T15:56:19.101865Z",
     "start_time": "2024-05-05T15:56:17.066828Z"
    }
   },
   "id": "d93952af3ab483cc",
   "execution_count": 41
  },
  {
   "cell_type": "markdown",
   "source": [
    "### 3.1.4 Filtering Top-k Significant Latent Features\n",
    "\n",
    "Proportion plot for determining elbow point for k"
   ],
   "metadata": {
    "collapsed": false
   },
   "id": "866099ba0c3129cb"
  },
  {
   "cell_type": "code",
   "outputs": [
    {
     "data": {
      "text/plain": "<Figure size 640x480 with 1 Axes>",
      "image/png": "[encoded data removed]"
     },
     "metadata": {},
     "output_type": "display_data"
    }
   ],
   "source": [
    "total_sigma = [np.sum(sigma[len(sigma) - i:] ** 2) / np.sum(sigma ** 2) for i in range(len(sigma))]\n",
    "\n",
    "plt.plot(total_sigma)\n",
    "plt.title(\"Proportion of Total Variance Explained by Singular Values\")\n",
    "plt.xlabel(\"Number of Singular Values (or Components)\")\n",
    "plt.ylabel(\"Proportion of Total Variance Explained\")\n",
    "plt.show()"
   ],
   "metadata": {
    "collapsed": false,
    "ExecuteTime": {
     "end_time": "2024-05-05T15:56:51.839457Z",
     "start_time": "2024-05-05T15:56:51.741585Z"
    }
   },
   "id": "ca0ed70214a8b6cb",
   "execution_count": 42
  },
  {
   "cell_type": "markdown",
   "source": [
    "### 3.1.3 Making Predictions\n",
    "\n",
    "The process for making prediction is shown as follows\n",
    "\n",
    "1. Finding user-item interaction for the target user and impute with 0 if interaction not found\n",
    "2. Finding n nearest neighbours for the target user using cosine similarity\n",
    "3. Getting recommendations for neighbours\n",
    "4. Calculating weighted average for ratings in recommendations and returning the top-10 books to the target user\n",
    "\n",
    "#### 3.1.3.1 Finding User-item Interaction for Target User"
   ],
   "metadata": {
    "collapsed": false
   },
   "id": "65d26fe09bff5b3d"
  },
  {
   "cell_type": "code",
   "outputs": [],
   "source": [
    "def get_target_user_interaction(user_id):\n",
    "    mean = scaler_mean\n",
    "    std = scaler_std\n",
    "    df_database_interaction = pd.DataFrame()\n",
    "\n",
    "    df_past_interaction = pd.DataFrame()\n",
    "    if user_id in df_collaborative_pivot.index:\n",
    "        df_past_interaction = df_collaborative_pivot.loc[user_id].reset_index().rename(columns={'ISBN':'ISBN',user_id:'Past Rating'})\n",
    "\n",
    "    df_other_interaction = pd.DataFrame()\n",
    "    if user_id in df_final['User-ID']:\n",
    "        df_other_interaction = df_final[(df_final['ISBN'].isin(df_collaborative_pivot.columns)) & (df_final['User-ID'] == user_id)][['ISBN','Book-Rating']].rename(columns={'ISBN':'ISBN','Book-Rating':'Other Rating'})\n",
    "        df_other_interaction['Other Rating'] = (df_other_interaction['Other Rating'] - mean) / std\n",
    "    \n",
    "    df_all_interaction = pd.DataFrame()\n",
    "    df_all_interaction['ISBN'] = df_collaborative_pivot.columns\n",
    "    df_all_interaction['Default Rating'] = (0 - mean) / std\n",
    "    \n",
    "    if not df_past_interaction.empty:\n",
    "        df_all_interaction = df_past_interaction.copy()\n",
    "    if not df_other_interaction.empty:\n",
    "            df_all_interaction = pd.merge(df_all_interaction, df_other_interaction, how='left', on='ISBN')\n",
    "            df_all_interaction = df_all_interaction.fillna((0 - mean) / std)\n",
    "    if not df_database_interaction.empty:\n",
    "            df_all_interaction = pd.merge(df_all_interaction, df_database_interaction, how='left', on='ISBN')\n",
    "            df_all_interaction = df_all_interaction.fillna((0 - mean) / std)\n",
    "\n",
    "\n",
    "    if not df_past_interaction.empty:\n",
    "        df_all_interaction['Max'] = df_all_interaction['Past Rating'].values\n",
    "        if not df_other_interaction.empty:\n",
    "            df_all_interaction['Max'] = df_all_interaction['Past Rating'].where(df_all_interaction['Past Rating'] > df_all_interaction['Other Rating'], df_all_interaction['Other Rating'])\n",
    "        if not df_database_interaction.empty:\n",
    "            df_all_interaction['Max'] = df_all_interaction['Max'].where(df_all_interaction['Max'] > df_all_interaction['Database Rating'], df_all_interaction['Database Rating'])\n",
    "    elif not df_other_interaction.empty:\n",
    "        df_all_interaction['Max'] = df_all_interaction['Other Rating'].values\n",
    "        if not df_database_interaction.empty:\n",
    "            df_all_interaction['Max'] = df_all_interaction['Other Rating'].where(df_all_interaction['Other Rating'] > df_all_interaction['Database Rating'], df_all_interaction['Database Rating'])\n",
    "    elif not df_database_interaction.empty:\n",
    "        df_all_interaction['Max'] = df_all_interaction['Database Rating'].values\n",
    "    else:\n",
    "        return None\n",
    "\n",
    "    df_all_interaction = df_all_interaction.set_index('ISBN')\n",
    "    return df_all_interaction['Max']"
   ],
   "metadata": {
    "collapsed": false,
    "ExecuteTime": {
     "end_time": "2024-05-05T15:58:42.487364Z",
     "start_time": "2024-05-05T15:58:42.474549Z"
    }
   },
   "id": "f91abe0211718b74",
   "execution_count": 43
  },
  {
   "cell_type": "markdown",
   "source": [
    "#### 3.1.3.2 Finding n Nearest Neighbours\n",
    "\n",
    "Defining the function to find n nearest neighbours for the target user"
   ],
   "metadata": {
    "collapsed": false
   },
   "id": "200022963691888"
  },
  {
   "cell_type": "code",
   "outputs": [],
   "source": [
    "def find_n_nearest_neighbours_with_cosine_similarity(user_id, target_user_interaction, n=7):\n",
    "    neighbours_distance = pd.Series([1 - cosine(target_user_interaction, df_collaborative_pivot.loc[neighbour_id]) for neighbour_id in df_collaborative_pivot.index])\n",
    "    neighbours_distance.name = 'Cosine Similarity'\n",
    "    \n",
    "    add = 1 if user_id in df_collaborative_pivot.index else 0\n",
    "    return pd.concat([neighbours_distance, pd.Series(df_collaborative_pivot.index)], axis=1).sort_values(by='Cosine Similarity', ascending=False)[add : n + add]"
   ],
   "metadata": {
    "collapsed": false,
    "ExecuteTime": {
     "end_time": "2024-05-05T15:59:05.299045Z",
     "start_time": "2024-05-05T15:59:05.292627Z"
    }
   },
   "id": "b1d7c4a3103ca3cc",
   "execution_count": 44
  },
  {
   "cell_type": "markdown",
   "source": [
    "#### 3.1.3.3 Getting Recommendations for Neighbours\n",
    "\n",
    "Defining the function to get recommendations for neighbours"
   ],
   "metadata": {
    "collapsed": false
   },
   "id": "c30d2fcb42c2960c"
  },
  {
   "cell_type": "code",
   "outputs": [],
   "source": [
    "def get_recommendations(user_id):\n",
    "    user_latent_factors = u[df_collaborative_pivot.index.get_loc(user_id)]\n",
    "    predicted_ratings = np.dot(user_latent_factors, np.dot(np.diag(sigma), vt))\n",
    "    predicted_ratings_scaled = scaler.inverse_transform(predicted_ratings.reshape(-1, 1))[:, 0]\n",
    "    return pd.Series(predicted_ratings_scaled, index=df_collaborative_pivot.columns).sort_values(ascending=False)\n",
    "\n",
    "def get_all_neighbours_recommendations(neighbour_ids):\n",
    "    all_neighbours_recommendations = pd.DataFrame()\n",
    "    for neighbour_id in neighbour_ids:\n",
    "        neighbour_recommendations = get_recommendations(neighbour_id)\n",
    "        neighbour_recommendations.name = neighbour_id\n",
    "        all_neighbours_recommendations = pd.concat([all_neighbours_recommendations,neighbour_recommendations], axis=1)\n",
    "    return all_neighbours_recommendations"
   ],
   "metadata": {
    "collapsed": false,
    "ExecuteTime": {
     "end_time": "2024-05-05T16:02:50.320958Z",
     "start_time": "2024-05-05T16:02:50.311379Z"
    }
   },
   "id": "b2c07872012b014e",
   "execution_count": 45
  },
  {
   "cell_type": "markdown",
   "source": [
    "#### 3.1.3.4 Calculating Weighted Average for Ratings\n",
    "\n",
    "Defining the function to calculate weighted average for ratings"
   ],
   "metadata": {
    "collapsed": false
   },
   "id": "6b8541b28b3d1c77"
  },
  {
   "cell_type": "code",
   "outputs": [],
   "source": [
    "def get_collaborative_weighted_recommendations(df_neighbours,df_all_neighbour_recommendations):\n",
    "    df_all_with_weights = pd.merge(df_neighbours, df_all_neighbour_recommendations.stack().reset_index(name = 'Predicted Rating').rename(columns = {'level_0':'ISBN','level_1':'User-ID'}), on = 'User-ID')\n",
    "    df_all_with_weights['Weighted Sum'] = df_all_with_weights['Cosine Similarity'] * df_all_with_weights['Predicted Rating']\n",
    "    return df_all_with_weights.groupby('ISBN')['Weighted Sum'].sum() / df_all_with_weights.groupby('ISBN')['Cosine Similarity'].sum()"
   ],
   "metadata": {
    "collapsed": false,
    "ExecuteTime": {
     "end_time": "2024-05-05T16:02:57.476715Z",
     "start_time": "2024-05-05T16:02:57.470661Z"
    }
   },
   "id": "b400af43d42dc95d",
   "execution_count": 46
  },
  {
   "cell_type": "markdown",
   "source": [
    "#### 3.1.3.5 Calling functions\n",
    "\n",
    "Calling function to perform the processes mentioned"
   ],
   "metadata": {
    "collapsed": false
   },
   "id": "a02f397e7520f1c5"
  },
  {
   "cell_type": "code",
   "outputs": [
    {
     "data": {
      "text/plain": "ISBN\n0000913154    7.798737\n0001046438    7.798737\n000104687X    7.798736\n0001047213    7.798737\n0001047973    7.798737\n                ...   \nB00001U0CP    7.798739\nB00005TZWI    7.798738\nB00007FYKW    7.798737\nB0000T6KHI    7.798725\nB000234N3A    7.972405\nLength: 44247, dtype: float64"
     },
     "execution_count": 47,
     "metadata": {},
     "output_type": "execute_result"
    }
   ],
   "source": [
    "target_user = 76499\n",
    "\n",
    "def get_collaborative_recommendations(user_id, n = 7):\n",
    "    target_user_interaction = get_target_user_interaction(user_id)\n",
    "    if target_user_interaction is not None:\n",
    "        df_neighbours = find_n_nearest_neighbours_with_cosine_similarity(user_id, target_user_interaction, n = n)\n",
    "        df_all_neighbour_recommendations = get_all_neighbours_recommendations(df_neighbours['User-ID'])\n",
    "        return get_collaborative_weighted_recommendations(df_neighbours, df_all_neighbour_recommendations), df_neighbours['Cosine Similarity'].mean()\n",
    "    else:\n",
    "        return None, 0\n",
    "\n",
    "single_svd_recommendation, _ = get_collaborative_recommendations(target_user)\n",
    "single_svd_recommendation"
   ],
   "metadata": {
    "collapsed": false,
    "ExecuteTime": {
     "end_time": "2024-05-05T16:03:10.801961Z",
     "start_time": "2024-05-05T16:03:09.597552Z"
    }
   },
   "id": "4a5b74899bdf627",
   "execution_count": 47
  },
  {
   "cell_type": "markdown",
   "source": [
    "### 3.1.4 Model Evaluation\n",
    "\n",
    "We evaluate the performance of our SVD model with Root Mean Squared Error (RSME)"
   ],
   "metadata": {
    "collapsed": false
   },
   "id": "d8d557b61cb4d14d"
  },
  {
   "cell_type": "code",
   "outputs": [],
   "source": [
    "def get_df_svd_evaluation(minimum_rating_count = 125, n = 7):\n",
    "    df_svd_evaluation_predictions = pd.DataFrame()\n",
    "\n",
    "    evaluation_user_index = df_final.groupby('User-ID')['Book-Rating'].count()\n",
    "    svd_evaluation_users =  df_final[df_final['User-ID'].isin(evaluation_user_index[evaluation_user_index > minimum_rating_count].index)]\n",
    "    \n",
    "    for user_id in svd_evaluation_users['User-ID'].unique():\n",
    "        single_svd_recommendation, _ = get_collaborative_recommendations(user_id, n = n)\n",
    "        if single_svd_recommendation is None:\n",
    "            continue\n",
    "        single_svd_recommendation = single_svd_recommendation.reset_index().rename(columns = {'ISBN':'ISBN', 0:'SVD Predicted Rating'})\n",
    "        single_svd_recommendation['User-ID'] = user_id\n",
    "        df_svd_evaluation_predictions = pd.concat([df_svd_evaluation_predictions, single_svd_recommendation], axis = 0)\n",
    "\n",
    "    df_svd_evaluation = pd.DataFrame(df_final[['ISBN','Book-Rating','User-ID']])\n",
    "    df_svd_evaluation = df_svd_evaluation.merge(df_svd_evaluation_predictions,on=['ISBN','User-ID'],how='inner')\n",
    "    return df_svd_evaluation\n",
    "\n",
    "def get_svd_rmse(minimum_rating_count = 125, n = 7):\n",
    "    df_svd_evaluation = get_df_svd_evaluation(minimum_rating_count = minimum_rating_count, n = n)\n",
    "    rmse = sqrt(mean_squared_error(df_svd_evaluation['SVD Predicted Rating'], df_svd_evaluation['Book-Rating']))\n",
    "    print(f\"Root mean square error (RMSE) for Collaborative Filtering with n = {n}: {rmse:.4f}\")"
   ],
   "metadata": {
    "collapsed": false,
    "ExecuteTime": {
     "end_time": "2024-05-05T16:04:33.783473Z",
     "start_time": "2024-05-05T16:04:33.771551Z"
    }
   },
   "id": "41d7d96d3727e411",
   "execution_count": 48
  },
  {
   "cell_type": "markdown",
   "source": [
    "We now evaluate with n = 10"
   ],
   "metadata": {
    "collapsed": false
   },
   "id": "93c2873165ed4da9"
  },
  {
   "cell_type": "code",
   "outputs": [
    {
     "name": "stdout",
     "output_type": "stream",
     "text": [
      "Root mean square error (RMSE) for Collaborative Filtering with n = 10: 1.8145\n"
     ]
    }
   ],
   "source": [
    "get_svd_rmse(n = 10)"
   ],
   "metadata": {
    "collapsed": false,
    "ExecuteTime": {
     "end_time": "2024-05-05T16:10:59.244196Z",
     "start_time": "2024-05-05T16:04:36.732625Z"
    }
   },
   "id": "1d1524361dfd1b73",
   "execution_count": 49
  },
  {
   "cell_type": "markdown",
   "source": [
    "### 3.1.4 Model Fine-Tuning\n",
    "\n",
    "We fine tune the SVD model with different number of n"
   ],
   "metadata": {
    "collapsed": false
   },
   "id": "30d2f7724b44e7c1"
  },
  {
   "cell_type": "code",
   "outputs": [
    {
     "name": "stdout",
     "output_type": "stream",
     "text": [
      "Root mean square error (RMSE) for Collaborative Filtering with n = 3: 1.8183\n",
      "Root mean square error (RMSE) for Collaborative Filtering with n = 5: 1.8153\n",
      "Root mean square error (RMSE) for Collaborative Filtering with n = 7: 1.8139\n"
     ]
    }
   ],
   "source": [
    "for i in [3, 5, 7]:\n",
    "    get_svd_rmse(n = i)"
   ],
   "metadata": {
    "collapsed": false,
    "ExecuteTime": {
     "end_time": "2024-05-05T16:24:30.734708Z",
     "start_time": "2024-05-05T16:12:19.210095Z"
    }
   },
   "id": "42cbf9c841d4149f",
   "execution_count": 50
  },
  {
   "cell_type": "markdown",
   "source": [
    "Hence, we can conclude that collaborative filtering with n = 7 works the best"
   ],
   "metadata": {
    "collapsed": false
   },
   "id": "aece6da8a2b9d91b"
  },
  {
   "cell_type": "markdown",
   "source": [
    "# 4.0 Content Based Filtering Recommender System\n",
    "\n",
    "## 4.1 Multilayer Perceptron (MLP) Model\n",
    "\n",
    "We will build a content-based collaborative filtering recommender system as another part of the hybrid recommender system\n",
    "\n",
    "We will be using multiplayer perceptron with Sequential from Keras, as the prediction model, the training process, is shown as follows\n",
    "\n",
    " \n",
    "### 4.1.1 Further Cleaning and Filtering of Data\n",
    "\n",
    "Showing top 20 most rated books\n"
   ],
   "metadata": {
    "collapsed": false
   },
   "id": "d3cd04164319855a"
  },
  {
   "cell_type": "code",
   "outputs": [
    {
     "data": {
      "text/plain": "<Figure size 640x480 with 1 Axes>",
      "image/png": "[encoded data removed]"
     },
     "metadata": {},
     "output_type": "display_data"
    }
   ],
   "source": [
    "top_books = df_final.groupby('Book-Title')['User-ID'].nunique().sort_values(ascending=False).head(20)\n",
    "df_top_books = pd.DataFrame({'Book Title': top_books.index, 'Rated Count': top_books.values})\n",
    "plt.bar(df_top_books['Book Title'], df_top_books['Rated Count'])\n",
    "plt.title('Top 20 Most Rated Books')\n",
    "plt.xlabel('Book Title')\n",
    "plt.ylabel('Rated Count')\n",
    "plt.xticks(rotation=90, fontsize=8)\n",
    "plt.show()"
   ],
   "metadata": {
    "collapsed": false,
    "ExecuteTime": {
     "end_time": "2024-05-05T16:29:09.625216Z",
     "start_time": "2024-05-05T16:29:08.994595Z"
    }
   },
   "id": "b4869c07288f8f95",
   "execution_count": 51
  },
  {
   "cell_type": "markdown",
   "source": [
    "Showing top 20 authors with the most written books"
   ],
   "metadata": {
    "collapsed": false
   },
   "id": "211f1c7eacc5a7bc"
  },
  {
   "cell_type": "code",
   "outputs": [
    {
     "data": {
      "text/plain": "<Figure size 640x480 with 1 Axes>",
      "image/png": "[encoded data removed]"
     },
     "metadata": {},
     "output_type": "display_data"
    }
   ],
   "source": [
    "top_authors = df_final.groupby('Book-Author')['ISBN'].nunique().sort_values(ascending=False).head(20)\n",
    "df_top_authors = pd.DataFrame({'Book Author': top_authors.index, 'Book Count': top_authors.values})\n",
    "plt.bar(df_top_authors['Book Author'], df_top_authors['Book Count'])\n",
    "plt.title('Top 20 Authors with the Most Written Books')\n",
    "plt.xlabel('Book Author')\n",
    "plt.ylabel('Book Count')\n",
    "plt.xticks(rotation=90, fontsize=8)\n",
    "plt.show()"
   ],
   "metadata": {
    "collapsed": false,
    "ExecuteTime": {
     "end_time": "2024-05-05T16:29:15.835774Z",
     "start_time": "2024-05-05T16:29:15.598016Z"
    }
   },
   "id": "cf9cffb7d44c3d4b",
   "execution_count": 52
  },
  {
   "cell_type": "markdown",
   "source": [
    "Showing top 20 locations where most users staying"
   ],
   "metadata": {
    "collapsed": false
   },
   "id": "d3f2db34df16ed2b"
  },
  {
   "cell_type": "code",
   "outputs": [
    {
     "data": {
      "text/plain": "<Figure size 640x480 with 1 Axes>",
      "image/png": "[encoded data removed]"
     },
     "metadata": {},
     "output_type": "display_data"
    }
   ],
   "source": [
    "top_locations = df_final.groupby('Location')['User-ID'].nunique().sort_values(ascending=False).head(20)\n",
    "df_top_locations = pd.DataFrame({'Location': top_locations.index, 'User Count': top_locations.values})\n",
    "plt.bar(df_top_locations['Location'], df_top_locations['User Count'])\n",
    "plt.title('Top 20 Location where Most Users Staying')\n",
    "plt.xlabel('Location')\n",
    "plt.ylabel('User Count')\n",
    "plt.xticks(rotation=90, fontsize=8)\n",
    "plt.show()"
   ],
   "metadata": {
    "collapsed": false,
    "ExecuteTime": {
     "end_time": "2024-05-05T16:29:19.748736Z",
     "start_time": "2024-05-05T16:29:19.430099Z"
    }
   },
   "id": "68bc3a8a1250ae36",
   "execution_count": 53
  },
  {
   "cell_type": "markdown",
   "source": [
    "### 4.1.2 Fitting Model to Data\n",
    "\n",
    "We first embed the text features ('Book-Title', 'Book-Author', 'Publisher', 'Location') with term frequency inverse document frequency (TFIDF) vectorizer"
   ],
   "metadata": {
    "collapsed": false
   },
   "id": "b17486e6aa75ea31"
  },
  {
   "cell_type": "code",
   "outputs": [
    {
     "data": {
      "text/plain": "        ace books  alabama usa  alaska usa  alberta canada  alfred knopf  \\\n0             0.0          0.0         0.0             0.0           0.0   \n1             0.0          0.0         0.0             0.0           0.0   \n2             0.0          0.0         0.0             0.0           0.0   \n3             0.0          0.0         0.0             0.0           0.0   \n4             0.0          0.0         0.0             0.0           0.0   \n...           ...          ...         ...             ...           ...   \n383445        0.0          0.0         0.0             0.0           0.0   \n383446        0.0          0.0         0.0             0.0           0.0   \n383447        0.0          0.0         0.0             0.0           0.0   \n383448        0.0          0.0         0.0             0.0           0.0   \n383449        0.0          0.0         0.0             0.0           0.0   \n\n        amp company  amp schuster  andrews mcmeel  anne rice  antonio texas  \\\n0               0.0           0.0             0.0        0.0            0.0   \n1               0.0           0.0             0.0        0.0            0.0   \n2               0.0           0.0             0.0        0.0            0.0   \n3               0.0           0.0             0.0        0.0            0.0   \n4               0.0           0.0             0.0        0.0            0.0   \n...             ...           ...             ...        ...            ...   \n383445          0.0           0.0             0.0        0.0            0.0   \n383446          0.0           0.0             0.0        0.0            0.0   \n383447          0.0           0.0             0.0        0.0            0.0   \n383448          0.0           0.0             0.0        0.0            0.0   \n383449          0.0           0.0             0.0        0.0            0.0   \n\n        ...  washington usa  west virginia  westfalen germany  william morrow  \\\n0       ...             0.0            0.0                0.0             0.0   \n1       ...             0.0            0.0                0.0             0.0   \n2       ...             0.0            0.0                0.0             0.0   \n3       ...             0.0            0.0                0.0             0.0   \n4       ...             0.0            0.0                0.0             0.0   \n...     ...             ...            ...                ...             ...   \n383445  ...             0.0            0.0                0.0             0.0   \n383446  ...             0.0            0.0                0.0             0.0   \n383447  ...             0.0            0.0                0.0             0.0   \n383448  ...             0.0            0.0                0.0             0.0   \n383449  ...             0.0            0.0                0.0             0.0   \n\n        wisconsin usa  wuerttemberg germany  york new  york usa  zebra books  \\\n0                 0.0                   0.0       0.0       0.0          0.0   \n1                 0.0                   0.0       0.0       0.0          0.0   \n2                 0.0                   0.0       0.0       0.0          0.0   \n3                 0.0                   0.0       0.0       0.0          0.0   \n4                 0.0                   0.0       0.0       0.0          0.0   \n...               ...                   ...       ...       ...          ...   \n383445            0.0                   0.0       0.0       0.0          0.0   \n383446            0.0                   0.0       0.0       0.0          0.0   \n383447            0.0                   0.0       0.0       0.0          0.0   \n383448            0.0                   0.0       0.0       0.0          0.0   \n383449            0.0                   0.0       0.0       0.0          0.0   \n\n        Year-Of-Publication  \n0                    2001.0  \n1                    2001.0  \n2                    2001.0  \n3                    2001.0  \n4                    2001.0  \n...                     ...  \n383445               1978.0  \n383446               2004.0  \n383447               1993.0  \n383448               1988.0  \n383449               1991.0  \n\n[383450 rows x 201 columns]",
      "text/html": "<div>\n<style scoped>\n    .dataframe tbody tr th:only-of-type {\n        vertical-align: middle;\n    }\n\n    .dataframe tbody tr th {\n        vertical-align: top;\n    }\n\n    .dataframe thead th {\n        text-align: right;\n    }\n</style>\n<table border=\"1\" class=\"dataframe\">\n  <thead>\n    <tr style=\"text-align: right;\">\n      <th></th>\n      <th>ace books</th>\n      <th>alabama usa</th>\n      <th>alaska usa</th>\n      <th>alberta canada</th>\n      <th>alfred knopf</th>\n      <th>amp company</th>\n      <th>amp schuster</th>\n      <th>andrews mcmeel</th>\n      <th>anne rice</th>\n      <th>antonio texas</th>\n      <th>...</th>\n      <th>washington usa</th>\n      <th>west virginia</th>\n      <th>westfalen germany</th>\n      <th>william morrow</th>\n      <th>wisconsin usa</th>\n      <th>wuerttemberg germany</th>\n      <th>york new</th>\n      <th>york usa</th>\n      <th>zebra books</th>\n      <th>Year-Of-Publication</th>\n    </tr>\n  </thead>\n  <tbody>\n    <tr>\n      <th>0</th>\n      <td>0.0</td>\n      <td>0.0</td>\n      <td>0.0</td>\n      <td>0.0</td>\n      <td>0.0</td>\n      <td>0.0</td>\n      <td>0.0</td>\n      <td>0.0</td>\n      <td>0.0</td>\n      <td>0.0</td>\n      <td>...</td>\n      <td>0.0</td>\n      <td>0.0</td>\n      <td>0.0</td>\n      <td>0.0</td>\n      <td>0.0</td>\n      <td>0.0</td>\n      <td>0.0</td>\n      <td>0.0</td>\n      <td>0.0</td>\n      <td>2001.0</td>\n    </tr>\n    <tr>\n      <th>1</th>\n      <td>0.0</td>\n      <td>0.0</td>\n      <td>0.0</td>\n      <td>0.0</td>\n      <td>0.0</td>\n      <td>0.0</td>\n      <td>0.0</td>\n      <td>0.0</td>\n      <td>0.0</td>\n      <td>0.0</td>\n      <td>...</td>\n      <td>0.0</td>\n      <td>0.0</td>\n      <td>0.0</td>\n      <td>0.0</td>\n      <td>0.0</td>\n      <td>0.0</td>\n      <td>0.0</td>\n      <td>0.0</td>\n      <td>0.0</td>\n      <td>2001.0</td>\n    </tr>\n    <tr>\n      <th>2</th>\n      <td>0.0</td>\n      <td>0.0</td>\n      <td>0.0</td>\n      <td>0.0</td>\n      <td>0.0</td>\n      <td>0.0</td>\n      <td>0.0</td>\n      <td>0.0</td>\n      <td>0.0</td>\n      <td>0.0</td>\n      <td>...</td>\n      <td>0.0</td>\n      <td>0.0</td>\n      <td>0.0</td>\n      <td>0.0</td>\n      <td>0.0</td>\n      <td>0.0</td>\n      <td>0.0</td>\n      <td>0.0</td>\n      <td>0.0</td>\n      <td>2001.0</td>\n    </tr>\n    <tr>\n      <th>3</th>\n      <td>0.0</td>\n      <td>0.0</td>\n      <td>0.0</td>\n      <td>0.0</td>\n      <td>0.0</td>\n      <td>0.0</td>\n      <td>0.0</td>\n      <td>0.0</td>\n      <td>0.0</td>\n      <td>0.0</td>\n      <td>...</td>\n      <td>0.0</td>\n      <td>0.0</td>\n      <td>0.0</td>\n      <td>0.0</td>\n      <td>0.0</td>\n      <td>0.0</td>\n      <td>0.0</td>\n      <td>0.0</td>\n      <td>0.0</td>\n      <td>2001.0</td>\n    </tr>\n    <tr>\n      <th>4</th>\n      <td>0.0</td>\n      <td>0.0</td>\n      <td>0.0</td>\n      <td>0.0</td>\n      <td>0.0</td>\n      <td>0.0</td>\n      <td>0.0</td>\n      <td>0.0</td>\n      <td>0.0</td>\n      <td>0.0</td>\n      <td>...</td>\n      <td>0.0</td>\n      <td>0.0</td>\n      <td>0.0</td>\n      <td>0.0</td>\n      <td>0.0</td>\n      <td>0.0</td>\n      <td>0.0</td>\n      <td>0.0</td>\n      <td>0.0</td>\n      <td>2001.0</td>\n    </tr>\n    <tr>\n      <th>...</th>\n      <td>...</td>\n      <td>...</td>\n      <td>...</td>\n      <td>...</td>\n      <td>...</td>\n      <td>...</td>\n      <td>...</td>\n      <td>...</td>\n      <td>...</td>\n      <td>...</td>\n      <td>...</td>\n      <td>...</td>\n      <td>...</td>\n      <td>...</td>\n      <td>...</td>\n      <td>...</td>\n      <td>...</td>\n      <td>...</td>\n      <td>...</td>\n      <td>...</td>\n      <td>...</td>\n    </tr>\n    <tr>\n      <th>383445</th>\n      <td>0.0</td>\n      <td>0.0</td>\n      <td>0.0</td>\n      <td>0.0</td>\n      <td>0.0</td>\n      <td>0.0</td>\n      <td>0.0</td>\n      <td>0.0</td>\n      <td>0.0</td>\n      <td>0.0</td>\n      <td>...</td>\n      <td>0.0</td>\n      <td>0.0</td>\n      <td>0.0</td>\n      <td>0.0</td>\n      <td>0.0</td>\n      <td>0.0</td>\n      <td>0.0</td>\n      <td>0.0</td>\n      <td>0.0</td>\n      <td>1978.0</td>\n    </tr>\n    <tr>\n      <th>383446</th>\n      <td>0.0</td>\n      <td>0.0</td>\n      <td>0.0</td>\n      <td>0.0</td>\n      <td>0.0</td>\n      <td>0.0</td>\n      <td>0.0</td>\n      <td>0.0</td>\n      <td>0.0</td>\n      <td>0.0</td>\n      <td>...</td>\n      <td>0.0</td>\n      <td>0.0</td>\n      <td>0.0</td>\n      <td>0.0</td>\n      <td>0.0</td>\n      <td>0.0</td>\n      <td>0.0</td>\n      <td>0.0</td>\n      <td>0.0</td>\n      <td>2004.0</td>\n    </tr>\n    <tr>\n      <th>383447</th>\n      <td>0.0</td>\n      <td>0.0</td>\n      <td>0.0</td>\n      <td>0.0</td>\n      <td>0.0</td>\n      <td>0.0</td>\n      <td>0.0</td>\n      <td>0.0</td>\n      <td>0.0</td>\n      <td>0.0</td>\n      <td>...</td>\n      <td>0.0</td>\n      <td>0.0</td>\n      <td>0.0</td>\n      <td>0.0</td>\n      <td>0.0</td>\n      <td>0.0</td>\n      <td>0.0</td>\n      <td>0.0</td>\n      <td>0.0</td>\n      <td>1993.0</td>\n    </tr>\n    <tr>\n      <th>383448</th>\n      <td>0.0</td>\n      <td>0.0</td>\n      <td>0.0</td>\n      <td>0.0</td>\n      <td>0.0</td>\n      <td>0.0</td>\n      <td>0.0</td>\n      <td>0.0</td>\n      <td>0.0</td>\n      <td>0.0</td>\n      <td>...</td>\n      <td>0.0</td>\n      <td>0.0</td>\n      <td>0.0</td>\n      <td>0.0</td>\n      <td>0.0</td>\n      <td>0.0</td>\n      <td>0.0</td>\n      <td>0.0</td>\n      <td>0.0</td>\n      <td>1988.0</td>\n    </tr>\n    <tr>\n      <th>383449</th>\n      <td>0.0</td>\n      <td>0.0</td>\n      <td>0.0</td>\n      <td>0.0</td>\n      <td>0.0</td>\n      <td>0.0</td>\n      <td>0.0</td>\n      <td>0.0</td>\n      <td>0.0</td>\n      <td>0.0</td>\n      <td>...</td>\n      <td>0.0</td>\n      <td>0.0</td>\n      <td>0.0</td>\n      <td>0.0</td>\n      <td>0.0</td>\n      <td>0.0</td>\n      <td>0.0</td>\n      <td>0.0</td>\n      <td>0.0</td>\n      <td>1991.0</td>\n    </tr>\n  </tbody>\n</table>\n<p>383450 rows × 201 columns</p>\n</div>"
     },
     "execution_count": 54,
     "metadata": {},
     "output_type": "execute_result"
    }
   ],
   "source": [
    "df_content = df_final.copy()\n",
    "\n",
    "tfidf_vectorizer = TfidfVectorizer(max_features=200, stop_words='english', ngram_range=(2,2))\n",
    "text_features = ['Book-Title', 'Book-Author', 'Publisher', 'Location']\n",
    "\n",
    "df_content_text_features = df_content[text_features].astype(str).apply(lambda x: ' '.join(x), axis = 1)\n",
    "df_content_text_tfidf = tfidf_vectorizer.fit_transform(df_content_text_features)\n",
    "\n",
    "pickle.dump(tfidf_vectorizer, open(r'C:\\Users\\hp\\Downloads\\ai_assignment\\hybrid_code\\embeddings\\tfidf_vectorizer.pickle', 'wb'))\n",
    "\n",
    "df_content_features = pd.DataFrame(df_content_text_tfidf.todense(), columns = tfidf_vectorizer.get_feature_names_out())\n",
    "df_content_features = pd.concat([df_content_features, df_content['Year-Of-Publication']], axis = 1)\n",
    "df_content_ratings = df_content['Book-Rating']\n",
    "df_content_features"
   ],
   "metadata": {
    "collapsed": false,
    "ExecuteTime": {
     "end_time": "2024-05-05T16:29:34.836098Z",
     "start_time": "2024-05-05T16:29:24.729942Z"
    }
   },
   "id": "fa16f7e9f980b2f",
   "execution_count": 54
  },
  {
   "cell_type": "markdown",
   "source": [
    "We split the features into training and validation sets"
   ],
   "metadata": {
    "collapsed": false
   },
   "id": "eb1be39104f66562"
  },
  {
   "cell_type": "code",
   "outputs": [],
   "source": [
    "X_train, X_test, y_train, y_test = train_test_split(df_content_features, df_content_ratings, test_size=0.2)"
   ],
   "metadata": {
    "collapsed": false,
    "ExecuteTime": {
     "end_time": "2024-05-05T16:32:10.513588Z",
     "start_time": "2024-05-05T16:32:09.725348Z"
    }
   },
   "id": "346c58547e80f549",
   "execution_count": 55
  },
  {
   "cell_type": "markdown",
   "source": [
    "We start to build the model with the embeddings we have constructed"
   ],
   "metadata": {
    "collapsed": false
   },
   "id": "c5d7858cfcf3739a"
  },
  {
   "cell_type": "code",
   "outputs": [
    {
     "name": "stdout",
     "output_type": "stream",
     "text": [
      "Epoch 1/120\n",
      "\u001B[1m4794/4794\u001B[0m \u001B[32m━━━━━━━━━━━━━━━━━━━━\u001B[0m\u001B[37m\u001B[0m \u001B[1m8s\u001B[0m 1ms/step - loss: 19.3531 - val_loss: 6.7892\n",
      "Epoch 2/120\n",
      "\u001B[1m4794/4794\u001B[0m \u001B[32m━━━━━━━━━━━━━━━━━━━━\u001B[0m\u001B[37m\u001B[0m \u001B[1m7s\u001B[0m 1ms/step - loss: 4.7804 - val_loss: 9.5318\n",
      "Epoch 3/120\n",
      "\u001B[1m4794/4794\u001B[0m \u001B[32m━━━━━━━━━━━━━━━━━━━━\u001B[0m\u001B[37m\u001B[0m \u001B[1m11s\u001B[0m 2ms/step - loss: 4.9225 - val_loss: 3.8589\n",
      "Epoch 4/120\n",
      "\u001B[1m4794/4794\u001B[0m \u001B[32m━━━━━━━━━━━━━━━━━━━━\u001B[0m\u001B[37m\u001B[0m \u001B[1m8s\u001B[0m 2ms/step - loss: 3.7955 - val_loss: 3.3101\n",
      "Epoch 5/120\n",
      "\u001B[1m4794/4794\u001B[0m \u001B[32m━━━━━━━━━━━━━━━━━━━━\u001B[0m\u001B[37m\u001B[0m \u001B[1m8s\u001B[0m 2ms/step - loss: 3.5217 - val_loss: 3.4273\n",
      "Epoch 6/120\n",
      "\u001B[1m4794/4794\u001B[0m \u001B[32m━━━━━━━━━━━━━━━━━━━━\u001B[0m\u001B[37m\u001B[0m \u001B[1m10s\u001B[0m 2ms/step - loss: 3.4129 - val_loss: 3.4403\n",
      "Epoch 7/120\n",
      "\u001B[1m4794/4794\u001B[0m \u001B[32m━━━━━━━━━━━━━━━━━━━━\u001B[0m\u001B[37m\u001B[0m \u001B[1m8s\u001B[0m 2ms/step - loss: 3.3757 - val_loss: 3.3531\n",
      "Epoch 8/120\n",
      "\u001B[1m4794/4794\u001B[0m \u001B[32m━━━━━━━━━━━━━━━━━━━━\u001B[0m\u001B[37m\u001B[0m \u001B[1m8s\u001B[0m 2ms/step - loss: 3.3740 - val_loss: 3.3931\n",
      "Epoch 9/120\n",
      "\u001B[1m4794/4794\u001B[0m \u001B[32m━━━━━━━━━━━━━━━━━━━━\u001B[0m\u001B[37m\u001B[0m \u001B[1m10s\u001B[0m 2ms/step - loss: 3.3490 - val_loss: 3.3177\n",
      "Epoch 10/120\n",
      "\u001B[1m4794/4794\u001B[0m \u001B[32m━━━━━━━━━━━━━━━━━━━━\u001B[0m\u001B[37m\u001B[0m \u001B[1m8s\u001B[0m 2ms/step - loss: 3.3344 - val_loss: 3.3784\n",
      "Epoch 11/120\n",
      "\u001B[1m4794/4794\u001B[0m \u001B[32m━━━━━━━━━━━━━━━━━━━━\u001B[0m\u001B[37m\u001B[0m \u001B[1m8s\u001B[0m 2ms/step - loss: 3.3371 - val_loss: 3.3142\n",
      "Epoch 12/120\n",
      "\u001B[1m4794/4794\u001B[0m \u001B[32m━━━━━━━━━━━━━━━━━━━━\u001B[0m\u001B[37m\u001B[0m \u001B[1m10s\u001B[0m 2ms/step - loss: 3.3293 - val_loss: 3.3231\n",
      "Epoch 13/120\n",
      "\u001B[1m4794/4794\u001B[0m \u001B[32m━━━━━━━━━━━━━━━━━━━━\u001B[0m\u001B[37m\u001B[0m \u001B[1m8s\u001B[0m 2ms/step - loss: 3.3135 - val_loss: 3.3473\n",
      "Epoch 14/120\n",
      "\u001B[1m4794/4794\u001B[0m \u001B[32m━━━━━━━━━━━━━━━━━━━━\u001B[0m\u001B[37m\u001B[0m \u001B[1m8s\u001B[0m 2ms/step - loss: 3.3190 - val_loss: 3.3667\n",
      "Epoch 15/120\n",
      "\u001B[1m4794/4794\u001B[0m \u001B[32m━━━━━━━━━━━━━━━━━━━━\u001B[0m\u001B[37m\u001B[0m \u001B[1m8s\u001B[0m 2ms/step - loss: 3.3302 - val_loss: 3.3110\n",
      "Epoch 16/120\n",
      "\u001B[1m4794/4794\u001B[0m \u001B[32m━━━━━━━━━━━━━━━━━━━━\u001B[0m\u001B[37m\u001B[0m \u001B[1m8s\u001B[0m 2ms/step - loss: 3.3271 - val_loss: 3.3215\n",
      "Epoch 17/120\n",
      "\u001B[1m4794/4794\u001B[0m \u001B[32m━━━━━━━━━━━━━━━━━━━━\u001B[0m\u001B[37m\u001B[0m \u001B[1m8s\u001B[0m 2ms/step - loss: 3.3235 - val_loss: 3.3065\n",
      "Epoch 18/120\n",
      "\u001B[1m4794/4794\u001B[0m \u001B[32m━━━━━━━━━━━━━━━━━━━━\u001B[0m\u001B[37m\u001B[0m \u001B[1m8s\u001B[0m 2ms/step - loss: 3.3222 - val_loss: 3.4858\n",
      "Epoch 19/120\n",
      "\u001B[1m4794/4794\u001B[0m \u001B[32m━━━━━━━━━━━━━━━━━━━━\u001B[0m\u001B[37m\u001B[0m \u001B[1m8s\u001B[0m 2ms/step - loss: 3.3201 - val_loss: 3.3776\n",
      "Epoch 20/120\n",
      "\u001B[1m4794/4794\u001B[0m \u001B[32m━━━━━━━━━━━━━━━━━━━━\u001B[0m\u001B[37m\u001B[0m \u001B[1m8s\u001B[0m 2ms/step - loss: 3.3250 - val_loss: 3.3055\n",
      "Epoch 21/120\n",
      "\u001B[1m4794/4794\u001B[0m \u001B[32m━━━━━━━━━━━━━━━━━━━━\u001B[0m\u001B[37m\u001B[0m \u001B[1m10s\u001B[0m 2ms/step - loss: 3.3044 - val_loss: 3.3055\n",
      "Epoch 22/120\n",
      "\u001B[1m4794/4794\u001B[0m \u001B[32m━━━━━━━━━━━━━━━━━━━━\u001B[0m\u001B[37m\u001B[0m \u001B[1m8s\u001B[0m 2ms/step - loss: 3.3094 - val_loss: 3.3254\n",
      "Epoch 23/120\n",
      "\u001B[1m4794/4794\u001B[0m \u001B[32m━━━━━━━━━━━━━━━━━━━━\u001B[0m\u001B[37m\u001B[0m \u001B[1m8s\u001B[0m 2ms/step - loss: 3.3092 - val_loss: 3.3060\n",
      "Epoch 24/120\n",
      "\u001B[1m4794/4794\u001B[0m \u001B[32m━━━━━━━━━━━━━━━━━━━━\u001B[0m\u001B[37m\u001B[0m \u001B[1m10s\u001B[0m 2ms/step - loss: 3.3068 - val_loss: 3.3773\n",
      "Epoch 25/120\n",
      "\u001B[1m4794/4794\u001B[0m \u001B[32m━━━━━━━━━━━━━━━━━━━━\u001B[0m\u001B[37m\u001B[0m \u001B[1m11s\u001B[0m 2ms/step - loss: 3.3057 - val_loss: 3.3184\n",
      "Epoch 26/120\n",
      "\u001B[1m4794/4794\u001B[0m \u001B[32m━━━━━━━━━━━━━━━━━━━━\u001B[0m\u001B[37m\u001B[0m \u001B[1m10s\u001B[0m 2ms/step - loss: 3.2854 - val_loss: 3.3129\n",
      "Epoch 27/120\n",
      "\u001B[1m4794/4794\u001B[0m \u001B[32m━━━━━━━━━━━━━━━━━━━━\u001B[0m\u001B[37m\u001B[0m \u001B[1m8s\u001B[0m 2ms/step - loss: 3.3110 - val_loss: 3.3115\n",
      "Epoch 28/120\n",
      "\u001B[1m4794/4794\u001B[0m \u001B[32m━━━━━━━━━━━━━━━━━━━━\u001B[0m\u001B[37m\u001B[0m \u001B[1m7s\u001B[0m 2ms/step - loss: 3.2926 - val_loss: 3.3269\n",
      "Epoch 29/120\n",
      "\u001B[1m4794/4794\u001B[0m \u001B[32m━━━━━━━━━━━━━━━━━━━━\u001B[0m\u001B[37m\u001B[0m \u001B[1m7s\u001B[0m 2ms/step - loss: 3.3102 - val_loss: 3.3069\n",
      "Epoch 30/120\n",
      "\u001B[1m4794/4794\u001B[0m \u001B[32m━━━━━━━━━━━━━━━━━━━━\u001B[0m\u001B[37m\u001B[0m \u001B[1m8s\u001B[0m 2ms/step - loss: 3.3139 - val_loss: 3.3139\n",
      "Epoch 31/120\n",
      "\u001B[1m4794/4794\u001B[0m \u001B[32m━━━━━━━━━━━━━━━━━━━━\u001B[0m\u001B[37m\u001B[0m \u001B[1m8s\u001B[0m 2ms/step - loss: 3.3163 - val_loss: 3.3043\n",
      "Epoch 32/120\n",
      "\u001B[1m4794/4794\u001B[0m \u001B[32m━━━━━━━━━━━━━━━━━━━━\u001B[0m\u001B[37m\u001B[0m \u001B[1m8s\u001B[0m 2ms/step - loss: 3.2898 - val_loss: 3.3043\n",
      "Epoch 33/120\n",
      "\u001B[1m4794/4794\u001B[0m \u001B[32m━━━━━━━━━━━━━━━━━━━━\u001B[0m\u001B[37m\u001B[0m \u001B[1m7s\u001B[0m 2ms/step - loss: 3.3175 - val_loss: 3.3108\n",
      "Epoch 34/120\n",
      "\u001B[1m4794/4794\u001B[0m \u001B[32m━━━━━━━━━━━━━━━━━━━━\u001B[0m\u001B[37m\u001B[0m \u001B[1m8s\u001B[0m 2ms/step - loss: 3.3096 - val_loss: 3.3063\n",
      "Epoch 35/120\n",
      "\u001B[1m4794/4794\u001B[0m \u001B[32m━━━━━━━━━━━━━━━━━━━━\u001B[0m\u001B[37m\u001B[0m \u001B[1m8s\u001B[0m 2ms/step - loss: 3.3081 - val_loss: 3.3752\n",
      "Epoch 36/120\n",
      "\u001B[1m4794/4794\u001B[0m \u001B[32m━━━━━━━━━━━━━━━━━━━━\u001B[0m\u001B[37m\u001B[0m \u001B[1m11s\u001B[0m 2ms/step - loss: 3.3154 - val_loss: 3.3825\n",
      "Epoch 37/120\n",
      "\u001B[1m4794/4794\u001B[0m \u001B[32m━━━━━━━━━━━━━━━━━━━━\u001B[0m\u001B[37m\u001B[0m \u001B[1m7s\u001B[0m 2ms/step - loss: 3.3155 - val_loss: 3.3269\n",
      "Epoch 38/120\n",
      "\u001B[1m4794/4794\u001B[0m \u001B[32m━━━━━━━━━━━━━━━━━━━━\u001B[0m\u001B[37m\u001B[0m \u001B[1m8s\u001B[0m 2ms/step - loss: 3.3042 - val_loss: 3.4941\n",
      "Epoch 39/120\n",
      "\u001B[1m4794/4794\u001B[0m \u001B[32m━━━━━━━━━━━━━━━━━━━━\u001B[0m\u001B[37m\u001B[0m \u001B[1m8s\u001B[0m 2ms/step - loss: 3.2966 - val_loss: 3.3968\n",
      "Epoch 40/120\n",
      "\u001B[1m4794/4794\u001B[0m \u001B[32m━━━━━━━━━━━━━━━━━━━━\u001B[0m\u001B[37m\u001B[0m \u001B[1m10s\u001B[0m 2ms/step - loss: 3.3130 - val_loss: 3.3972\n",
      "Epoch 41/120\n",
      "\u001B[1m4794/4794\u001B[0m \u001B[32m━━━━━━━━━━━━━━━━━━━━\u001B[0m\u001B[37m\u001B[0m \u001B[1m8s\u001B[0m 2ms/step - loss: 3.3094 - val_loss: 3.3309\n",
      "Epoch 42/120\n",
      "\u001B[1m4794/4794\u001B[0m \u001B[32m━━━━━━━━━━━━━━━━━━━━\u001B[0m\u001B[37m\u001B[0m \u001B[1m8s\u001B[0m 2ms/step - loss: 3.3177 - val_loss: 3.3205\n",
      "Epoch 43/120\n",
      "\u001B[1m4794/4794\u001B[0m \u001B[32m━━━━━━━━━━━━━━━━━━━━\u001B[0m\u001B[37m\u001B[0m \u001B[1m8s\u001B[0m 2ms/step - loss: 3.3077 - val_loss: 3.3069\n",
      "Epoch 44/120\n",
      "\u001B[1m4794/4794\u001B[0m \u001B[32m━━━━━━━━━━━━━━━━━━━━\u001B[0m\u001B[37m\u001B[0m \u001B[1m8s\u001B[0m 2ms/step - loss: 3.3191 - val_loss: 3.3145\n",
      "Epoch 45/120\n",
      "\u001B[1m4794/4794\u001B[0m \u001B[32m━━━━━━━━━━━━━━━━━━━━\u001B[0m\u001B[37m\u001B[0m \u001B[1m8s\u001B[0m 2ms/step - loss: 3.3099 - val_loss: 3.3037\n",
      "Epoch 46/120\n",
      "\u001B[1m4794/4794\u001B[0m \u001B[32m━━━━━━━━━━━━━━━━━━━━\u001B[0m\u001B[37m\u001B[0m \u001B[1m8s\u001B[0m 2ms/step - loss: 3.3109 - val_loss: 3.3059\n",
      "Epoch 47/120\n",
      "\u001B[1m4794/4794\u001B[0m \u001B[32m━━━━━━━━━━━━━━━━━━━━\u001B[0m\u001B[37m\u001B[0m \u001B[1m8s\u001B[0m 2ms/step - loss: 3.3096 - val_loss: 3.3018\n",
      "Epoch 48/120\n",
      "\u001B[1m4794/4794\u001B[0m \u001B[32m━━━━━━━━━━━━━━━━━━━━\u001B[0m\u001B[37m\u001B[0m \u001B[1m8s\u001B[0m 2ms/step - loss: 3.3094 - val_loss: 3.3054\n",
      "Epoch 49/120\n",
      "\u001B[1m4794/4794\u001B[0m \u001B[32m━━━━━━━━━━━━━━━━━━━━\u001B[0m\u001B[37m\u001B[0m \u001B[1m8s\u001B[0m 2ms/step - loss: 3.3133 - val_loss: 3.3086\n",
      "Epoch 50/120\n",
      "\u001B[1m4794/4794\u001B[0m \u001B[32m━━━━━━━━━━━━━━━━━━━━\u001B[0m\u001B[37m\u001B[0m \u001B[1m10s\u001B[0m 2ms/step - loss: 3.3155 - val_loss: 3.3404\n",
      "Epoch 51/120\n",
      "\u001B[1m4794/4794\u001B[0m \u001B[32m━━━━━━━━━━━━━━━━━━━━\u001B[0m\u001B[37m\u001B[0m \u001B[1m10s\u001B[0m 2ms/step - loss: 3.3087 - val_loss: 3.3013\n",
      "Epoch 52/120\n",
      "\u001B[1m4794/4794\u001B[0m \u001B[32m━━━━━━━━━━━━━━━━━━━━\u001B[0m\u001B[37m\u001B[0m \u001B[1m8s\u001B[0m 2ms/step - loss: 3.3034 - val_loss: 3.3147\n",
      "Epoch 53/120\n",
      "\u001B[1m4794/4794\u001B[0m \u001B[32m━━━━━━━━━━━━━━━━━━━━\u001B[0m\u001B[37m\u001B[0m \u001B[1m11s\u001B[0m 2ms/step - loss: 3.2915 - val_loss: 3.3211\n",
      "Epoch 54/120\n",
      "\u001B[1m4794/4794\u001B[0m \u001B[32m━━━━━━━━━━━━━━━━━━━━\u001B[0m\u001B[37m\u001B[0m \u001B[1m7s\u001B[0m 2ms/step - loss: 3.2983 - val_loss: 3.3037\n",
      "Epoch 55/120\n",
      "\u001B[1m4794/4794\u001B[0m \u001B[32m━━━━━━━━━━━━━━━━━━━━\u001B[0m\u001B[37m\u001B[0m \u001B[1m8s\u001B[0m 2ms/step - loss: 3.3023 - val_loss: 3.3084\n",
      "Epoch 56/120\n",
      "\u001B[1m4794/4794\u001B[0m \u001B[32m━━━━━━━━━━━━━━━━━━━━\u001B[0m\u001B[37m\u001B[0m \u001B[1m8s\u001B[0m 2ms/step - loss: 3.3034 - val_loss: 3.3147\n",
      "Epoch 57/120\n",
      "\u001B[1m4794/4794\u001B[0m \u001B[32m━━━━━━━━━━━━━━━━━━━━\u001B[0m\u001B[37m\u001B[0m \u001B[1m8s\u001B[0m 2ms/step - loss: 3.3076 - val_loss: 3.3031\n",
      "Epoch 58/120\n",
      "\u001B[1m4794/4794\u001B[0m \u001B[32m━━━━━━━━━━━━━━━━━━━━\u001B[0m\u001B[37m\u001B[0m \u001B[1m7s\u001B[0m 1ms/step - loss: 3.2963 - val_loss: 3.3333\n",
      "Epoch 59/120\n",
      "\u001B[1m4794/4794\u001B[0m \u001B[32m━━━━━━━━━━━━━━━━━━━━\u001B[0m\u001B[37m\u001B[0m \u001B[1m6s\u001B[0m 1ms/step - loss: 3.3004 - val_loss: 3.3051\n",
      "Epoch 60/120\n",
      "\u001B[1m4794/4794\u001B[0m \u001B[32m━━━━━━━━━━━━━━━━━━━━\u001B[0m\u001B[37m\u001B[0m \u001B[1m10s\u001B[0m 1ms/step - loss: 3.2912 - val_loss: 3.3147\n",
      "Epoch 61/120\n",
      "\u001B[1m4794/4794\u001B[0m \u001B[32m━━━━━━━━━━━━━━━━━━━━\u001B[0m\u001B[37m\u001B[0m \u001B[1m8s\u001B[0m 2ms/step - loss: 3.3046 - val_loss: 3.3008\n",
      "Epoch 62/120\n",
      "\u001B[1m4794/4794\u001B[0m \u001B[32m━━━━━━━━━━━━━━━━━━━━\u001B[0m\u001B[37m\u001B[0m \u001B[1m7s\u001B[0m 2ms/step - loss: 3.3002 - val_loss: 3.3094\n",
      "Epoch 63/120\n",
      "\u001B[1m4794/4794\u001B[0m \u001B[32m━━━━━━━━━━━━━━━━━━━━\u001B[0m\u001B[37m\u001B[0m \u001B[1m8s\u001B[0m 2ms/step - loss: 3.2945 - val_loss: 3.3612\n",
      "Epoch 64/120\n",
      "\u001B[1m4794/4794\u001B[0m \u001B[32m━━━━━━━━━━━━━━━━━━━━\u001B[0m\u001B[37m\u001B[0m \u001B[1m8s\u001B[0m 2ms/step - loss: 3.3027 - val_loss: 3.3111\n",
      "Epoch 65/120\n",
      "\u001B[1m4794/4794\u001B[0m \u001B[32m━━━━━━━━━━━━━━━━━━━━\u001B[0m\u001B[37m\u001B[0m \u001B[1m7s\u001B[0m 2ms/step - loss: 3.2935 - val_loss: 3.3125\n",
      "Epoch 66/120\n",
      "\u001B[1m4794/4794\u001B[0m \u001B[32m━━━━━━━━━━━━━━━━━━━━\u001B[0m\u001B[37m\u001B[0m \u001B[1m8s\u001B[0m 2ms/step - loss: 3.3035 - val_loss: 3.3171\n",
      "Epoch 67/120\n",
      "\u001B[1m4794/4794\u001B[0m \u001B[32m━━━━━━━━━━━━━━━━━━━━\u001B[0m\u001B[37m\u001B[0m \u001B[1m10s\u001B[0m 2ms/step - loss: 3.3072 - val_loss: 3.3121\n",
      "Epoch 68/120\n",
      "\u001B[1m4794/4794\u001B[0m \u001B[32m━━━━━━━━━━━━━━━━━━━━\u001B[0m\u001B[37m\u001B[0m \u001B[1m7s\u001B[0m 2ms/step - loss: 3.3067 - val_loss: 3.3186\n",
      "Epoch 69/120\n",
      "\u001B[1m4794/4794\u001B[0m \u001B[32m━━━━━━━━━━━━━━━━━━━━\u001B[0m\u001B[37m\u001B[0m \u001B[1m11s\u001B[0m 2ms/step - loss: 3.3047 - val_loss: 3.3000\n",
      "Epoch 70/120\n",
      "\u001B[1m4794/4794\u001B[0m \u001B[32m━━━━━━━━━━━━━━━━━━━━\u001B[0m\u001B[37m\u001B[0m \u001B[1m8s\u001B[0m 2ms/step - loss: 3.2986 - val_loss: 3.3009\n",
      "Epoch 71/120\n",
      "\u001B[1m4794/4794\u001B[0m \u001B[32m━━━━━━━━━━━━━━━━━━━━\u001B[0m\u001B[37m\u001B[0m \u001B[1m8s\u001B[0m 2ms/step - loss: 3.2981 - val_loss: 3.3227\n",
      "Epoch 72/120\n",
      "\u001B[1m4794/4794\u001B[0m \u001B[32m━━━━━━━━━━━━━━━━━━━━\u001B[0m\u001B[37m\u001B[0m \u001B[1m8s\u001B[0m 2ms/step - loss: 3.2980 - val_loss: 3.3001\n",
      "Epoch 73/120\n",
      "\u001B[1m4794/4794\u001B[0m \u001B[32m━━━━━━━━━━━━━━━━━━━━\u001B[0m\u001B[37m\u001B[0m \u001B[1m10s\u001B[0m 2ms/step - loss: 3.2921 - val_loss: 3.3003\n",
      "Epoch 74/120\n",
      "\u001B[1m4794/4794\u001B[0m \u001B[32m━━━━━━━━━━━━━━━━━━━━\u001B[0m\u001B[37m\u001B[0m \u001B[1m8s\u001B[0m 2ms/step - loss: 3.2876 - val_loss: 3.3228\n",
      "Epoch 75/120\n",
      "\u001B[1m4794/4794\u001B[0m \u001B[32m━━━━━━━━━━━━━━━━━━━━\u001B[0m\u001B[37m\u001B[0m \u001B[1m8s\u001B[0m 2ms/step - loss: 3.2864 - val_loss: 3.3063\n",
      "Epoch 76/120\n",
      "\u001B[1m4794/4794\u001B[0m \u001B[32m━━━━━━━━━━━━━━━━━━━━\u001B[0m\u001B[37m\u001B[0m \u001B[1m8s\u001B[0m 2ms/step - loss: 3.3102 - val_loss: 3.3009\n",
      "Epoch 77/120\n",
      "\u001B[1m4794/4794\u001B[0m \u001B[32m━━━━━━━━━━━━━━━━━━━━\u001B[0m\u001B[37m\u001B[0m \u001B[1m8s\u001B[0m 2ms/step - loss: 3.3107 - val_loss: 3.3007\n",
      "Epoch 78/120\n",
      "\u001B[1m4794/4794\u001B[0m \u001B[32m━━━━━━━━━━━━━━━━━━━━\u001B[0m\u001B[37m\u001B[0m \u001B[1m8s\u001B[0m 2ms/step - loss: 3.2963 - val_loss: 3.2997\n",
      "Epoch 79/120\n",
      "\u001B[1m4794/4794\u001B[0m \u001B[32m━━━━━━━━━━━━━━━━━━━━\u001B[0m\u001B[37m\u001B[0m \u001B[1m8s\u001B[0m 2ms/step - loss: 3.3019 - val_loss: 3.3326\n",
      "Epoch 80/120\n",
      "\u001B[1m4794/4794\u001B[0m \u001B[32m━━━━━━━━━━━━━━━━━━━━\u001B[0m\u001B[37m\u001B[0m \u001B[1m8s\u001B[0m 2ms/step - loss: 3.2902 - val_loss: 3.2996\n",
      "Epoch 81/120\n",
      "\u001B[1m4794/4794\u001B[0m \u001B[32m━━━━━━━━━━━━━━━━━━━━\u001B[0m\u001B[37m\u001B[0m \u001B[1m7s\u001B[0m 2ms/step - loss: 3.3150 - val_loss: 3.3003\n",
      "Epoch 82/120\n",
      "\u001B[1m4794/4794\u001B[0m \u001B[32m━━━━━━━━━━━━━━━━━━━━\u001B[0m\u001B[37m\u001B[0m \u001B[1m8s\u001B[0m 2ms/step - loss: 3.2902 - val_loss: 3.3111\n",
      "Epoch 83/120\n",
      "\u001B[1m4794/4794\u001B[0m \u001B[32m━━━━━━━━━━━━━━━━━━━━\u001B[0m\u001B[37m\u001B[0m \u001B[1m10s\u001B[0m 2ms/step - loss: 3.2864 - val_loss: 3.3142\n",
      "Epoch 84/120\n",
      "\u001B[1m4794/4794\u001B[0m \u001B[32m━━━━━━━━━━━━━━━━━━━━\u001B[0m\u001B[37m\u001B[0m \u001B[1m8s\u001B[0m 2ms/step - loss: 3.2949 - val_loss: 3.3002\n",
      "Epoch 85/120\n",
      "\u001B[1m4794/4794\u001B[0m \u001B[32m━━━━━━━━━━━━━━━━━━━━\u001B[0m\u001B[37m\u001B[0m \u001B[1m8s\u001B[0m 2ms/step - loss: 3.2946 - val_loss: 3.3043\n",
      "Epoch 86/120\n",
      "\u001B[1m4794/4794\u001B[0m \u001B[32m━━━━━━━━━━━━━━━━━━━━\u001B[0m\u001B[37m\u001B[0m \u001B[1m8s\u001B[0m 2ms/step - loss: 3.3144 - val_loss: 3.3539\n",
      "Epoch 87/120\n",
      "\u001B[1m4794/4794\u001B[0m \u001B[32m━━━━━━━━━━━━━━━━━━━━\u001B[0m\u001B[37m\u001B[0m \u001B[1m8s\u001B[0m 2ms/step - loss: 3.3022 - val_loss: 3.3411\n",
      "Epoch 88/120\n",
      "\u001B[1m4794/4794\u001B[0m \u001B[32m━━━━━━━━━━━━━━━━━━━━\u001B[0m\u001B[37m\u001B[0m \u001B[1m7s\u001B[0m 2ms/step - loss: 3.3068 - val_loss: 3.3067\n",
      "Epoch 89/120\n",
      "\u001B[1m4794/4794\u001B[0m \u001B[32m━━━━━━━━━━━━━━━━━━━━\u001B[0m\u001B[37m\u001B[0m \u001B[1m11s\u001B[0m 2ms/step - loss: 3.3070 - val_loss: 3.3004\n",
      "Epoch 90/120\n",
      "\u001B[1m4794/4794\u001B[0m \u001B[32m━━━━━━━━━━━━━━━━━━━━\u001B[0m\u001B[37m\u001B[0m \u001B[1m10s\u001B[0m 2ms/step - loss: 3.3117 - val_loss: 3.3096\n",
      "Epoch 91/120\n",
      "\u001B[1m4794/4794\u001B[0m \u001B[32m━━━━━━━━━━━━━━━━━━━━\u001B[0m\u001B[37m\u001B[0m \u001B[1m7s\u001B[0m 2ms/step - loss: 3.2955 - val_loss: 3.3628\n",
      "Epoch 92/120\n",
      "\u001B[1m4794/4794\u001B[0m \u001B[32m━━━━━━━━━━━━━━━━━━━━\u001B[0m\u001B[37m\u001B[0m \u001B[1m7s\u001B[0m 2ms/step - loss: 3.2865 - val_loss: 3.3291\n",
      "Epoch 93/120\n",
      "\u001B[1m4794/4794\u001B[0m \u001B[32m━━━━━━━━━━━━━━━━━━━━\u001B[0m\u001B[37m\u001B[0m \u001B[1m7s\u001B[0m 2ms/step - loss: 3.3038 - val_loss: 3.3230\n",
      "Epoch 94/120\n",
      "\u001B[1m4794/4794\u001B[0m \u001B[32m━━━━━━━━━━━━━━━━━━━━\u001B[0m\u001B[37m\u001B[0m \u001B[1m7s\u001B[0m 2ms/step - loss: 3.3063 - val_loss: 3.3268\n",
      "Epoch 95/120\n",
      "\u001B[1m4794/4794\u001B[0m \u001B[32m━━━━━━━━━━━━━━━━━━━━\u001B[0m\u001B[37m\u001B[0m \u001B[1m8s\u001B[0m 2ms/step - loss: 3.3002 - val_loss: 3.3036\n",
      "Epoch 96/120\n",
      "\u001B[1m4794/4794\u001B[0m \u001B[32m━━━━━━━━━━━━━━━━━━━━\u001B[0m\u001B[37m\u001B[0m \u001B[1m7s\u001B[0m 2ms/step - loss: 3.3237 - val_loss: 3.3055\n",
      "Epoch 97/120\n",
      "\u001B[1m4794/4794\u001B[0m \u001B[32m━━━━━━━━━━━━━━━━━━━━\u001B[0m\u001B[37m\u001B[0m \u001B[1m9s\u001B[0m 2ms/step - loss: 3.2978 - val_loss: 3.3069\n",
      "Epoch 98/120\n",
      "\u001B[1m4794/4794\u001B[0m \u001B[32m━━━━━━━━━━━━━━━━━━━━\u001B[0m\u001B[37m\u001B[0m \u001B[1m7s\u001B[0m 2ms/step - loss: 3.2959 - val_loss: 3.3041\n",
      "Epoch 99/120\n",
      "\u001B[1m4794/4794\u001B[0m \u001B[32m━━━━━━━━━━━━━━━━━━━━\u001B[0m\u001B[37m\u001B[0m \u001B[1m8s\u001B[0m 2ms/step - loss: 3.2828 - val_loss: 3.2993\n",
      "Epoch 100/120\n",
      "\u001B[1m4794/4794\u001B[0m \u001B[32m━━━━━━━━━━━━━━━━━━━━\u001B[0m\u001B[37m\u001B[0m \u001B[1m8s\u001B[0m 2ms/step - loss: 3.2943 - val_loss: 3.2997\n",
      "Epoch 101/120\n",
      "\u001B[1m4794/4794\u001B[0m \u001B[32m━━━━━━━━━━━━━━━━━━━━\u001B[0m\u001B[37m\u001B[0m \u001B[1m11s\u001B[0m 2ms/step - loss: 3.3076 - val_loss: 3.2993\n",
      "Epoch 102/120\n",
      "\u001B[1m4794/4794\u001B[0m \u001B[32m━━━━━━━━━━━━━━━━━━━━\u001B[0m\u001B[37m\u001B[0m \u001B[1m10s\u001B[0m 2ms/step - loss: 3.3000 - val_loss: 3.3069\n",
      "Epoch 103/120\n",
      "\u001B[1m4794/4794\u001B[0m \u001B[32m━━━━━━━━━━━━━━━━━━━━\u001B[0m\u001B[37m\u001B[0m \u001B[1m8s\u001B[0m 2ms/step - loss: 3.3061 - val_loss: 3.2990\n",
      "Epoch 104/120\n",
      "\u001B[1m4794/4794\u001B[0m \u001B[32m━━━━━━━━━━━━━━━━━━━━\u001B[0m\u001B[37m\u001B[0m \u001B[1m8s\u001B[0m 2ms/step - loss: 3.3002 - val_loss: 3.3211\n",
      "Epoch 105/120\n",
      "\u001B[1m4794/4794\u001B[0m \u001B[32m━━━━━━━━━━━━━━━━━━━━\u001B[0m\u001B[37m\u001B[0m \u001B[1m8s\u001B[0m 2ms/step - loss: 3.2902 - val_loss: 3.2997\n",
      "Epoch 106/120\n",
      "\u001B[1m4794/4794\u001B[0m \u001B[32m━━━━━━━━━━━━━━━━━━━━\u001B[0m\u001B[37m\u001B[0m \u001B[1m8s\u001B[0m 2ms/step - loss: 3.3068 - val_loss: 3.3013\n",
      "Epoch 107/120\n",
      "\u001B[1m4794/4794\u001B[0m \u001B[32m━━━━━━━━━━━━━━━━━━━━\u001B[0m\u001B[37m\u001B[0m \u001B[1m8s\u001B[0m 2ms/step - loss: 3.2922 - val_loss: 3.3033\n",
      "Epoch 108/120\n",
      "\u001B[1m4794/4794\u001B[0m \u001B[32m━━━━━━━━━━━━━━━━━━━━\u001B[0m\u001B[37m\u001B[0m \u001B[1m10s\u001B[0m 2ms/step - loss: 3.3054 - val_loss: 3.3211\n",
      "Epoch 109/120\n",
      "\u001B[1m4794/4794\u001B[0m \u001B[32m━━━━━━━━━━━━━━━━━━━━\u001B[0m\u001B[37m\u001B[0m \u001B[1m7s\u001B[0m 2ms/step - loss: 3.2797 - val_loss: 3.3033\n",
      "Epoch 110/120\n",
      "\u001B[1m4794/4794\u001B[0m \u001B[32m━━━━━━━━━━━━━━━━━━━━\u001B[0m\u001B[37m\u001B[0m \u001B[1m7s\u001B[0m 2ms/step - loss: 3.3058 - val_loss: 3.3151\n",
      "Epoch 111/120\n",
      "\u001B[1m4794/4794\u001B[0m \u001B[32m━━━━━━━━━━━━━━━━━━━━\u001B[0m\u001B[37m\u001B[0m \u001B[1m11s\u001B[0m 2ms/step - loss: 3.2959 - val_loss: 3.2990\n",
      "Epoch 112/120\n",
      "\u001B[1m4794/4794\u001B[0m \u001B[32m━━━━━━━━━━━━━━━━━━━━\u001B[0m\u001B[37m\u001B[0m \u001B[1m10s\u001B[0m 2ms/step - loss: 3.2997 - val_loss: 3.3945\n",
      "Epoch 113/120\n",
      "\u001B[1m4794/4794\u001B[0m \u001B[32m━━━━━━━━━━━━━━━━━━━━\u001B[0m\u001B[37m\u001B[0m \u001B[1m8s\u001B[0m 1ms/step - loss: 3.2987 - val_loss: 3.3265\n",
      "Epoch 114/120\n",
      "\u001B[1m4794/4794\u001B[0m \u001B[32m━━━━━━━━━━━━━━━━━━━━\u001B[0m\u001B[37m\u001B[0m \u001B[1m5s\u001B[0m 1ms/step - loss: 3.2966 - val_loss: 3.3044\n",
      "Epoch 115/120\n",
      "\u001B[1m4794/4794\u001B[0m \u001B[32m━━━━━━━━━━━━━━━━━━━━\u001B[0m\u001B[37m\u001B[0m \u001B[1m5s\u001B[0m 1ms/step - loss: 3.3044 - val_loss: 3.3184\n",
      "Epoch 116/120\n",
      "\u001B[1m4794/4794\u001B[0m \u001B[32m━━━━━━━━━━━━━━━━━━━━\u001B[0m\u001B[37m\u001B[0m \u001B[1m5s\u001B[0m 989us/step - loss: 3.2836 - val_loss: 3.3227\n",
      "Epoch 117/120\n",
      "\u001B[1m4794/4794\u001B[0m \u001B[32m━━━━━━━━━━━━━━━━━━━━\u001B[0m\u001B[37m\u001B[0m \u001B[1m4s\u001B[0m 902us/step - loss: 3.2976 - val_loss: 3.2998\n",
      "Epoch 118/120\n",
      "\u001B[1m4794/4794\u001B[0m \u001B[32m━━━━━━━━━━━━━━━━━━━━\u001B[0m\u001B[37m\u001B[0m \u001B[1m5s\u001B[0m 962us/step - loss: 3.2979 - val_loss: 3.2989\n",
      "Epoch 119/120\n",
      "\u001B[1m4794/4794\u001B[0m \u001B[32m━━━━━━━━━━━━━━━━━━━━\u001B[0m\u001B[37m\u001B[0m \u001B[1m5s\u001B[0m 1ms/step - loss: 3.2952 - val_loss: 3.3012\n",
      "Epoch 120/120\n",
      "\u001B[1m4794/4794\u001B[0m \u001B[32m━━━━━━━━━━━━━━━━━━━━\u001B[0m\u001B[37m\u001B[0m \u001B[1m5s\u001B[0m 1ms/step - loss: 3.3042 - val_loss: 3.3299\n"
     ]
    }
   ],
   "source": [
    "mlp_model = Sequential()\n",
    "mlp_model.add(Input(shape=(df_content_features.shape[1],)))\n",
    "mlp_model.add(Dense(units=128, activation='relu'))\n",
    "mlp_model.add(Dense(units=64, activation='relu'))\n",
    "mlp_model.add(Dense(units=1))\n",
    "\n",
    "mlp_model.compile(loss='mean_squared_error', optimizer='Adam')\n",
    "mlp_history = mlp_model.fit(X_train, y_train, batch_size=64, epochs=120, validation_data=(X_test, y_test))\n",
    "mlp_model.save(r'C:\\Users\\hp\\Downloads\\ai_assignment\\hybrid_code\\keras\\mlp_model.keras')"
   ],
   "metadata": {
    "collapsed": false,
    "ExecuteTime": {
     "end_time": "2024-05-05T16:48:23.869379Z",
     "start_time": "2024-05-05T16:32:13.304292Z"
    }
   },
   "id": "6c24a827bd661f2c",
   "execution_count": 56
  },
  {
   "cell_type": "markdown",
   "source": [
    "Showing the learning curve of the model"
   ],
   "metadata": {
    "collapsed": false
   },
   "id": "1c9839e0f2e73f"
  },
  {
   "cell_type": "code",
   "outputs": [
    {
     "data": {
      "text/plain": "<Figure size 640x480 with 1 Axes>",
      "image/png": "[encoded data removed]"
     },
     "metadata": {},
     "output_type": "display_data"
    }
   ],
   "source": [
    "train_loss = mlp_history.history['loss']\n",
    "test_loss = mlp_history.history['val_loss']\n",
    "\n",
    "epochs = range(len(train_loss))\n",
    "plt.plot(epochs, train_loss, label='Train Loss')\n",
    "plt.plot(epochs, test_loss, label='Test Loss')\n",
    "plt.title('Learning Curve for MLP Model 1')\n",
    "plt.ylabel('Mean Square Error (MSE)')\n",
    "plt.xlabel('Epochs')\n",
    "plt.legend()\n",
    "plt.grid(True, linewidth=0.5)\n",
    "plt.show()"
   ],
   "metadata": {
    "collapsed": false,
    "ExecuteTime": {
     "end_time": "2024-05-05T16:51:45.089108Z",
     "start_time": "2024-05-05T16:51:44.970905Z"
    }
   },
   "id": "216de2630657a1d4",
   "execution_count": 57
  },
  {
   "cell_type": "markdown",
   "source": [
    "### 4.1.3 Model Fine-Tuning\n",
    "\n",
    "We fine tune the MLP model with different number of nodes in the hidden layer"
   ],
   "metadata": {
    "collapsed": false
   },
   "id": "9b58a182fdd8b871"
  },
  {
   "cell_type": "code",
   "outputs": [
    {
     "name": "stdout",
     "output_type": "stream",
     "text": [
      "Epoch 1/120\n",
      "\u001B[1m9587/9587\u001B[0m \u001B[32m━━━━━━━━━━━━━━━━━━━━\u001B[0m\u001B[37m\u001B[0m \u001B[1m14s\u001B[0m 1ms/step - loss: 38.7594 - val_loss: 3.3160\n",
      "Epoch 2/120\n",
      "\u001B[1m9587/9587\u001B[0m \u001B[32m━━━━━━━━━━━━━━━━━━━━\u001B[0m\u001B[37m\u001B[0m \u001B[1m11s\u001B[0m 1ms/step - loss: 4.0770 - val_loss: 3.5345\n",
      "Epoch 3/120\n",
      "\u001B[1m9587/9587\u001B[0m \u001B[32m━━━━━━━━━━━━━━━━━━━━\u001B[0m\u001B[37m\u001B[0m \u001B[1m10s\u001B[0m 1ms/step - loss: 3.4212 - val_loss: 3.3431\n",
      "Epoch 4/120\n",
      "\u001B[1m9587/9587\u001B[0m \u001B[32m━━━━━━━━━━━━━━━━━━━━\u001B[0m\u001B[37m\u001B[0m \u001B[1m10s\u001B[0m 1ms/step - loss: 3.3773 - val_loss: 3.3652\n",
      "Epoch 5/120\n",
      "\u001B[1m9587/9587\u001B[0m \u001B[32m━━━━━━━━━━━━━━━━━━━━\u001B[0m\u001B[37m\u001B[0m \u001B[1m9s\u001B[0m 977us/step - loss: 3.3448 - val_loss: 3.3233\n",
      "Epoch 6/120\n",
      "\u001B[1m9587/9587\u001B[0m \u001B[32m━━━━━━━━━━━━━━━━━━━━\u001B[0m\u001B[37m\u001B[0m \u001B[1m9s\u001B[0m 896us/step - loss: 3.3615 - val_loss: 3.3314\n",
      "Epoch 7/120\n",
      "\u001B[1m9587/9587\u001B[0m \u001B[32m━━━━━━━━━━━━━━━━━━━━\u001B[0m\u001B[37m\u001B[0m \u001B[1m9s\u001B[0m 913us/step - loss: 3.3438 - val_loss: 3.3443\n",
      "Epoch 8/120\n",
      "\u001B[1m9587/9587\u001B[0m \u001B[32m━━━━━━━━━━━━━━━━━━━━\u001B[0m\u001B[37m\u001B[0m \u001B[1m9s\u001B[0m 923us/step - loss: 3.3468 - val_loss: 3.3802\n",
      "Epoch 9/120\n",
      "\u001B[1m9587/9587\u001B[0m \u001B[32m━━━━━━━━━━━━━━━━━━━━\u001B[0m\u001B[37m\u001B[0m \u001B[1m9s\u001B[0m 920us/step - loss: 3.3378 - val_loss: 3.4149\n",
      "Epoch 10/120\n",
      "\u001B[1m9587/9587\u001B[0m \u001B[32m━━━━━━━━━━━━━━━━━━━━\u001B[0m\u001B[37m\u001B[0m \u001B[1m10s\u001B[0m 1ms/step - loss: 3.3130 - val_loss: 3.3199\n",
      "Epoch 11/120\n",
      "\u001B[1m9587/9587\u001B[0m \u001B[32m━━━━━━━━━━━━━━━━━━━━\u001B[0m\u001B[37m\u001B[0m \u001B[1m10s\u001B[0m 1ms/step - loss: 3.3230 - val_loss: 3.3152\n",
      "Epoch 12/120\n",
      "\u001B[1m9587/9587\u001B[0m \u001B[32m━━━━━━━━━━━━━━━━━━━━\u001B[0m\u001B[37m\u001B[0m \u001B[1m9s\u001B[0m 983us/step - loss: 3.3317 - val_loss: 3.3379\n",
      "Epoch 13/120\n",
      "\u001B[1m9587/9587\u001B[0m \u001B[32m━━━━━━━━━━━━━━━━━━━━\u001B[0m\u001B[37m\u001B[0m \u001B[1m10s\u001B[0m 1ms/step - loss: 3.3333 - val_loss: 3.3070\n",
      "Epoch 14/120\n",
      "\u001B[1m9587/9587\u001B[0m \u001B[32m━━━━━━━━━━━━━━━━━━━━\u001B[0m\u001B[37m\u001B[0m \u001B[1m13s\u001B[0m 1ms/step - loss: 3.3160 - val_loss: 3.3094\n",
      "Epoch 15/120\n",
      "\u001B[1m9587/9587\u001B[0m \u001B[32m━━━━━━━━━━━━━━━━━━━━\u001B[0m\u001B[37m\u001B[0m \u001B[1m15s\u001B[0m 2ms/step - loss: 3.3122 - val_loss: 3.3141\n",
      "Epoch 16/120\n",
      "\u001B[1m9587/9587\u001B[0m \u001B[32m━━━━━━━━━━━━━━━━━━━━\u001B[0m\u001B[37m\u001B[0m \u001B[1m14s\u001B[0m 1ms/step - loss: 3.3238 - val_loss: 3.3070\n",
      "Epoch 17/120\n",
      "\u001B[1m9587/9587\u001B[0m \u001B[32m━━━━━━━━━━━━━━━━━━━━\u001B[0m\u001B[37m\u001B[0m \u001B[1m14s\u001B[0m 1ms/step - loss: 3.3216 - val_loss: 3.3356\n",
      "Epoch 18/120\n",
      "\u001B[1m9587/9587\u001B[0m \u001B[32m━━━━━━━━━━━━━━━━━━━━\u001B[0m\u001B[37m\u001B[0m \u001B[1m15s\u001B[0m 2ms/step - loss: 3.3284 - val_loss: 3.3046\n",
      "Epoch 19/120\n",
      "\u001B[1m9587/9587\u001B[0m \u001B[32m━━━━━━━━━━━━━━━━━━━━\u001B[0m\u001B[37m\u001B[0m \u001B[1m19s\u001B[0m 1ms/step - loss: 3.3117 - val_loss: 3.3050\n",
      "Epoch 20/120\n",
      "\u001B[1m9587/9587\u001B[0m \u001B[32m━━━━━━━━━━━━━━━━━━━━\u001B[0m\u001B[37m\u001B[0m \u001B[1m10s\u001B[0m 1ms/step - loss: 3.3138 - val_loss: 3.3147\n",
      "Epoch 21/120\n",
      "\u001B[1m9587/9587\u001B[0m \u001B[32m━━━━━━━━━━━━━━━━━━━━\u001B[0m\u001B[37m\u001B[0m \u001B[1m11s\u001B[0m 1ms/step - loss: 3.3233 - val_loss: 3.3099\n",
      "Epoch 22/120\n",
      "\u001B[1m9587/9587\u001B[0m \u001B[32m━━━━━━━━━━━━━━━━━━━━\u001B[0m\u001B[37m\u001B[0m \u001B[1m10s\u001B[0m 1ms/step - loss: 3.3040 - val_loss: 3.3037\n",
      "Epoch 23/120\n",
      "\u001B[1m9587/9587\u001B[0m \u001B[32m━━━━━━━━━━━━━━━━━━━━\u001B[0m\u001B[37m\u001B[0m \u001B[1m10s\u001B[0m 1ms/step - loss: 3.3272 - val_loss: 3.3047\n",
      "Epoch 24/120\n",
      "\u001B[1m9587/9587\u001B[0m \u001B[32m━━━━━━━━━━━━━━━━━━━━\u001B[0m\u001B[37m\u001B[0m \u001B[1m10s\u001B[0m 1ms/step - loss: 3.3116 - val_loss: 3.3493\n",
      "Epoch 25/120\n",
      "\u001B[1m9587/9587\u001B[0m \u001B[32m━━━━━━━━━━━━━━━━━━━━\u001B[0m\u001B[37m\u001B[0m \u001B[1m10s\u001B[0m 1ms/step - loss: 3.3267 - val_loss: 3.3035\n",
      "Epoch 26/120\n",
      "\u001B[1m9587/9587\u001B[0m \u001B[32m━━━━━━━━━━━━━━━━━━━━\u001B[0m\u001B[37m\u001B[0m \u001B[1m10s\u001B[0m 1ms/step - loss: 3.3172 - val_loss: 3.3969\n",
      "Epoch 27/120\n",
      "\u001B[1m9587/9587\u001B[0m \u001B[32m━━━━━━━━━━━━━━━━━━━━\u001B[0m\u001B[37m\u001B[0m \u001B[1m10s\u001B[0m 1ms/step - loss: 3.3148 - val_loss: 3.3202\n",
      "Epoch 28/120\n",
      "\u001B[1m9587/9587\u001B[0m \u001B[32m━━━━━━━━━━━━━━━━━━━━\u001B[0m\u001B[37m\u001B[0m \u001B[1m10s\u001B[0m 1ms/step - loss: 3.3025 - val_loss: 3.3115\n",
      "Epoch 29/120\n",
      "\u001B[1m9587/9587\u001B[0m \u001B[32m━━━━━━━━━━━━━━━━━━━━\u001B[0m\u001B[37m\u001B[0m \u001B[1m10s\u001B[0m 994us/step - loss: 3.3156 - val_loss: 3.3030\n",
      "Epoch 30/120\n",
      "\u001B[1m9587/9587\u001B[0m \u001B[32m━━━━━━━━━━━━━━━━━━━━\u001B[0m\u001B[37m\u001B[0m \u001B[1m14s\u001B[0m 1ms/step - loss: 3.3103 - val_loss: 3.3345\n",
      "Epoch 31/120\n",
      "\u001B[1m9587/9587\u001B[0m \u001B[32m━━━━━━━━━━━━━━━━━━━━\u001B[0m\u001B[37m\u001B[0m \u001B[1m21s\u001B[0m 2ms/step - loss: 3.3189 - val_loss: 3.3898\n",
      "Epoch 32/120\n",
      "\u001B[1m9587/9587\u001B[0m \u001B[32m━━━━━━━━━━━━━━━━━━━━\u001B[0m\u001B[37m\u001B[0m \u001B[1m14s\u001B[0m 1ms/step - loss: 3.3068 - val_loss: 3.3298\n",
      "Epoch 33/120\n",
      "\u001B[1m9587/9587\u001B[0m \u001B[32m━━━━━━━━━━━━━━━━━━━━\u001B[0m\u001B[37m\u001B[0m \u001B[1m15s\u001B[0m 2ms/step - loss: 3.3038 - val_loss: 3.4440\n",
      "Epoch 34/120\n",
      "\u001B[1m9587/9587\u001B[0m \u001B[32m━━━━━━━━━━━━━━━━━━━━\u001B[0m\u001B[37m\u001B[0m \u001B[1m15s\u001B[0m 2ms/step - loss: 3.3033 - val_loss: 3.3301\n",
      "Epoch 35/120\n",
      "\u001B[1m9587/9587\u001B[0m \u001B[32m━━━━━━━━━━━━━━━━━━━━\u001B[0m\u001B[37m\u001B[0m \u001B[1m16s\u001B[0m 1ms/step - loss: 3.3009 - val_loss: 3.3231\n",
      "Epoch 36/120\n",
      "\u001B[1m9587/9587\u001B[0m \u001B[32m━━━━━━━━━━━━━━━━━━━━\u001B[0m\u001B[37m\u001B[0m \u001B[1m10s\u001B[0m 1ms/step - loss: 3.3019 - val_loss: 3.3249\n",
      "Epoch 37/120\n",
      "\u001B[1m9587/9587\u001B[0m \u001B[32m━━━━━━━━━━━━━━━━━━━━\u001B[0m\u001B[37m\u001B[0m \u001B[1m10s\u001B[0m 1ms/step - loss: 3.3175 - val_loss: 3.3115\n",
      "Epoch 38/120\n",
      "\u001B[1m9587/9587\u001B[0m \u001B[32m━━━━━━━━━━━━━━━━━━━━\u001B[0m\u001B[37m\u001B[0m \u001B[1m11s\u001B[0m 1ms/step - loss: 3.3020 - val_loss: 3.3090\n",
      "Epoch 39/120\n",
      "\u001B[1m9587/9587\u001B[0m \u001B[32m━━━━━━━━━━━━━━━━━━━━\u001B[0m\u001B[37m\u001B[0m \u001B[1m12s\u001B[0m 1ms/step - loss: 3.3218 - val_loss: 3.3103\n",
      "Epoch 40/120\n",
      "\u001B[1m9587/9587\u001B[0m \u001B[32m━━━━━━━━━━━━━━━━━━━━\u001B[0m\u001B[37m\u001B[0m \u001B[1m10s\u001B[0m 1ms/step - loss: 3.3083 - val_loss: 3.3064\n",
      "Epoch 41/120\n",
      "\u001B[1m9587/9587\u001B[0m \u001B[32m━━━━━━━━━━━━━━━━━━━━\u001B[0m\u001B[37m\u001B[0m \u001B[1m11s\u001B[0m 1ms/step - loss: 3.3052 - val_loss: 3.3842\n",
      "Epoch 42/120\n",
      "\u001B[1m9587/9587\u001B[0m \u001B[32m━━━━━━━━━━━━━━━━━━━━\u001B[0m\u001B[37m\u001B[0m \u001B[1m13s\u001B[0m 1ms/step - loss: 3.3039 - val_loss: 3.3030\n",
      "Epoch 43/120\n",
      "\u001B[1m9587/9587\u001B[0m \u001B[32m━━━━━━━━━━━━━━━━━━━━\u001B[0m\u001B[37m\u001B[0m \u001B[1m14s\u001B[0m 2ms/step - loss: 3.2987 - val_loss: 3.3019\n",
      "Epoch 44/120\n",
      "\u001B[1m9587/9587\u001B[0m \u001B[32m━━━━━━━━━━━━━━━━━━━━\u001B[0m\u001B[37m\u001B[0m \u001B[1m12s\u001B[0m 1ms/step - loss: 3.3092 - val_loss: 3.3021\n",
      "Epoch 45/120\n",
      "\u001B[1m9587/9587\u001B[0m \u001B[32m━━━━━━━━━━━━━━━━━━━━\u001B[0m\u001B[37m\u001B[0m \u001B[1m12s\u001B[0m 1ms/step - loss: 3.2952 - val_loss: 3.3616\n",
      "Epoch 46/120\n",
      "\u001B[1m9587/9587\u001B[0m \u001B[32m━━━━━━━━━━━━━━━━━━━━\u001B[0m\u001B[37m\u001B[0m \u001B[1m12s\u001B[0m 1ms/step - loss: 3.3156 - val_loss: 3.3086\n",
      "Epoch 47/120\n",
      "\u001B[1m9587/9587\u001B[0m \u001B[32m━━━━━━━━━━━━━━━━━━━━\u001B[0m\u001B[37m\u001B[0m \u001B[1m14s\u001B[0m 1ms/step - loss: 3.2956 - val_loss: 3.3526\n",
      "Epoch 48/120\n",
      "\u001B[1m9587/9587\u001B[0m \u001B[32m━━━━━━━━━━━━━━━━━━━━\u001B[0m\u001B[37m\u001B[0m \u001B[1m21s\u001B[0m 2ms/step - loss: 3.3106 - val_loss: 3.3058\n",
      "Epoch 49/120\n",
      "\u001B[1m9587/9587\u001B[0m \u001B[32m━━━━━━━━━━━━━━━━━━━━\u001B[0m\u001B[37m\u001B[0m \u001B[1m15s\u001B[0m 2ms/step - loss: 3.3025 - val_loss: 3.3004\n",
      "Epoch 50/120\n",
      "\u001B[1m9587/9587\u001B[0m \u001B[32m━━━━━━━━━━━━━━━━━━━━\u001B[0m\u001B[37m\u001B[0m \u001B[1m14s\u001B[0m 1ms/step - loss: 3.2988 - val_loss: 3.3255\n",
      "Epoch 51/120\n",
      "\u001B[1m9587/9587\u001B[0m \u001B[32m━━━━━━━━━━━━━━━━━━━━\u001B[0m\u001B[37m\u001B[0m \u001B[1m13s\u001B[0m 1ms/step - loss: 3.2901 - val_loss: 3.3120\n",
      "Epoch 52/120\n",
      "\u001B[1m9587/9587\u001B[0m \u001B[32m━━━━━━━━━━━━━━━━━━━━\u001B[0m\u001B[37m\u001B[0m \u001B[1m17s\u001B[0m 926us/step - loss: 3.3157 - val_loss: 3.3028\n",
      "Epoch 53/120\n",
      "\u001B[1m9587/9587\u001B[0m \u001B[32m━━━━━━━━━━━━━━━━━━━━\u001B[0m\u001B[37m\u001B[0m \u001B[1m10s\u001B[0m 1ms/step - loss: 3.3039 - val_loss: 3.3056\n",
      "Epoch 54/120\n",
      "\u001B[1m9587/9587\u001B[0m \u001B[32m━━━━━━━━━━━━━━━━━━━━\u001B[0m\u001B[37m\u001B[0m \u001B[1m10s\u001B[0m 1ms/step - loss: 3.3133 - val_loss: 3.3080\n",
      "Epoch 55/120\n",
      "\u001B[1m9587/9587\u001B[0m \u001B[32m━━━━━━━━━━━━━━━━━━━━\u001B[0m\u001B[37m\u001B[0m \u001B[1m10s\u001B[0m 1ms/step - loss: 3.3004 - val_loss: 3.3046\n",
      "Epoch 56/120\n",
      "\u001B[1m9587/9587\u001B[0m \u001B[32m━━━━━━━━━━━━━━━━━━━━\u001B[0m\u001B[37m\u001B[0m \u001B[1m10s\u001B[0m 1ms/step - loss: 3.3167 - val_loss: 3.3000\n",
      "Epoch 57/120\n",
      "\u001B[1m9587/9587\u001B[0m \u001B[32m━━━━━━━━━━━━━━━━━━━━\u001B[0m\u001B[37m\u001B[0m \u001B[1m10s\u001B[0m 1ms/step - loss: 3.3125 - val_loss: 3.3623\n",
      "Epoch 58/120\n",
      "\u001B[1m9587/9587\u001B[0m \u001B[32m━━━━━━━━━━━━━━━━━━━━\u001B[0m\u001B[37m\u001B[0m \u001B[1m10s\u001B[0m 1ms/step - loss: 3.3113 - val_loss: 3.3013\n",
      "Epoch 59/120\n",
      "\u001B[1m9587/9587\u001B[0m \u001B[32m━━━━━━━━━━━━━━━━━━━━\u001B[0m\u001B[37m\u001B[0m \u001B[1m10s\u001B[0m 1ms/step - loss: 3.2933 - val_loss: 3.3029\n",
      "Epoch 60/120\n",
      "\u001B[1m9587/9587\u001B[0m \u001B[32m━━━━━━━━━━━━━━━━━━━━\u001B[0m\u001B[37m\u001B[0m \u001B[1m10s\u001B[0m 996us/step - loss: 3.3000 - val_loss: 3.3030\n",
      "Epoch 61/120\n",
      "\u001B[1m9587/9587\u001B[0m \u001B[32m━━━━━━━━━━━━━━━━━━━━\u001B[0m\u001B[37m\u001B[0m \u001B[1m9s\u001B[0m 937us/step - loss: 3.2985 - val_loss: 3.3158\n",
      "Epoch 62/120\n",
      "\u001B[1m9587/9587\u001B[0m \u001B[32m━━━━━━━━━━━━━━━━━━━━\u001B[0m\u001B[37m\u001B[0m \u001B[1m9s\u001B[0m 937us/step - loss: 3.3125 - val_loss: 3.3047\n",
      "Epoch 63/120\n",
      "\u001B[1m9587/9587\u001B[0m \u001B[32m━━━━━━━━━━━━━━━━━━━━\u001B[0m\u001B[37m\u001B[0m \u001B[1m9s\u001B[0m 930us/step - loss: 3.3068 - val_loss: 3.3133\n",
      "Epoch 64/120\n",
      "\u001B[1m9587/9587\u001B[0m \u001B[32m━━━━━━━━━━━━━━━━━━━━\u001B[0m\u001B[37m\u001B[0m \u001B[1m9s\u001B[0m 938us/step - loss: 3.3102 - val_loss: 3.3041\n",
      "Epoch 65/120\n",
      "\u001B[1m9587/9587\u001B[0m \u001B[32m━━━━━━━━━━━━━━━━━━━━\u001B[0m\u001B[37m\u001B[0m \u001B[1m12s\u001B[0m 1ms/step - loss: 3.3070 - val_loss: 3.3001\n",
      "Epoch 66/120\n",
      "\u001B[1m9587/9587\u001B[0m \u001B[32m━━━━━━━━━━━━━━━━━━━━\u001B[0m\u001B[37m\u001B[0m \u001B[1m15s\u001B[0m 2ms/step - loss: 3.3049 - val_loss: 3.4471\n",
      "Epoch 67/120\n",
      "\u001B[1m9587/9587\u001B[0m \u001B[32m━━━━━━━━━━━━━━━━━━━━\u001B[0m\u001B[37m\u001B[0m \u001B[1m14s\u001B[0m 1ms/step - loss: 3.3096 - val_loss: 3.3088\n",
      "Epoch 68/120\n",
      "\u001B[1m9587/9587\u001B[0m \u001B[32m━━━━━━━━━━━━━━━━━━━━\u001B[0m\u001B[37m\u001B[0m \u001B[1m14s\u001B[0m 1ms/step - loss: 3.3040 - val_loss: 3.3060\n",
      "Epoch 69/120\n",
      "\u001B[1m9587/9587\u001B[0m \u001B[32m━━━━━━━━━━━━━━━━━━━━\u001B[0m\u001B[37m\u001B[0m \u001B[1m20s\u001B[0m 1ms/step - loss: 3.2914 - val_loss: 3.3023\n",
      "Epoch 70/120\n",
      "\u001B[1m9587/9587\u001B[0m \u001B[32m━━━━━━━━━━━━━━━━━━━━\u001B[0m\u001B[37m\u001B[0m \u001B[1m14s\u001B[0m 1ms/step - loss: 3.2925 - val_loss: 3.2993\n",
      "Epoch 71/120\n",
      "\u001B[1m9587/9587\u001B[0m \u001B[32m━━━━━━━━━━━━━━━━━━━━\u001B[0m\u001B[37m\u001B[0m \u001B[1m14s\u001B[0m 1ms/step - loss: 3.2940 - val_loss: 3.3059\n",
      "Epoch 72/120\n",
      "\u001B[1m9587/9587\u001B[0m \u001B[32m━━━━━━━━━━━━━━━━━━━━\u001B[0m\u001B[37m\u001B[0m \u001B[1m21s\u001B[0m 1ms/step - loss: 3.2971 - val_loss: 3.3044\n",
      "Epoch 73/120\n",
      "\u001B[1m9587/9587\u001B[0m \u001B[32m━━━━━━━━━━━━━━━━━━━━\u001B[0m\u001B[37m\u001B[0m \u001B[1m14s\u001B[0m 1ms/step - loss: 3.2983 - val_loss: 3.3050\n",
      "Epoch 74/120\n",
      "\u001B[1m9587/9587\u001B[0m \u001B[32m━━━━━━━━━━━━━━━━━━━━\u001B[0m\u001B[37m\u001B[0m \u001B[1m20s\u001B[0m 1ms/step - loss: 3.2977 - val_loss: 3.3073\n",
      "Epoch 75/120\n",
      "\u001B[1m9587/9587\u001B[0m \u001B[32m━━━━━━━━━━━━━━━━━━━━\u001B[0m\u001B[37m\u001B[0m \u001B[1m21s\u001B[0m 1ms/step - loss: 3.2936 - val_loss: 3.3111\n",
      "Epoch 76/120\n",
      "\u001B[1m9587/9587\u001B[0m \u001B[32m━━━━━━━━━━━━━━━━━━━━\u001B[0m\u001B[37m\u001B[0m \u001B[1m14s\u001B[0m 1ms/step - loss: 3.2875 - val_loss: 3.3135\n",
      "Epoch 77/120\n",
      "\u001B[1m9587/9587\u001B[0m \u001B[32m━━━━━━━━━━━━━━━━━━━━\u001B[0m\u001B[37m\u001B[0m \u001B[1m21s\u001B[0m 1ms/step - loss: 3.3079 - val_loss: 3.3055\n",
      "Epoch 78/120\n",
      "\u001B[1m9587/9587\u001B[0m \u001B[32m━━━━━━━━━━━━━━━━━━━━\u001B[0m\u001B[37m\u001B[0m \u001B[1m11s\u001B[0m 1ms/step - loss: 3.2858 - val_loss: 3.2989\n",
      "Epoch 79/120\n",
      "\u001B[1m9587/9587\u001B[0m \u001B[32m━━━━━━━━━━━━━━━━━━━━\u001B[0m\u001B[37m\u001B[0m \u001B[1m10s\u001B[0m 1ms/step - loss: 3.2971 - val_loss: 3.3041\n",
      "Epoch 80/120\n",
      "\u001B[1m9587/9587\u001B[0m \u001B[32m━━━━━━━━━━━━━━━━━━━━\u001B[0m\u001B[37m\u001B[0m \u001B[1m10s\u001B[0m 1ms/step - loss: 3.3003 - val_loss: 3.2988\n",
      "Epoch 81/120\n",
      "\u001B[1m9587/9587\u001B[0m \u001B[32m━━━━━━━━━━━━━━━━━━━━\u001B[0m\u001B[37m\u001B[0m \u001B[1m10s\u001B[0m 1ms/step - loss: 3.3260 - val_loss: 3.2999\n",
      "Epoch 82/120\n",
      "\u001B[1m9587/9587\u001B[0m \u001B[32m━━━━━━━━━━━━━━━━━━━━\u001B[0m\u001B[37m\u001B[0m \u001B[1m10s\u001B[0m 1ms/step - loss: 3.2906 - val_loss: 3.3150\n",
      "Epoch 83/120\n",
      "\u001B[1m9587/9587\u001B[0m \u001B[32m━━━━━━━━━━━━━━━━━━━━\u001B[0m\u001B[37m\u001B[0m \u001B[1m10s\u001B[0m 1ms/step - loss: 3.2992 - val_loss: 3.3084\n",
      "Epoch 84/120\n",
      "\u001B[1m9587/9587\u001B[0m \u001B[32m━━━━━━━━━━━━━━━━━━━━\u001B[0m\u001B[37m\u001B[0m \u001B[1m10s\u001B[0m 1ms/step - loss: 3.3071 - val_loss: 3.3201\n",
      "Epoch 85/120\n",
      "\u001B[1m9587/9587\u001B[0m \u001B[32m━━━━━━━━━━━━━━━━━━━━\u001B[0m\u001B[37m\u001B[0m \u001B[1m10s\u001B[0m 1ms/step - loss: 3.2938 - val_loss: 3.2988\n",
      "Epoch 86/120\n",
      "\u001B[1m9587/9587\u001B[0m \u001B[32m━━━━━━━━━━━━━━━━━━━━\u001B[0m\u001B[37m\u001B[0m \u001B[1m9s\u001B[0m 975us/step - loss: 3.2964 - val_loss: 3.3142\n",
      "Epoch 87/120\n",
      "\u001B[1m9587/9587\u001B[0m \u001B[32m━━━━━━━━━━━━━━━━━━━━\u001B[0m\u001B[37m\u001B[0m \u001B[1m9s\u001B[0m 940us/step - loss: 3.2920 - val_loss: 3.2985\n",
      "Epoch 88/120\n",
      "\u001B[1m9587/9587\u001B[0m \u001B[32m━━━━━━━━━━━━━━━━━━━━\u001B[0m\u001B[37m\u001B[0m \u001B[1m9s\u001B[0m 961us/step - loss: 3.2801 - val_loss: 3.3346\n",
      "Epoch 89/120\n",
      "\u001B[1m9587/9587\u001B[0m \u001B[32m━━━━━━━━━━━━━━━━━━━━\u001B[0m\u001B[37m\u001B[0m \u001B[1m10s\u001B[0m 1ms/step - loss: 3.2709 - val_loss: 3.3018\n",
      "Epoch 90/120\n",
      "\u001B[1m9587/9587\u001B[0m \u001B[32m━━━━━━━━━━━━━━━━━━━━\u001B[0m\u001B[37m\u001B[0m \u001B[1m9s\u001B[0m 968us/step - loss: 3.3093 - val_loss: 3.3387\n",
      "Epoch 91/120\n",
      "\u001B[1m9587/9587\u001B[0m \u001B[32m━━━━━━━━━━━━━━━━━━━━\u001B[0m\u001B[37m\u001B[0m \u001B[1m9s\u001B[0m 950us/step - loss: 3.3004 - val_loss: 3.3818\n",
      "Epoch 92/120\n",
      "\u001B[1m9587/9587\u001B[0m \u001B[32m━━━━━━━━━━━━━━━━━━━━\u001B[0m\u001B[37m\u001B[0m \u001B[1m9s\u001B[0m 944us/step - loss: 3.2925 - val_loss: 3.3003\n",
      "Epoch 93/120\n",
      "\u001B[1m9587/9587\u001B[0m \u001B[32m━━━━━━━━━━━━━━━━━━━━\u001B[0m\u001B[37m\u001B[0m \u001B[1m9s\u001B[0m 953us/step - loss: 3.3033 - val_loss: 3.3283\n",
      "Epoch 94/120\n",
      "\u001B[1m9587/9587\u001B[0m \u001B[32m━━━━━━━━━━━━━━━━━━━━\u001B[0m\u001B[37m\u001B[0m \u001B[1m10s\u001B[0m 944us/step - loss: 3.2957 - val_loss: 3.3496\n",
      "Epoch 95/120\n",
      "\u001B[1m9587/9587\u001B[0m \u001B[32m━━━━━━━━━━━━━━━━━━━━\u001B[0m\u001B[37m\u001B[0m \u001B[1m10s\u001B[0m 947us/step - loss: 3.2986 - val_loss: 3.3116\n",
      "Epoch 96/120\n",
      "\u001B[1m9587/9587\u001B[0m \u001B[32m━━━━━━━━━━━━━━━━━━━━\u001B[0m\u001B[37m\u001B[0m \u001B[1m9s\u001B[0m 949us/step - loss: 3.3085 - val_loss: 3.2998\n",
      "Epoch 97/120\n",
      "\u001B[1m9587/9587\u001B[0m \u001B[32m━━━━━━━━━━━━━━━━━━━━\u001B[0m\u001B[37m\u001B[0m \u001B[1m13s\u001B[0m 1ms/step - loss: 3.3064 - val_loss: 3.3389\n",
      "Epoch 98/120\n",
      "\u001B[1m9587/9587\u001B[0m \u001B[32m━━━━━━━━━━━━━━━━━━━━\u001B[0m\u001B[37m\u001B[0m \u001B[1m15s\u001B[0m 2ms/step - loss: 3.2936 - val_loss: 3.2981\n",
      "Epoch 99/120\n",
      "\u001B[1m9587/9587\u001B[0m \u001B[32m━━━━━━━━━━━━━━━━━━━━\u001B[0m\u001B[37m\u001B[0m \u001B[1m14s\u001B[0m 1ms/step - loss: 3.2947 - val_loss: 3.2980\n",
      "Epoch 100/120\n",
      "\u001B[1m9587/9587\u001B[0m \u001B[32m━━━━━━━━━━━━━━━━━━━━\u001B[0m\u001B[37m\u001B[0m \u001B[1m14s\u001B[0m 1ms/step - loss: 3.3090 - val_loss: 3.2983\n",
      "Epoch 101/120\n",
      "\u001B[1m9587/9587\u001B[0m \u001B[32m━━━━━━━━━━━━━━━━━━━━\u001B[0m\u001B[37m\u001B[0m \u001B[1m14s\u001B[0m 1ms/step - loss: 3.2849 - val_loss: 3.3384\n",
      "Epoch 102/120\n",
      "\u001B[1m9587/9587\u001B[0m \u001B[32m━━━━━━━━━━━━━━━━━━━━\u001B[0m\u001B[37m\u001B[0m \u001B[1m14s\u001B[0m 1ms/step - loss: 3.2958 - val_loss: 3.3103\n",
      "Epoch 103/120\n",
      "\u001B[1m9587/9587\u001B[0m \u001B[32m━━━━━━━━━━━━━━━━━━━━\u001B[0m\u001B[37m\u001B[0m \u001B[1m21s\u001B[0m 1ms/step - loss: 3.2994 - val_loss: 3.3060\n",
      "Epoch 104/120\n",
      "\u001B[1m9587/9587\u001B[0m \u001B[32m━━━━━━━━━━━━━━━━━━━━\u001B[0m\u001B[37m\u001B[0m \u001B[1m14s\u001B[0m 1ms/step - loss: 3.3039 - val_loss: 3.3001\n",
      "Epoch 105/120\n",
      "\u001B[1m9587/9587\u001B[0m \u001B[32m━━━━━━━━━━━━━━━━━━━━\u001B[0m\u001B[37m\u001B[0m \u001B[1m14s\u001B[0m 1ms/step - loss: 3.2994 - val_loss: 3.2993\n",
      "Epoch 106/120\n",
      "\u001B[1m9587/9587\u001B[0m \u001B[32m━━━━━━━━━━━━━━━━━━━━\u001B[0m\u001B[37m\u001B[0m \u001B[1m20s\u001B[0m 1ms/step - loss: 3.2862 - val_loss: 3.3533\n",
      "Epoch 107/120\n",
      "\u001B[1m9587/9587\u001B[0m \u001B[32m━━━━━━━━━━━━━━━━━━━━\u001B[0m\u001B[37m\u001B[0m \u001B[1m14s\u001B[0m 1ms/step - loss: 3.2917 - val_loss: 3.3037\n",
      "Epoch 108/120\n",
      "\u001B[1m9587/9587\u001B[0m \u001B[32m━━━━━━━━━━━━━━━━━━━━\u001B[0m\u001B[37m\u001B[0m \u001B[1m21s\u001B[0m 2ms/step - loss: 3.2848 - val_loss: 3.2990\n",
      "Epoch 109/120\n",
      "\u001B[1m9587/9587\u001B[0m \u001B[32m━━━━━━━━━━━━━━━━━━━━\u001B[0m\u001B[37m\u001B[0m \u001B[1m20s\u001B[0m 1ms/step - loss: 3.2903 - val_loss: 3.3754\n",
      "Epoch 110/120\n",
      "\u001B[1m9587/9587\u001B[0m \u001B[32m━━━━━━━━━━━━━━━━━━━━\u001B[0m\u001B[37m\u001B[0m \u001B[1m14s\u001B[0m 1ms/step - loss: 3.2832 - val_loss: 3.3032\n",
      "Epoch 111/120\n",
      "\u001B[1m9587/9587\u001B[0m \u001B[32m━━━━━━━━━━━━━━━━━━━━\u001B[0m\u001B[37m\u001B[0m \u001B[1m15s\u001B[0m 2ms/step - loss: 3.3138 - val_loss: 3.3026\n",
      "Epoch 112/120\n",
      "\u001B[1m9587/9587\u001B[0m \u001B[32m━━━━━━━━━━━━━━━━━━━━\u001B[0m\u001B[37m\u001B[0m \u001B[1m20s\u001B[0m 1ms/step - loss: 3.2964 - val_loss: 3.3018\n",
      "Epoch 113/120\n",
      "\u001B[1m9587/9587\u001B[0m \u001B[32m━━━━━━━━━━━━━━━━━━━━\u001B[0m\u001B[37m\u001B[0m \u001B[1m14s\u001B[0m 1ms/step - loss: 3.2838 - val_loss: 3.3192\n",
      "Epoch 114/120\n",
      "\u001B[1m9587/9587\u001B[0m \u001B[32m━━━━━━━━━━━━━━━━━━━━\u001B[0m\u001B[37m\u001B[0m \u001B[1m21s\u001B[0m 1ms/step - loss: 3.2907 - val_loss: 3.3249\n",
      "Epoch 115/120\n",
      "\u001B[1m9587/9587\u001B[0m \u001B[32m━━━━━━━━━━━━━━━━━━━━\u001B[0m\u001B[37m\u001B[0m \u001B[1m14s\u001B[0m 1ms/step - loss: 3.2874 - val_loss: 3.3000\n",
      "Epoch 116/120\n",
      "\u001B[1m9587/9587\u001B[0m \u001B[32m━━━━━━━━━━━━━━━━━━━━\u001B[0m\u001B[37m\u001B[0m \u001B[1m10s\u001B[0m 1ms/step - loss: 3.2874 - val_loss: 3.2975\n",
      "Epoch 117/120\n",
      "\u001B[1m9587/9587\u001B[0m \u001B[32m━━━━━━━━━━━━━━━━━━━━\u001B[0m\u001B[37m\u001B[0m \u001B[1m8s\u001B[0m 878us/step - loss: 3.2806 - val_loss: 3.3016\n",
      "Epoch 118/120\n",
      "\u001B[1m9587/9587\u001B[0m \u001B[32m━━━━━━━━━━━━━━━━━━━━\u001B[0m\u001B[37m\u001B[0m \u001B[1m8s\u001B[0m 824us/step - loss: 3.2980 - val_loss: 3.2983\n",
      "Epoch 119/120\n",
      "\u001B[1m9587/9587\u001B[0m \u001B[32m━━━━━━━━━━━━━━━━━━━━\u001B[0m\u001B[37m\u001B[0m \u001B[1m11s\u001B[0m 843us/step - loss: 3.2931 - val_loss: 3.3434\n",
      "Epoch 120/120\n",
      "\u001B[1m9587/9587\u001B[0m \u001B[32m━━━━━━━━━━━━━━━━━━━━\u001B[0m\u001B[37m\u001B[0m \u001B[1m9s\u001B[0m 907us/step - loss: 3.3178 - val_loss: 3.2997\n"
     ]
    },
    {
     "data": {
      "text/plain": "<Figure size 640x480 with 1 Axes>",
      "image/png": "[encoded data removed]"
     },
     "metadata": {},
     "output_type": "display_data"
    }
   ],
   "source": [
    "mlp_model_2 = Sequential()\n",
    "mlp_model_2.add(Input(shape=(df_content_features.shape[1],)))\n",
    "mlp_model_2.add(Dense(units=128, activation='relu'))\n",
    "mlp_model_2.add(Dense(units=128, activation='relu'))\n",
    "mlp_model_2.add(Dense(units=1))\n",
    "\n",
    "mlp_model_2.compile(loss='mean_squared_error', optimizer='Adam')\n",
    "mlp_history_2 = mlp_model_2.fit(X_train, y_train, batch_size=32, epochs=120, validation_data=(X_test, y_test))\n",
    "mlp_model_2.save(r'C:\\Users\\hp\\Downloads\\ai_assignment\\hybrid_code\\keras\\mlp_model_2.keras')\n",
    "\n",
    "train_loss = mlp_history_2.history['loss']\n",
    "test_loss = mlp_history_2.history['val_loss']\n",
    "\n",
    "epochs = range(len(train_loss))\n",
    "plt.plot(epochs, train_loss, label='Train Loss')\n",
    "plt.plot(epochs, test_loss, label='Test Loss')\n",
    "plt.title('Learning Curve for MLP Model 2')\n",
    "plt.ylabel('Mean Square Error (MSE)')\n",
    "plt.xlabel('Epochs')\n",
    "plt.legend()\n",
    "plt.grid(True, linewidth=0.5)\n",
    "plt.show()"
   ],
   "metadata": {
    "collapsed": false,
    "ExecuteTime": {
     "end_time": "2024-05-05T17:16:53.655708Z",
     "start_time": "2024-05-05T16:51:51.310775Z"
    }
   },
   "id": "8061b42df90b2718",
   "execution_count": 58
  },
  {
   "cell_type": "code",
   "outputs": [
    {
     "name": "stdout",
     "output_type": "stream",
     "text": [
      "Epoch 1/120\n",
      "\u001B[1m9587/9587\u001B[0m \u001B[32m━━━━━━━━━━━━━━━━━━━━\u001B[0m\u001B[37m\u001B[0m \u001B[1m12s\u001B[0m 1ms/step - loss: 11.0616 - val_loss: 3.7124\n",
      "Epoch 2/120\n",
      "\u001B[1m9587/9587\u001B[0m \u001B[32m━━━━━━━━━━━━━━━━━━━━\u001B[0m\u001B[37m\u001B[0m \u001B[1m13s\u001B[0m 1ms/step - loss: 3.8125 - val_loss: 3.4532\n",
      "Epoch 3/120\n",
      "\u001B[1m9587/9587\u001B[0m \u001B[32m━━━━━━━━━━━━━━━━━━━━\u001B[0m\u001B[37m\u001B[0m \u001B[1m20s\u001B[0m 1ms/step - loss: 3.4491 - val_loss: 3.3301\n",
      "Epoch 4/120\n",
      "\u001B[1m9587/9587\u001B[0m \u001B[32m━━━━━━━━━━━━━━━━━━━━\u001B[0m\u001B[37m\u001B[0m \u001B[1m21s\u001B[0m 1ms/step - loss: 3.3810 - val_loss: 3.3918\n",
      "Epoch 5/120\n",
      "\u001B[1m9587/9587\u001B[0m \u001B[32m━━━━━━━━━━━━━━━━━━━━\u001B[0m\u001B[37m\u001B[0m \u001B[1m13s\u001B[0m 1ms/step - loss: 3.3574 - val_loss: 3.4603\n",
      "Epoch 6/120\n",
      "\u001B[1m9587/9587\u001B[0m \u001B[32m━━━━━━━━━━━━━━━━━━━━\u001B[0m\u001B[37m\u001B[0m \u001B[1m13s\u001B[0m 1ms/step - loss: 3.3491 - val_loss: 3.4431\n",
      "Epoch 7/120\n",
      "\u001B[1m9587/9587\u001B[0m \u001B[32m━━━━━━━━━━━━━━━━━━━━\u001B[0m\u001B[37m\u001B[0m \u001B[1m20s\u001B[0m 1ms/step - loss: 3.3455 - val_loss: 3.3851\n",
      "Epoch 8/120\n",
      "\u001B[1m9587/9587\u001B[0m \u001B[32m━━━━━━━━━━━━━━━━━━━━\u001B[0m\u001B[37m\u001B[0m \u001B[1m20s\u001B[0m 1ms/step - loss: 3.3351 - val_loss: 3.3173\n",
      "Epoch 9/120\n",
      "\u001B[1m9587/9587\u001B[0m \u001B[32m━━━━━━━━━━━━━━━━━━━━\u001B[0m\u001B[37m\u001B[0m \u001B[1m13s\u001B[0m 1ms/step - loss: 3.3416 - val_loss: 3.3107\n",
      "Epoch 10/120\n",
      "\u001B[1m9587/9587\u001B[0m \u001B[32m━━━━━━━━━━━━━━━━━━━━\u001B[0m\u001B[37m\u001B[0m \u001B[1m19s\u001B[0m 1ms/step - loss: 3.3396 - val_loss: 3.3367\n",
      "Epoch 11/120\n",
      "\u001B[1m9587/9587\u001B[0m \u001B[32m━━━━━━━━━━━━━━━━━━━━\u001B[0m\u001B[37m\u001B[0m \u001B[1m22s\u001B[0m 1ms/step - loss: 3.3214 - val_loss: 3.4935\n",
      "Epoch 12/120\n",
      "\u001B[1m9587/9587\u001B[0m \u001B[32m━━━━━━━━━━━━━━━━━━━━\u001B[0m\u001B[37m\u001B[0m \u001B[1m13s\u001B[0m 1ms/step - loss: 3.3475 - val_loss: 3.3085\n",
      "Epoch 13/120\n",
      "\u001B[1m9587/9587\u001B[0m \u001B[32m━━━━━━━━━━━━━━━━━━━━\u001B[0m\u001B[37m\u001B[0m \u001B[1m13s\u001B[0m 1ms/step - loss: 3.3294 - val_loss: 3.3704\n",
      "Epoch 14/120\n",
      "\u001B[1m9587/9587\u001B[0m \u001B[32m━━━━━━━━━━━━━━━━━━━━\u001B[0m\u001B[37m\u001B[0m \u001B[1m20s\u001B[0m 1ms/step - loss: 3.3220 - val_loss: 3.3410\n",
      "Epoch 15/120\n",
      "\u001B[1m9587/9587\u001B[0m \u001B[32m━━━━━━━━━━━━━━━━━━━━\u001B[0m\u001B[37m\u001B[0m \u001B[1m14s\u001B[0m 1ms/step - loss: 3.3129 - val_loss: 3.3851\n",
      "Epoch 16/120\n",
      "\u001B[1m9587/9587\u001B[0m \u001B[32m━━━━━━━━━━━━━━━━━━━━\u001B[0m\u001B[37m\u001B[0m \u001B[1m19s\u001B[0m 1ms/step - loss: 3.3087 - val_loss: 3.3510\n",
      "Epoch 17/120\n",
      "\u001B[1m9587/9587\u001B[0m \u001B[32m━━━━━━━━━━━━━━━━━━━━\u001B[0m\u001B[37m\u001B[0m \u001B[1m13s\u001B[0m 1ms/step - loss: 3.3114 - val_loss: 3.3160\n",
      "Epoch 18/120\n",
      "\u001B[1m9587/9587\u001B[0m \u001B[32m━━━━━━━━━━━━━━━━━━━━\u001B[0m\u001B[37m\u001B[0m \u001B[1m13s\u001B[0m 1ms/step - loss: 3.3180 - val_loss: 3.3247\n",
      "Epoch 19/120\n",
      "\u001B[1m9587/9587\u001B[0m \u001B[32m━━━━━━━━━━━━━━━━━━━━\u001B[0m\u001B[37m\u001B[0m \u001B[1m20s\u001B[0m 1ms/step - loss: 3.3227 - val_loss: 3.3162\n",
      "Epoch 20/120\n",
      "\u001B[1m9587/9587\u001B[0m \u001B[32m━━━━━━━━━━━━━━━━━━━━\u001B[0m\u001B[37m\u001B[0m \u001B[1m18s\u001B[0m 1ms/step - loss: 3.3209 - val_loss: 3.3417\n",
      "Epoch 21/120\n",
      "\u001B[1m9587/9587\u001B[0m \u001B[32m━━━━━━━━━━━━━━━━━━━━\u001B[0m\u001B[37m\u001B[0m \u001B[1m8s\u001B[0m 840us/step - loss: 3.3162 - val_loss: 3.3050\n",
      "Epoch 22/120\n",
      "\u001B[1m9587/9587\u001B[0m \u001B[32m━━━━━━━━━━━━━━━━━━━━\u001B[0m\u001B[37m\u001B[0m \u001B[1m8s\u001B[0m 812us/step - loss: 3.3161 - val_loss: 3.3076\n",
      "Epoch 23/120\n",
      "\u001B[1m9587/9587\u001B[0m \u001B[32m━━━━━━━━━━━━━━━━━━━━\u001B[0m\u001B[37m\u001B[0m \u001B[1m13s\u001B[0m 1ms/step - loss: 3.3076 - val_loss: 3.3355\n",
      "Epoch 24/120\n",
      "\u001B[1m9587/9587\u001B[0m \u001B[32m━━━━━━━━━━━━━━━━━━━━\u001B[0m\u001B[37m\u001B[0m \u001B[1m12s\u001B[0m 1ms/step - loss: 3.3044 - val_loss: 3.3436\n",
      "Epoch 25/120\n",
      "\u001B[1m9587/9587\u001B[0m \u001B[32m━━━━━━━━━━━━━━━━━━━━\u001B[0m\u001B[37m\u001B[0m \u001B[1m21s\u001B[0m 1ms/step - loss: 3.3170 - val_loss: 3.3255\n",
      "Epoch 26/120\n",
      "\u001B[1m9587/9587\u001B[0m \u001B[32m━━━━━━━━━━━━━━━━━━━━\u001B[0m\u001B[37m\u001B[0m \u001B[1m12s\u001B[0m 1ms/step - loss: 3.3079 - val_loss: 3.3179\n",
      "Epoch 27/120\n",
      "\u001B[1m9587/9587\u001B[0m \u001B[32m━━━━━━━━━━━━━━━━━━━━\u001B[0m\u001B[37m\u001B[0m \u001B[1m21s\u001B[0m 1ms/step - loss: 3.3114 - val_loss: 3.3329\n",
      "Epoch 28/120\n",
      "\u001B[1m9587/9587\u001B[0m \u001B[32m━━━━━━━━━━━━━━━━━━━━\u001B[0m\u001B[37m\u001B[0m \u001B[1m20s\u001B[0m 1ms/step - loss: 3.3174 - val_loss: 3.3078\n",
      "Epoch 29/120\n",
      "\u001B[1m9587/9587\u001B[0m \u001B[32m━━━━━━━━━━━━━━━━━━━━\u001B[0m\u001B[37m\u001B[0m \u001B[1m23s\u001B[0m 1ms/step - loss: 3.3161 - val_loss: 3.3071\n",
      "Epoch 30/120\n",
      "\u001B[1m9587/9587\u001B[0m \u001B[32m━━━━━━━━━━━━━━━━━━━━\u001B[0m\u001B[37m\u001B[0m \u001B[1m20s\u001B[0m 1ms/step - loss: 3.3060 - val_loss: 3.3601\n",
      "Epoch 31/120\n",
      "\u001B[1m9587/9587\u001B[0m \u001B[32m━━━━━━━━━━━━━━━━━━━━\u001B[0m\u001B[37m\u001B[0m \u001B[1m20s\u001B[0m 1ms/step - loss: 3.2814 - val_loss: 3.3039\n",
      "Epoch 32/120\n",
      "\u001B[1m9587/9587\u001B[0m \u001B[32m━━━━━━━━━━━━━━━━━━━━\u001B[0m\u001B[37m\u001B[0m \u001B[1m21s\u001B[0m 1ms/step - loss: 3.3076 - val_loss: 3.3465\n",
      "Epoch 33/120\n",
      "\u001B[1m9587/9587\u001B[0m \u001B[32m━━━━━━━━━━━━━━━━━━━━\u001B[0m\u001B[37m\u001B[0m \u001B[1m13s\u001B[0m 1ms/step - loss: 3.2935 - val_loss: 3.3137\n",
      "Epoch 34/120\n",
      "\u001B[1m9587/9587\u001B[0m \u001B[32m━━━━━━━━━━━━━━━━━━━━\u001B[0m\u001B[37m\u001B[0m \u001B[1m20s\u001B[0m 1ms/step - loss: 3.3174 - val_loss: 3.3864\n",
      "Epoch 35/120\n",
      "\u001B[1m9587/9587\u001B[0m \u001B[32m━━━━━━━━━━━━━━━━━━━━\u001B[0m\u001B[37m\u001B[0m \u001B[1m13s\u001B[0m 1ms/step - loss: 3.3130 - val_loss: 3.3143\n",
      "Epoch 36/120\n",
      "\u001B[1m9587/9587\u001B[0m \u001B[32m━━━━━━━━━━━━━━━━━━━━\u001B[0m\u001B[37m\u001B[0m \u001B[1m10s\u001B[0m 1ms/step - loss: 3.3148 - val_loss: 3.3059\n",
      "Epoch 37/120\n",
      "\u001B[1m9587/9587\u001B[0m \u001B[32m━━━━━━━━━━━━━━━━━━━━\u001B[0m\u001B[37m\u001B[0m \u001B[1m8s\u001B[0m 820us/step - loss: 3.3076 - val_loss: 3.3032\n",
      "Epoch 38/120\n",
      "\u001B[1m9587/9587\u001B[0m \u001B[32m━━━━━━━━━━━━━━━━━━━━\u001B[0m\u001B[37m\u001B[0m \u001B[1m13s\u001B[0m 1ms/step - loss: 3.3228 - val_loss: 3.3087\n",
      "Epoch 39/120\n",
      "\u001B[1m9587/9587\u001B[0m \u001B[32m━━━━━━━━━━━━━━━━━━━━\u001B[0m\u001B[37m\u001B[0m \u001B[1m13s\u001B[0m 1ms/step - loss: 3.3033 - val_loss: 3.3139\n",
      "Epoch 40/120\n",
      "\u001B[1m9587/9587\u001B[0m \u001B[32m━━━━━━━━━━━━━━━━━━━━\u001B[0m\u001B[37m\u001B[0m \u001B[1m21s\u001B[0m 1ms/step - loss: 3.3011 - val_loss: 3.3064\n",
      "Epoch 41/120\n",
      "\u001B[1m9587/9587\u001B[0m \u001B[32m━━━━━━━━━━━━━━━━━━━━\u001B[0m\u001B[37m\u001B[0m \u001B[1m21s\u001B[0m 1ms/step - loss: 3.3032 - val_loss: 3.3009\n",
      "Epoch 42/120\n",
      "\u001B[1m9587/9587\u001B[0m \u001B[32m━━━━━━━━━━━━━━━━━━━━\u001B[0m\u001B[37m\u001B[0m \u001B[1m20s\u001B[0m 1ms/step - loss: 3.3080 - val_loss: 3.3117\n",
      "Epoch 43/120\n",
      "\u001B[1m9587/9587\u001B[0m \u001B[32m━━━━━━━━━━━━━━━━━━━━\u001B[0m\u001B[37m\u001B[0m \u001B[1m20s\u001B[0m 1ms/step - loss: 3.3111 - val_loss: 3.3093\n",
      "Epoch 44/120\n",
      "\u001B[1m9587/9587\u001B[0m \u001B[32m━━━━━━━━━━━━━━━━━━━━\u001B[0m\u001B[37m\u001B[0m \u001B[1m20s\u001B[0m 1ms/step - loss: 3.3184 - val_loss: 3.3159\n",
      "Epoch 45/120\n",
      "\u001B[1m9587/9587\u001B[0m \u001B[32m━━━━━━━━━━━━━━━━━━━━\u001B[0m\u001B[37m\u001B[0m \u001B[1m8s\u001B[0m 873us/step - loss: 3.3058 - val_loss: 3.3010\n",
      "Epoch 46/120\n",
      "\u001B[1m9587/9587\u001B[0m \u001B[32m━━━━━━━━━━━━━━━━━━━━\u001B[0m\u001B[37m\u001B[0m \u001B[1m8s\u001B[0m 789us/step - loss: 3.3112 - val_loss: 3.3044\n",
      "Epoch 47/120\n",
      "\u001B[1m9587/9587\u001B[0m \u001B[32m━━━━━━━━━━━━━━━━━━━━\u001B[0m\u001B[37m\u001B[0m \u001B[1m9s\u001B[0m 969us/step - loss: 3.3141 - val_loss: 3.3279\n",
      "Epoch 48/120\n",
      "\u001B[1m9587/9587\u001B[0m \u001B[32m━━━━━━━━━━━━━━━━━━━━\u001B[0m\u001B[37m\u001B[0m \u001B[1m8s\u001B[0m 827us/step - loss: 3.3055 - val_loss: 3.3050\n",
      "Epoch 49/120\n",
      "\u001B[1m9587/9587\u001B[0m \u001B[32m━━━━━━━━━━━━━━━━━━━━\u001B[0m\u001B[37m\u001B[0m \u001B[1m8s\u001B[0m 839us/step - loss: 3.2935 - val_loss: 3.3868\n",
      "Epoch 50/120\n",
      "\u001B[1m9587/9587\u001B[0m \u001B[32m━━━━━━━━━━━━━━━━━━━━\u001B[0m\u001B[37m\u001B[0m \u001B[1m8s\u001B[0m 852us/step - loss: 3.3012 - val_loss: 3.3724\n",
      "Epoch 51/120\n",
      "\u001B[1m9587/9587\u001B[0m \u001B[32m━━━━━━━━━━━━━━━━━━━━\u001B[0m\u001B[37m\u001B[0m \u001B[1m8s\u001B[0m 841us/step - loss: 3.3077 - val_loss: 3.3333\n",
      "Epoch 52/120\n",
      "\u001B[1m9587/9587\u001B[0m \u001B[32m━━━━━━━━━━━━━━━━━━━━\u001B[0m\u001B[37m\u001B[0m \u001B[1m8s\u001B[0m 825us/step - loss: 3.3126 - val_loss: 3.3057\n",
      "Epoch 53/120\n",
      "\u001B[1m9587/9587\u001B[0m \u001B[32m━━━━━━━━━━━━━━━━━━━━\u001B[0m\u001B[37m\u001B[0m \u001B[1m8s\u001B[0m 815us/step - loss: 3.3115 - val_loss: 3.3009\n",
      "Epoch 54/120\n",
      "\u001B[1m9587/9587\u001B[0m \u001B[32m━━━━━━━━━━━━━━━━━━━━\u001B[0m\u001B[37m\u001B[0m \u001B[1m8s\u001B[0m 803us/step - loss: 3.2883 - val_loss: 3.3135\n",
      "Epoch 55/120\n",
      "\u001B[1m9587/9587\u001B[0m \u001B[32m━━━━━━━━━━━━━━━━━━━━\u001B[0m\u001B[37m\u001B[0m \u001B[1m8s\u001B[0m 810us/step - loss: 3.2978 - val_loss: 3.3009\n",
      "Epoch 56/120\n",
      "\u001B[1m9587/9587\u001B[0m \u001B[32m━━━━━━━━━━━━━━━━━━━━\u001B[0m\u001B[37m\u001B[0m \u001B[1m8s\u001B[0m 834us/step - loss: 3.2963 - val_loss: 3.3137\n",
      "Epoch 57/120\n",
      "\u001B[1m9587/9587\u001B[0m \u001B[32m━━━━━━━━━━━━━━━━━━━━\u001B[0m\u001B[37m\u001B[0m \u001B[1m8s\u001B[0m 847us/step - loss: 3.2924 - val_loss: 3.4647\n",
      "Epoch 58/120\n",
      "\u001B[1m9587/9587\u001B[0m \u001B[32m━━━━━━━━━━━━━━━━━━━━\u001B[0m\u001B[37m\u001B[0m \u001B[1m8s\u001B[0m 808us/step - loss: 3.3033 - val_loss: 3.3127\n",
      "Epoch 59/120\n",
      "\u001B[1m9587/9587\u001B[0m \u001B[32m━━━━━━━━━━━━━━━━━━━━\u001B[0m\u001B[37m\u001B[0m \u001B[1m8s\u001B[0m 828us/step - loss: 3.3007 - val_loss: 3.3128\n",
      "Epoch 60/120\n",
      "\u001B[1m9587/9587\u001B[0m \u001B[32m━━━━━━━━━━━━━━━━━━━━\u001B[0m\u001B[37m\u001B[0m \u001B[1m10s\u001B[0m 789us/step - loss: 3.3012 - val_loss: 3.3537\n",
      "Epoch 61/120\n",
      "\u001B[1m9587/9587\u001B[0m \u001B[32m━━━━━━━━━━━━━━━━━━━━\u001B[0m\u001B[37m\u001B[0m \u001B[1m8s\u001B[0m 841us/step - loss: 3.2958 - val_loss: 3.3445\n",
      "Epoch 62/120\n",
      "\u001B[1m9587/9587\u001B[0m \u001B[32m━━━━━━━━━━━━━━━━━━━━\u001B[0m\u001B[37m\u001B[0m \u001B[1m8s\u001B[0m 869us/step - loss: 3.3002 - val_loss: 3.3046\n",
      "Epoch 63/120\n",
      "\u001B[1m9587/9587\u001B[0m \u001B[32m━━━━━━━━━━━━━━━━━━━━\u001B[0m\u001B[37m\u001B[0m \u001B[1m8s\u001B[0m 825us/step - loss: 3.3039 - val_loss: 3.3406\n",
      "Epoch 64/120\n",
      "\u001B[1m9587/9587\u001B[0m \u001B[32m━━━━━━━━━━━━━━━━━━━━\u001B[0m\u001B[37m\u001B[0m \u001B[1m8s\u001B[0m 850us/step - loss: 3.2965 - val_loss: 3.3034\n",
      "Epoch 65/120\n",
      "\u001B[1m9587/9587\u001B[0m \u001B[32m━━━━━━━━━━━━━━━━━━━━\u001B[0m\u001B[37m\u001B[0m \u001B[1m8s\u001B[0m 881us/step - loss: 3.3000 - val_loss: 3.3400\n",
      "Epoch 66/120\n",
      "\u001B[1m9587/9587\u001B[0m \u001B[32m━━━━━━━━━━━━━━━━━━━━\u001B[0m\u001B[37m\u001B[0m \u001B[1m8s\u001B[0m 857us/step - loss: 3.2895 - val_loss: 3.3215\n",
      "Epoch 67/120\n",
      "\u001B[1m9587/9587\u001B[0m \u001B[32m━━━━━━━━━━━━━━━━━━━━\u001B[0m\u001B[37m\u001B[0m \u001B[1m9s\u001B[0m 896us/step - loss: 3.2977 - val_loss: 3.3340\n",
      "Epoch 68/120\n",
      "\u001B[1m9587/9587\u001B[0m \u001B[32m━━━━━━━━━━━━━━━━━━━━\u001B[0m\u001B[37m\u001B[0m \u001B[1m9s\u001B[0m 941us/step - loss: 3.2989 - val_loss: 3.3027\n",
      "Epoch 69/120\n",
      "\u001B[1m9587/9587\u001B[0m \u001B[32m━━━━━━━━━━━━━━━━━━━━\u001B[0m\u001B[37m\u001B[0m \u001B[1m9s\u001B[0m 955us/step - loss: 3.3032 - val_loss: 3.3118\n",
      "Epoch 70/120\n",
      "\u001B[1m9587/9587\u001B[0m \u001B[32m━━━━━━━━━━━━━━━━━━━━\u001B[0m\u001B[37m\u001B[0m \u001B[1m9s\u001B[0m 953us/step - loss: 3.3037 - val_loss: 3.3395\n",
      "Epoch 71/120\n",
      "\u001B[1m9587/9587\u001B[0m \u001B[32m━━━━━━━━━━━━━━━━━━━━\u001B[0m\u001B[37m\u001B[0m \u001B[1m8s\u001B[0m 880us/step - loss: 3.2908 - val_loss: 3.3063\n",
      "Epoch 72/120\n",
      "\u001B[1m9587/9587\u001B[0m \u001B[32m━━━━━━━━━━━━━━━━━━━━\u001B[0m\u001B[37m\u001B[0m \u001B[1m9s\u001B[0m 918us/step - loss: 3.2923 - val_loss: 3.3136\n",
      "Epoch 73/120\n",
      "\u001B[1m9587/9587\u001B[0m \u001B[32m━━━━━━━━━━━━━━━━━━━━\u001B[0m\u001B[37m\u001B[0m \u001B[1m9s\u001B[0m 979us/step - loss: 3.3035 - val_loss: 3.3041\n",
      "Epoch 74/120\n",
      "\u001B[1m9587/9587\u001B[0m \u001B[32m━━━━━━━━━━━━━━━━━━━━\u001B[0m\u001B[37m\u001B[0m \u001B[1m9s\u001B[0m 893us/step - loss: 3.2980 - val_loss: 3.3195\n",
      "Epoch 75/120\n",
      "\u001B[1m9587/9587\u001B[0m \u001B[32m━━━━━━━━━━━━━━━━━━━━\u001B[0m\u001B[37m\u001B[0m \u001B[1m9s\u001B[0m 937us/step - loss: 3.3011 - val_loss: 3.3107\n",
      "Epoch 76/120\n",
      "\u001B[1m9587/9587\u001B[0m \u001B[32m━━━━━━━━━━━━━━━━━━━━\u001B[0m\u001B[37m\u001B[0m \u001B[1m9s\u001B[0m 920us/step - loss: 3.3032 - val_loss: 3.2991\n",
      "Epoch 77/120\n",
      "\u001B[1m9587/9587\u001B[0m \u001B[32m━━━━━━━━━━━━━━━━━━━━\u001B[0m\u001B[37m\u001B[0m \u001B[1m9s\u001B[0m 920us/step - loss: 3.3088 - val_loss: 3.3324\n",
      "Epoch 78/120\n",
      "\u001B[1m9587/9587\u001B[0m \u001B[32m━━━━━━━━━━━━━━━━━━━━\u001B[0m\u001B[37m\u001B[0m \u001B[1m9s\u001B[0m 939us/step - loss: 3.2963 - val_loss: 3.3021\n",
      "Epoch 79/120\n",
      "\u001B[1m9587/9587\u001B[0m \u001B[32m━━━━━━━━━━━━━━━━━━━━\u001B[0m\u001B[37m\u001B[0m \u001B[1m10s\u001B[0m 992us/step - loss: 3.2974 - val_loss: 3.3029\n",
      "Epoch 80/120\n",
      "\u001B[1m9587/9587\u001B[0m \u001B[32m━━━━━━━━━━━━━━━━━━━━\u001B[0m\u001B[37m\u001B[0m \u001B[1m12s\u001B[0m 1ms/step - loss: 3.2802 - val_loss: 3.4012\n",
      "Epoch 81/120\n",
      "\u001B[1m9587/9587\u001B[0m \u001B[32m━━━━━━━━━━━━━━━━━━━━\u001B[0m\u001B[37m\u001B[0m \u001B[1m13s\u001B[0m 1ms/step - loss: 3.3064 - val_loss: 3.3035\n",
      "Epoch 82/120\n",
      "\u001B[1m9587/9587\u001B[0m \u001B[32m━━━━━━━━━━━━━━━━━━━━\u001B[0m\u001B[37m\u001B[0m \u001B[1m12s\u001B[0m 1ms/step - loss: 3.2839 - val_loss: 3.2990\n",
      "Epoch 83/120\n",
      "\u001B[1m9587/9587\u001B[0m \u001B[32m━━━━━━━━━━━━━━━━━━━━\u001B[0m\u001B[37m\u001B[0m \u001B[1m12s\u001B[0m 1ms/step - loss: 3.2988 - val_loss: 3.3105\n",
      "Epoch 84/120\n",
      "\u001B[1m9587/9587\u001B[0m \u001B[32m━━━━━━━━━━━━━━━━━━━━\u001B[0m\u001B[37m\u001B[0m \u001B[1m13s\u001B[0m 1ms/step - loss: 3.3033 - val_loss: 3.3131\n",
      "Epoch 85/120\n",
      "\u001B[1m9587/9587\u001B[0m \u001B[32m━━━━━━━━━━━━━━━━━━━━\u001B[0m\u001B[37m\u001B[0m \u001B[1m12s\u001B[0m 1ms/step - loss: 3.2895 - val_loss: 3.3040\n",
      "Epoch 86/120\n",
      "\u001B[1m9587/9587\u001B[0m \u001B[32m━━━━━━━━━━━━━━━━━━━━\u001B[0m\u001B[37m\u001B[0m \u001B[1m12s\u001B[0m 1ms/step - loss: 3.3011 - val_loss: 3.3032\n",
      "Epoch 87/120\n",
      "\u001B[1m9587/9587\u001B[0m \u001B[32m━━━━━━━━━━━━━━━━━━━━\u001B[0m\u001B[37m\u001B[0m \u001B[1m21s\u001B[0m 1ms/step - loss: 3.2898 - val_loss: 3.2987\n",
      "Epoch 88/120\n",
      "\u001B[1m9587/9587\u001B[0m \u001B[32m━━━━━━━━━━━━━━━━━━━━\u001B[0m\u001B[37m\u001B[0m \u001B[1m12s\u001B[0m 1ms/step - loss: 3.2929 - val_loss: 3.3397\n",
      "Epoch 89/120\n",
      "\u001B[1m9587/9587\u001B[0m \u001B[32m━━━━━━━━━━━━━━━━━━━━\u001B[0m\u001B[37m\u001B[0m \u001B[1m10s\u001B[0m 1ms/step - loss: 3.2981 - val_loss: 3.3065\n",
      "Epoch 90/120\n",
      "\u001B[1m9587/9587\u001B[0m \u001B[32m━━━━━━━━━━━━━━━━━━━━\u001B[0m\u001B[37m\u001B[0m \u001B[1m8s\u001B[0m 784us/step - loss: 3.3054 - val_loss: 3.2983\n",
      "Epoch 91/120\n",
      "\u001B[1m9587/9587\u001B[0m \u001B[32m━━━━━━━━━━━━━━━━━━━━\u001B[0m\u001B[37m\u001B[0m \u001B[1m8s\u001B[0m 853us/step - loss: 3.2941 - val_loss: 3.2985\n",
      "Epoch 92/120\n",
      "\u001B[1m9587/9587\u001B[0m \u001B[32m━━━━━━━━━━━━━━━━━━━━\u001B[0m\u001B[37m\u001B[0m \u001B[1m8s\u001B[0m 863us/step - loss: 3.3111 - val_loss: 3.3029\n",
      "Epoch 93/120\n",
      "\u001B[1m9587/9587\u001B[0m \u001B[32m━━━━━━━━━━━━━━━━━━━━\u001B[0m\u001B[37m\u001B[0m \u001B[1m8s\u001B[0m 856us/step - loss: 3.2828 - val_loss: 3.2982\n",
      "Epoch 94/120\n",
      "\u001B[1m9587/9587\u001B[0m \u001B[32m━━━━━━━━━━━━━━━━━━━━\u001B[0m\u001B[37m\u001B[0m \u001B[1m8s\u001B[0m 858us/step - loss: 3.2802 - val_loss: 3.3698\n",
      "Epoch 95/120\n",
      "\u001B[1m9587/9587\u001B[0m \u001B[32m━━━━━━━━━━━━━━━━━━━━\u001B[0m\u001B[37m\u001B[0m \u001B[1m8s\u001B[0m 808us/step - loss: 3.2901 - val_loss: 3.2994\n",
      "Epoch 96/120\n",
      "\u001B[1m9587/9587\u001B[0m \u001B[32m━━━━━━━━━━━━━━━━━━━━\u001B[0m\u001B[37m\u001B[0m \u001B[1m8s\u001B[0m 790us/step - loss: 3.3070 - val_loss: 3.2988\n",
      "Epoch 97/120\n",
      "\u001B[1m9587/9587\u001B[0m \u001B[32m━━━━━━━━━━━━━━━━━━━━\u001B[0m\u001B[37m\u001B[0m \u001B[1m9s\u001B[0m 884us/step - loss: 3.2945 - val_loss: 3.3039\n",
      "Epoch 98/120\n",
      "\u001B[1m9587/9587\u001B[0m \u001B[32m━━━━━━━━━━━━━━━━━━━━\u001B[0m\u001B[37m\u001B[0m \u001B[1m8s\u001B[0m 848us/step - loss: 3.2916 - val_loss: 3.3160\n",
      "Epoch 99/120\n",
      "\u001B[1m9587/9587\u001B[0m \u001B[32m━━━━━━━━━━━━━━━━━━━━\u001B[0m\u001B[37m\u001B[0m \u001B[1m8s\u001B[0m 882us/step - loss: 3.2977 - val_loss: 3.3241\n",
      "Epoch 100/120\n",
      "\u001B[1m9587/9587\u001B[0m \u001B[32m━━━━━━━━━━━━━━━━━━━━\u001B[0m\u001B[37m\u001B[0m \u001B[1m8s\u001B[0m 835us/step - loss: 3.3029 - val_loss: 3.3284\n",
      "Epoch 101/120\n",
      "\u001B[1m9587/9587\u001B[0m \u001B[32m━━━━━━━━━━━━━━━━━━━━\u001B[0m\u001B[37m\u001B[0m \u001B[1m8s\u001B[0m 860us/step - loss: 3.3052 - val_loss: 3.2988\n",
      "Epoch 102/120\n",
      "\u001B[1m9587/9587\u001B[0m \u001B[32m━━━━━━━━━━━━━━━━━━━━\u001B[0m\u001B[37m\u001B[0m \u001B[1m10s\u001B[0m 1ms/step - loss: 3.3061 - val_loss: 3.3242\n",
      "Epoch 103/120\n",
      "\u001B[1m9587/9587\u001B[0m \u001B[32m━━━━━━━━━━━━━━━━━━━━\u001B[0m\u001B[37m\u001B[0m \u001B[1m9s\u001B[0m 899us/step - loss: 3.3078 - val_loss: 3.3046\n",
      "Epoch 104/120\n",
      "\u001B[1m9587/9587\u001B[0m \u001B[32m━━━━━━━━━━━━━━━━━━━━\u001B[0m\u001B[37m\u001B[0m \u001B[1m10s\u001B[0m 1ms/step - loss: 3.2808 - val_loss: 3.3186\n",
      "Epoch 105/120\n",
      "\u001B[1m9587/9587\u001B[0m \u001B[32m━━━━━━━━━━━━━━━━━━━━\u001B[0m\u001B[37m\u001B[0m \u001B[1m8s\u001B[0m 878us/step - loss: 3.2905 - val_loss: 3.2975\n",
      "Epoch 106/120\n",
      "\u001B[1m9587/9587\u001B[0m \u001B[32m━━━━━━━━━━━━━━━━━━━━\u001B[0m\u001B[37m\u001B[0m \u001B[1m8s\u001B[0m 880us/step - loss: 3.2909 - val_loss: 3.3273\n",
      "Epoch 107/120\n",
      "\u001B[1m9587/9587\u001B[0m \u001B[32m━━━━━━━━━━━━━━━━━━━━\u001B[0m\u001B[37m\u001B[0m \u001B[1m9s\u001B[0m 909us/step - loss: 3.2959 - val_loss: 3.2977\n",
      "Epoch 108/120\n",
      "\u001B[1m9587/9587\u001B[0m \u001B[32m━━━━━━━━━━━━━━━━━━━━\u001B[0m\u001B[37m\u001B[0m \u001B[1m10s\u001B[0m 846us/step - loss: 3.2950 - val_loss: 3.2988\n",
      "Epoch 109/120\n",
      "\u001B[1m9587/9587\u001B[0m \u001B[32m━━━━━━━━━━━━━━━━━━━━\u001B[0m\u001B[37m\u001B[0m \u001B[1m9s\u001B[0m 959us/step - loss: 3.3031 - val_loss: 3.3051\n",
      "Epoch 110/120\n",
      "\u001B[1m9587/9587\u001B[0m \u001B[32m━━━━━━━━━━━━━━━━━━━━\u001B[0m\u001B[37m\u001B[0m \u001B[1m8s\u001B[0m 868us/step - loss: 3.2964 - val_loss: 3.3444\n",
      "Epoch 111/120\n",
      "\u001B[1m9587/9587\u001B[0m \u001B[32m━━━━━━━━━━━━━━━━━━━━\u001B[0m\u001B[37m\u001B[0m \u001B[1m9s\u001B[0m 905us/step - loss: 3.2802 - val_loss: 3.3018\n",
      "Epoch 112/120\n",
      "\u001B[1m9587/9587\u001B[0m \u001B[32m━━━━━━━━━━━━━━━━━━━━\u001B[0m\u001B[37m\u001B[0m \u001B[1m8s\u001B[0m 880us/step - loss: 3.2772 - val_loss: 3.3022\n",
      "Epoch 113/120\n",
      "\u001B[1m9587/9587\u001B[0m \u001B[32m━━━━━━━━━━━━━━━━━━━━\u001B[0m\u001B[37m\u001B[0m \u001B[1m12s\u001B[0m 1ms/step - loss: 3.2871 - val_loss: 3.3102\n",
      "Epoch 114/120\n",
      "\u001B[1m9587/9587\u001B[0m \u001B[32m━━━━━━━━━━━━━━━━━━━━\u001B[0m\u001B[37m\u001B[0m \u001B[1m9s\u001B[0m 873us/step - loss: 3.3108 - val_loss: 3.2976\n",
      "Epoch 115/120\n",
      "\u001B[1m9587/9587\u001B[0m \u001B[32m━━━━━━━━━━━━━━━━━━━━\u001B[0m\u001B[37m\u001B[0m \u001B[1m8s\u001B[0m 872us/step - loss: 3.2973 - val_loss: 3.3085\n",
      "Epoch 116/120\n",
      "\u001B[1m9587/9587\u001B[0m \u001B[32m━━━━━━━━━━━━━━━━━━━━\u001B[0m\u001B[37m\u001B[0m \u001B[1m9s\u001B[0m 970us/step - loss: 3.2849 - val_loss: 3.2987\n",
      "Epoch 117/120\n",
      "\u001B[1m9587/9587\u001B[0m \u001B[32m━━━━━━━━━━━━━━━━━━━━\u001B[0m\u001B[37m\u001B[0m \u001B[1m9s\u001B[0m 900us/step - loss: 3.2946 - val_loss: 3.3035\n",
      "Epoch 118/120\n",
      "\u001B[1m9587/9587\u001B[0m \u001B[32m━━━━━━━━━━━━━━━━━━━━\u001B[0m\u001B[37m\u001B[0m \u001B[1m11s\u001B[0m 1ms/step - loss: 3.2795 - val_loss: 3.2994\n",
      "Epoch 119/120\n",
      "\u001B[1m9587/9587\u001B[0m \u001B[32m━━━━━━━━━━━━━━━━━━━━\u001B[0m\u001B[37m\u001B[0m \u001B[1m11s\u001B[0m 1ms/step - loss: 3.2989 - val_loss: 3.3113\n",
      "Epoch 120/120\n",
      "\u001B[1m9587/9587\u001B[0m \u001B[32m━━━━━━━━━━━━━━━━━━━━\u001B[0m\u001B[37m\u001B[0m \u001B[1m17s\u001B[0m 752us/step - loss: 3.2982 - val_loss: 3.3096\n"
     ]
    },
    {
     "data": {
      "text/plain": "<Figure size 640x480 with 1 Axes>",
      "image/png": "[encoded data removed]"
     },
     "metadata": {},
     "output_type": "display_data"
    }
   ],
   "source": [
    "mlp_model_3 = Sequential()\n",
    "mlp_model_3.add(Input(shape=(df_content_features.shape[1],)))\n",
    "mlp_model_3.add(Dense(units=64, activation='relu'))\n",
    "mlp_model_3.add(Dense(units=64, activation='relu'))\n",
    "mlp_model_3.add(Dense(units=1))\n",
    "\n",
    "mlp_model_3.compile(loss='mean_squared_error', optimizer='Adam')\n",
    "mlp_history_3 = mlp_model_3.fit(X_train, y_train, batch_size=32, epochs=120, validation_data=(X_test, y_test))\n",
    "mlp_model_3.save(r'C:\\Users\\hp\\Downloads\\ai_assignment\\hybrid_code\\keras\\mlp_model_3.keras')\n",
    "\n",
    "train_loss = mlp_history_3.history['loss']\n",
    "test_loss = mlp_history_3.history['val_loss']\n",
    "\n",
    "epochs = range(len(train_loss))\n",
    "plt.plot(epochs, train_loss, label='Train Loss')\n",
    "plt.plot(epochs, test_loss, label='Test Loss')\n",
    "plt.title('Learning Curve for MLP Model 3')\n",
    "plt.ylabel('Mean Square Error (MSE)')\n",
    "plt.xlabel('Epochs')\n",
    "plt.legend()\n",
    "plt.grid(True, linewidth=0.5)\n",
    "plt.show()"
   ],
   "metadata": {
    "collapsed": false,
    "ExecuteTime": {
     "end_time": "2024-05-05T17:50:16.005660Z",
     "start_time": "2024-05-05T17:26:26.180071Z"
    }
   },
   "id": "e59dd31d8d62eadd",
   "execution_count": 59
  },
  {
   "cell_type": "markdown",
   "source": [
    "Hence, we can conclude that mlp_model_3 is the best tuned model"
   ],
   "metadata": {
    "collapsed": false
   },
   "id": "529bb97a015432a1"
  },
  {
   "cell_type": "markdown",
   "source": [
    "### 4.1.3 Making Predictions\n",
    "\n",
    "The process for making predictions is shown as follows:\n",
    "1. Finding the location of the target user\n",
    "2. Combining with book features (book title, author, publisher, and year of publication)\n",
    "3. Embedding text features(book title, author, publisher, user location) with TFIDF vectorizer\n",
    "4. Predicting using the model and returning the top-10 books to the target user\n",
    "\n",
    "#### 4.1.3.1 Getting User Location\n",
    "\n",
    "Defining a function to get the location of target user"
   ],
   "metadata": {
    "collapsed": false
   },
   "id": "5986069360f018d7"
  },
  {
   "cell_type": "code",
   "outputs": [],
   "source": [
    "def get_user_location(user_id):\n",
    "    if user_id in df_final['User-ID']:\n",
    "        return df_final[df_final['User-ID'] == user_id ]['Location'].iloc[0]\n",
    "    else:\n",
    "        return 'n/a, n/a, n/a'"
   ],
   "metadata": {
    "collapsed": false,
    "ExecuteTime": {
     "end_time": "2024-05-05T17:56:27.169257Z",
     "start_time": "2024-05-05T17:56:27.164050Z"
    }
   },
   "id": "9197bd424aead67e",
   "execution_count": 60
  },
  {
   "cell_type": "markdown",
   "source": [
    "#### 4.1.3.2 Embedding Text Features\n",
    "\n",
    "Defining a function to embed text features with TFIDF vectorizer"
   ],
   "metadata": {
    "collapsed": false
   },
   "id": "11004d793630c982"
  },
  {
   "cell_type": "code",
   "outputs": [],
   "source": [
    "def get_embedded_features(user_location):\n",
    "    with open(r'C:\\Users\\hp\\Downloads\\ai_assignment\\hybrid_code\\embeddings\\tfidf_vectorizer.pickle', 'rb') as f:\n",
    "        tfidf_vectorizer = pickle.load(f)\n",
    "    df_target = df_final.drop_duplicates(subset=['ISBN'])\n",
    "    df_target_text_features = df_target[['Book-Title','Book-Author','Publisher']]\n",
    "    df_target_text_features['Location'] = user_location\n",
    "    df_target_text_features = df_target_text_features[text_features].apply(lambda x: ' '.join(x), axis = 1)\n",
    "    df_target_tfidf = tfidf_vectorizer.transform(df_target_text_features)\n",
    "\n",
    "    df_target_features = pd.DataFrame(df_target_tfidf.todense(),columns = tfidf_vectorizer.get_feature_names_out())\n",
    "    df_target_features['Year-Of-Publication'] = df_target['Year-Of-Publication'].values\n",
    "    return df_target_features"
   ],
   "metadata": {
    "collapsed": false,
    "ExecuteTime": {
     "end_time": "2024-05-05T17:56:31.846802Z",
     "start_time": "2024-05-05T17:56:31.835847Z"
    }
   },
   "id": "babb892bcb0ec6bc",
   "execution_count": 61
  },
  {
   "cell_type": "markdown",
   "source": [
    "#### 4.1.3.3 Getting MLP Recommendations\n",
    "\n",
    "Defining a function to get recommendations from the MLP model to the target user"
   ],
   "metadata": {
    "collapsed": false
   },
   "id": "d981b37638c65c7b"
  },
  {
   "cell_type": "code",
   "outputs": [],
   "source": [
    "def get_content_recommendations(user_id):\n",
    "    best_mlp_model = keras.models.load_model(r'C:\\Users\\hp\\Downloads\\ai_assignment\\hybrid_code\\keras\\mlp_model_2.keras')\n",
    "    # TODO: Check if in session state first\n",
    "    location = get_user_location(user_id)\n",
    "    df_embedded_features = get_embedded_features(location)\n",
    "\n",
    "    predictions = best_mlp_model.predict(df_embedded_features)\n",
    "    predictions = pd.Series(predictions.flatten())\n",
    "    predictions.name = 'MLP Predicted Rating'\n",
    "    predictions.index = df_final.drop_duplicates(subset=['ISBN'])['ISBN']\n",
    "    return predictions"
   ],
   "metadata": {
    "collapsed": false,
    "ExecuteTime": {
     "end_time": "2024-05-05T17:56:37.932929Z",
     "start_time": "2024-05-05T17:56:37.924125Z"
    }
   },
   "id": "5c0dd3825d248826",
   "execution_count": 62
  },
  {
   "cell_type": "markdown",
   "source": [
    "#### 4.1.3.4 Calling Functions\n",
    "Calling functions to make predictions for a single user"
   ],
   "metadata": {
    "collapsed": false
   },
   "id": "b8fdb2f374617ef8"
  },
  {
   "cell_type": "code",
   "outputs": [
    {
     "name": "stdout",
     "output_type": "stream",
     "text": [
      "\u001B[1m4675/4675\u001B[0m \u001B[32m━━━━━━━━━━━━━━━━━━━━\u001B[0m\u001B[37m\u001B[0m \u001B[1m3s\u001B[0m 569us/step\n"
     ]
    },
    {
     "data": {
      "text/plain": "ISBN\n0002005018    7.498726\n0060973129    7.494675\n0374157065    7.497916\n0399135782    7.303052\n0425176428    7.337968\n                ...   \n0395264707    7.952619\n1845170423    7.499942\n0449906736    7.508703\n0440400988    7.578808\n0525447644    7.494675\nName: MLP Predicted Rating, Length: 149582, dtype: float32"
     },
     "execution_count": 63,
     "metadata": {},
     "output_type": "execute_result"
    }
   ],
   "source": [
    "target_user = 11676\n",
    "\n",
    "single_mlp_recommendation = get_content_recommendations(target_user)\n",
    "single_mlp_recommendation"
   ],
   "metadata": {
    "collapsed": false,
    "ExecuteTime": {
     "end_time": "2024-05-05T17:56:50.407222Z",
     "start_time": "2024-05-05T17:56:43.590372Z"
    }
   },
   "id": "9bc21a4e5f7805a0",
   "execution_count": 63
  },
  {
   "cell_type": "markdown",
   "source": [
    "### 4.1.4 Model Evaluation\n",
    "\n",
    "We evaluate the performance of our MLP model with Root Mean Square Error (RSME)"
   ],
   "metadata": {
    "collapsed": false
   },
   "id": "4e9bbf9f03dfce2c"
  },
  {
   "cell_type": "code",
   "outputs": [],
   "source": [
    "def get_df_mlp_evaluation(minimum_rating_count = 125):\n",
    "    df_mlp_evaluation_predictions = pd.DataFrame()\n",
    "\n",
    "    evaluation_user_index = df_final.groupby('User-ID')['Book-Rating'].count()\n",
    "    mlp_evaluation_users =  df_final[df_final['User-ID'].isin(evaluation_user_index[evaluation_user_index > minimum_rating_count].index)]\n",
    "\n",
    "    for user_id in mlp_evaluation_users['User-ID'].unique():\n",
    "        single_mlp_recommendation = get_content_recommendations(user_id)\n",
    "        if single_mlp_recommendation is None:\n",
    "            continue\n",
    "        single_mlp_recommendation = single_mlp_recommendation.reset_index().rename(columns = {'ISBN':'ISBN', 0:'MLP Predicted Rating'})\n",
    "        single_mlp_recommendation['User-ID'] = user_id\n",
    "        df_mlp_evaluation_predictions = pd.concat([df_mlp_evaluation_predictions, single_mlp_recommendation], axis = 0)\n",
    "\n",
    "    df_mlp_evaluation = pd.DataFrame(df_final[['ISBN','Book-Rating','User-ID']])\n",
    "    df_mlp_evaluation = df_mlp_evaluation.merge(df_mlp_evaluation_predictions,on=['ISBN','User-ID'],how='inner')\n",
    "    return df_mlp_evaluation\n",
    "\n",
    "def get_mlp_rmse():\n",
    "    df_mlp_evaluation = get_df_mlp_evaluation()\n",
    "    rmse = sqrt(mean_squared_error(df_mlp_evaluation['MLP Predicted Rating'],df_mlp_evaluation['Book-Rating']))\n",
    "    print(\"Root mean square error (RMSE) for MLP is:\", rmse)"
   ],
   "metadata": {
    "collapsed": false,
    "ExecuteTime": {
     "end_time": "2024-05-05T17:57:47.706625Z",
     "start_time": "2024-05-05T17:57:47.700749Z"
    }
   },
   "id": "f93a04620a00e8c2",
   "execution_count": 65
  },
  {
   "cell_type": "markdown",
   "source": [
    "We now evaluate the root mean square error (RMSE) of mlp_model_2"
   ],
   "metadata": {
    "collapsed": false
   },
   "id": "fff1b3f4e9e46399"
  },
  {
   "cell_type": "code",
   "outputs": [
    {
     "name": "stdout",
     "output_type": "stream",
     "text": [
      "\u001B[1m4675/4675\u001B[0m \u001B[32m━━━━━━━━━━━━━━━━━━━━\u001B[0m\u001B[37m\u001B[0m \u001B[1m3s\u001B[0m 567us/step\n",
      "\u001B[1m4675/4675\u001B[0m \u001B[32m━━━━━━━━━━━━━━━━━━━━\u001B[0m\u001B[37m\u001B[0m \u001B[1m3s\u001B[0m 535us/step\n",
      "\u001B[1m4675/4675\u001B[0m \u001B[32m━━━━━━━━━━━━━━━━━━━━\u001B[0m\u001B[37m\u001B[0m \u001B[1m5s\u001B[0m 945us/step\n",
      "\u001B[1m4675/4675\u001B[0m \u001B[32m━━━━━━━━━━━━━━━━━━━━\u001B[0m\u001B[37m\u001B[0m \u001B[1m4s\u001B[0m 915us/step\n",
      "\u001B[1m4675/4675\u001B[0m \u001B[32m━━━━━━━━━━━━━━━━━━━━\u001B[0m\u001B[37m\u001B[0m \u001B[1m4s\u001B[0m 920us/step\n",
      "\u001B[1m4675/4675\u001B[0m \u001B[32m━━━━━━━━━━━━━━━━━━━━\u001B[0m\u001B[37m\u001B[0m \u001B[1m4s\u001B[0m 910us/step\n",
      "\u001B[1m4675/4675\u001B[0m \u001B[32m━━━━━━━━━━━━━━━━━━━━\u001B[0m\u001B[37m\u001B[0m \u001B[1m4s\u001B[0m 916us/step\n",
      "\u001B[1m4675/4675\u001B[0m \u001B[32m━━━━━━━━━━━━━━━━━━━━\u001B[0m\u001B[37m\u001B[0m \u001B[1m4s\u001B[0m 920us/step\n",
      "\u001B[1m4675/4675\u001B[0m \u001B[32m━━━━━━━━━━━━━━━━━━━━\u001B[0m\u001B[37m\u001B[0m \u001B[1m4s\u001B[0m 898us/step\n",
      "\u001B[1m4675/4675\u001B[0m \u001B[32m━━━━━━━━━━━━━━━━━━━━\u001B[0m\u001B[37m\u001B[0m \u001B[1m4s\u001B[0m 879us/step\n",
      "\u001B[1m4675/4675\u001B[0m \u001B[32m━━━━━━━━━━━━━━━━━━━━\u001B[0m\u001B[37m\u001B[0m \u001B[1m4s\u001B[0m 882us/step\n",
      "\u001B[1m4675/4675\u001B[0m \u001B[32m━━━━━━━━━━━━━━━━━━━━\u001B[0m\u001B[37m\u001B[0m \u001B[1m4s\u001B[0m 895us/step\n",
      "\u001B[1m4675/4675\u001B[0m \u001B[32m━━━━━━━━━━━━━━━━━━━━\u001B[0m\u001B[37m\u001B[0m \u001B[1m3s\u001B[0m 538us/step\n",
      "\u001B[1m4675/4675\u001B[0m \u001B[32m━━━━━━━━━━━━━━━━━━━━\u001B[0m\u001B[37m\u001B[0m \u001B[1m3s\u001B[0m 543us/step\n",
      "\u001B[1m4675/4675\u001B[0m \u001B[32m━━━━━━━━━━━━━━━━━━━━\u001B[0m\u001B[37m\u001B[0m \u001B[1m2s\u001B[0m 499us/step\n",
      "\u001B[1m4675/4675\u001B[0m \u001B[32m━━━━━━━━━━━━━━━━━━━━\u001B[0m\u001B[37m\u001B[0m \u001B[1m2s\u001B[0m 496us/step\n",
      "\u001B[1m4675/4675\u001B[0m \u001B[32m━━━━━━━━━━━━━━━━━━━━\u001B[0m\u001B[37m\u001B[0m \u001B[1m3s\u001B[0m 613us/step\n",
      "\u001B[1m4675/4675\u001B[0m \u001B[32m━━━━━━━━━━━━━━━━━━━━\u001B[0m\u001B[37m\u001B[0m \u001B[1m3s\u001B[0m 543us/step\n",
      "\u001B[1m4675/4675\u001B[0m \u001B[32m━━━━━━━━━━━━━━━━━━━━\u001B[0m\u001B[37m\u001B[0m \u001B[1m3s\u001B[0m 527us/step\n",
      "\u001B[1m4675/4675\u001B[0m \u001B[32m━━━━━━━━━━━━━━━━━━━━\u001B[0m\u001B[37m\u001B[0m \u001B[1m3s\u001B[0m 591us/step\n",
      "\u001B[1m4675/4675\u001B[0m \u001B[32m━━━━━━━━━━━━━━━━━━━━\u001B[0m\u001B[37m\u001B[0m \u001B[1m3s\u001B[0m 549us/step\n",
      "\u001B[1m4675/4675\u001B[0m \u001B[32m━━━━━━━━━━━━━━━━━━━━\u001B[0m\u001B[37m\u001B[0m \u001B[1m2s\u001B[0m 512us/step\n",
      "\u001B[1m4675/4675\u001B[0m \u001B[32m━━━━━━━━━━━━━━━━━━━━\u001B[0m\u001B[37m\u001B[0m \u001B[1m2s\u001B[0m 504us/step\n",
      "\u001B[1m4675/4675\u001B[0m \u001B[32m━━━━━━━━━━━━━━━━━━━━\u001B[0m\u001B[37m\u001B[0m \u001B[1m3s\u001B[0m 529us/step\n",
      "\u001B[1m4675/4675\u001B[0m \u001B[32m━━━━━━━━━━━━━━━━━━━━\u001B[0m\u001B[37m\u001B[0m \u001B[1m3s\u001B[0m 620us/step\n",
      "\u001B[1m4675/4675\u001B[0m \u001B[32m━━━━━━━━━━━━━━━━━━━━\u001B[0m\u001B[37m\u001B[0m \u001B[1m3s\u001B[0m 581us/step\n",
      "\u001B[1m4675/4675\u001B[0m \u001B[32m━━━━━━━━━━━━━━━━━━━━\u001B[0m\u001B[37m\u001B[0m \u001B[1m3s\u001B[0m 525us/step\n",
      "\u001B[1m4675/4675\u001B[0m \u001B[32m━━━━━━━━━━━━━━━━━━━━\u001B[0m\u001B[37m\u001B[0m \u001B[1m3s\u001B[0m 569us/step\n",
      "\u001B[1m4675/4675\u001B[0m \u001B[32m━━━━━━━━━━━━━━━━━━━━\u001B[0m\u001B[37m\u001B[0m \u001B[1m3s\u001B[0m 567us/step\n",
      "\u001B[1m4675/4675\u001B[0m \u001B[32m━━━━━━━━━━━━━━━━━━━━\u001B[0m\u001B[37m\u001B[0m \u001B[1m2s\u001B[0m 494us/step\n",
      "\u001B[1m4675/4675\u001B[0m \u001B[32m━━━━━━━━━━━━━━━━━━━━\u001B[0m\u001B[37m\u001B[0m \u001B[1m3s\u001B[0m 547us/step\n",
      "\u001B[1m4675/4675\u001B[0m \u001B[32m━━━━━━━━━━━━━━━━━━━━\u001B[0m\u001B[37m\u001B[0m \u001B[1m2s\u001B[0m 513us/step\n",
      "\u001B[1m4675/4675\u001B[0m \u001B[32m━━━━━━━━━━━━━━━━━━━━\u001B[0m\u001B[37m\u001B[0m \u001B[1m3s\u001B[0m 551us/step\n",
      "\u001B[1m4675/4675\u001B[0m \u001B[32m━━━━━━━━━━━━━━━━━━━━\u001B[0m\u001B[37m\u001B[0m \u001B[1m4s\u001B[0m 821us/step\n",
      "\u001B[1m4675/4675\u001B[0m \u001B[32m━━━━━━━━━━━━━━━━━━━━\u001B[0m\u001B[37m\u001B[0m \u001B[1m3s\u001B[0m 666us/step\n",
      "\u001B[1m4675/4675\u001B[0m \u001B[32m━━━━━━━━━━━━━━━━━━━━\u001B[0m\u001B[37m\u001B[0m \u001B[1m3s\u001B[0m 548us/step\n",
      "\u001B[1m4675/4675\u001B[0m \u001B[32m━━━━━━━━━━━━━━━━━━━━\u001B[0m\u001B[37m\u001B[0m \u001B[1m4s\u001B[0m 923us/step\n",
      "\u001B[1m4675/4675\u001B[0m \u001B[32m━━━━━━━━━━━━━━━━━━━━\u001B[0m\u001B[37m\u001B[0m \u001B[1m3s\u001B[0m 610us/step\n",
      "\u001B[1m4675/4675\u001B[0m \u001B[32m━━━━━━━━━━━━━━━━━━━━\u001B[0m\u001B[37m\u001B[0m \u001B[1m3s\u001B[0m 546us/step\n",
      "\u001B[1m4675/4675\u001B[0m \u001B[32m━━━━━━━━━━━━━━━━━━━━\u001B[0m\u001B[37m\u001B[0m \u001B[1m3s\u001B[0m 552us/step\n",
      "\u001B[1m4675/4675\u001B[0m \u001B[32m━━━━━━━━━━━━━━━━━━━━\u001B[0m\u001B[37m\u001B[0m \u001B[1m3s\u001B[0m 654us/step\n",
      "\u001B[1m4675/4675\u001B[0m \u001B[32m━━━━━━━━━━━━━━━━━━━━\u001B[0m\u001B[37m\u001B[0m \u001B[1m3s\u001B[0m 703us/step\n",
      "\u001B[1m4675/4675\u001B[0m \u001B[32m━━━━━━━━━━━━━━━━━━━━\u001B[0m\u001B[37m\u001B[0m \u001B[1m4s\u001B[0m 783us/step\n",
      "\u001B[1m4675/4675\u001B[0m \u001B[32m━━━━━━━━━━━━━━━━━━━━\u001B[0m\u001B[37m\u001B[0m \u001B[1m3s\u001B[0m 696us/step\n",
      "\u001B[1m4675/4675\u001B[0m \u001B[32m━━━━━━━━━━━━━━━━━━━━\u001B[0m\u001B[37m\u001B[0m \u001B[1m3s\u001B[0m 691us/step\n",
      "\u001B[1m4675/4675\u001B[0m \u001B[32m━━━━━━━━━━━━━━━━━━━━\u001B[0m\u001B[37m\u001B[0m \u001B[1m3s\u001B[0m 548us/step\n",
      "\u001B[1m4675/4675\u001B[0m \u001B[32m━━━━━━━━━━━━━━━━━━━━\u001B[0m\u001B[37m\u001B[0m \u001B[1m3s\u001B[0m 633us/step\n",
      "\u001B[1m4675/4675\u001B[0m \u001B[32m━━━━━━━━━━━━━━━━━━━━\u001B[0m\u001B[37m\u001B[0m \u001B[1m3s\u001B[0m 574us/step\n",
      "\u001B[1m4675/4675\u001B[0m \u001B[32m━━━━━━━━━━━━━━━━━━━━\u001B[0m\u001B[37m\u001B[0m \u001B[1m2s\u001B[0m 512us/step\n",
      "\u001B[1m4675/4675\u001B[0m \u001B[32m━━━━━━━━━━━━━━━━━━━━\u001B[0m\u001B[37m\u001B[0m \u001B[1m3s\u001B[0m 584us/step\n",
      "\u001B[1m4675/4675\u001B[0m \u001B[32m━━━━━━━━━━━━━━━━━━━━\u001B[0m\u001B[37m\u001B[0m \u001B[1m3s\u001B[0m 696us/step\n",
      "\u001B[1m4675/4675\u001B[0m \u001B[32m━━━━━━━━━━━━━━━━━━━━\u001B[0m\u001B[37m\u001B[0m \u001B[1m2s\u001B[0m 526us/step\n",
      "\u001B[1m4675/4675\u001B[0m \u001B[32m━━━━━━━━━━━━━━━━━━━━\u001B[0m\u001B[37m\u001B[0m \u001B[1m3s\u001B[0m 608us/step\n",
      "\u001B[1m4675/4675\u001B[0m \u001B[32m━━━━━━━━━━━━━━━━━━━━\u001B[0m\u001B[37m\u001B[0m \u001B[1m3s\u001B[0m 569us/step\n",
      "\u001B[1m4675/4675\u001B[0m \u001B[32m━━━━━━━━━━━━━━━━━━━━\u001B[0m\u001B[37m\u001B[0m \u001B[1m3s\u001B[0m 644us/step\n",
      "\u001B[1m4675/4675\u001B[0m \u001B[32m━━━━━━━━━━━━━━━━━━━━\u001B[0m\u001B[37m\u001B[0m \u001B[1m3s\u001B[0m 576us/step\n",
      "\u001B[1m4675/4675\u001B[0m \u001B[32m━━━━━━━━━━━━━━━━━━━━\u001B[0m\u001B[37m\u001B[0m \u001B[1m3s\u001B[0m 642us/step\n",
      "\u001B[1m4675/4675\u001B[0m \u001B[32m━━━━━━━━━━━━━━━━━━━━\u001B[0m\u001B[37m\u001B[0m \u001B[1m3s\u001B[0m 623us/step\n",
      "\u001B[1m4675/4675\u001B[0m \u001B[32m━━━━━━━━━━━━━━━━━━━━\u001B[0m\u001B[37m\u001B[0m \u001B[1m3s\u001B[0m 543us/step\n",
      "\u001B[1m4675/4675\u001B[0m \u001B[32m━━━━━━━━━━━━━━━━━━━━\u001B[0m\u001B[37m\u001B[0m \u001B[1m3s\u001B[0m 544us/step\n",
      "\u001B[1m4675/4675\u001B[0m \u001B[32m━━━━━━━━━━━━━━━━━━━━\u001B[0m\u001B[37m\u001B[0m \u001B[1m3s\u001B[0m 561us/step\n",
      "\u001B[1m4675/4675\u001B[0m \u001B[32m━━━━━━━━━━━━━━━━━━━━\u001B[0m\u001B[37m\u001B[0m \u001B[1m3s\u001B[0m 644us/step\n",
      "\u001B[1m4675/4675\u001B[0m \u001B[32m━━━━━━━━━━━━━━━━━━━━\u001B[0m\u001B[37m\u001B[0m \u001B[1m3s\u001B[0m 547us/step\n",
      "\u001B[1m4675/4675\u001B[0m \u001B[32m━━━━━━━━━━━━━━━━━━━━\u001B[0m\u001B[37m\u001B[0m \u001B[1m3s\u001B[0m 575us/step\n",
      "\u001B[1m4675/4675\u001B[0m \u001B[32m━━━━━━━━━━━━━━━━━━━━\u001B[0m\u001B[37m\u001B[0m \u001B[1m3s\u001B[0m 612us/step\n",
      "\u001B[1m4675/4675\u001B[0m \u001B[32m━━━━━━━━━━━━━━━━━━━━\u001B[0m\u001B[37m\u001B[0m \u001B[1m2s\u001B[0m 502us/step\n",
      "\u001B[1m4675/4675\u001B[0m \u001B[32m━━━━━━━━━━━━━━━━━━━━\u001B[0m\u001B[37m\u001B[0m \u001B[1m3s\u001B[0m 610us/step\n",
      "\u001B[1m4675/4675\u001B[0m \u001B[32m━━━━━━━━━━━━━━━━━━━━\u001B[0m\u001B[37m\u001B[0m \u001B[1m3s\u001B[0m 620us/step\n",
      "\u001B[1m4675/4675\u001B[0m \u001B[32m━━━━━━━━━━━━━━━━━━━━\u001B[0m\u001B[37m\u001B[0m \u001B[1m3s\u001B[0m 705us/step\n",
      "\u001B[1m4675/4675\u001B[0m \u001B[32m━━━━━━━━━━━━━━━━━━━━\u001B[0m\u001B[37m\u001B[0m \u001B[1m3s\u001B[0m 680us/step\n",
      "\u001B[1m4675/4675\u001B[0m \u001B[32m━━━━━━━━━━━━━━━━━━━━\u001B[0m\u001B[37m\u001B[0m \u001B[1m4s\u001B[0m 758us/step\n",
      "\u001B[1m4675/4675\u001B[0m \u001B[32m━━━━━━━━━━━━━━━━━━━━\u001B[0m\u001B[37m\u001B[0m \u001B[1m6s\u001B[0m 1ms/step\n",
      "\u001B[1m4675/4675\u001B[0m \u001B[32m━━━━━━━━━━━━━━━━━━━━\u001B[0m\u001B[37m\u001B[0m \u001B[1m3s\u001B[0m 639us/step\n",
      "\u001B[1m4675/4675\u001B[0m \u001B[32m━━━━━━━━━━━━━━━━━━━━\u001B[0m\u001B[37m\u001B[0m \u001B[1m3s\u001B[0m 569us/step\n",
      "\u001B[1m4675/4675\u001B[0m \u001B[32m━━━━━━━━━━━━━━━━━━━━\u001B[0m\u001B[37m\u001B[0m \u001B[1m2s\u001B[0m 517us/step\n",
      "\u001B[1m4675/4675\u001B[0m \u001B[32m━━━━━━━━━━━━━━━━━━━━\u001B[0m\u001B[37m\u001B[0m \u001B[1m3s\u001B[0m 585us/step\n",
      "\u001B[1m4675/4675\u001B[0m \u001B[32m━━━━━━━━━━━━━━━━━━━━\u001B[0m\u001B[37m\u001B[0m \u001B[1m3s\u001B[0m 617us/step\n",
      "\u001B[1m4675/4675\u001B[0m \u001B[32m━━━━━━━━━━━━━━━━━━━━\u001B[0m\u001B[37m\u001B[0m \u001B[1m3s\u001B[0m 650us/step\n",
      "\u001B[1m4675/4675\u001B[0m \u001B[32m━━━━━━━━━━━━━━━━━━━━\u001B[0m\u001B[37m\u001B[0m \u001B[1m3s\u001B[0m 556us/step\n",
      "\u001B[1m4675/4675\u001B[0m \u001B[32m━━━━━━━━━━━━━━━━━━━━\u001B[0m\u001B[37m\u001B[0m \u001B[1m3s\u001B[0m 570us/step\n",
      "\u001B[1m4675/4675\u001B[0m \u001B[32m━━━━━━━━━━━━━━━━━━━━\u001B[0m\u001B[37m\u001B[0m \u001B[1m2s\u001B[0m 494us/step\n",
      "\u001B[1m4675/4675\u001B[0m \u001B[32m━━━━━━━━━━━━━━━━━━━━\u001B[0m\u001B[37m\u001B[0m \u001B[1m2s\u001B[0m 510us/step\n",
      "\u001B[1m4675/4675\u001B[0m \u001B[32m━━━━━━━━━━━━━━━━━━━━\u001B[0m\u001B[37m\u001B[0m \u001B[1m3s\u001B[0m 578us/step\n",
      "\u001B[1m4675/4675\u001B[0m \u001B[32m━━━━━━━━━━━━━━━━━━━━\u001B[0m\u001B[37m\u001B[0m \u001B[1m3s\u001B[0m 540us/step\n",
      "\u001B[1m4675/4675\u001B[0m \u001B[32m━━━━━━━━━━━━━━━━━━━━\u001B[0m\u001B[37m\u001B[0m \u001B[1m2s\u001B[0m 528us/step\n",
      "\u001B[1m4675/4675\u001B[0m \u001B[32m━━━━━━━━━━━━━━━━━━━━\u001B[0m\u001B[37m\u001B[0m \u001B[1m3s\u001B[0m 526us/step\n",
      "\u001B[1m4675/4675\u001B[0m \u001B[32m━━━━━━━━━━━━━━━━━━━━\u001B[0m\u001B[37m\u001B[0m \u001B[1m2s\u001B[0m 523us/step\n",
      "\u001B[1m4675/4675\u001B[0m \u001B[32m━━━━━━━━━━━━━━━━━━━━\u001B[0m\u001B[37m\u001B[0m \u001B[1m2s\u001B[0m 504us/step\n",
      "\u001B[1m4675/4675\u001B[0m \u001B[32m━━━━━━━━━━━━━━━━━━━━\u001B[0m\u001B[37m\u001B[0m \u001B[1m2s\u001B[0m 509us/step\n",
      "\u001B[1m4675/4675\u001B[0m \u001B[32m━━━━━━━━━━━━━━━━━━━━\u001B[0m\u001B[37m\u001B[0m \u001B[1m3s\u001B[0m 528us/step\n",
      "\u001B[1m4675/4675\u001B[0m \u001B[32m━━━━━━━━━━━━━━━━━━━━\u001B[0m\u001B[37m\u001B[0m \u001B[1m2s\u001B[0m 492us/step\n",
      "\u001B[1m4675/4675\u001B[0m \u001B[32m━━━━━━━━━━━━━━━━━━━━\u001B[0m\u001B[37m\u001B[0m \u001B[1m2s\u001B[0m 499us/step\n",
      "\u001B[1m4675/4675\u001B[0m \u001B[32m━━━━━━━━━━━━━━━━━━━━\u001B[0m\u001B[37m\u001B[0m \u001B[1m2s\u001B[0m 515us/step\n",
      "\u001B[1m4675/4675\u001B[0m \u001B[32m━━━━━━━━━━━━━━━━━━━━\u001B[0m\u001B[37m\u001B[0m \u001B[1m3s\u001B[0m 553us/step\n",
      "\u001B[1m4675/4675\u001B[0m \u001B[32m━━━━━━━━━━━━━━━━━━━━\u001B[0m\u001B[37m\u001B[0m \u001B[1m2s\u001B[0m 513us/step\n",
      "\u001B[1m4675/4675\u001B[0m \u001B[32m━━━━━━━━━━━━━━━━━━━━\u001B[0m\u001B[37m\u001B[0m \u001B[1m3s\u001B[0m 593us/step\n",
      "\u001B[1m4675/4675\u001B[0m \u001B[32m━━━━━━━━━━━━━━━━━━━━\u001B[0m\u001B[37m\u001B[0m \u001B[1m3s\u001B[0m 546us/step\n",
      "\u001B[1m4675/4675\u001B[0m \u001B[32m━━━━━━━━━━━━━━━━━━━━\u001B[0m\u001B[37m\u001B[0m \u001B[1m3s\u001B[0m 537us/step\n",
      "\u001B[1m4675/4675\u001B[0m \u001B[32m━━━━━━━━━━━━━━━━━━━━\u001B[0m\u001B[37m\u001B[0m \u001B[1m2s\u001B[0m 517us/step\n",
      "\u001B[1m4675/4675\u001B[0m \u001B[32m━━━━━━━━━━━━━━━━━━━━\u001B[0m\u001B[37m\u001B[0m \u001B[1m2s\u001B[0m 514us/step\n",
      "\u001B[1m4675/4675\u001B[0m \u001B[32m━━━━━━━━━━━━━━━━━━━━\u001B[0m\u001B[37m\u001B[0m \u001B[1m3s\u001B[0m 541us/step\n",
      "\u001B[1m4675/4675\u001B[0m \u001B[32m━━━━━━━━━━━━━━━━━━━━\u001B[0m\u001B[37m\u001B[0m \u001B[1m3s\u001B[0m 544us/step\n",
      "\u001B[1m4675/4675\u001B[0m \u001B[32m━━━━━━━━━━━━━━━━━━━━\u001B[0m\u001B[37m\u001B[0m \u001B[1m3s\u001B[0m 578us/step\n",
      "\u001B[1m4675/4675\u001B[0m \u001B[32m━━━━━━━━━━━━━━━━━━━━\u001B[0m\u001B[37m\u001B[0m \u001B[1m3s\u001B[0m 543us/step\n",
      "\u001B[1m4675/4675\u001B[0m \u001B[32m━━━━━━━━━━━━━━━━━━━━\u001B[0m\u001B[37m\u001B[0m \u001B[1m3s\u001B[0m 534us/step\n",
      "\u001B[1m4675/4675\u001B[0m \u001B[32m━━━━━━━━━━━━━━━━━━━━\u001B[0m\u001B[37m\u001B[0m \u001B[1m3s\u001B[0m 622us/step\n",
      "\u001B[1m4675/4675\u001B[0m \u001B[32m━━━━━━━━━━━━━━━━━━━━\u001B[0m\u001B[37m\u001B[0m \u001B[1m4s\u001B[0m 875us/step\n",
      "\u001B[1m4675/4675\u001B[0m \u001B[32m━━━━━━━━━━━━━━━━━━━━\u001B[0m\u001B[37m\u001B[0m \u001B[1m4s\u001B[0m 844us/step\n",
      "\u001B[1m4675/4675\u001B[0m \u001B[32m━━━━━━━━━━━━━━━━━━━━\u001B[0m\u001B[37m\u001B[0m \u001B[1m4s\u001B[0m 933us/step\n",
      "\u001B[1m4675/4675\u001B[0m \u001B[32m━━━━━━━━━━━━━━━━━━━━\u001B[0m\u001B[37m\u001B[0m \u001B[1m4s\u001B[0m 892us/step\n",
      "\u001B[1m4675/4675\u001B[0m \u001B[32m━━━━━━━━━━━━━━━━━━━━\u001B[0m\u001B[37m\u001B[0m \u001B[1m4s\u001B[0m 882us/step\n",
      "\u001B[1m4675/4675\u001B[0m \u001B[32m━━━━━━━━━━━━━━━━━━━━\u001B[0m\u001B[37m\u001B[0m \u001B[1m4s\u001B[0m 877us/step\n",
      "\u001B[1m4675/4675\u001B[0m \u001B[32m━━━━━━━━━━━━━━━━━━━━\u001B[0m\u001B[37m\u001B[0m \u001B[1m4s\u001B[0m 899us/step\n",
      "\u001B[1m4675/4675\u001B[0m \u001B[32m━━━━━━━━━━━━━━━━━━━━\u001B[0m\u001B[37m\u001B[0m \u001B[1m5s\u001B[0m 960us/step\n",
      "\u001B[1m4675/4675\u001B[0m \u001B[32m━━━━━━━━━━━━━━━━━━━━\u001B[0m\u001B[37m\u001B[0m \u001B[1m4s\u001B[0m 904us/step\n",
      "\u001B[1m4675/4675\u001B[0m \u001B[32m━━━━━━━━━━━━━━━━━━━━\u001B[0m\u001B[37m\u001B[0m \u001B[1m5s\u001B[0m 1ms/step\n",
      "\u001B[1m4675/4675\u001B[0m \u001B[32m━━━━━━━━━━━━━━━━━━━━\u001B[0m\u001B[37m\u001B[0m \u001B[1m4s\u001B[0m 921us/step\n",
      "\u001B[1m4675/4675\u001B[0m \u001B[32m━━━━━━━━━━━━━━━━━━━━\u001B[0m\u001B[37m\u001B[0m \u001B[1m4s\u001B[0m 932us/step\n",
      "\u001B[1m4675/4675\u001B[0m \u001B[32m━━━━━━━━━━━━━━━━━━━━\u001B[0m\u001B[37m\u001B[0m \u001B[1m4s\u001B[0m 915us/step\n",
      "\u001B[1m4675/4675\u001B[0m \u001B[32m━━━━━━━━━━━━━━━━━━━━\u001B[0m\u001B[37m\u001B[0m \u001B[1m4s\u001B[0m 915us/step\n",
      "\u001B[1m4675/4675\u001B[0m \u001B[32m━━━━━━━━━━━━━━━━━━━━\u001B[0m\u001B[37m\u001B[0m \u001B[1m4s\u001B[0m 918us/step\n",
      "\u001B[1m4675/4675\u001B[0m \u001B[32m━━━━━━━━━━━━━━━━━━━━\u001B[0m\u001B[37m\u001B[0m \u001B[1m4s\u001B[0m 888us/step\n",
      "\u001B[1m4675/4675\u001B[0m \u001B[32m━━━━━━━━━━━━━━━━━━━━\u001B[0m\u001B[37m\u001B[0m \u001B[1m4s\u001B[0m 896us/step\n",
      "\u001B[1m4675/4675\u001B[0m \u001B[32m━━━━━━━━━━━━━━━━━━━━\u001B[0m\u001B[37m\u001B[0m \u001B[1m4s\u001B[0m 888us/step\n",
      "\u001B[1m4675/4675\u001B[0m \u001B[32m━━━━━━━━━━━━━━━━━━━━\u001B[0m\u001B[37m\u001B[0m \u001B[1m5s\u001B[0m 965us/step\n",
      "\u001B[1m4675/4675\u001B[0m \u001B[32m━━━━━━━━━━━━━━━━━━━━\u001B[0m\u001B[37m\u001B[0m \u001B[1m3s\u001B[0m 730us/step\n",
      "\u001B[1m4675/4675\u001B[0m \u001B[32m━━━━━━━━━━━━━━━━━━━━\u001B[0m\u001B[37m\u001B[0m \u001B[1m5s\u001B[0m 946us/step\n",
      "\u001B[1m4675/4675\u001B[0m \u001B[32m━━━━━━━━━━━━━━━━━━━━\u001B[0m\u001B[37m\u001B[0m \u001B[1m4s\u001B[0m 884us/step\n",
      "\u001B[1m4675/4675\u001B[0m \u001B[32m━━━━━━━━━━━━━━━━━━━━\u001B[0m\u001B[37m\u001B[0m \u001B[1m5s\u001B[0m 947us/step\n",
      "\u001B[1m4675/4675\u001B[0m \u001B[32m━━━━━━━━━━━━━━━━━━━━\u001B[0m\u001B[37m\u001B[0m \u001B[1m4s\u001B[0m 917us/step\n",
      "\u001B[1m4675/4675\u001B[0m \u001B[32m━━━━━━━━━━━━━━━━━━━━\u001B[0m\u001B[37m\u001B[0m \u001B[1m4s\u001B[0m 940us/step\n",
      "\u001B[1m4675/4675\u001B[0m \u001B[32m━━━━━━━━━━━━━━━━━━━━\u001B[0m\u001B[37m\u001B[0m \u001B[1m5s\u001B[0m 983us/step\n",
      "\u001B[1m4675/4675\u001B[0m \u001B[32m━━━━━━━━━━━━━━━━━━━━\u001B[0m\u001B[37m\u001B[0m \u001B[1m4s\u001B[0m 915us/step\n",
      "\u001B[1m4675/4675\u001B[0m \u001B[32m━━━━━━━━━━━━━━━━━━━━\u001B[0m\u001B[37m\u001B[0m \u001B[1m5s\u001B[0m 968us/step\n",
      "\u001B[1m4675/4675\u001B[0m \u001B[32m━━━━━━━━━━━━━━━━━━━━\u001B[0m\u001B[37m\u001B[0m \u001B[1m4s\u001B[0m 900us/step\n",
      "\u001B[1m4675/4675\u001B[0m \u001B[32m━━━━━━━━━━━━━━━━━━━━\u001B[0m\u001B[37m\u001B[0m \u001B[1m5s\u001B[0m 979us/step\n",
      "\u001B[1m4675/4675\u001B[0m \u001B[32m━━━━━━━━━━━━━━━━━━━━\u001B[0m\u001B[37m\u001B[0m \u001B[1m4s\u001B[0m 899us/step\n",
      "\u001B[1m4675/4675\u001B[0m \u001B[32m━━━━━━━━━━━━━━━━━━━━\u001B[0m\u001B[37m\u001B[0m \u001B[1m4s\u001B[0m 900us/step\n",
      "\u001B[1m4675/4675\u001B[0m \u001B[32m━━━━━━━━━━━━━━━━━━━━\u001B[0m\u001B[37m\u001B[0m \u001B[1m4s\u001B[0m 880us/step\n",
      "\u001B[1m4675/4675\u001B[0m \u001B[32m━━━━━━━━━━━━━━━━━━━━\u001B[0m\u001B[37m\u001B[0m \u001B[1m4s\u001B[0m 871us/step\n",
      "\u001B[1m4675/4675\u001B[0m \u001B[32m━━━━━━━━━━━━━━━━━━━━\u001B[0m\u001B[37m\u001B[0m \u001B[1m4s\u001B[0m 874us/step\n",
      "\u001B[1m4675/4675\u001B[0m \u001B[32m━━━━━━━━━━━━━━━━━━━━\u001B[0m\u001B[37m\u001B[0m \u001B[1m4s\u001B[0m 929us/step\n",
      "\u001B[1m4675/4675\u001B[0m \u001B[32m━━━━━━━━━━━━━━━━━━━━\u001B[0m\u001B[37m\u001B[0m \u001B[1m4s\u001B[0m 890us/step\n",
      "\u001B[1m4675/4675\u001B[0m \u001B[32m━━━━━━━━━━━━━━━━━━━━\u001B[0m\u001B[37m\u001B[0m \u001B[1m4s\u001B[0m 926us/step\n",
      "\u001B[1m4675/4675\u001B[0m \u001B[32m━━━━━━━━━━━━━━━━━━━━\u001B[0m\u001B[37m\u001B[0m \u001B[1m4s\u001B[0m 916us/step\n",
      "\u001B[1m4675/4675\u001B[0m \u001B[32m━━━━━━━━━━━━━━━━━━━━\u001B[0m\u001B[37m\u001B[0m \u001B[1m5s\u001B[0m 1ms/step\n",
      "\u001B[1m4675/4675\u001B[0m \u001B[32m━━━━━━━━━━━━━━━━━━━━\u001B[0m\u001B[37m\u001B[0m \u001B[1m4s\u001B[0m 941us/step\n",
      "\u001B[1m4675/4675\u001B[0m \u001B[32m━━━━━━━━━━━━━━━━━━━━\u001B[0m\u001B[37m\u001B[0m \u001B[1m4s\u001B[0m 893us/step\n",
      "\u001B[1m4675/4675\u001B[0m \u001B[32m━━━━━━━━━━━━━━━━━━━━\u001B[0m\u001B[37m\u001B[0m \u001B[1m4s\u001B[0m 912us/step\n",
      "\u001B[1m4675/4675\u001B[0m \u001B[32m━━━━━━━━━━━━━━━━━━━━\u001B[0m\u001B[37m\u001B[0m \u001B[1m4s\u001B[0m 899us/step\n",
      "\u001B[1m4675/4675\u001B[0m \u001B[32m━━━━━━━━━━━━━━━━━━━━\u001B[0m\u001B[37m\u001B[0m \u001B[1m4s\u001B[0m 920us/step\n",
      "\u001B[1m4675/4675\u001B[0m \u001B[32m━━━━━━━━━━━━━━━━━━━━\u001B[0m\u001B[37m\u001B[0m \u001B[1m4s\u001B[0m 932us/step\n",
      "\u001B[1m4675/4675\u001B[0m \u001B[32m━━━━━━━━━━━━━━━━━━━━\u001B[0m\u001B[37m\u001B[0m \u001B[1m4s\u001B[0m 922us/step\n",
      "\u001B[1m4675/4675\u001B[0m \u001B[32m━━━━━━━━━━━━━━━━━━━━\u001B[0m\u001B[37m\u001B[0m \u001B[1m4s\u001B[0m 900us/step\n",
      "\u001B[1m4675/4675\u001B[0m \u001B[32m━━━━━━━━━━━━━━━━━━━━\u001B[0m\u001B[37m\u001B[0m \u001B[1m4s\u001B[0m 898us/step\n",
      "\u001B[1m4675/4675\u001B[0m \u001B[32m━━━━━━━━━━━━━━━━━━━━\u001B[0m\u001B[37m\u001B[0m \u001B[1m4s\u001B[0m 913us/step\n",
      "\u001B[1m4675/4675\u001B[0m \u001B[32m━━━━━━━━━━━━━━━━━━━━\u001B[0m\u001B[37m\u001B[0m \u001B[1m4s\u001B[0m 892us/step\n",
      "\u001B[1m4675/4675\u001B[0m \u001B[32m━━━━━━━━━━━━━━━━━━━━\u001B[0m\u001B[37m\u001B[0m \u001B[1m4s\u001B[0m 916us/step\n",
      "\u001B[1m4675/4675\u001B[0m \u001B[32m━━━━━━━━━━━━━━━━━━━━\u001B[0m\u001B[37m\u001B[0m \u001B[1m4s\u001B[0m 908us/step\n",
      "\u001B[1m4675/4675\u001B[0m \u001B[32m━━━━━━━━━━━━━━━━━━━━\u001B[0m\u001B[37m\u001B[0m \u001B[1m4s\u001B[0m 933us/step\n",
      "\u001B[1m4675/4675\u001B[0m \u001B[32m━━━━━━━━━━━━━━━━━━━━\u001B[0m\u001B[37m\u001B[0m \u001B[1m4s\u001B[0m 904us/step\n",
      "\u001B[1m4675/4675\u001B[0m \u001B[32m━━━━━━━━━━━━━━━━━━━━\u001B[0m\u001B[37m\u001B[0m \u001B[1m4s\u001B[0m 889us/step\n",
      "\u001B[1m4675/4675\u001B[0m \u001B[32m━━━━━━━━━━━━━━━━━━━━\u001B[0m\u001B[37m\u001B[0m \u001B[1m4s\u001B[0m 898us/step\n",
      "\u001B[1m4675/4675\u001B[0m \u001B[32m━━━━━━━━━━━━━━━━━━━━\u001B[0m\u001B[37m\u001B[0m \u001B[1m5s\u001B[0m 973us/step\n",
      "\u001B[1m4675/4675\u001B[0m \u001B[32m━━━━━━━━━━━━━━━━━━━━\u001B[0m\u001B[37m\u001B[0m \u001B[1m4s\u001B[0m 934us/step\n",
      "\u001B[1m4675/4675\u001B[0m \u001B[32m━━━━━━━━━━━━━━━━━━━━\u001B[0m\u001B[37m\u001B[0m \u001B[1m5s\u001B[0m 1ms/step\n",
      "\u001B[1m4675/4675\u001B[0m \u001B[32m━━━━━━━━━━━━━━━━━━━━\u001B[0m\u001B[37m\u001B[0m \u001B[1m5s\u001B[0m 1ms/step\n",
      "\u001B[1m4675/4675\u001B[0m \u001B[32m━━━━━━━━━━━━━━━━━━━━\u001B[0m\u001B[37m\u001B[0m \u001B[1m5s\u001B[0m 969us/step\n",
      "\u001B[1m4675/4675\u001B[0m \u001B[32m━━━━━━━━━━━━━━━━━━━━\u001B[0m\u001B[37m\u001B[0m \u001B[1m4s\u001B[0m 881us/step\n",
      "\u001B[1m4675/4675\u001B[0m \u001B[32m━━━━━━━━━━━━━━━━━━━━\u001B[0m\u001B[37m\u001B[0m \u001B[1m4s\u001B[0m 889us/step\n",
      "\u001B[1m4675/4675\u001B[0m \u001B[32m━━━━━━━━━━━━━━━━━━━━\u001B[0m\u001B[37m\u001B[0m \u001B[1m4s\u001B[0m 864us/step\n",
      "\u001B[1m4675/4675\u001B[0m \u001B[32m━━━━━━━━━━━━━━━━━━━━\u001B[0m\u001B[37m\u001B[0m \u001B[1m4s\u001B[0m 890us/step\n",
      "\u001B[1m4675/4675\u001B[0m \u001B[32m━━━━━━━━━━━━━━━━━━━━\u001B[0m\u001B[37m\u001B[0m \u001B[1m4s\u001B[0m 900us/step\n",
      "\u001B[1m4675/4675\u001B[0m \u001B[32m━━━━━━━━━━━━━━━━━━━━\u001B[0m\u001B[37m\u001B[0m \u001B[1m4s\u001B[0m 923us/step\n",
      "\u001B[1m4675/4675\u001B[0m \u001B[32m━━━━━━━━━━━━━━━━━━━━\u001B[0m\u001B[37m\u001B[0m \u001B[1m4s\u001B[0m 920us/step\n",
      "\u001B[1m4675/4675\u001B[0m \u001B[32m━━━━━━━━━━━━━━━━━━━━\u001B[0m\u001B[37m\u001B[0m \u001B[1m5s\u001B[0m 986us/step\n",
      "\u001B[1m4675/4675\u001B[0m \u001B[32m━━━━━━━━━━━━━━━━━━━━\u001B[0m\u001B[37m\u001B[0m \u001B[1m5s\u001B[0m 1ms/step\n",
      "\u001B[1m4675/4675\u001B[0m \u001B[32m━━━━━━━━━━━━━━━━━━━━\u001B[0m\u001B[37m\u001B[0m \u001B[1m4s\u001B[0m 902us/step\n",
      "\u001B[1m4675/4675\u001B[0m \u001B[32m━━━━━━━━━━━━━━━━━━━━\u001B[0m\u001B[37m\u001B[0m \u001B[1m4s\u001B[0m 925us/step\n",
      "\u001B[1m4675/4675\u001B[0m \u001B[32m━━━━━━━━━━━━━━━━━━━━\u001B[0m\u001B[37m\u001B[0m \u001B[1m4s\u001B[0m 936us/step\n",
      "\u001B[1m4675/4675\u001B[0m \u001B[32m━━━━━━━━━━━━━━━━━━━━\u001B[0m\u001B[37m\u001B[0m \u001B[1m4s\u001B[0m 907us/step\n",
      "\u001B[1m4675/4675\u001B[0m \u001B[32m━━━━━━━━━━━━━━━━━━━━\u001B[0m\u001B[37m\u001B[0m \u001B[1m4s\u001B[0m 900us/step\n",
      "\u001B[1m4675/4675\u001B[0m \u001B[32m━━━━━━━━━━━━━━━━━━━━\u001B[0m\u001B[37m\u001B[0m \u001B[1m4s\u001B[0m 877us/step\n",
      "\u001B[1m4675/4675\u001B[0m \u001B[32m━━━━━━━━━━━━━━━━━━━━\u001B[0m\u001B[37m\u001B[0m \u001B[1m4s\u001B[0m 898us/step\n",
      "\u001B[1m4675/4675\u001B[0m \u001B[32m━━━━━━━━━━━━━━━━━━━━\u001B[0m\u001B[37m\u001B[0m \u001B[1m4s\u001B[0m 902us/step\n",
      "\u001B[1m4675/4675\u001B[0m \u001B[32m━━━━━━━━━━━━━━━━━━━━\u001B[0m\u001B[37m\u001B[0m \u001B[1m4s\u001B[0m 895us/step\n",
      "\u001B[1m4675/4675\u001B[0m \u001B[32m━━━━━━━━━━━━━━━━━━━━\u001B[0m\u001B[37m\u001B[0m \u001B[1m5s\u001B[0m 1ms/step\n",
      "\u001B[1m4675/4675\u001B[0m \u001B[32m━━━━━━━━━━━━━━━━━━━━\u001B[0m\u001B[37m\u001B[0m \u001B[1m3s\u001B[0m 568us/step\n",
      "\u001B[1m4675/4675\u001B[0m \u001B[32m━━━━━━━━━━━━━━━━━━━━\u001B[0m\u001B[37m\u001B[0m \u001B[1m3s\u001B[0m 589us/step\n",
      "\u001B[1m4675/4675\u001B[0m \u001B[32m━━━━━━━━━━━━━━━━━━━━\u001B[0m\u001B[37m\u001B[0m \u001B[1m3s\u001B[0m 636us/step\n",
      "\u001B[1m4675/4675\u001B[0m \u001B[32m━━━━━━━━━━━━━━━━━━━━\u001B[0m\u001B[37m\u001B[0m \u001B[1m2s\u001B[0m 511us/step\n",
      "\u001B[1m4675/4675\u001B[0m \u001B[32m━━━━━━━━━━━━━━━━━━━━\u001B[0m\u001B[37m\u001B[0m \u001B[1m3s\u001B[0m 528us/step\n",
      "\u001B[1m4675/4675\u001B[0m \u001B[32m━━━━━━━━━━━━━━━━━━━━\u001B[0m\u001B[37m\u001B[0m \u001B[1m3s\u001B[0m 601us/step\n",
      "\u001B[1m4675/4675\u001B[0m \u001B[32m━━━━━━━━━━━━━━━━━━━━\u001B[0m\u001B[37m\u001B[0m \u001B[1m3s\u001B[0m 575us/step\n",
      "\u001B[1m4675/4675\u001B[0m \u001B[32m━━━━━━━━━━━━━━━━━━━━\u001B[0m\u001B[37m\u001B[0m \u001B[1m3s\u001B[0m 597us/step\n",
      "\u001B[1m4675/4675\u001B[0m \u001B[32m━━━━━━━━━━━━━━━━━━━━\u001B[0m\u001B[37m\u001B[0m \u001B[1m3s\u001B[0m 585us/step\n",
      "\u001B[1m4675/4675\u001B[0m \u001B[32m━━━━━━━━━━━━━━━━━━━━\u001B[0m\u001B[37m\u001B[0m \u001B[1m3s\u001B[0m 660us/step\n",
      "\u001B[1m4675/4675\u001B[0m \u001B[32m━━━━━━━━━━━━━━━━━━━━\u001B[0m\u001B[37m\u001B[0m \u001B[1m3s\u001B[0m 625us/step\n",
      "\u001B[1m4675/4675\u001B[0m \u001B[32m━━━━━━━━━━━━━━━━━━━━\u001B[0m\u001B[37m\u001B[0m \u001B[1m3s\u001B[0m 566us/step\n",
      "\u001B[1m4675/4675\u001B[0m \u001B[32m━━━━━━━━━━━━━━━━━━━━\u001B[0m\u001B[37m\u001B[0m \u001B[1m3s\u001B[0m 572us/step\n",
      "\u001B[1m4675/4675\u001B[0m \u001B[32m━━━━━━━━━━━━━━━━━━━━\u001B[0m\u001B[37m\u001B[0m \u001B[1m3s\u001B[0m 566us/step\n",
      "\u001B[1m4675/4675\u001B[0m \u001B[32m━━━━━━━━━━━━━━━━━━━━\u001B[0m\u001B[37m\u001B[0m \u001B[1m3s\u001B[0m 581us/step\n",
      "\u001B[1m4675/4675\u001B[0m \u001B[32m━━━━━━━━━━━━━━━━━━━━\u001B[0m\u001B[37m\u001B[0m \u001B[1m3s\u001B[0m 592us/step\n",
      "\u001B[1m4675/4675\u001B[0m \u001B[32m━━━━━━━━━━━━━━━━━━━━\u001B[0m\u001B[37m\u001B[0m \u001B[1m3s\u001B[0m 598us/step\n",
      "\u001B[1m4675/4675\u001B[0m \u001B[32m━━━━━━━━━━━━━━━━━━━━\u001B[0m\u001B[37m\u001B[0m \u001B[1m3s\u001B[0m 603us/step\n",
      "\u001B[1m4675/4675\u001B[0m \u001B[32m━━━━━━━━━━━━━━━━━━━━\u001B[0m\u001B[37m\u001B[0m \u001B[1m3s\u001B[0m 669us/step\n",
      "\u001B[1m4675/4675\u001B[0m \u001B[32m━━━━━━━━━━━━━━━━━━━━\u001B[0m\u001B[37m\u001B[0m \u001B[1m5s\u001B[0m 986us/step\n",
      "\u001B[1m4675/4675\u001B[0m \u001B[32m━━━━━━━━━━━━━━━━━━━━\u001B[0m\u001B[37m\u001B[0m \u001B[1m3s\u001B[0m 616us/step\n",
      "\u001B[1m4675/4675\u001B[0m \u001B[32m━━━━━━━━━━━━━━━━━━━━\u001B[0m\u001B[37m\u001B[0m \u001B[1m3s\u001B[0m 612us/step\n",
      "\u001B[1m4675/4675\u001B[0m \u001B[32m━━━━━━━━━━━━━━━━━━━━\u001B[0m\u001B[37m\u001B[0m \u001B[1m3s\u001B[0m 665us/step\n",
      "\u001B[1m4675/4675\u001B[0m \u001B[32m━━━━━━━━━━━━━━━━━━━━\u001B[0m\u001B[37m\u001B[0m \u001B[1m3s\u001B[0m 571us/step\n",
      "\u001B[1m4675/4675\u001B[0m \u001B[32m━━━━━━━━━━━━━━━━━━━━\u001B[0m\u001B[37m\u001B[0m \u001B[1m3s\u001B[0m 570us/step\n",
      "\u001B[1m4675/4675\u001B[0m \u001B[32m━━━━━━━━━━━━━━━━━━━━\u001B[0m\u001B[37m\u001B[0m \u001B[1m3s\u001B[0m 567us/step\n",
      "\u001B[1m4675/4675\u001B[0m \u001B[32m━━━━━━━━━━━━━━━━━━━━\u001B[0m\u001B[37m\u001B[0m \u001B[1m4s\u001B[0m 920us/step\n",
      "\u001B[1m4675/4675\u001B[0m \u001B[32m━━━━━━━━━━━━━━━━━━━━\u001B[0m\u001B[37m\u001B[0m \u001B[1m4s\u001B[0m 935us/step\n",
      "\u001B[1m4675/4675\u001B[0m \u001B[32m━━━━━━━━━━━━━━━━━━━━\u001B[0m\u001B[37m\u001B[0m \u001B[1m4s\u001B[0m 924us/step\n",
      "\u001B[1m4675/4675\u001B[0m \u001B[32m━━━━━━━━━━━━━━━━━━━━\u001B[0m\u001B[37m\u001B[0m \u001B[1m3s\u001B[0m 644us/step\n",
      "\u001B[1m4675/4675\u001B[0m \u001B[32m━━━━━━━━━━━━━━━━━━━━\u001B[0m\u001B[37m\u001B[0m \u001B[1m4s\u001B[0m 903us/step\n",
      "\u001B[1m4675/4675\u001B[0m \u001B[32m━━━━━━━━━━━━━━━━━━━━\u001B[0m\u001B[37m\u001B[0m \u001B[1m5s\u001B[0m 947us/step\n",
      "\u001B[1m4675/4675\u001B[0m \u001B[32m━━━━━━━━━━━━━━━━━━━━\u001B[0m\u001B[37m\u001B[0m \u001B[1m3s\u001B[0m 595us/step\n",
      "\u001B[1m4675/4675\u001B[0m \u001B[32m━━━━━━━━━━━━━━━━━━━━\u001B[0m\u001B[37m\u001B[0m \u001B[1m3s\u001B[0m 530us/step\n",
      "\u001B[1m4675/4675\u001B[0m \u001B[32m━━━━━━━━━━━━━━━━━━━━\u001B[0m\u001B[37m\u001B[0m \u001B[1m3s\u001B[0m 680us/step\n",
      "\u001B[1m4675/4675\u001B[0m \u001B[32m━━━━━━━━━━━━━━━━━━━━\u001B[0m\u001B[37m\u001B[0m \u001B[1m3s\u001B[0m 601us/step\n",
      "\u001B[1m4675/4675\u001B[0m \u001B[32m━━━━━━━━━━━━━━━━━━━━\u001B[0m\u001B[37m\u001B[0m \u001B[1m5s\u001B[0m 963us/step\n",
      "\u001B[1m4675/4675\u001B[0m \u001B[32m━━━━━━━━━━━━━━━━━━━━\u001B[0m\u001B[37m\u001B[0m \u001B[1m4s\u001B[0m 897us/step\n",
      "\u001B[1m4675/4675\u001B[0m \u001B[32m━━━━━━━━━━━━━━━━━━━━\u001B[0m\u001B[37m\u001B[0m \u001B[1m3s\u001B[0m 552us/step\n",
      "\u001B[1m4675/4675\u001B[0m \u001B[32m━━━━━━━━━━━━━━━━━━━━\u001B[0m\u001B[37m\u001B[0m \u001B[1m4s\u001B[0m 845us/step\n",
      "\u001B[1m4675/4675\u001B[0m \u001B[32m━━━━━━━━━━━━━━━━━━━━\u001B[0m\u001B[37m\u001B[0m \u001B[1m4s\u001B[0m 934us/step\n",
      "\u001B[1m4675/4675\u001B[0m \u001B[32m━━━━━━━━━━━━━━━━━━━━\u001B[0m\u001B[37m\u001B[0m \u001B[1m3s\u001B[0m 562us/step\n",
      "\u001B[1m4675/4675\u001B[0m \u001B[32m━━━━━━━━━━━━━━━━━━━━\u001B[0m\u001B[37m\u001B[0m \u001B[1m3s\u001B[0m 543us/step\n",
      "\u001B[1m4675/4675\u001B[0m \u001B[32m━━━━━━━━━━━━━━━━━━━━\u001B[0m\u001B[37m\u001B[0m \u001B[1m2s\u001B[0m 503us/step\n",
      "\u001B[1m4675/4675\u001B[0m \u001B[32m━━━━━━━━━━━━━━━━━━━━\u001B[0m\u001B[37m\u001B[0m \u001B[1m3s\u001B[0m 612us/step\n",
      "\u001B[1m4675/4675\u001B[0m \u001B[32m━━━━━━━━━━━━━━━━━━━━\u001B[0m\u001B[37m\u001B[0m \u001B[1m2s\u001B[0m 520us/step\n",
      "\u001B[1m4675/4675\u001B[0m \u001B[32m━━━━━━━━━━━━━━━━━━━━\u001B[0m\u001B[37m\u001B[0m \u001B[1m3s\u001B[0m 577us/step\n",
      "\u001B[1m4675/4675\u001B[0m \u001B[32m━━━━━━━━━━━━━━━━━━━━\u001B[0m\u001B[37m\u001B[0m \u001B[1m2s\u001B[0m 523us/step\n",
      "\u001B[1m4675/4675\u001B[0m \u001B[32m━━━━━━━━━━━━━━━━━━━━\u001B[0m\u001B[37m\u001B[0m \u001B[1m3s\u001B[0m 578us/step\n",
      "\u001B[1m4675/4675\u001B[0m \u001B[32m━━━━━━━━━━━━━━━━━━━━\u001B[0m\u001B[37m\u001B[0m \u001B[1m3s\u001B[0m 557us/step\n",
      "\u001B[1m4675/4675\u001B[0m \u001B[32m━━━━━━━━━━━━━━━━━━━━\u001B[0m\u001B[37m\u001B[0m \u001B[1m2s\u001B[0m 492us/step\n",
      "\u001B[1m4675/4675\u001B[0m \u001B[32m━━━━━━━━━━━━━━━━━━━━\u001B[0m\u001B[37m\u001B[0m \u001B[1m2s\u001B[0m 525us/step\n",
      "\u001B[1m4675/4675\u001B[0m \u001B[32m━━━━━━━━━━━━━━━━━━━━\u001B[0m\u001B[37m\u001B[0m \u001B[1m2s\u001B[0m 499us/step\n",
      "\u001B[1m4675/4675\u001B[0m \u001B[32m━━━━━━━━━━━━━━━━━━━━\u001B[0m\u001B[37m\u001B[0m \u001B[1m3s\u001B[0m 606us/step\n",
      "\u001B[1m4675/4675\u001B[0m \u001B[32m━━━━━━━━━━━━━━━━━━━━\u001B[0m\u001B[37m\u001B[0m \u001B[1m3s\u001B[0m 538us/step\n",
      "\u001B[1m4675/4675\u001B[0m \u001B[32m━━━━━━━━━━━━━━━━━━━━\u001B[0m\u001B[37m\u001B[0m \u001B[1m2s\u001B[0m 527us/step\n",
      "\u001B[1m4675/4675\u001B[0m \u001B[32m━━━━━━━━━━━━━━━━━━━━\u001B[0m\u001B[37m\u001B[0m \u001B[1m2s\u001B[0m 514us/step\n",
      "\u001B[1m4675/4675\u001B[0m \u001B[32m━━━━━━━━━━━━━━━━━━━━\u001B[0m\u001B[37m\u001B[0m \u001B[1m2s\u001B[0m 521us/step\n",
      "\u001B[1m4675/4675\u001B[0m \u001B[32m━━━━━━━━━━━━━━━━━━━━\u001B[0m\u001B[37m\u001B[0m \u001B[1m2s\u001B[0m 493us/step\n",
      "\u001B[1m4675/4675\u001B[0m \u001B[32m━━━━━━━━━━━━━━━━━━━━\u001B[0m\u001B[37m\u001B[0m \u001B[1m2s\u001B[0m 501us/step\n",
      "\u001B[1m4675/4675\u001B[0m \u001B[32m━━━━━━━━━━━━━━━━━━━━\u001B[0m\u001B[37m\u001B[0m \u001B[1m3s\u001B[0m 579us/step\n",
      "\u001B[1m4675/4675\u001B[0m \u001B[32m━━━━━━━━━━━━━━━━━━━━\u001B[0m\u001B[37m\u001B[0m \u001B[1m2s\u001B[0m 522us/step\n",
      "\u001B[1m4675/4675\u001B[0m \u001B[32m━━━━━━━━━━━━━━━━━━━━\u001B[0m\u001B[37m\u001B[0m \u001B[1m3s\u001B[0m 560us/step\n",
      "\u001B[1m4675/4675\u001B[0m \u001B[32m━━━━━━━━━━━━━━━━━━━━\u001B[0m\u001B[37m\u001B[0m \u001B[1m3s\u001B[0m 601us/step\n",
      "\u001B[1m4675/4675\u001B[0m \u001B[32m━━━━━━━━━━━━━━━━━━━━\u001B[0m\u001B[37m\u001B[0m \u001B[1m2s\u001B[0m 479us/step\n",
      "\u001B[1m4675/4675\u001B[0m \u001B[32m━━━━━━━━━━━━━━━━━━━━\u001B[0m\u001B[37m\u001B[0m \u001B[1m2s\u001B[0m 504us/step\n",
      "\u001B[1m4675/4675\u001B[0m \u001B[32m━━━━━━━━━━━━━━━━━━━━\u001B[0m\u001B[37m\u001B[0m \u001B[1m2s\u001B[0m 519us/step\n",
      "\u001B[1m4675/4675\u001B[0m \u001B[32m━━━━━━━━━━━━━━━━━━━━\u001B[0m\u001B[37m\u001B[0m \u001B[1m2s\u001B[0m 506us/step\n",
      "\u001B[1m4675/4675\u001B[0m \u001B[32m━━━━━━━━━━━━━━━━━━━━\u001B[0m\u001B[37m\u001B[0m \u001B[1m3s\u001B[0m 603us/step\n",
      "\u001B[1m4675/4675\u001B[0m \u001B[32m━━━━━━━━━━━━━━━━━━━━\u001B[0m\u001B[37m\u001B[0m \u001B[1m2s\u001B[0m 494us/step\n",
      "\u001B[1m4675/4675\u001B[0m \u001B[32m━━━━━━━━━━━━━━━━━━━━\u001B[0m\u001B[37m\u001B[0m \u001B[1m3s\u001B[0m 584us/step\n",
      "\u001B[1m4675/4675\u001B[0m \u001B[32m━━━━━━━━━━━━━━━━━━━━\u001B[0m\u001B[37m\u001B[0m \u001B[1m2s\u001B[0m 508us/step\n",
      "\u001B[1m4675/4675\u001B[0m \u001B[32m━━━━━━━━━━━━━━━━━━━━\u001B[0m\u001B[37m\u001B[0m \u001B[1m2s\u001B[0m 520us/step\n",
      "\u001B[1m4675/4675\u001B[0m \u001B[32m━━━━━━━━━━━━━━━━━━━━\u001B[0m\u001B[37m\u001B[0m \u001B[1m2s\u001B[0m 497us/step\n",
      "\u001B[1m4675/4675\u001B[0m \u001B[32m━━━━━━━━━━━━━━━━━━━━\u001B[0m\u001B[37m\u001B[0m \u001B[1m3s\u001B[0m 551us/step\n",
      "\u001B[1m4675/4675\u001B[0m \u001B[32m━━━━━━━━━━━━━━━━━━━━\u001B[0m\u001B[37m\u001B[0m \u001B[1m2s\u001B[0m 523us/step\n",
      "\u001B[1m4675/4675\u001B[0m \u001B[32m━━━━━━━━━━━━━━━━━━━━\u001B[0m\u001B[37m\u001B[0m \u001B[1m2s\u001B[0m 518us/step\n",
      "\u001B[1m4675/4675\u001B[0m \u001B[32m━━━━━━━━━━━━━━━━━━━━\u001B[0m\u001B[37m\u001B[0m \u001B[1m2s\u001B[0m 516us/step\n",
      "\u001B[1m4675/4675\u001B[0m \u001B[32m━━━━━━━━━━━━━━━━━━━━\u001B[0m\u001B[37m\u001B[0m \u001B[1m2s\u001B[0m 505us/step\n",
      "\u001B[1m4675/4675\u001B[0m \u001B[32m━━━━━━━━━━━━━━━━━━━━\u001B[0m\u001B[37m\u001B[0m \u001B[1m3s\u001B[0m 536us/step\n",
      "\u001B[1m4675/4675\u001B[0m \u001B[32m━━━━━━━━━━━━━━━━━━━━\u001B[0m\u001B[37m\u001B[0m \u001B[1m3s\u001B[0m 551us/step\n",
      "\u001B[1m4675/4675\u001B[0m \u001B[32m━━━━━━━━━━━━━━━━━━━━\u001B[0m\u001B[37m\u001B[0m \u001B[1m2s\u001B[0m 520us/step\n",
      "\u001B[1m4675/4675\u001B[0m \u001B[32m━━━━━━━━━━━━━━━━━━━━\u001B[0m\u001B[37m\u001B[0m \u001B[1m2s\u001B[0m 522us/step\n",
      "\u001B[1m4675/4675\u001B[0m \u001B[32m━━━━━━━━━━━━━━━━━━━━\u001B[0m\u001B[37m\u001B[0m \u001B[1m2s\u001B[0m 520us/step\n",
      "\u001B[1m4675/4675\u001B[0m \u001B[32m━━━━━━━━━━━━━━━━━━━━\u001B[0m\u001B[37m\u001B[0m \u001B[1m2s\u001B[0m 511us/step\n",
      "\u001B[1m4675/4675\u001B[0m \u001B[32m━━━━━━━━━━━━━━━━━━━━\u001B[0m\u001B[37m\u001B[0m \u001B[1m2s\u001B[0m 508us/step\n",
      "\u001B[1m4675/4675\u001B[0m \u001B[32m━━━━━━━━━━━━━━━━━━━━\u001B[0m\u001B[37m\u001B[0m \u001B[1m2s\u001B[0m 517us/step\n",
      "\u001B[1m4675/4675\u001B[0m \u001B[32m━━━━━━━━━━━━━━━━━━━━\u001B[0m\u001B[37m\u001B[0m \u001B[1m2s\u001B[0m 494us/step\n",
      "\u001B[1m4675/4675\u001B[0m \u001B[32m━━━━━━━━━━━━━━━━━━━━\u001B[0m\u001B[37m\u001B[0m \u001B[1m2s\u001B[0m 515us/step\n",
      "\u001B[1m4675/4675\u001B[0m \u001B[32m━━━━━━━━━━━━━━━━━━━━\u001B[0m\u001B[37m\u001B[0m \u001B[1m3s\u001B[0m 710us/step\n",
      "\u001B[1m4675/4675\u001B[0m \u001B[32m━━━━━━━━━━━━━━━━━━━━\u001B[0m\u001B[37m\u001B[0m \u001B[1m4s\u001B[0m 763us/step\n",
      "\u001B[1m4675/4675\u001B[0m \u001B[32m━━━━━━━━━━━━━━━━━━━━\u001B[0m\u001B[37m\u001B[0m \u001B[1m4s\u001B[0m 914us/step\n",
      "\u001B[1m4675/4675\u001B[0m \u001B[32m━━━━━━━━━━━━━━━━━━━━\u001B[0m\u001B[37m\u001B[0m \u001B[1m4s\u001B[0m 906us/step\n",
      "\u001B[1m4675/4675\u001B[0m \u001B[32m━━━━━━━━━━━━━━━━━━━━\u001B[0m\u001B[37m\u001B[0m \u001B[1m4s\u001B[0m 936us/step\n",
      "\u001B[1m4675/4675\u001B[0m \u001B[32m━━━━━━━━━━━━━━━━━━━━\u001B[0m\u001B[37m\u001B[0m \u001B[1m4s\u001B[0m 912us/step\n",
      "\u001B[1m4675/4675\u001B[0m \u001B[32m━━━━━━━━━━━━━━━━━━━━\u001B[0m\u001B[37m\u001B[0m \u001B[1m5s\u001B[0m 944us/step\n",
      "\u001B[1m4675/4675\u001B[0m \u001B[32m━━━━━━━━━━━━━━━━━━━━\u001B[0m\u001B[37m\u001B[0m \u001B[1m5s\u001B[0m 1ms/step\n",
      "\u001B[1m4675/4675\u001B[0m \u001B[32m━━━━━━━━━━━━━━━━━━━━\u001B[0m\u001B[37m\u001B[0m \u001B[1m5s\u001B[0m 972us/step\n",
      "\u001B[1m4675/4675\u001B[0m \u001B[32m━━━━━━━━━━━━━━━━━━━━\u001B[0m\u001B[37m\u001B[0m \u001B[1m4s\u001B[0m 917us/step\n",
      "\u001B[1m4675/4675\u001B[0m \u001B[32m━━━━━━━━━━━━━━━━━━━━\u001B[0m\u001B[37m\u001B[0m \u001B[1m5s\u001B[0m 948us/step\n",
      "\u001B[1m4675/4675\u001B[0m \u001B[32m━━━━━━━━━━━━━━━━━━━━\u001B[0m\u001B[37m\u001B[0m \u001B[1m5s\u001B[0m 1ms/step\n",
      "\u001B[1m4675/4675\u001B[0m \u001B[32m━━━━━━━━━━━━━━━━━━━━\u001B[0m\u001B[37m\u001B[0m \u001B[1m5s\u001B[0m 972us/step\n",
      "\u001B[1m4675/4675\u001B[0m \u001B[32m━━━━━━━━━━━━━━━━━━━━\u001B[0m\u001B[37m\u001B[0m \u001B[1m4s\u001B[0m 915us/step\n",
      "\u001B[1m4675/4675\u001B[0m \u001B[32m━━━━━━━━━━━━━━━━━━━━\u001B[0m\u001B[37m\u001B[0m \u001B[1m4s\u001B[0m 891us/step\n",
      "\u001B[1m4675/4675\u001B[0m \u001B[32m━━━━━━━━━━━━━━━━━━━━\u001B[0m\u001B[37m\u001B[0m \u001B[1m4s\u001B[0m 900us/step\n",
      "\u001B[1m4675/4675\u001B[0m \u001B[32m━━━━━━━━━━━━━━━━━━━━\u001B[0m\u001B[37m\u001B[0m \u001B[1m4s\u001B[0m 915us/step\n",
      "\u001B[1m4675/4675\u001B[0m \u001B[32m━━━━━━━━━━━━━━━━━━━━\u001B[0m\u001B[37m\u001B[0m \u001B[1m4s\u001B[0m 911us/step\n",
      "\u001B[1m4675/4675\u001B[0m \u001B[32m━━━━━━━━━━━━━━━━━━━━\u001B[0m\u001B[37m\u001B[0m \u001B[1m4s\u001B[0m 895us/step\n",
      "\u001B[1m4675/4675\u001B[0m \u001B[32m━━━━━━━━━━━━━━━━━━━━\u001B[0m\u001B[37m\u001B[0m \u001B[1m4s\u001B[0m 916us/step\n",
      "\u001B[1m4675/4675\u001B[0m \u001B[32m━━━━━━━━━━━━━━━━━━━━\u001B[0m\u001B[37m\u001B[0m \u001B[1m4s\u001B[0m 871us/step\n",
      "\u001B[1m4675/4675\u001B[0m \u001B[32m━━━━━━━━━━━━━━━━━━━━\u001B[0m\u001B[37m\u001B[0m \u001B[1m5s\u001B[0m 989us/step\n",
      "\u001B[1m4675/4675\u001B[0m \u001B[32m━━━━━━━━━━━━━━━━━━━━\u001B[0m\u001B[37m\u001B[0m \u001B[1m4s\u001B[0m 934us/step\n",
      "\u001B[1m4675/4675\u001B[0m \u001B[32m━━━━━━━━━━━━━━━━━━━━\u001B[0m\u001B[37m\u001B[0m \u001B[1m4s\u001B[0m 912us/step\n",
      "\u001B[1m4675/4675\u001B[0m \u001B[32m━━━━━━━━━━━━━━━━━━━━\u001B[0m\u001B[37m\u001B[0m \u001B[1m4s\u001B[0m 914us/step\n",
      "\u001B[1m4675/4675\u001B[0m \u001B[32m━━━━━━━━━━━━━━━━━━━━\u001B[0m\u001B[37m\u001B[0m \u001B[1m3s\u001B[0m 676us/step\n",
      "Root mean square error (RMSE) for MLP is: 1.746026739840003\n"
     ]
    }
   ],
   "source": [
    "get_mlp_rmse()"
   ],
   "metadata": {
    "collapsed": false,
    "ExecuteTime": {
     "end_time": "2024-05-05T18:55:42.771541Z",
     "start_time": "2024-05-05T17:57:51.689578Z"
    }
   },
   "id": "e46ffed38cc41bc5",
   "execution_count": 66
  },
  {
   "cell_type": "markdown",
   "source": [
    "# 5.0 Hybrid Recommender System\n",
    "\n",
    "## 5.1 Weighted Hybrid Recommender System\n",
    "\n",
    "We will build a weighted hybrid recommender system from SVD model and MLP model we trained before this\n",
    "\n",
    "### 5.1.1 Building Model\n",
    "\n",
    "We will be using surd of average cosine similarity for the target user as the weighting factor\n",
    "Defining a function to get hybrid recommendations for a target user "
   ],
   "metadata": {
    "collapsed": false
   },
   "id": "d1d96df02d8347a1"
  },
  {
   "cell_type": "code",
   "outputs": [],
   "source": [
    "def get_hybrid_recommendations(user_id):\n",
    "    collaborative_recommendations, average_cosine_similarity = get_collaborative_recommendations(user_id)\n",
    "    content_recommendations = get_content_recommendations(user_id)\n",
    "\n",
    "    if collaborative_recommendations is not None:\n",
    "        df_merged_recommendations = pd.merge(content_recommendations.reset_index(), collaborative_recommendations.reset_index(), how='left', on='ISBN').fillna(scaler_mean)\n",
    "        df_merged_recommendations = df_merged_recommendations.rename(columns={0: 'SVD Predicted Rating'})\n",
    "\n",
    "        weighting_factor = sqrt(average_cosine_similarity)\n",
    "        df_merged_recommendations['Weighted Average'] = (df_merged_recommendations['SVD Predicted Rating'] * weighting_factor) + (df_merged_recommendations['MLP Predicted Rating'] * (1 - weighting_factor))\n",
    "    else:\n",
    "        df_merged_recommendations = pd.DataFrame(content_recommendations.reset_index())\n",
    "        df_merged_recommendations['Weighted Average'] = df_merged_recommendations['MLP Predicted Rating']\n",
    "\n",
    "    return df_merged_recommendations"
   ],
   "metadata": {
    "collapsed": false,
    "ExecuteTime": {
     "end_time": "2024-05-05T19:09:50.847192Z",
     "start_time": "2024-05-05T19:09:50.835347Z"
    }
   },
   "id": "5a16929467c12a02",
   "execution_count": 67
  },
  {
   "cell_type": "markdown",
   "source": [
    "### 5.1.2 Making Predictions\n",
    "\n",
    "The process for making predictions is shown as follows:\n",
    "1. Getting recommendations from SVD\n",
    "2. Getting recommendations from MLP\n",
    "3. Calculating weighting factor and returning the top-10 books to the target user"
   ],
   "metadata": {
    "collapsed": false
   },
   "id": "5a56c911099b57a4"
  },
  {
   "cell_type": "code",
   "outputs": [
    {
     "name": "stdout",
     "output_type": "stream",
     "text": [
      "\u001B[1m4675/4675\u001B[0m \u001B[32m━━━━━━━━━━━━━━━━━━━━\u001B[0m\u001B[37m\u001B[0m \u001B[1m3s\u001B[0m 559us/step\n"
     ]
    },
    {
     "data": {
      "text/plain": "              ISBN  MLP Predicted Rating  SVD Predicted Rating  \\\n0       0002005018              7.498726              7.798737   \n1       0060973129              7.494675              7.798737   \n2       0374157065              7.497916              7.798739   \n3       0399135782              7.303052              7.798737   \n4       0425176428              7.337968              7.798737   \n...            ...                   ...                   ...   \n149577  0395264707              7.952619              7.798737   \n149578  1845170423              7.499942              7.798737   \n149579  0449906736              7.508703              7.798737   \n149580  0440400988              7.578808              7.798737   \n149581  0525447644              7.494675              7.798737   \n\n        Weighted Average  \n0               7.530042  \n1               7.526414  \n2               7.529316  \n3               7.354793  \n4               7.386064  \n...                  ...  \n149577          7.936556  \n149578          7.531131  \n149579          7.538977  \n149580          7.601765  \n149581          7.526414  \n\n[149582 rows x 4 columns]",
      "text/html": "<div>\n<style scoped>\n    .dataframe tbody tr th:only-of-type {\n        vertical-align: middle;\n    }\n\n    .dataframe tbody tr th {\n        vertical-align: top;\n    }\n\n    .dataframe thead th {\n        text-align: right;\n    }\n</style>\n<table border=\"1\" class=\"dataframe\">\n  <thead>\n    <tr style=\"text-align: right;\">\n      <th></th>\n      <th>ISBN</th>\n      <th>MLP Predicted Rating</th>\n      <th>SVD Predicted Rating</th>\n      <th>Weighted Average</th>\n    </tr>\n  </thead>\n  <tbody>\n    <tr>\n      <th>0</th>\n      <td>0002005018</td>\n      <td>7.498726</td>\n      <td>7.798737</td>\n      <td>7.530042</td>\n    </tr>\n    <tr>\n      <th>1</th>\n      <td>0060973129</td>\n      <td>7.494675</td>\n      <td>7.798737</td>\n      <td>7.526414</td>\n    </tr>\n    <tr>\n      <th>2</th>\n      <td>0374157065</td>\n      <td>7.497916</td>\n      <td>7.798739</td>\n      <td>7.529316</td>\n    </tr>\n    <tr>\n      <th>3</th>\n      <td>0399135782</td>\n      <td>7.303052</td>\n      <td>7.798737</td>\n      <td>7.354793</td>\n    </tr>\n    <tr>\n      <th>4</th>\n      <td>0425176428</td>\n      <td>7.337968</td>\n      <td>7.798737</td>\n      <td>7.386064</td>\n    </tr>\n    <tr>\n      <th>...</th>\n      <td>...</td>\n      <td>...</td>\n      <td>...</td>\n      <td>...</td>\n    </tr>\n    <tr>\n      <th>149577</th>\n      <td>0395264707</td>\n      <td>7.952619</td>\n      <td>7.798737</td>\n      <td>7.936556</td>\n    </tr>\n    <tr>\n      <th>149578</th>\n      <td>1845170423</td>\n      <td>7.499942</td>\n      <td>7.798737</td>\n      <td>7.531131</td>\n    </tr>\n    <tr>\n      <th>149579</th>\n      <td>0449906736</td>\n      <td>7.508703</td>\n      <td>7.798737</td>\n      <td>7.538977</td>\n    </tr>\n    <tr>\n      <th>149580</th>\n      <td>0440400988</td>\n      <td>7.578808</td>\n      <td>7.798737</td>\n      <td>7.601765</td>\n    </tr>\n    <tr>\n      <th>149581</th>\n      <td>0525447644</td>\n      <td>7.494675</td>\n      <td>7.798737</td>\n      <td>7.526414</td>\n    </tr>\n  </tbody>\n</table>\n<p>149582 rows × 4 columns</p>\n</div>"
     },
     "execution_count": 68,
     "metadata": {},
     "output_type": "execute_result"
    }
   ],
   "source": [
    "target_user = 11676\n",
    "hybrid_recommendations = get_hybrid_recommendations(target_user)\n",
    "hybrid_recommendations"
   ],
   "metadata": {
    "collapsed": false,
    "ExecuteTime": {
     "end_time": "2024-05-05T19:10:03.721998Z",
     "start_time": "2024-05-05T19:09:54.318684Z"
    }
   },
   "id": "5c09b10f9754221b",
   "execution_count": 68
  },
  {
   "cell_type": "markdown",
   "source": [
    "### 5.1.3 Model Evaluation\n",
    "\n",
    "We evaluate the performance of the weighted hybrid model with Root Mean Square Error (RSME)\n",
    "Defining the function to evaluate the performance of the hybrid model"
   ],
   "metadata": {
    "collapsed": false
   },
   "id": "43eb74d299b15330"
  },
  {
   "cell_type": "code",
   "outputs": [],
   "source": [
    "def get_df_hybrid_evaluation(minimum_rating_count = 125):\n",
    "    df_hybrid_evaluation_predictions = pd.DataFrame()\n",
    "\n",
    "    evaluation_user_index = df_final.groupby('User-ID')['Book-Rating'].count()\n",
    "    hybrid_evaluation_users =  df_final[df_final['User-ID'].isin(evaluation_user_index[evaluation_user_index > minimum_rating_count].index)]\n",
    "\n",
    "    for user_id in hybrid_evaluation_users['User-ID'].unique():\n",
    "        single_hybrid_recommendation = get_hybrid_recommendations(user_id)\n",
    "        if single_hybrid_recommendation is None:\n",
    "            continue\n",
    "        single_hybrid_recommendation['User-ID'] = user_id\n",
    "        df_hybrid_evaluation_predictions = pd.concat([df_hybrid_evaluation_predictions, single_hybrid_recommendation], axis = 0)\n",
    "\n",
    "    df_hybrid_evaluation = pd.DataFrame(df_final[['ISBN','Book-Rating','User-ID']])\n",
    "    df_hybrid_evaluation = df_hybrid_evaluation.merge(df_hybrid_evaluation_predictions,on=['ISBN','User-ID'],how='inner')\n",
    "    return df_hybrid_evaluation"
   ],
   "metadata": {
    "collapsed": false,
    "ExecuteTime": {
     "end_time": "2024-05-05T19:10:47.744755Z",
     "start_time": "2024-05-05T19:10:47.729435Z"
    }
   },
   "id": "9593df1b98628884",
   "execution_count": 69
  },
  {
   "cell_type": "markdown",
   "source": [
    "We now evaluate the root mean square error (RMSE) of the hybrid model"
   ],
   "metadata": {
    "collapsed": false
   },
   "id": "566c760cdd18b04b"
  },
  {
   "cell_type": "code",
   "outputs": [
    {
     "name": "stdout",
     "output_type": "stream",
     "text": [
      "\u001B[1m4675/4675\u001B[0m \u001B[32m━━━━━━━━━━━━━━━━━━━━\u001B[0m\u001B[37m\u001B[0m \u001B[1m3s\u001B[0m 617us/step\n",
      "\u001B[1m4675/4675\u001B[0m \u001B[32m━━━━━━━━━━━━━━━━━━━━\u001B[0m\u001B[37m\u001B[0m \u001B[1m3s\u001B[0m 559us/step\n",
      "\u001B[1m4675/4675\u001B[0m \u001B[32m━━━━━━━━━━━━━━━━━━━━\u001B[0m\u001B[37m\u001B[0m \u001B[1m3s\u001B[0m 711us/step\n",
      "\u001B[1m4675/4675\u001B[0m \u001B[32m━━━━━━━━━━━━━━━━━━━━\u001B[0m\u001B[37m\u001B[0m \u001B[1m4s\u001B[0m 930us/step\n",
      "\u001B[1m4675/4675\u001B[0m \u001B[32m━━━━━━━━━━━━━━━━━━━━\u001B[0m\u001B[37m\u001B[0m \u001B[1m4s\u001B[0m 938us/step\n",
      "\u001B[1m4675/4675\u001B[0m \u001B[32m━━━━━━━━━━━━━━━━━━━━\u001B[0m\u001B[37m\u001B[0m \u001B[1m4s\u001B[0m 939us/step\n",
      "\u001B[1m4675/4675\u001B[0m \u001B[32m━━━━━━━━━━━━━━━━━━━━\u001B[0m\u001B[37m\u001B[0m \u001B[1m4s\u001B[0m 929us/step\n",
      "\u001B[1m4675/4675\u001B[0m \u001B[32m━━━━━━━━━━━━━━━━━━━━\u001B[0m\u001B[37m\u001B[0m \u001B[1m4s\u001B[0m 919us/step\n",
      "\u001B[1m4675/4675\u001B[0m \u001B[32m━━━━━━━━━━━━━━━━━━━━\u001B[0m\u001B[37m\u001B[0m \u001B[1m5s\u001B[0m 995us/step\n",
      "\u001B[1m4675/4675\u001B[0m \u001B[32m━━━━━━━━━━━━━━━━━━━━\u001B[0m\u001B[37m\u001B[0m \u001B[1m4s\u001B[0m 901us/step\n",
      "\u001B[1m4675/4675\u001B[0m \u001B[32m━━━━━━━━━━━━━━━━━━━━\u001B[0m\u001B[37m\u001B[0m \u001B[1m4s\u001B[0m 902us/step\n",
      "\u001B[1m4675/4675\u001B[0m \u001B[32m━━━━━━━━━━━━━━━━━━━━\u001B[0m\u001B[37m\u001B[0m \u001B[1m4s\u001B[0m 887us/step\n",
      "\u001B[1m4675/4675\u001B[0m \u001B[32m━━━━━━━━━━━━━━━━━━━━\u001B[0m\u001B[37m\u001B[0m \u001B[1m4s\u001B[0m 901us/step\n",
      "\u001B[1m4675/4675\u001B[0m \u001B[32m━━━━━━━━━━━━━━━━━━━━\u001B[0m\u001B[37m\u001B[0m \u001B[1m5s\u001B[0m 946us/step\n",
      "\u001B[1m4675/4675\u001B[0m \u001B[32m━━━━━━━━━━━━━━━━━━━━\u001B[0m\u001B[37m\u001B[0m \u001B[1m4s\u001B[0m 927us/step\n",
      "\u001B[1m4675/4675\u001B[0m \u001B[32m━━━━━━━━━━━━━━━━━━━━\u001B[0m\u001B[37m\u001B[0m \u001B[1m4s\u001B[0m 926us/step\n",
      "\u001B[1m4675/4675\u001B[0m \u001B[32m━━━━━━━━━━━━━━━━━━━━\u001B[0m\u001B[37m\u001B[0m \u001B[1m4s\u001B[0m 928us/step\n",
      "\u001B[1m4675/4675\u001B[0m \u001B[32m━━━━━━━━━━━━━━━━━━━━\u001B[0m\u001B[37m\u001B[0m \u001B[1m4s\u001B[0m 932us/step\n",
      "\u001B[1m4675/4675\u001B[0m \u001B[32m━━━━━━━━━━━━━━━━━━━━\u001B[0m\u001B[37m\u001B[0m \u001B[1m4s\u001B[0m 923us/step\n",
      "\u001B[1m4675/4675\u001B[0m \u001B[32m━━━━━━━━━━━━━━━━━━━━\u001B[0m\u001B[37m\u001B[0m \u001B[1m4s\u001B[0m 922us/step\n",
      "\u001B[1m4675/4675\u001B[0m \u001B[32m━━━━━━━━━━━━━━━━━━━━\u001B[0m\u001B[37m\u001B[0m \u001B[1m4s\u001B[0m 875us/step\n",
      "\u001B[1m4675/4675\u001B[0m \u001B[32m━━━━━━━━━━━━━━━━━━━━\u001B[0m\u001B[37m\u001B[0m \u001B[1m4s\u001B[0m 895us/step\n",
      "\u001B[1m4675/4675\u001B[0m \u001B[32m━━━━━━━━━━━━━━━━━━━━\u001B[0m\u001B[37m\u001B[0m \u001B[1m4s\u001B[0m 880us/step\n",
      "\u001B[1m4675/4675\u001B[0m \u001B[32m━━━━━━━━━━━━━━━━━━━━\u001B[0m\u001B[37m\u001B[0m \u001B[1m4s\u001B[0m 915us/step\n",
      "\u001B[1m4675/4675\u001B[0m \u001B[32m━━━━━━━━━━━━━━━━━━━━\u001B[0m\u001B[37m\u001B[0m \u001B[1m4s\u001B[0m 943us/step\n",
      "\u001B[1m4675/4675\u001B[0m \u001B[32m━━━━━━━━━━━━━━━━━━━━\u001B[0m\u001B[37m\u001B[0m \u001B[1m5s\u001B[0m 979us/step\n",
      "\u001B[1m4675/4675\u001B[0m \u001B[32m━━━━━━━━━━━━━━━━━━━━\u001B[0m\u001B[37m\u001B[0m \u001B[1m4s\u001B[0m 901us/step\n",
      "\u001B[1m4675/4675\u001B[0m \u001B[32m━━━━━━━━━━━━━━━━━━━━\u001B[0m\u001B[37m\u001B[0m \u001B[1m4s\u001B[0m 912us/step\n",
      "\u001B[1m4675/4675\u001B[0m \u001B[32m━━━━━━━━━━━━━━━━━━━━\u001B[0m\u001B[37m\u001B[0m \u001B[1m4s\u001B[0m 925us/step\n",
      "\u001B[1m4675/4675\u001B[0m \u001B[32m━━━━━━━━━━━━━━━━━━━━\u001B[0m\u001B[37m\u001B[0m \u001B[1m4s\u001B[0m 945us/step\n",
      "\u001B[1m4675/4675\u001B[0m \u001B[32m━━━━━━━━━━━━━━━━━━━━\u001B[0m\u001B[37m\u001B[0m \u001B[1m5s\u001B[0m 967us/step\n",
      "\u001B[1m4675/4675\u001B[0m \u001B[32m━━━━━━━━━━━━━━━━━━━━\u001B[0m\u001B[37m\u001B[0m \u001B[1m5s\u001B[0m 945us/step\n",
      "\u001B[1m4675/4675\u001B[0m \u001B[32m━━━━━━━━━━━━━━━━━━━━\u001B[0m\u001B[37m\u001B[0m \u001B[1m4s\u001B[0m 914us/step\n",
      "\u001B[1m4675/4675\u001B[0m \u001B[32m━━━━━━━━━━━━━━━━━━━━\u001B[0m\u001B[37m\u001B[0m \u001B[1m5s\u001B[0m 946us/step\n",
      "\u001B[1m4675/4675\u001B[0m \u001B[32m━━━━━━━━━━━━━━━━━━━━\u001B[0m\u001B[37m\u001B[0m \u001B[1m4s\u001B[0m 916us/step\n",
      "\u001B[1m4675/4675\u001B[0m \u001B[32m━━━━━━━━━━━━━━━━━━━━\u001B[0m\u001B[37m\u001B[0m \u001B[1m4s\u001B[0m 905us/step\n",
      "\u001B[1m4675/4675\u001B[0m \u001B[32m━━━━━━━━━━━━━━━━━━━━\u001B[0m\u001B[37m\u001B[0m \u001B[1m4s\u001B[0m 899us/step\n",
      "\u001B[1m4675/4675\u001B[0m \u001B[32m━━━━━━━━━━━━━━━━━━━━\u001B[0m\u001B[37m\u001B[0m \u001B[1m4s\u001B[0m 894us/step\n",
      "\u001B[1m4675/4675\u001B[0m \u001B[32m━━━━━━━━━━━━━━━━━━━━\u001B[0m\u001B[37m\u001B[0m \u001B[1m4s\u001B[0m 899us/step\n",
      "\u001B[1m4675/4675\u001B[0m \u001B[32m━━━━━━━━━━━━━━━━━━━━\u001B[0m\u001B[37m\u001B[0m \u001B[1m5s\u001B[0m 984us/step\n",
      "\u001B[1m4675/4675\u001B[0m \u001B[32m━━━━━━━━━━━━━━━━━━━━\u001B[0m\u001B[37m\u001B[0m \u001B[1m4s\u001B[0m 890us/step\n",
      "\u001B[1m4675/4675\u001B[0m \u001B[32m━━━━━━━━━━━━━━━━━━━━\u001B[0m\u001B[37m\u001B[0m \u001B[1m4s\u001B[0m 950us/step\n",
      "\u001B[1m4675/4675\u001B[0m \u001B[32m━━━━━━━━━━━━━━━━━━━━\u001B[0m\u001B[37m\u001B[0m \u001B[1m4s\u001B[0m 929us/step\n",
      "\u001B[1m4675/4675\u001B[0m \u001B[32m━━━━━━━━━━━━━━━━━━━━\u001B[0m\u001B[37m\u001B[0m \u001B[1m5s\u001B[0m 956us/step\n",
      "\u001B[1m4675/4675\u001B[0m \u001B[32m━━━━━━━━━━━━━━━━━━━━\u001B[0m\u001B[37m\u001B[0m \u001B[1m4s\u001B[0m 920us/step\n",
      "\u001B[1m4675/4675\u001B[0m \u001B[32m━━━━━━━━━━━━━━━━━━━━\u001B[0m\u001B[37m\u001B[0m \u001B[1m4s\u001B[0m 916us/step\n",
      "\u001B[1m4675/4675\u001B[0m \u001B[32m━━━━━━━━━━━━━━━━━━━━\u001B[0m\u001B[37m\u001B[0m \u001B[1m4s\u001B[0m 925us/step\n",
      "\u001B[1m4675/4675\u001B[0m \u001B[32m━━━━━━━━━━━━━━━━━━━━\u001B[0m\u001B[37m\u001B[0m \u001B[1m5s\u001B[0m 962us/step\n",
      "\u001B[1m4675/4675\u001B[0m \u001B[32m━━━━━━━━━━━━━━━━━━━━\u001B[0m\u001B[37m\u001B[0m \u001B[1m5s\u001B[0m 954us/step\n",
      "\u001B[1m4675/4675\u001B[0m \u001B[32m━━━━━━━━━━━━━━━━━━━━\u001B[0m\u001B[37m\u001B[0m \u001B[1m4s\u001B[0m 924us/step\n",
      "\u001B[1m4675/4675\u001B[0m \u001B[32m━━━━━━━━━━━━━━━━━━━━\u001B[0m\u001B[37m\u001B[0m \u001B[1m4s\u001B[0m 906us/step\n",
      "\u001B[1m4675/4675\u001B[0m \u001B[32m━━━━━━━━━━━━━━━━━━━━\u001B[0m\u001B[37m\u001B[0m \u001B[1m5s\u001B[0m 966us/step\n",
      "\u001B[1m4675/4675\u001B[0m \u001B[32m━━━━━━━━━━━━━━━━━━━━\u001B[0m\u001B[37m\u001B[0m \u001B[1m4s\u001B[0m 891us/step\n",
      "\u001B[1m4675/4675\u001B[0m \u001B[32m━━━━━━━━━━━━━━━━━━━━\u001B[0m\u001B[37m\u001B[0m \u001B[1m4s\u001B[0m 885us/step\n",
      "\u001B[1m4675/4675\u001B[0m \u001B[32m━━━━━━━━━━━━━━━━━━━━\u001B[0m\u001B[37m\u001B[0m \u001B[1m5s\u001B[0m 956us/step\n",
      "\u001B[1m4675/4675\u001B[0m \u001B[32m━━━━━━━━━━━━━━━━━━━━\u001B[0m\u001B[37m\u001B[0m \u001B[1m5s\u001B[0m 945us/step\n",
      "\u001B[1m4675/4675\u001B[0m \u001B[32m━━━━━━━━━━━━━━━━━━━━\u001B[0m\u001B[37m\u001B[0m \u001B[1m4s\u001B[0m 924us/step\n",
      "\u001B[1m4675/4675\u001B[0m \u001B[32m━━━━━━━━━━━━━━━━━━━━\u001B[0m\u001B[37m\u001B[0m \u001B[1m4s\u001B[0m 940us/step\n",
      "\u001B[1m4675/4675\u001B[0m \u001B[32m━━━━━━━━━━━━━━━━━━━━\u001B[0m\u001B[37m\u001B[0m \u001B[1m4s\u001B[0m 912us/step\n",
      "\u001B[1m4675/4675\u001B[0m \u001B[32m━━━━━━━━━━━━━━━━━━━━\u001B[0m\u001B[37m\u001B[0m \u001B[1m5s\u001B[0m 949us/step\n",
      "\u001B[1m4675/4675\u001B[0m \u001B[32m━━━━━━━━━━━━━━━━━━━━\u001B[0m\u001B[37m\u001B[0m \u001B[1m5s\u001B[0m 984us/step\n",
      "\u001B[1m4675/4675\u001B[0m \u001B[32m━━━━━━━━━━━━━━━━━━━━\u001B[0m\u001B[37m\u001B[0m \u001B[1m4s\u001B[0m 920us/step\n",
      "\u001B[1m4675/4675\u001B[0m \u001B[32m━━━━━━━━━━━━━━━━━━━━\u001B[0m\u001B[37m\u001B[0m \u001B[1m4s\u001B[0m 911us/step\n",
      "\u001B[1m4675/4675\u001B[0m \u001B[32m━━━━━━━━━━━━━━━━━━━━\u001B[0m\u001B[37m\u001B[0m \u001B[1m4s\u001B[0m 934us/step\n",
      "\u001B[1m4675/4675\u001B[0m \u001B[32m━━━━━━━━━━━━━━━━━━━━\u001B[0m\u001B[37m\u001B[0m \u001B[1m5s\u001B[0m 1ms/step\n",
      "\u001B[1m4675/4675\u001B[0m \u001B[32m━━━━━━━━━━━━━━━━━━━━\u001B[0m\u001B[37m\u001B[0m \u001B[1m5s\u001B[0m 966us/step\n",
      "\u001B[1m4675/4675\u001B[0m \u001B[32m━━━━━━━━━━━━━━━━━━━━\u001B[0m\u001B[37m\u001B[0m \u001B[1m3s\u001B[0m 552us/step\n",
      "\u001B[1m4675/4675\u001B[0m \u001B[32m━━━━━━━━━━━━━━━━━━━━\u001B[0m\u001B[37m\u001B[0m \u001B[1m4s\u001B[0m 885us/step\n",
      "\u001B[1m4675/4675\u001B[0m \u001B[32m━━━━━━━━━━━━━━━━━━━━\u001B[0m\u001B[37m\u001B[0m \u001B[1m4s\u001B[0m 907us/step\n",
      "\u001B[1m4675/4675\u001B[0m \u001B[32m━━━━━━━━━━━━━━━━━━━━\u001B[0m\u001B[37m\u001B[0m \u001B[1m4s\u001B[0m 942us/step\n",
      "\u001B[1m4675/4675\u001B[0m \u001B[32m━━━━━━━━━━━━━━━━━━━━\u001B[0m\u001B[37m\u001B[0m \u001B[1m4s\u001B[0m 934us/step\n",
      "\u001B[1m4675/4675\u001B[0m \u001B[32m━━━━━━━━━━━━━━━━━━━━\u001B[0m\u001B[37m\u001B[0m \u001B[1m4s\u001B[0m 908us/step\n",
      "\u001B[1m4675/4675\u001B[0m \u001B[32m━━━━━━━━━━━━━━━━━━━━\u001B[0m\u001B[37m\u001B[0m \u001B[1m4s\u001B[0m 948us/step\n",
      "\u001B[1m4675/4675\u001B[0m \u001B[32m━━━━━━━━━━━━━━━━━━━━\u001B[0m\u001B[37m\u001B[0m \u001B[1m5s\u001B[0m 947us/step\n",
      "\u001B[1m4675/4675\u001B[0m \u001B[32m━━━━━━━━━━━━━━━━━━━━\u001B[0m\u001B[37m\u001B[0m \u001B[1m4s\u001B[0m 926us/step\n",
      "\u001B[1m4675/4675\u001B[0m \u001B[32m━━━━━━━━━━━━━━━━━━━━\u001B[0m\u001B[37m\u001B[0m \u001B[1m4s\u001B[0m 911us/step\n",
      "\u001B[1m4675/4675\u001B[0m \u001B[32m━━━━━━━━━━━━━━━━━━━━\u001B[0m\u001B[37m\u001B[0m \u001B[1m4s\u001B[0m 916us/step\n",
      "\u001B[1m4675/4675\u001B[0m \u001B[32m━━━━━━━━━━━━━━━━━━━━\u001B[0m\u001B[37m\u001B[0m \u001B[1m4s\u001B[0m 909us/step\n",
      "\u001B[1m4675/4675\u001B[0m \u001B[32m━━━━━━━━━━━━━━━━━━━━\u001B[0m\u001B[37m\u001B[0m \u001B[1m3s\u001B[0m 657us/step\n",
      "\u001B[1m4675/4675\u001B[0m \u001B[32m━━━━━━━━━━━━━━━━━━━━\u001B[0m\u001B[37m\u001B[0m \u001B[1m3s\u001B[0m 578us/step\n",
      "\u001B[1m4675/4675\u001B[0m \u001B[32m━━━━━━━━━━━━━━━━━━━━\u001B[0m\u001B[37m\u001B[0m \u001B[1m3s\u001B[0m 549us/step\n",
      "\u001B[1m4675/4675\u001B[0m \u001B[32m━━━━━━━━━━━━━━━━━━━━\u001B[0m\u001B[37m\u001B[0m \u001B[1m4s\u001B[0m 838us/step\n",
      "\u001B[1m4675/4675\u001B[0m \u001B[32m━━━━━━━━━━━━━━━━━━━━\u001B[0m\u001B[37m\u001B[0m \u001B[1m4s\u001B[0m 902us/step\n",
      "\u001B[1m4675/4675\u001B[0m \u001B[32m━━━━━━━━━━━━━━━━━━━━\u001B[0m\u001B[37m\u001B[0m \u001B[1m4s\u001B[0m 878us/step\n",
      "\u001B[1m4675/4675\u001B[0m \u001B[32m━━━━━━━━━━━━━━━━━━━━\u001B[0m\u001B[37m\u001B[0m \u001B[1m5s\u001B[0m 948us/step\n",
      "\u001B[1m4675/4675\u001B[0m \u001B[32m━━━━━━━━━━━━━━━━━━━━\u001B[0m\u001B[37m\u001B[0m \u001B[1m4s\u001B[0m 911us/step\n",
      "\u001B[1m4675/4675\u001B[0m \u001B[32m━━━━━━━━━━━━━━━━━━━━\u001B[0m\u001B[37m\u001B[0m \u001B[1m4s\u001B[0m 892us/step\n",
      "\u001B[1m4675/4675\u001B[0m \u001B[32m━━━━━━━━━━━━━━━━━━━━\u001B[0m\u001B[37m\u001B[0m \u001B[1m5s\u001B[0m 975us/step\n",
      "\u001B[1m4675/4675\u001B[0m \u001B[32m━━━━━━━━━━━━━━━━━━━━\u001B[0m\u001B[37m\u001B[0m \u001B[1m4s\u001B[0m 911us/step\n",
      "\u001B[1m4675/4675\u001B[0m \u001B[32m━━━━━━━━━━━━━━━━━━━━\u001B[0m\u001B[37m\u001B[0m \u001B[1m4s\u001B[0m 900us/step\n",
      "\u001B[1m4675/4675\u001B[0m \u001B[32m━━━━━━━━━━━━━━━━━━━━\u001B[0m\u001B[37m\u001B[0m \u001B[1m4s\u001B[0m 909us/step\n",
      "\u001B[1m4675/4675\u001B[0m \u001B[32m━━━━━━━━━━━━━━━━━━━━\u001B[0m\u001B[37m\u001B[0m \u001B[1m4s\u001B[0m 897us/step\n",
      "\u001B[1m4675/4675\u001B[0m \u001B[32m━━━━━━━━━━━━━━━━━━━━\u001B[0m\u001B[37m\u001B[0m \u001B[1m4s\u001B[0m 891us/step\n",
      "\u001B[1m4675/4675\u001B[0m \u001B[32m━━━━━━━━━━━━━━━━━━━━\u001B[0m\u001B[37m\u001B[0m \u001B[1m4s\u001B[0m 886us/step\n",
      "\u001B[1m4675/4675\u001B[0m \u001B[32m━━━━━━━━━━━━━━━━━━━━\u001B[0m\u001B[37m\u001B[0m \u001B[1m4s\u001B[0m 893us/step\n",
      "\u001B[1m4675/4675\u001B[0m \u001B[32m━━━━━━━━━━━━━━━━━━━━\u001B[0m\u001B[37m\u001B[0m \u001B[1m4s\u001B[0m 900us/step\n",
      "\u001B[1m4675/4675\u001B[0m \u001B[32m━━━━━━━━━━━━━━━━━━━━\u001B[0m\u001B[37m\u001B[0m \u001B[1m4s\u001B[0m 898us/step\n",
      "\u001B[1m4675/4675\u001B[0m \u001B[32m━━━━━━━━━━━━━━━━━━━━\u001B[0m\u001B[37m\u001B[0m \u001B[1m4s\u001B[0m 880us/step\n",
      "\u001B[1m4675/4675\u001B[0m \u001B[32m━━━━━━━━━━━━━━━━━━━━\u001B[0m\u001B[37m\u001B[0m \u001B[1m4s\u001B[0m 895us/step\n",
      "\u001B[1m4675/4675\u001B[0m \u001B[32m━━━━━━━━━━━━━━━━━━━━\u001B[0m\u001B[37m\u001B[0m \u001B[1m4s\u001B[0m 930us/step\n",
      "\u001B[1m4675/4675\u001B[0m \u001B[32m━━━━━━━━━━━━━━━━━━━━\u001B[0m\u001B[37m\u001B[0m \u001B[1m4s\u001B[0m 909us/step\n",
      "\u001B[1m4675/4675\u001B[0m \u001B[32m━━━━━━━━━━━━━━━━━━━━\u001B[0m\u001B[37m\u001B[0m \u001B[1m5s\u001B[0m 1ms/step\n",
      "\u001B[1m4675/4675\u001B[0m \u001B[32m━━━━━━━━━━━━━━━━━━━━\u001B[0m\u001B[37m\u001B[0m \u001B[1m4s\u001B[0m 930us/step\n",
      "\u001B[1m4675/4675\u001B[0m \u001B[32m━━━━━━━━━━━━━━━━━━━━\u001B[0m\u001B[37m\u001B[0m \u001B[1m4s\u001B[0m 866us/step\n",
      "\u001B[1m4675/4675\u001B[0m \u001B[32m━━━━━━━━━━━━━━━━━━━━\u001B[0m\u001B[37m\u001B[0m \u001B[1m3s\u001B[0m 592us/step\n",
      "\u001B[1m4675/4675\u001B[0m \u001B[32m━━━━━━━━━━━━━━━━━━━━\u001B[0m\u001B[37m\u001B[0m \u001B[1m3s\u001B[0m 590us/step\n",
      "\u001B[1m4675/4675\u001B[0m \u001B[32m━━━━━━━━━━━━━━━━━━━━\u001B[0m\u001B[37m\u001B[0m \u001B[1m2s\u001B[0m 493us/step\n",
      "\u001B[1m4675/4675\u001B[0m \u001B[32m━━━━━━━━━━━━━━━━━━━━\u001B[0m\u001B[37m\u001B[0m \u001B[1m2s\u001B[0m 492us/step\n",
      "\u001B[1m4675/4675\u001B[0m \u001B[32m━━━━━━━━━━━━━━━━━━━━\u001B[0m\u001B[37m\u001B[0m \u001B[1m3s\u001B[0m 543us/step\n",
      "\u001B[1m4675/4675\u001B[0m \u001B[32m━━━━━━━━━━━━━━━━━━━━\u001B[0m\u001B[37m\u001B[0m \u001B[1m3s\u001B[0m 554us/step\n",
      "\u001B[1m4675/4675\u001B[0m \u001B[32m━━━━━━━━━━━━━━━━━━━━\u001B[0m\u001B[37m\u001B[0m \u001B[1m3s\u001B[0m 556us/step\n",
      "\u001B[1m4675/4675\u001B[0m \u001B[32m━━━━━━━━━━━━━━━━━━━━\u001B[0m\u001B[37m\u001B[0m \u001B[1m3s\u001B[0m 567us/step\n",
      "\u001B[1m4675/4675\u001B[0m \u001B[32m━━━━━━━━━━━━━━━━━━━━\u001B[0m\u001B[37m\u001B[0m \u001B[1m3s\u001B[0m 564us/step\n",
      "\u001B[1m4675/4675\u001B[0m \u001B[32m━━━━━━━━━━━━━━━━━━━━\u001B[0m\u001B[37m\u001B[0m \u001B[1m2s\u001B[0m 508us/step\n",
      "\u001B[1m4675/4675\u001B[0m \u001B[32m━━━━━━━━━━━━━━━━━━━━\u001B[0m\u001B[37m\u001B[0m \u001B[1m3s\u001B[0m 567us/step\n",
      "\u001B[1m4675/4675\u001B[0m \u001B[32m━━━━━━━━━━━━━━━━━━━━\u001B[0m\u001B[37m\u001B[0m \u001B[1m2s\u001B[0m 507us/step\n",
      "\u001B[1m4675/4675\u001B[0m \u001B[32m━━━━━━━━━━━━━━━━━━━━\u001B[0m\u001B[37m\u001B[0m \u001B[1m3s\u001B[0m 540us/step\n",
      "\u001B[1m4675/4675\u001B[0m \u001B[32m━━━━━━━━━━━━━━━━━━━━\u001B[0m\u001B[37m\u001B[0m \u001B[1m3s\u001B[0m 647us/step\n",
      "\u001B[1m4675/4675\u001B[0m \u001B[32m━━━━━━━━━━━━━━━━━━━━\u001B[0m\u001B[37m\u001B[0m \u001B[1m2s\u001B[0m 518us/step\n",
      "\u001B[1m4675/4675\u001B[0m \u001B[32m━━━━━━━━━━━━━━━━━━━━\u001B[0m\u001B[37m\u001B[0m \u001B[1m3s\u001B[0m 613us/step\n",
      "\u001B[1m4675/4675\u001B[0m \u001B[32m━━━━━━━━━━━━━━━━━━━━\u001B[0m\u001B[37m\u001B[0m \u001B[1m3s\u001B[0m 541us/step\n",
      "\u001B[1m4675/4675\u001B[0m \u001B[32m━━━━━━━━━━━━━━━━━━━━\u001B[0m\u001B[37m\u001B[0m \u001B[1m3s\u001B[0m 575us/step\n",
      "\u001B[1m4675/4675\u001B[0m \u001B[32m━━━━━━━━━━━━━━━━━━━━\u001B[0m\u001B[37m\u001B[0m \u001B[1m3s\u001B[0m 552us/step\n",
      "\u001B[1m4675/4675\u001B[0m \u001B[32m━━━━━━━━━━━━━━━━━━━━\u001B[0m\u001B[37m\u001B[0m \u001B[1m2s\u001B[0m 511us/step\n",
      "\u001B[1m4675/4675\u001B[0m \u001B[32m━━━━━━━━━━━━━━━━━━━━\u001B[0m\u001B[37m\u001B[0m \u001B[1m3s\u001B[0m 526us/step\n",
      "\u001B[1m4675/4675\u001B[0m \u001B[32m━━━━━━━━━━━━━━━━━━━━\u001B[0m\u001B[37m\u001B[0m \u001B[1m2s\u001B[0m 499us/step\n",
      "\u001B[1m4675/4675\u001B[0m \u001B[32m━━━━━━━━━━━━━━━━━━━━\u001B[0m\u001B[37m\u001B[0m \u001B[1m2s\u001B[0m 504us/step\n",
      "\u001B[1m4675/4675\u001B[0m \u001B[32m━━━━━━━━━━━━━━━━━━━━\u001B[0m\u001B[37m\u001B[0m \u001B[1m2s\u001B[0m 520us/step\n",
      "\u001B[1m4675/4675\u001B[0m \u001B[32m━━━━━━━━━━━━━━━━━━━━\u001B[0m\u001B[37m\u001B[0m \u001B[1m3s\u001B[0m 567us/step\n",
      "\u001B[1m4675/4675\u001B[0m \u001B[32m━━━━━━━━━━━━━━━━━━━━\u001B[0m\u001B[37m\u001B[0m \u001B[1m3s\u001B[0m 549us/step\n",
      "\u001B[1m4675/4675\u001B[0m \u001B[32m━━━━━━━━━━━━━━━━━━━━\u001B[0m\u001B[37m\u001B[0m \u001B[1m2s\u001B[0m 508us/step\n",
      "\u001B[1m4675/4675\u001B[0m \u001B[32m━━━━━━━━━━━━━━━━━━━━\u001B[0m\u001B[37m\u001B[0m \u001B[1m3s\u001B[0m 583us/step\n",
      "\u001B[1m4675/4675\u001B[0m \u001B[32m━━━━━━━━━━━━━━━━━━━━\u001B[0m\u001B[37m\u001B[0m \u001B[1m3s\u001B[0m 539us/step\n",
      "\u001B[1m4675/4675\u001B[0m \u001B[32m━━━━━━━━━━━━━━━━━━━━\u001B[0m\u001B[37m\u001B[0m \u001B[1m2s\u001B[0m 486us/step\n",
      "\u001B[1m4675/4675\u001B[0m \u001B[32m━━━━━━━━━━━━━━━━━━━━\u001B[0m\u001B[37m\u001B[0m \u001B[1m2s\u001B[0m 505us/step\n",
      "\u001B[1m4675/4675\u001B[0m \u001B[32m━━━━━━━━━━━━━━━━━━━━\u001B[0m\u001B[37m\u001B[0m \u001B[1m2s\u001B[0m 485us/step\n",
      "\u001B[1m4675/4675\u001B[0m \u001B[32m━━━━━━━━━━━━━━━━━━━━\u001B[0m\u001B[37m\u001B[0m \u001B[1m2s\u001B[0m 483us/step\n",
      "\u001B[1m4675/4675\u001B[0m \u001B[32m━━━━━━━━━━━━━━━━━━━━\u001B[0m\u001B[37m\u001B[0m \u001B[1m2s\u001B[0m 492us/step\n",
      "\u001B[1m4675/4675\u001B[0m \u001B[32m━━━━━━━━━━━━━━━━━━━━\u001B[0m\u001B[37m\u001B[0m \u001B[1m2s\u001B[0m 484us/step\n",
      "\u001B[1m4675/4675\u001B[0m \u001B[32m━━━━━━━━━━━━━━━━━━━━\u001B[0m\u001B[37m\u001B[0m \u001B[1m2s\u001B[0m 479us/step\n",
      "\u001B[1m4675/4675\u001B[0m \u001B[32m━━━━━━━━━━━━━━━━━━━━\u001B[0m\u001B[37m\u001B[0m \u001B[1m2s\u001B[0m 481us/step\n",
      "\u001B[1m4675/4675\u001B[0m \u001B[32m━━━━━━━━━━━━━━━━━━━━\u001B[0m\u001B[37m\u001B[0m \u001B[1m2s\u001B[0m 478us/step\n",
      "\u001B[1m4675/4675\u001B[0m \u001B[32m━━━━━━━━━━━━━━━━━━━━\u001B[0m\u001B[37m\u001B[0m \u001B[1m2s\u001B[0m 497us/step\n",
      "\u001B[1m4675/4675\u001B[0m \u001B[32m━━━━━━━━━━━━━━━━━━━━\u001B[0m\u001B[37m\u001B[0m \u001B[1m3s\u001B[0m 525us/step\n",
      "\u001B[1m4675/4675\u001B[0m \u001B[32m━━━━━━━━━━━━━━━━━━━━\u001B[0m\u001B[37m\u001B[0m \u001B[1m2s\u001B[0m 487us/step\n",
      "\u001B[1m4675/4675\u001B[0m \u001B[32m━━━━━━━━━━━━━━━━━━━━\u001B[0m\u001B[37m\u001B[0m \u001B[1m3s\u001B[0m 716us/step\n",
      "\u001B[1m4675/4675\u001B[0m \u001B[32m━━━━━━━━━━━━━━━━━━━━\u001B[0m\u001B[37m\u001B[0m \u001B[1m3s\u001B[0m 540us/step\n",
      "\u001B[1m4675/4675\u001B[0m \u001B[32m━━━━━━━━━━━━━━━━━━━━\u001B[0m\u001B[37m\u001B[0m \u001B[1m3s\u001B[0m 546us/step\n",
      "\u001B[1m4675/4675\u001B[0m \u001B[32m━━━━━━━━━━━━━━━━━━━━\u001B[0m\u001B[37m\u001B[0m \u001B[1m3s\u001B[0m 530us/step\n",
      "\u001B[1m4675/4675\u001B[0m \u001B[32m━━━━━━━━━━━━━━━━━━━━\u001B[0m\u001B[37m\u001B[0m \u001B[1m3s\u001B[0m 597us/step\n",
      "\u001B[1m4675/4675\u001B[0m \u001B[32m━━━━━━━━━━━━━━━━━━━━\u001B[0m\u001B[37m\u001B[0m \u001B[1m3s\u001B[0m 548us/step\n",
      "\u001B[1m4675/4675\u001B[0m \u001B[32m━━━━━━━━━━━━━━━━━━━━\u001B[0m\u001B[37m\u001B[0m \u001B[1m3s\u001B[0m 547us/step\n",
      "\u001B[1m4675/4675\u001B[0m \u001B[32m━━━━━━━━━━━━━━━━━━━━\u001B[0m\u001B[37m\u001B[0m \u001B[1m2s\u001B[0m 485us/step\n",
      "\u001B[1m4675/4675\u001B[0m \u001B[32m━━━━━━━━━━━━━━━━━━━━\u001B[0m\u001B[37m\u001B[0m \u001B[1m2s\u001B[0m 484us/step\n",
      "\u001B[1m4675/4675\u001B[0m \u001B[32m━━━━━━━━━━━━━━━━━━━━\u001B[0m\u001B[37m\u001B[0m \u001B[1m2s\u001B[0m 494us/step\n",
      "\u001B[1m4675/4675\u001B[0m \u001B[32m━━━━━━━━━━━━━━━━━━━━\u001B[0m\u001B[37m\u001B[0m \u001B[1m2s\u001B[0m 503us/step\n",
      "\u001B[1m4675/4675\u001B[0m \u001B[32m━━━━━━━━━━━━━━━━━━━━\u001B[0m\u001B[37m\u001B[0m \u001B[1m3s\u001B[0m 554us/step\n",
      "\u001B[1m4675/4675\u001B[0m \u001B[32m━━━━━━━━━━━━━━━━━━━━\u001B[0m\u001B[37m\u001B[0m \u001B[1m3s\u001B[0m 631us/step\n",
      "\u001B[1m4675/4675\u001B[0m \u001B[32m━━━━━━━━━━━━━━━━━━━━\u001B[0m\u001B[37m\u001B[0m \u001B[1m4s\u001B[0m 900us/step\n",
      "\u001B[1m4675/4675\u001B[0m \u001B[32m━━━━━━━━━━━━━━━━━━━━\u001B[0m\u001B[37m\u001B[0m \u001B[1m5s\u001B[0m 953us/step\n",
      "\u001B[1m4675/4675\u001B[0m \u001B[32m━━━━━━━━━━━━━━━━━━━━\u001B[0m\u001B[37m\u001B[0m \u001B[1m4s\u001B[0m 895us/step\n",
      "\u001B[1m4675/4675\u001B[0m \u001B[32m━━━━━━━━━━━━━━━━━━━━\u001B[0m\u001B[37m\u001B[0m \u001B[1m4s\u001B[0m 907us/step\n",
      "\u001B[1m4675/4675\u001B[0m \u001B[32m━━━━━━━━━━━━━━━━━━━━\u001B[0m\u001B[37m\u001B[0m \u001B[1m4s\u001B[0m 892us/step\n",
      "\u001B[1m4675/4675\u001B[0m \u001B[32m━━━━━━━━━━━━━━━━━━━━\u001B[0m\u001B[37m\u001B[0m \u001B[1m4s\u001B[0m 871us/step\n",
      "\u001B[1m4675/4675\u001B[0m \u001B[32m━━━━━━━━━━━━━━━━━━━━\u001B[0m\u001B[37m\u001B[0m \u001B[1m4s\u001B[0m 925us/step\n",
      "\u001B[1m4675/4675\u001B[0m \u001B[32m━━━━━━━━━━━━━━━━━━━━\u001B[0m\u001B[37m\u001B[0m \u001B[1m4s\u001B[0m 886us/step\n",
      "\u001B[1m4675/4675\u001B[0m \u001B[32m━━━━━━━━━━━━━━━━━━━━\u001B[0m\u001B[37m\u001B[0m \u001B[1m4s\u001B[0m 906us/step\n",
      "\u001B[1m4675/4675\u001B[0m \u001B[32m━━━━━━━━━━━━━━━━━━━━\u001B[0m\u001B[37m\u001B[0m \u001B[1m4s\u001B[0m 920us/step\n",
      "\u001B[1m4675/4675\u001B[0m \u001B[32m━━━━━━━━━━━━━━━━━━━━\u001B[0m\u001B[37m\u001B[0m \u001B[1m5s\u001B[0m 990us/step\n",
      "\u001B[1m4675/4675\u001B[0m \u001B[32m━━━━━━━━━━━━━━━━━━━━\u001B[0m\u001B[37m\u001B[0m \u001B[1m4s\u001B[0m 890us/step\n",
      "\u001B[1m4675/4675\u001B[0m \u001B[32m━━━━━━━━━━━━━━━━━━━━\u001B[0m\u001B[37m\u001B[0m \u001B[1m4s\u001B[0m 893us/step\n",
      "\u001B[1m4675/4675\u001B[0m \u001B[32m━━━━━━━━━━━━━━━━━━━━\u001B[0m\u001B[37m\u001B[0m \u001B[1m4s\u001B[0m 898us/step\n",
      "\u001B[1m4675/4675\u001B[0m \u001B[32m━━━━━━━━━━━━━━━━━━━━\u001B[0m\u001B[37m\u001B[0m \u001B[1m4s\u001B[0m 867us/step\n",
      "\u001B[1m4675/4675\u001B[0m \u001B[32m━━━━━━━━━━━━━━━━━━━━\u001B[0m\u001B[37m\u001B[0m \u001B[1m4s\u001B[0m 898us/step\n",
      "\u001B[1m4675/4675\u001B[0m \u001B[32m━━━━━━━━━━━━━━━━━━━━\u001B[0m\u001B[37m\u001B[0m \u001B[1m4s\u001B[0m 873us/step\n",
      "\u001B[1m4675/4675\u001B[0m \u001B[32m━━━━━━━━━━━━━━━━━━━━\u001B[0m\u001B[37m\u001B[0m \u001B[1m4s\u001B[0m 901us/step\n",
      "\u001B[1m4675/4675\u001B[0m \u001B[32m━━━━━━━━━━━━━━━━━━━━\u001B[0m\u001B[37m\u001B[0m \u001B[1m5s\u001B[0m 955us/step\n",
      "\u001B[1m4675/4675\u001B[0m \u001B[32m━━━━━━━━━━━━━━━━━━━━\u001B[0m\u001B[37m\u001B[0m \u001B[1m4s\u001B[0m 929us/step\n",
      "\u001B[1m4675/4675\u001B[0m \u001B[32m━━━━━━━━━━━━━━━━━━━━\u001B[0m\u001B[37m\u001B[0m \u001B[1m4s\u001B[0m 915us/step\n",
      "\u001B[1m4675/4675\u001B[0m \u001B[32m━━━━━━━━━━━━━━━━━━━━\u001B[0m\u001B[37m\u001B[0m \u001B[1m4s\u001B[0m 925us/step\n",
      "\u001B[1m4675/4675\u001B[0m \u001B[32m━━━━━━━━━━━━━━━━━━━━\u001B[0m\u001B[37m\u001B[0m \u001B[1m5s\u001B[0m 939us/step\n",
      "\u001B[1m4675/4675\u001B[0m \u001B[32m━━━━━━━━━━━━━━━━━━━━\u001B[0m\u001B[37m\u001B[0m \u001B[1m5s\u001B[0m 969us/step\n",
      "\u001B[1m4675/4675\u001B[0m \u001B[32m━━━━━━━━━━━━━━━━━━━━\u001B[0m\u001B[37m\u001B[0m \u001B[1m4s\u001B[0m 902us/step\n",
      "\u001B[1m4675/4675\u001B[0m \u001B[32m━━━━━━━━━━━━━━━━━━━━\u001B[0m\u001B[37m\u001B[0m \u001B[1m4s\u001B[0m 914us/step\n",
      "\u001B[1m4675/4675\u001B[0m \u001B[32m━━━━━━━━━━━━━━━━━━━━\u001B[0m\u001B[37m\u001B[0m \u001B[1m5s\u001B[0m 974us/step\n",
      "\u001B[1m4675/4675\u001B[0m \u001B[32m━━━━━━━━━━━━━━━━━━━━\u001B[0m\u001B[37m\u001B[0m \u001B[1m4s\u001B[0m 932us/step\n",
      "\u001B[1m4675/4675\u001B[0m \u001B[32m━━━━━━━━━━━━━━━━━━━━\u001B[0m\u001B[37m\u001B[0m \u001B[1m4s\u001B[0m 920us/step\n",
      "\u001B[1m4675/4675\u001B[0m \u001B[32m━━━━━━━━━━━━━━━━━━━━\u001B[0m\u001B[37m\u001B[0m \u001B[1m4s\u001B[0m 889us/step\n",
      "\u001B[1m4675/4675\u001B[0m \u001B[32m━━━━━━━━━━━━━━━━━━━━\u001B[0m\u001B[37m\u001B[0m \u001B[1m4s\u001B[0m 877us/step\n",
      "\u001B[1m4675/4675\u001B[0m \u001B[32m━━━━━━━━━━━━━━━━━━━━\u001B[0m\u001B[37m\u001B[0m \u001B[1m5s\u001B[0m 944us/step\n",
      "\u001B[1m4675/4675\u001B[0m \u001B[32m━━━━━━━━━━━━━━━━━━━━\u001B[0m\u001B[37m\u001B[0m \u001B[1m4s\u001B[0m 851us/step\n",
      "\u001B[1m4675/4675\u001B[0m \u001B[32m━━━━━━━━━━━━━━━━━━━━\u001B[0m\u001B[37m\u001B[0m \u001B[1m4s\u001B[0m 900us/step\n",
      "\u001B[1m4675/4675\u001B[0m \u001B[32m━━━━━━━━━━━━━━━━━━━━\u001B[0m\u001B[37m\u001B[0m \u001B[1m4s\u001B[0m 939us/step\n",
      "\u001B[1m4675/4675\u001B[0m \u001B[32m━━━━━━━━━━━━━━━━━━━━\u001B[0m\u001B[37m\u001B[0m \u001B[1m4s\u001B[0m 921us/step\n",
      "\u001B[1m4675/4675\u001B[0m \u001B[32m━━━━━━━━━━━━━━━━━━━━\u001B[0m\u001B[37m\u001B[0m \u001B[1m2s\u001B[0m 500us/step\n",
      "\u001B[1m4675/4675\u001B[0m \u001B[32m━━━━━━━━━━━━━━━━━━━━\u001B[0m\u001B[37m\u001B[0m \u001B[1m2s\u001B[0m 499us/step\n",
      "\u001B[1m4675/4675\u001B[0m \u001B[32m━━━━━━━━━━━━━━━━━━━━\u001B[0m\u001B[37m\u001B[0m \u001B[1m2s\u001B[0m 503us/step\n",
      "\u001B[1m4675/4675\u001B[0m \u001B[32m━━━━━━━━━━━━━━━━━━━━\u001B[0m\u001B[37m\u001B[0m \u001B[1m2s\u001B[0m 503us/step\n",
      "\u001B[1m4675/4675\u001B[0m \u001B[32m━━━━━━━━━━━━━━━━━━━━\u001B[0m\u001B[37m\u001B[0m \u001B[1m2s\u001B[0m 481us/step\n",
      "\u001B[1m4675/4675\u001B[0m \u001B[32m━━━━━━━━━━━━━━━━━━━━\u001B[0m\u001B[37m\u001B[0m \u001B[1m2s\u001B[0m 476us/step\n",
      "\u001B[1m4675/4675\u001B[0m \u001B[32m━━━━━━━━━━━━━━━━━━━━\u001B[0m\u001B[37m\u001B[0m \u001B[1m2s\u001B[0m 476us/step\n",
      "\u001B[1m4675/4675\u001B[0m \u001B[32m━━━━━━━━━━━━━━━━━━━━\u001B[0m\u001B[37m\u001B[0m \u001B[1m2s\u001B[0m 500us/step\n",
      "\u001B[1m4675/4675\u001B[0m \u001B[32m━━━━━━━━━━━━━━━━━━━━\u001B[0m\u001B[37m\u001B[0m \u001B[1m3s\u001B[0m 678us/step\n",
      "\u001B[1m4675/4675\u001B[0m \u001B[32m━━━━━━━━━━━━━━━━━━━━\u001B[0m\u001B[37m\u001B[0m \u001B[1m2s\u001B[0m 496us/step\n",
      "\u001B[1m4675/4675\u001B[0m \u001B[32m━━━━━━━━━━━━━━━━━━━━\u001B[0m\u001B[37m\u001B[0m \u001B[1m3s\u001B[0m 585us/step\n",
      "\u001B[1m4675/4675\u001B[0m \u001B[32m━━━━━━━━━━━━━━━━━━━━\u001B[0m\u001B[37m\u001B[0m \u001B[1m2s\u001B[0m 526us/step\n",
      "\u001B[1m4675/4675\u001B[0m \u001B[32m━━━━━━━━━━━━━━━━━━━━\u001B[0m\u001B[37m\u001B[0m \u001B[1m3s\u001B[0m 559us/step\n",
      "\u001B[1m4675/4675\u001B[0m \u001B[32m━━━━━━━━━━━━━━━━━━━━\u001B[0m\u001B[37m\u001B[0m \u001B[1m2s\u001B[0m 518us/step\n",
      "\u001B[1m4675/4675\u001B[0m \u001B[32m━━━━━━━━━━━━━━━━━━━━\u001B[0m\u001B[37m\u001B[0m \u001B[1m2s\u001B[0m 520us/step\n",
      "\u001B[1m4675/4675\u001B[0m \u001B[32m━━━━━━━━━━━━━━━━━━━━\u001B[0m\u001B[37m\u001B[0m \u001B[1m2s\u001B[0m 494us/step\n",
      "\u001B[1m4675/4675\u001B[0m \u001B[32m━━━━━━━━━━━━━━━━━━━━\u001B[0m\u001B[37m\u001B[0m \u001B[1m3s\u001B[0m 544us/step\n",
      "\u001B[1m4675/4675\u001B[0m \u001B[32m━━━━━━━━━━━━━━━━━━━━\u001B[0m\u001B[37m\u001B[0m \u001B[1m3s\u001B[0m 532us/step\n",
      "\u001B[1m4675/4675\u001B[0m \u001B[32m━━━━━━━━━━━━━━━━━━━━\u001B[0m\u001B[37m\u001B[0m \u001B[1m2s\u001B[0m 515us/step\n",
      "\u001B[1m4675/4675\u001B[0m \u001B[32m━━━━━━━━━━━━━━━━━━━━\u001B[0m\u001B[37m\u001B[0m \u001B[1m2s\u001B[0m 514us/step\n",
      "\u001B[1m4675/4675\u001B[0m \u001B[32m━━━━━━━━━━━━━━━━━━━━\u001B[0m\u001B[37m\u001B[0m \u001B[1m2s\u001B[0m 515us/step\n",
      "\u001B[1m4675/4675\u001B[0m \u001B[32m━━━━━━━━━━━━━━━━━━━━\u001B[0m\u001B[37m\u001B[0m \u001B[1m3s\u001B[0m 541us/step\n",
      "\u001B[1m4675/4675\u001B[0m \u001B[32m━━━━━━━━━━━━━━━━━━━━\u001B[0m\u001B[37m\u001B[0m \u001B[1m3s\u001B[0m 576us/step\n",
      "\u001B[1m4675/4675\u001B[0m \u001B[32m━━━━━━━━━━━━━━━━━━━━\u001B[0m\u001B[37m\u001B[0m \u001B[1m2s\u001B[0m 523us/step\n",
      "\u001B[1m4675/4675\u001B[0m \u001B[32m━━━━━━━━━━━━━━━━━━━━\u001B[0m\u001B[37m\u001B[0m \u001B[1m3s\u001B[0m 550us/step\n",
      "\u001B[1m4675/4675\u001B[0m \u001B[32m━━━━━━━━━━━━━━━━━━━━\u001B[0m\u001B[37m\u001B[0m \u001B[1m3s\u001B[0m 536us/step\n",
      "\u001B[1m4675/4675\u001B[0m \u001B[32m━━━━━━━━━━━━━━━━━━━━\u001B[0m\u001B[37m\u001B[0m \u001B[1m3s\u001B[0m 552us/step\n",
      "\u001B[1m4675/4675\u001B[0m \u001B[32m━━━━━━━━━━━━━━━━━━━━\u001B[0m\u001B[37m\u001B[0m \u001B[1m3s\u001B[0m 547us/step\n",
      "\u001B[1m4675/4675\u001B[0m \u001B[32m━━━━━━━━━━━━━━━━━━━━\u001B[0m\u001B[37m\u001B[0m \u001B[1m2s\u001B[0m 490us/step\n",
      "\u001B[1m4675/4675\u001B[0m \u001B[32m━━━━━━━━━━━━━━━━━━━━\u001B[0m\u001B[37m\u001B[0m \u001B[1m3s\u001B[0m 581us/step\n",
      "\u001B[1m4675/4675\u001B[0m \u001B[32m━━━━━━━━━━━━━━━━━━━━\u001B[0m\u001B[37m\u001B[0m \u001B[1m2s\u001B[0m 512us/step\n",
      "\u001B[1m4675/4675\u001B[0m \u001B[32m━━━━━━━━━━━━━━━━━━━━\u001B[0m\u001B[37m\u001B[0m \u001B[1m2s\u001B[0m 508us/step\n",
      "\u001B[1m4675/4675\u001B[0m \u001B[32m━━━━━━━━━━━━━━━━━━━━\u001B[0m\u001B[37m\u001B[0m \u001B[1m2s\u001B[0m 504us/step\n",
      "\u001B[1m4675/4675\u001B[0m \u001B[32m━━━━━━━━━━━━━━━━━━━━\u001B[0m\u001B[37m\u001B[0m \u001B[1m2s\u001B[0m 507us/step\n",
      "\u001B[1m4675/4675\u001B[0m \u001B[32m━━━━━━━━━━━━━━━━━━━━\u001B[0m\u001B[37m\u001B[0m \u001B[1m3s\u001B[0m 662us/step\n",
      "\u001B[1m4675/4675\u001B[0m \u001B[32m━━━━━━━━━━━━━━━━━━━━\u001B[0m\u001B[37m\u001B[0m \u001B[1m3s\u001B[0m 576us/step\n",
      "\u001B[1m4675/4675\u001B[0m \u001B[32m━━━━━━━━━━━━━━━━━━━━\u001B[0m\u001B[37m\u001B[0m \u001B[1m2s\u001B[0m 509us/step\n",
      "\u001B[1m4675/4675\u001B[0m \u001B[32m━━━━━━━━━━━━━━━━━━━━\u001B[0m\u001B[37m\u001B[0m \u001B[1m3s\u001B[0m 570us/step\n",
      "\u001B[1m4675/4675\u001B[0m \u001B[32m━━━━━━━━━━━━━━━━━━━━\u001B[0m\u001B[37m\u001B[0m \u001B[1m4s\u001B[0m 735us/step\n",
      "\u001B[1m4675/4675\u001B[0m \u001B[32m━━━━━━━━━━━━━━━━━━━━\u001B[0m\u001B[37m\u001B[0m \u001B[1m4s\u001B[0m 916us/step\n",
      "\u001B[1m4675/4675\u001B[0m \u001B[32m━━━━━━━━━━━━━━━━━━━━\u001B[0m\u001B[37m\u001B[0m \u001B[1m4s\u001B[0m 912us/step\n",
      "\u001B[1m4675/4675\u001B[0m \u001B[32m━━━━━━━━━━━━━━━━━━━━\u001B[0m\u001B[37m\u001B[0m \u001B[1m3s\u001B[0m 629us/step\n",
      "\u001B[1m4675/4675\u001B[0m \u001B[32m━━━━━━━━━━━━━━━━━━━━\u001B[0m\u001B[37m\u001B[0m \u001B[1m3s\u001B[0m 580us/step\n",
      "\u001B[1m4675/4675\u001B[0m \u001B[32m━━━━━━━━━━━━━━━━━━━━\u001B[0m\u001B[37m\u001B[0m \u001B[1m3s\u001B[0m 695us/step\n",
      "\u001B[1m4675/4675\u001B[0m \u001B[32m━━━━━━━━━━━━━━━━━━━━\u001B[0m\u001B[37m\u001B[0m \u001B[1m3s\u001B[0m 645us/step\n",
      "\u001B[1m4675/4675\u001B[0m \u001B[32m━━━━━━━━━━━━━━━━━━━━\u001B[0m\u001B[37m\u001B[0m \u001B[1m3s\u001B[0m 629us/step\n",
      "\u001B[1m4675/4675\u001B[0m \u001B[32m━━━━━━━━━━━━━━━━━━━━\u001B[0m\u001B[37m\u001B[0m \u001B[1m3s\u001B[0m 573us/step\n",
      "\u001B[1m4675/4675\u001B[0m \u001B[32m━━━━━━━━━━━━━━━━━━━━\u001B[0m\u001B[37m\u001B[0m \u001B[1m3s\u001B[0m 597us/step\n",
      "\u001B[1m4675/4675\u001B[0m \u001B[32m━━━━━━━━━━━━━━━━━━━━\u001B[0m\u001B[37m\u001B[0m \u001B[1m3s\u001B[0m 635us/step\n",
      "\u001B[1m4675/4675\u001B[0m \u001B[32m━━━━━━━━━━━━━━━━━━━━\u001B[0m\u001B[37m\u001B[0m \u001B[1m3s\u001B[0m 697us/step\n",
      "\u001B[1m4675/4675\u001B[0m \u001B[32m━━━━━━━━━━━━━━━━━━━━\u001B[0m\u001B[37m\u001B[0m \u001B[1m3s\u001B[0m 551us/step\n",
      "\u001B[1m4675/4675\u001B[0m \u001B[32m━━━━━━━━━━━━━━━━━━━━\u001B[0m\u001B[37m\u001B[0m \u001B[1m3s\u001B[0m 664us/step\n",
      "\u001B[1m4675/4675\u001B[0m \u001B[32m━━━━━━━━━━━━━━━━━━━━\u001B[0m\u001B[37m\u001B[0m \u001B[1m3s\u001B[0m 682us/step\n",
      "\u001B[1m4675/4675\u001B[0m \u001B[32m━━━━━━━━━━━━━━━━━━━━\u001B[0m\u001B[37m\u001B[0m \u001B[1m3s\u001B[0m 567us/step\n",
      "\u001B[1m4675/4675\u001B[0m \u001B[32m━━━━━━━━━━━━━━━━━━━━\u001B[0m\u001B[37m\u001B[0m \u001B[1m3s\u001B[0m 629us/step\n",
      "\u001B[1m4675/4675\u001B[0m \u001B[32m━━━━━━━━━━━━━━━━━━━━\u001B[0m\u001B[37m\u001B[0m \u001B[1m3s\u001B[0m 576us/step\n",
      "\u001B[1m4675/4675\u001B[0m \u001B[32m━━━━━━━━━━━━━━━━━━━━\u001B[0m\u001B[37m\u001B[0m \u001B[1m3s\u001B[0m 679us/step\n",
      "\u001B[1m4675/4675\u001B[0m \u001B[32m━━━━━━━━━━━━━━━━━━━━\u001B[0m\u001B[37m\u001B[0m \u001B[1m3s\u001B[0m 638us/step\n",
      "\u001B[1m4675/4675\u001B[0m \u001B[32m━━━━━━━━━━━━━━━━━━━━\u001B[0m\u001B[37m\u001B[0m \u001B[1m3s\u001B[0m 675us/step\n",
      "\u001B[1m4675/4675\u001B[0m \u001B[32m━━━━━━━━━━━━━━━━━━━━\u001B[0m\u001B[37m\u001B[0m \u001B[1m3s\u001B[0m 621us/step\n",
      "\u001B[1m4675/4675\u001B[0m \u001B[32m━━━━━━━━━━━━━━━━━━━━\u001B[0m\u001B[37m\u001B[0m \u001B[1m3s\u001B[0m 625us/step\n",
      "\u001B[1m4675/4675\u001B[0m \u001B[32m━━━━━━━━━━━━━━━━━━━━\u001B[0m\u001B[37m\u001B[0m \u001B[1m3s\u001B[0m 592us/step\n",
      "\u001B[1m4675/4675\u001B[0m \u001B[32m━━━━━━━━━━━━━━━━━━━━\u001B[0m\u001B[37m\u001B[0m \u001B[1m3s\u001B[0m 660us/step\n",
      "\u001B[1m4675/4675\u001B[0m \u001B[32m━━━━━━━━━━━━━━━━━━━━\u001B[0m\u001B[37m\u001B[0m \u001B[1m3s\u001B[0m 604us/step\n",
      "\u001B[1m4675/4675\u001B[0m \u001B[32m━━━━━━━━━━━━━━━━━━━━\u001B[0m\u001B[37m\u001B[0m \u001B[1m3s\u001B[0m 585us/step\n",
      "\u001B[1m4675/4675\u001B[0m \u001B[32m━━━━━━━━━━━━━━━━━━━━\u001B[0m\u001B[37m\u001B[0m \u001B[1m3s\u001B[0m 601us/step\n",
      "\u001B[1m4675/4675\u001B[0m \u001B[32m━━━━━━━━━━━━━━━━━━━━\u001B[0m\u001B[37m\u001B[0m \u001B[1m3s\u001B[0m 629us/step\n",
      "\u001B[1m4675/4675\u001B[0m \u001B[32m━━━━━━━━━━━━━━━━━━━━\u001B[0m\u001B[37m\u001B[0m \u001B[1m3s\u001B[0m 570us/step\n",
      "\u001B[1m4675/4675\u001B[0m \u001B[32m━━━━━━━━━━━━━━━━━━━━\u001B[0m\u001B[37m\u001B[0m \u001B[1m3s\u001B[0m 627us/step\n",
      "\u001B[1m4675/4675\u001B[0m \u001B[32m━━━━━━━━━━━━━━━━━━━━\u001B[0m\u001B[37m\u001B[0m \u001B[1m3s\u001B[0m 656us/step\n",
      "\u001B[1m4675/4675\u001B[0m \u001B[32m━━━━━━━━━━━━━━━━━━━━\u001B[0m\u001B[37m\u001B[0m \u001B[1m3s\u001B[0m 695us/step\n",
      "\u001B[1m4675/4675\u001B[0m \u001B[32m━━━━━━━━━━━━━━━━━━━━\u001B[0m\u001B[37m\u001B[0m \u001B[1m3s\u001B[0m 613us/step\n",
      "\u001B[1m4675/4675\u001B[0m \u001B[32m━━━━━━━━━━━━━━━━━━━━\u001B[0m\u001B[37m\u001B[0m \u001B[1m3s\u001B[0m 725us/step\n",
      "\u001B[1m4675/4675\u001B[0m \u001B[32m━━━━━━━━━━━━━━━━━━━━\u001B[0m\u001B[37m\u001B[0m \u001B[1m3s\u001B[0m 613us/step\n",
      "\u001B[1m4675/4675\u001B[0m \u001B[32m━━━━━━━━━━━━━━━━━━━━\u001B[0m\u001B[37m\u001B[0m \u001B[1m3s\u001B[0m 567us/step\n",
      "\u001B[1m4675/4675\u001B[0m \u001B[32m━━━━━━━━━━━━━━━━━━━━\u001B[0m\u001B[37m\u001B[0m \u001B[1m3s\u001B[0m 594us/step\n",
      "\u001B[1m4675/4675\u001B[0m \u001B[32m━━━━━━━━━━━━━━━━━━━━\u001B[0m\u001B[37m\u001B[0m \u001B[1m3s\u001B[0m 623us/step\n",
      "\u001B[1m4675/4675\u001B[0m \u001B[32m━━━━━━━━━━━━━━━━━━━━\u001B[0m\u001B[37m\u001B[0m \u001B[1m3s\u001B[0m 577us/step\n",
      "\u001B[1m4675/4675\u001B[0m \u001B[32m━━━━━━━━━━━━━━━━━━━━\u001B[0m\u001B[37m\u001B[0m \u001B[1m3s\u001B[0m 539us/step\n",
      "\u001B[1m4675/4675\u001B[0m \u001B[32m━━━━━━━━━━━━━━━━━━━━\u001B[0m\u001B[37m\u001B[0m \u001B[1m3s\u001B[0m 652us/step\n",
      "\u001B[1m4675/4675\u001B[0m \u001B[32m━━━━━━━━━━━━━━━━━━━━\u001B[0m\u001B[37m\u001B[0m \u001B[1m3s\u001B[0m 617us/step\n",
      "\u001B[1m4675/4675\u001B[0m \u001B[32m━━━━━━━━━━━━━━━━━━━━\u001B[0m\u001B[37m\u001B[0m \u001B[1m3s\u001B[0m 544us/step\n",
      "\u001B[1m4675/4675\u001B[0m \u001B[32m━━━━━━━━━━━━━━━━━━━━\u001B[0m\u001B[37m\u001B[0m \u001B[1m3s\u001B[0m 552us/step\n",
      "\u001B[1m4675/4675\u001B[0m \u001B[32m━━━━━━━━━━━━━━━━━━━━\u001B[0m\u001B[37m\u001B[0m \u001B[1m3s\u001B[0m 597us/step\n",
      "\u001B[1m4675/4675\u001B[0m \u001B[32m━━━━━━━━━━━━━━━━━━━━\u001B[0m\u001B[37m\u001B[0m \u001B[1m3s\u001B[0m 578us/step\n",
      "\u001B[1m4675/4675\u001B[0m \u001B[32m━━━━━━━━━━━━━━━━━━━━\u001B[0m\u001B[37m\u001B[0m \u001B[1m3s\u001B[0m 620us/step\n",
      "\u001B[1m4675/4675\u001B[0m \u001B[32m━━━━━━━━━━━━━━━━━━━━\u001B[0m\u001B[37m\u001B[0m \u001B[1m3s\u001B[0m 606us/step\n",
      "\u001B[1m4675/4675\u001B[0m \u001B[32m━━━━━━━━━━━━━━━━━━━━\u001B[0m\u001B[37m\u001B[0m \u001B[1m3s\u001B[0m 577us/step\n",
      "\u001B[1m4675/4675\u001B[0m \u001B[32m━━━━━━━━━━━━━━━━━━━━\u001B[0m\u001B[37m\u001B[0m \u001B[1m3s\u001B[0m 576us/step\n",
      "\u001B[1m4675/4675\u001B[0m \u001B[32m━━━━━━━━━━━━━━━━━━━━\u001B[0m\u001B[37m\u001B[0m \u001B[1m3s\u001B[0m 635us/step\n",
      "\u001B[1m4675/4675\u001B[0m \u001B[32m━━━━━━━━━━━━━━━━━━━━\u001B[0m\u001B[37m\u001B[0m \u001B[1m3s\u001B[0m 579us/step\n",
      "\u001B[1m4675/4675\u001B[0m \u001B[32m━━━━━━━━━━━━━━━━━━━━\u001B[0m\u001B[37m\u001B[0m \u001B[1m3s\u001B[0m 623us/step\n",
      "\u001B[1m4675/4675\u001B[0m \u001B[32m━━━━━━━━━━━━━━━━━━━━\u001B[0m\u001B[37m\u001B[0m \u001B[1m3s\u001B[0m 569us/step\n",
      "\u001B[1m4675/4675\u001B[0m \u001B[32m━━━━━━━━━━━━━━━━━━━━\u001B[0m\u001B[37m\u001B[0m \u001B[1m3s\u001B[0m 599us/step\n",
      "\u001B[1m4675/4675\u001B[0m \u001B[32m━━━━━━━━━━━━━━━━━━━━\u001B[0m\u001B[37m\u001B[0m \u001B[1m3s\u001B[0m 599us/step\n",
      "\u001B[1m4675/4675\u001B[0m \u001B[32m━━━━━━━━━━━━━━━━━━━━\u001B[0m\u001B[37m\u001B[0m \u001B[1m3s\u001B[0m 629us/step\n",
      "\u001B[1m4675/4675\u001B[0m \u001B[32m━━━━━━━━━━━━━━━━━━━━\u001B[0m\u001B[37m\u001B[0m \u001B[1m3s\u001B[0m 633us/step\n",
      "\u001B[1m4675/4675\u001B[0m \u001B[32m━━━━━━━━━━━━━━━━━━━━\u001B[0m\u001B[37m\u001B[0m \u001B[1m3s\u001B[0m 615us/step\n",
      "\u001B[1m4675/4675\u001B[0m \u001B[32m━━━━━━━━━━━━━━━━━━━━\u001B[0m\u001B[37m\u001B[0m \u001B[1m3s\u001B[0m 643us/step\n",
      "\u001B[1m4675/4675\u001B[0m \u001B[32m━━━━━━━━━━━━━━━━━━━━\u001B[0m\u001B[37m\u001B[0m \u001B[1m3s\u001B[0m 557us/step\n",
      "\u001B[1m4675/4675\u001B[0m \u001B[32m━━━━━━━━━━━━━━━━━━━━\u001B[0m\u001B[37m\u001B[0m \u001B[1m3s\u001B[0m 577us/step\n",
      "\u001B[1m4675/4675\u001B[0m \u001B[32m━━━━━━━━━━━━━━━━━━━━\u001B[0m\u001B[37m\u001B[0m \u001B[1m3s\u001B[0m 644us/step\n",
      "\u001B[1m4675/4675\u001B[0m \u001B[32m━━━━━━━━━━━━━━━━━━━━\u001B[0m\u001B[37m\u001B[0m \u001B[1m3s\u001B[0m 598us/step\n",
      "\u001B[1m4675/4675\u001B[0m \u001B[32m━━━━━━━━━━━━━━━━━━━━\u001B[0m\u001B[37m\u001B[0m \u001B[1m3s\u001B[0m 653us/step\n",
      "\u001B[1m4675/4675\u001B[0m \u001B[32m━━━━━━━━━━━━━━━━━━━━\u001B[0m\u001B[37m\u001B[0m \u001B[1m3s\u001B[0m 605us/step\n",
      "\u001B[1m4675/4675\u001B[0m \u001B[32m━━━━━━━━━━━━━━━━━━━━\u001B[0m\u001B[37m\u001B[0m \u001B[1m3s\u001B[0m 578us/step\n",
      "\u001B[1m4675/4675\u001B[0m \u001B[32m━━━━━━━━━━━━━━━━━━━━\u001B[0m\u001B[37m\u001B[0m \u001B[1m3s\u001B[0m 680us/step\n",
      "\u001B[1m4675/4675\u001B[0m \u001B[32m━━━━━━━━━━━━━━━━━━━━\u001B[0m\u001B[37m\u001B[0m \u001B[1m3s\u001B[0m 585us/step\n"
     ]
    },
    {
     "data": {
      "text/plain": "             ISBN  Book-Rating  User-ID  MLP Predicted Rating  \\\n0      0002005018            8    11676              7.498726   \n1      0374157065            9   197659              7.464082   \n2      0399135782            9    11676              7.303052   \n3      0399135782            9    46398              7.458722   \n4      0399135782            7   230522              7.475376   \n...           ...          ...      ...                   ...   \n86709  0451205618            7   268110              7.577268   \n86710  0553211994            8   269566              7.537001   \n86711  0843101083            6   269566              7.530519   \n86712  0395611563           10   270713              7.377725   \n86713  1845170423            7   275970              7.466108   \n\n       SVD Predicted Rating  Weighted Average  \n0                  7.798737          7.530042  \n1                  7.798738          7.507131  \n2                  7.798737          7.354793  \n3                  7.798737          7.502889  \n4                  7.798737          7.519259  \n...                     ...               ...  \n86709              7.798737          7.650297  \n86710              7.798737          7.558109  \n86711              7.798737          7.552149  \n86712              7.798738          7.433576  \n86713              7.798737          7.575887  \n\n[86714 rows x 6 columns]",
      "text/html": "<div>\n<style scoped>\n    .dataframe tbody tr th:only-of-type {\n        vertical-align: middle;\n    }\n\n    .dataframe tbody tr th {\n        vertical-align: top;\n    }\n\n    .dataframe thead th {\n        text-align: right;\n    }\n</style>\n<table border=\"1\" class=\"dataframe\">\n  <thead>\n    <tr style=\"text-align: right;\">\n      <th></th>\n      <th>ISBN</th>\n      <th>Book-Rating</th>\n      <th>User-ID</th>\n      <th>MLP Predicted Rating</th>\n      <th>SVD Predicted Rating</th>\n      <th>Weighted Average</th>\n    </tr>\n  </thead>\n  <tbody>\n    <tr>\n      <th>0</th>\n      <td>0002005018</td>\n      <td>8</td>\n      <td>11676</td>\n      <td>7.498726</td>\n      <td>7.798737</td>\n      <td>7.530042</td>\n    </tr>\n    <tr>\n      <th>1</th>\n      <td>0374157065</td>\n      <td>9</td>\n      <td>197659</td>\n      <td>7.464082</td>\n      <td>7.798738</td>\n      <td>7.507131</td>\n    </tr>\n    <tr>\n      <th>2</th>\n      <td>0399135782</td>\n      <td>9</td>\n      <td>11676</td>\n      <td>7.303052</td>\n      <td>7.798737</td>\n      <td>7.354793</td>\n    </tr>\n    <tr>\n      <th>3</th>\n      <td>0399135782</td>\n      <td>9</td>\n      <td>46398</td>\n      <td>7.458722</td>\n      <td>7.798737</td>\n      <td>7.502889</td>\n    </tr>\n    <tr>\n      <th>4</th>\n      <td>0399135782</td>\n      <td>7</td>\n      <td>230522</td>\n      <td>7.475376</td>\n      <td>7.798737</td>\n      <td>7.519259</td>\n    </tr>\n    <tr>\n      <th>...</th>\n      <td>...</td>\n      <td>...</td>\n      <td>...</td>\n      <td>...</td>\n      <td>...</td>\n      <td>...</td>\n    </tr>\n    <tr>\n      <th>86709</th>\n      <td>0451205618</td>\n      <td>7</td>\n      <td>268110</td>\n      <td>7.577268</td>\n      <td>7.798737</td>\n      <td>7.650297</td>\n    </tr>\n    <tr>\n      <th>86710</th>\n      <td>0553211994</td>\n      <td>8</td>\n      <td>269566</td>\n      <td>7.537001</td>\n      <td>7.798737</td>\n      <td>7.558109</td>\n    </tr>\n    <tr>\n      <th>86711</th>\n      <td>0843101083</td>\n      <td>6</td>\n      <td>269566</td>\n      <td>7.530519</td>\n      <td>7.798737</td>\n      <td>7.552149</td>\n    </tr>\n    <tr>\n      <th>86712</th>\n      <td>0395611563</td>\n      <td>10</td>\n      <td>270713</td>\n      <td>7.377725</td>\n      <td>7.798738</td>\n      <td>7.433576</td>\n    </tr>\n    <tr>\n      <th>86713</th>\n      <td>1845170423</td>\n      <td>7</td>\n      <td>275970</td>\n      <td>7.466108</td>\n      <td>7.798737</td>\n      <td>7.575887</td>\n    </tr>\n  </tbody>\n</table>\n<p>86714 rows × 6 columns</p>\n</div>"
     },
     "execution_count": 70,
     "metadata": {},
     "output_type": "execute_result"
    }
   ],
   "source": [
    "df_hybrid_evaluation = get_df_hybrid_evaluation()\n",
    "df_hybrid_evaluation"
   ],
   "metadata": {
    "collapsed": false,
    "ExecuteTime": {
     "end_time": "2024-05-05T20:16:40.623475Z",
     "start_time": "2024-05-05T19:10:50.333480Z"
    }
   },
   "id": "b10ffe5ea18a79fe",
   "execution_count": 70
  },
  {
   "cell_type": "markdown",
   "source": [
    "Comparing performance between collaborative filtering, content-based filtering, and hybrid"
   ],
   "metadata": {
    "collapsed": false
   },
   "id": "6a4e44b3b35cfab2"
  },
  {
   "cell_type": "code",
   "outputs": [
    {
     "data": {
      "text/plain": "<Figure size 800x600 with 1 Axes>",
      "image/png": "[encoded data removed]"
     },
     "metadata": {},
     "output_type": "display_data"
    }
   ],
   "source": [
    "svd_mse = mean_squared_error(df_hybrid_evaluation['SVD Predicted Rating'],df_hybrid_evaluation['Book-Rating'])\n",
    "mlp_mse = mean_squared_error(df_hybrid_evaluation['MLP Predicted Rating'],df_hybrid_evaluation['Book-Rating'])\n",
    "hybrid_mse = mean_squared_error(df_hybrid_evaluation['Weighted Average'],df_hybrid_evaluation['Book-Rating'])\n",
    "\n",
    "metrics = [svd_mse,mlp_mse,hybrid_mse]\n",
    "model_labels = ['SVD', 'MLP', 'Hybrid']\n",
    "colours = ['#C23B23','#F39A27','#EADA92']\n",
    "plt.figure(figsize=(8, 6))\n",
    "\n",
    "bars = plt.barh(model_labels, metrics)\n",
    "\n",
    "for i, bar in enumerate(bars):\n",
    "    plt.text(bar.get_width() - 0.7, bar.get_y() + bar.get_height() / 2, f'{metrics[i]:.6f}', va='center')\n",
    "    bar.set_color(colours[i])\n",
    "\n",
    "plt.title('MSE for Different Models')\n",
    "plt.tight_layout()\n",
    "plt.show()"
   ],
   "metadata": {
    "collapsed": false,
    "ExecuteTime": {
     "end_time": "2024-05-05T20:28:27.540879Z",
     "start_time": "2024-05-05T20:28:27.395661Z"
    }
   },
   "id": "d8d263e9161ba1b8",
   "execution_count": 73
  },
  {
   "cell_type": "code",
   "outputs": [
    {
     "data": {
      "text/plain": "<Figure size 800x600 with 1 Axes>",
      "image/png": "[encoded data removed]"
     },
     "metadata": {},
     "output_type": "display_data"
    }
   ],
   "source": [
    "svd_rmse = sqrt(mean_squared_error(df_hybrid_evaluation['SVD Predicted Rating'],df_hybrid_evaluation['Book-Rating']))\n",
    "mlp_rmse = sqrt(mean_squared_error(df_hybrid_evaluation['MLP Predicted Rating'],df_hybrid_evaluation['Book-Rating']))\n",
    "hybrid_rmse = sqrt(mean_squared_error(df_hybrid_evaluation['Weighted Average'],df_hybrid_evaluation['Book-Rating']))\n",
    "\n",
    "metrics = [svd_rmse,mlp_rmse,hybrid_rmse]\n",
    "model_labels = ['SVD', 'MLP', 'Hybrid']\n",
    "colours = ['#C23B23','#F39A27','#EADA92']\n",
    "plt.figure(figsize=(8, 6))\n",
    "\n",
    "bars = plt.barh(model_labels, metrics)\n",
    "\n",
    "for i, bar in enumerate(bars):\n",
    "    plt.text(bar.get_width() - 0.7, bar.get_y() + bar.get_height() / 2, f'{metrics[i]:.6f}', va='center')\n",
    "    bar.set_color(colours[i])\n",
    "\n",
    "plt.title('RMSE for Different Models')\n",
    "plt.tight_layout()\n",
    "plt.show()"
   ],
   "metadata": {
    "collapsed": false,
    "ExecuteTime": {
     "end_time": "2024-05-05T20:25:11.736629Z",
     "start_time": "2024-05-05T20:25:11.599295Z"
    }
   },
   "id": "9503cad82c0a1891",
   "execution_count": 71
  },
  {
   "cell_type": "code",
   "outputs": [
    {
     "data": {
      "text/plain": "<Figure size 800x600 with 1 Axes>",
      "image/png": "[encoded data removed]"
     },
     "metadata": {},
     "output_type": "display_data"
    }
   ],
   "source": [
    "from sklearn.metrics import mean_absolute_error\n",
    "\n",
    "svd_mae = mean_absolute_error(df_hybrid_evaluation['SVD Predicted Rating'],df_hybrid_evaluation['Book-Rating'])\n",
    "mlp_mae = mean_absolute_error(df_hybrid_evaluation['MLP Predicted Rating'],df_hybrid_evaluation['Book-Rating'])\n",
    "hybrid_mae = mean_absolute_error(df_hybrid_evaluation['Weighted Average'],df_hybrid_evaluation['Book-Rating'])\n",
    "\n",
    "metrics = [svd_mae,mlp_mae,hybrid_mae]\n",
    "model_labels = ['SVD', 'MLP', 'Hybrid']\n",
    "colours = ['#C23B23','#F39A27','#EADA92']\n",
    "plt.figure(figsize=(8, 6))\n",
    "\n",
    "bars = plt.barh(model_labels, metrics)\n",
    "\n",
    "for i, bar in enumerate(bars):\n",
    "    plt.text(bar.get_width() - 0.7, bar.get_y() + bar.get_height() / 2, f'{metrics[i]:.6f}', va='center')\n",
    "    bar.set_color(colours[i])\n",
    "\n",
    "plt.title('MAE for Different Models')\n",
    "plt.tight_layout()\n",
    "plt.show()"
   ],
   "metadata": {
    "collapsed": false,
    "ExecuteTime": {
     "end_time": "2024-05-05T20:27:23.925318Z",
     "start_time": "2024-05-05T20:27:23.832846Z"
    }
   },
   "id": "abda3c5219f01dc8",
   "execution_count": 72
  }
 ],
 "metadata": {
  "kernelspec": {
   "display_name": "Python 3",
   "language": "python",
   "name": "python3"
  },
  "language_info": {
   "codemirror_mode": {
    "name": "ipython",
    "version": 2
   },
   "file_extension": ".py",
   "mimetype": "text/x-python",
   "name": "python",
   "nbconvert_exporter": "python",
   "pygments_lexer": "ipython2",
   "version": "2.7.6"
  }
 },
 "nbformat": 4,
 "nbformat_minor": 5
}
